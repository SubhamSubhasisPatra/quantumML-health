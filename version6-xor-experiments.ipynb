{
 "cells": [
  {
   "cell_type": "code",
   "execution_count": 1,
   "metadata": {},
   "outputs": [],
   "source": [
    "from code.neuron import *\n",
    "from code.encodingsource import *\n",
    "from code.hsgs import *\n",
    "from code.classical_neuron import *\n",
    "from code.classical_pso import *\n",
    "from code.sf import *\n",
    "simulator = Aer.get_backend('qasm_simulator')\n",
    "import pandas as pd\n",
    "import numpy as np\n",
    "import matplotlib.pyplot as plt\n",
    "import json\n",
    "\n",
    "from code.experiment_functions import * "
   ]
  },
  {
   "cell_type": "markdown",
   "metadata": {},
   "source": [
    "# Without Bias"
   ]
  },
  {
   "cell_type": "code",
   "execution_count": 2,
   "metadata": {},
   "outputs": [
    {
     "data": {
      "image/png": "[encoded data removed]",
      "text/plain": [
       "<Figure size 720x720 with 1 Axes>"
      ]
     },
     "metadata": {
      "needs_background": "light"
     },
     "output_type": "display_data"
    }
   ],
   "source": [
    "from matplotlib.colors import ListedColormap\n",
    "import matplotlib.pyplot as plt\n",
    "import warnings\n",
    "import numpy as np\n",
    "\n",
    "# Create Dataset\n",
    "np.random.seed(0)\n",
    "X_xor = np.random.rand(100, 4)\n",
    "y_xor = np.logical_xor(X_xor[:, 0] > 0.5,\n",
    "                       X_xor[:, 1] > 0.5)\n",
    "y_xor = np.where(y_xor, 1, -1)\n",
    "\n",
    "fig = plt.figure(figsize=(10,10))\n",
    "plt.scatter(X_xor[y_xor == 1, 0],\n",
    "            X_xor[y_xor == 1, 1],\n",
    "            c='b', marker='x',\n",
    "            label='1')\n",
    "plt.scatter(X_xor[y_xor == -1, 0],\n",
    "            X_xor[y_xor == -1, 1],\n",
    "            c='r',\n",
    "            marker='s',\n",
    "            label='-1')\n",
    "\n",
    "plt.xlim([0, 1])\n",
    "plt.ylim([0, 1])\n",
    "plt.legend(loc='best')\n",
    "plt.tight_layout()\n",
    "plt.show()"
   ]
  },
  {
   "cell_type": "code",
   "execution_count": 3,
   "metadata": {},
   "outputs": [],
   "source": [
    "from sklearn.model_selection import train_test_split\n",
    "X_xor = np.round(X_xor, 2)\n",
    "X_train, X_test, y_train, y_test = train_test_split(X_xor, y_xor, test_size=0.33, random_state=42)"
   ]
  },
  {
   "cell_type": "code",
   "execution_count": 4,
   "metadata": {},
   "outputs": [],
   "source": [
    "X_train = [list(x) for x in X_train]\n",
    "X_test = [list(x) for x in X_test]\n",
    "y_train = [int(1) if x == 1 else int(0) for x in y_train]\n",
    "y_test = [int(1) if x == 1 else int(0) for x in y_test]"
   ]
  },
  {
   "cell_type": "code",
   "execution_count": 5,
   "metadata": {},
   "outputs": [
    {
     "data": {
      "text/plain": [
       "[0.7, 0.3, 0.81, 0.4]"
      ]
     },
     "execution_count": 5,
     "metadata": {},
     "output_type": "execute_result"
    }
   ],
   "source": [
    "X_train[0]"
   ]
  },
  {
   "cell_type": "code",
   "execution_count": 6,
   "metadata": {},
   "outputs": [],
   "source": [
    "with open('results/version6/train_xor.json', 'w+') as fp:\n",
    "    json.dump([X_train, y_train], fp)\n",
    "    \n",
    "with open('results/version6/test_xor.json', 'w+') as fp:\n",
    "    json.dump([X_test, y_test], fp)"
   ]
  },
  {
   "cell_type": "markdown",
   "metadata": {},
   "source": [
    "#### load saved data"
   ]
  },
  {
   "cell_type": "code",
   "execution_count": 2,
   "metadata": {},
   "outputs": [],
   "source": [
    "with open('results/version6/train_xor.json') as json_file:\n",
    "    X_train = json.load(json_file)[0]\n",
    "\n",
    "with open('results/version6/train_xor.json') as json_file:\n",
    "    y_train = json.load(json_file)[1]"
   ]
  },
  {
   "cell_type": "code",
   "execution_count": 3,
   "metadata": {},
   "outputs": [],
   "source": [
    "with open('results/version6/test_xor.json') as json_file:\n",
    "    X_test = json.load(json_file)[0]\n",
    "\n",
    "with open('results/version6/test_xor.json') as json_file:\n",
    "    y_test = json.load(json_file)[1]"
   ]
  },
  {
   "cell_type": "markdown",
   "metadata": {},
   "source": [
    "### Without Bias"
   ]
  },
  {
   "cell_type": "code",
   "execution_count": null,
   "metadata": {},
   "outputs": [],
   "source": [
    "epoch_errosHSGS, epoch_errosEncodingWeight, epoch_errosEncodingInput, epoch_errosPhaseEncoding  = experiment_TRAIN(X_train, \n",
    "                                                                                                 y_train,\n",
    "                                                                                                 lrParameter=0.2, \n",
    "                                                                                                 n_epochs=40, \n",
    "                                                                                                 trainingBias=False,\n",
    "                                                                                                 error_by_epoch = True,\n",
    "                                                                                                 trainingApproaches={'neuronio-classico', \n",
    "                                                                                                                     'neuronio-classico-bin', \n",
    "                                                                                                                     'hsgs',\n",
    "                                                                                                                     'encoding-weight', \n",
    "                                                                                                                     'encoding-input',\n",
    "                                                                                                                     'phase-encoding'})"
   ]
  },
  {
   "cell_type": "code",
   "execution_count": null,
   "metadata": {},
   "outputs": [],
   "source": [
    "with open('results/version6/error_by_epoch_unbiased.json', 'w+') as fp:\n",
    "    json.dump({'epoch_errosHSGS': epoch_errosHSGS,\n",
    "               'epoch_errosEncodingWeight': epoch_errosEncodingWeight, \n",
    "               'epoch_errosPhaseEncoding': epoch_errosPhaseEncoding, \n",
    "               'epoch_errosEncodingInput': epoch_errosEncodingInput},\n",
    "              fp)"
   ]
  },
  {
   "cell_type": "code",
   "execution_count": 7,
   "metadata": {},
   "outputs": [
    {
     "name": "stdout",
     "output_type": "stream",
     "text": [
      "\n",
      "erro HSGS 1.0\n",
      "erro encoding weight 0.2607421875\n",
      "erro encoding input 0.537109375\n",
      "erro phase encoding 0.412109375\n",
      "\n",
      "erro HSGS 1.0\n",
      "erro encoding weight 0.2314453125\n",
      "erro encoding input 0.5009765625\n",
      "erro phase encoding 0.412109375\n",
      "\n",
      "erro HSGS 1.0\n",
      "erro encoding weight 0.2314453125\n",
      "erro encoding input 0.5009765625\n",
      "erro phase encoding 0.412109375\n",
      "\n",
      "erro HSGS 1.0\n",
      "erro encoding weight 0.2314453125\n",
      "erro encoding input 0.4658203125\n",
      "erro phase encoding 0.412109375\n",
      "\n",
      "erro HSGS 1.0\n",
      "erro encoding weight 0.2314453125\n",
      "erro encoding input 0.4658203125\n",
      "erro phase encoding 0.412109375\n",
      "\n",
      "erro HSGS 1.0\n",
      "erro encoding weight 0.2314453125\n",
      "erro encoding input 0.4658203125\n",
      "erro phase encoding 0.412109375\n",
      "\n",
      "erro HSGS 1.0\n",
      "erro encoding weight 0.2314453125\n",
      "erro encoding input 0.4658203125\n",
      "erro phase encoding 0.412109375\n",
      "\n",
      "erro HSGS 1.0\n",
      "erro encoding weight 0.2314453125\n",
      "erro encoding input 0.4658203125\n",
      "erro phase encoding 0.412109375\n",
      "\n",
      "erro HSGS 1.0\n",
      "erro encoding weight 0.2314453125\n",
      "erro encoding input 0.4658203125\n",
      "erro phase encoding 0.412109375\n",
      "\n",
      "erro HSGS 1.0\n",
      "erro encoding weight 0.2314453125\n",
      "erro encoding input 0.4658203125\n",
      "erro phase encoding 0.412109375\n",
      "\n",
      "erro HSGS 1.0\n",
      "erro encoding weight 0.2314453125\n",
      "erro encoding input 0.4658203125\n",
      "erro phase encoding 0.412109375\n",
      "\n",
      "erro HSGS 1.0\n",
      "erro encoding weight 0.2314453125\n",
      "erro encoding input 0.4658203125\n",
      "erro phase encoding 0.412109375\n",
      "\n",
      "erro HSGS 1.0\n",
      "erro encoding weight 0.2314453125\n",
      "erro encoding input 0.4658203125\n",
      "erro phase encoding 0.412109375\n",
      "\n",
      "erro HSGS 1.0\n",
      "erro encoding weight 0.2314453125\n",
      "erro encoding input 0.4658203125\n",
      "erro phase encoding 0.412109375\n",
      "\n",
      "erro HSGS 1.0\n",
      "erro encoding weight 0.2314453125\n",
      "erro encoding input 0.4658203125\n",
      "erro phase encoding 0.412109375\n",
      "\n",
      "erro HSGS 1.0\n",
      "erro encoding weight 0.2314453125\n",
      "erro encoding input 0.4658203125\n",
      "erro phase encoding 0.412109375\n",
      "\n",
      "erro HSGS 1.0\n",
      "erro encoding weight 0.216796875\n",
      "erro encoding input 0.4658203125\n",
      "erro phase encoding 0.412109375\n",
      "\n",
      "erro HSGS 1.0\n",
      "erro encoding weight 0.216796875\n",
      "erro encoding input 0.4658203125\n",
      "erro phase encoding 0.412109375\n",
      "\n",
      "erro HSGS 1.0\n",
      "erro encoding weight 0.216796875\n",
      "erro encoding input 0.4658203125\n",
      "erro phase encoding 0.412109375\n",
      "\n",
      "erro HSGS 1.0\n",
      "erro encoding weight 0.216796875\n",
      "erro encoding input 0.4658203125\n",
      "erro phase encoding 0.412109375\n",
      "\n",
      "erro HSGS 1.0\n",
      "erro encoding weight 0.216796875\n",
      "erro encoding input 0.4658203125\n",
      "erro phase encoding 0.412109375\n"
     ]
    }
   ],
   "source": [
    "weightsEncodingWeight, weightsEncodingInput, weightsPhaseEncoding, weightsHSGS = experiment_TRAIN(X_train, \n",
    "                                                                                                y_train,\n",
    "                                                                                                 lrParameter=0.2, \n",
    "                                                                                                 n_epochs=20, \n",
    "                                                                                                 trainingBias=False,\n",
    "                                                                                                 error_by_epoch = False,\n",
    "                                                                                                 trainingApproaches={'neuronio-classico', \n",
    "                                                                                                                     'neuronio-classico-bin', \n",
    "                                                                                                                     'hsgs',\n",
    "                                                                                                                     'encoding-weight', \n",
    "                                                                                                                     'encoding-input',\n",
    "                                                                                                                     'phase-encoding'})"
   ]
  },
  {
   "cell_type": "code",
   "execution_count": 8,
   "metadata": {},
   "outputs": [],
   "source": [
    "weights = [weightsEncodingWeight, \n",
    "          weightsEncodingInput, \n",
    "          weightsPhaseEncoding, \n",
    "          weightsHSGS]"
   ]
  },
  {
   "cell_type": "code",
   "execution_count": 9,
   "metadata": {},
   "outputs": [],
   "source": [
    "with open('results/version6/weights_unbiased_v6.json', 'w+') as fp:\n",
    "    json.dump(weights, fp)"
   ]
  },
  {
   "cell_type": "markdown",
   "metadata": {},
   "source": [
    "#### Test"
   ]
  },
  {
   "cell_type": "code",
   "execution_count": 10,
   "metadata": {},
   "outputs": [],
   "source": [
    "with open('results/version6/weights_unbiased_v6.json') as json_file:\n",
    "    weights = json.load(json_file)"
   ]
  },
  {
   "cell_type": "code",
   "execution_count": 11,
   "metadata": {},
   "outputs": [
    {
     "name": "stdout",
     "output_type": "stream",
     "text": [
      "erro HSGS 0.48484848484848486\n",
      "erro encoding weight 0.48484848484848486\n",
      "erro encoding input 0.5454545454545454\n",
      "erro phase encoding 0.5454545454545454\n",
      "erro HSGS 0.48484848484848486\n",
      "erro encoding weight 0.42424242424242425\n",
      "erro encoding input 0.5757575757575758\n",
      "erro phase encoding 0.5454545454545454\n",
      "erro HSGS 0.48484848484848486\n",
      "erro encoding weight 0.45454545454545453\n",
      "erro encoding input 0.36363636363636365\n",
      "erro phase encoding 0.5454545454545454\n",
      "erro HSGS 0.48484848484848486\n",
      "erro encoding weight 0.5151515151515151\n",
      "erro encoding input 0.5757575757575758\n",
      "erro phase encoding 0.48484848484848486\n",
      "erro HSGS 0.48484848484848486\n",
      "erro encoding weight 0.48484848484848486\n",
      "erro encoding input 0.45454545454545453\n",
      "erro phase encoding 0.48484848484848486\n",
      "erro HSGS 0.48484848484848486\n",
      "erro encoding weight 0.48484848484848486\n",
      "erro encoding input 0.45454545454545453\n",
      "erro phase encoding 0.5454545454545454\n",
      "erro HSGS 0.48484848484848486\n",
      "erro encoding weight 0.42424242424242425\n",
      "erro encoding input 0.5151515151515151\n",
      "erro phase encoding 0.5151515151515151\n",
      "erro HSGS 0.48484848484848486\n",
      "erro encoding weight 0.45454545454545453\n",
      "erro encoding input 0.5454545454545454\n",
      "erro phase encoding 0.48484848484848486\n",
      "erro HSGS 0.48484848484848486\n",
      "erro encoding weight 0.42424242424242425\n",
      "erro encoding input 0.6060606060606061\n",
      "erro phase encoding 0.5454545454545454\n",
      "erro HSGS 0.48484848484848486\n",
      "erro encoding weight 0.3939393939393939\n",
      "erro encoding input 0.5454545454545454\n",
      "erro phase encoding 0.5151515151515151\n",
      "ERROS HSGS             0.4848\n",
      "ERROS ENCODING WEIGHT  0.4545100000000001\n",
      "ERROS ENCODING INPUT   0.5182\n",
      "ERROS PHASE ENCODING   0.52123\n"
     ]
    }
   ],
   "source": [
    "resultsBIAS = experiment_TEST(X_test, \n",
    "                              y_test, \n",
    "                              weights[0], \n",
    "                              weights[1], \n",
    "                              weights[2], \n",
    "                              weights[3], \n",
    "                              repeat=10,\n",
    "                              bias=False, \n",
    "                              testingApproaches={'neuronio-classico', 'neuronio-classico-bin', 'hsgs','encoding-weight', 'phase-encoding','encoding-input'})"
   ]
  },
  {
   "cell_type": "code",
   "execution_count": 12,
   "metadata": {},
   "outputs": [],
   "source": [
    "with open('results/version6/experiments_unbiased.json', 'w+') as fp:\n",
    "    json.dump(resultsBIAS, fp)"
   ]
  },
  {
   "cell_type": "markdown",
   "metadata": {},
   "source": [
    "## BIAS"
   ]
  },
  {
   "cell_type": "code",
   "execution_count": null,
   "metadata": {},
   "outputs": [],
   "source": [
    "epoch_errosHSGS, epoch_errosEncodingWeight, epoch_errosEncodingInput, epoch_errosPhaseEncoding  = experiment_TRAIN(X_train, \n",
    "                                                                                                 y_train,\n",
    "                                                                                                 lrParameter=0.2, \n",
    "                                                                                                 n_epochs=40, \n",
    "                                                                                                 trainingBias=True,\n",
    "                                                                                                 error_by_epoch = True,\n",
    "                                                                                                 trainingApproaches={'neuronio-classico', \n",
    "                                                                                                                     'neuronio-classico-bin', \n",
    "                                                                                                                     'hsgs',\n",
    "                                                                                                                     'encoding-weight', \n",
    "                                                                                                                     'encoding-input',\n",
    "                                                                                                                     'phase-encoding'})\n",
    "                                    "
   ]
  },
  {
   "cell_type": "code",
   "execution_count": null,
   "metadata": {},
   "outputs": [],
   "source": [
    "with open('results/version6/error_by_epoch_biased.json', 'w+') as fp:\n",
    "    json.dump({'epoch_errosHSGS': epoch_errosHSGS,\n",
    "               'epoch_errosEncodingWeight': epoch_errosEncodingWeight, \n",
    "               'epoch_errosPhaseEncoding': epoch_errosPhaseEncoding, \n",
    "               'epoch_errosEncodingInput': epoch_errosEncodingInput},\n",
    "              fp)"
   ]
  },
  {
   "cell_type": "code",
   "execution_count": 13,
   "metadata": {},
   "outputs": [
    {
     "name": "stdout",
     "output_type": "stream",
     "text": [
      "\n",
      "erro HSGS 1.0\n",
      "erro encoding weight 0.2470703125\n",
      "erro encoding input 0.7158203125\n",
      "erro phase encoding 0.6552734375\n",
      "\n",
      "erro HSGS 1.0\n",
      "erro encoding weight 0.2353515625\n",
      "erro encoding input 0.7021484375\n",
      "erro phase encoding 0.6552734375\n",
      "\n",
      "erro HSGS 1.0\n",
      "erro encoding weight 0.2265625\n",
      "erro encoding input 0.7021484375\n",
      "erro phase encoding 0.625\n",
      "\n",
      "erro HSGS 1.0\n",
      "erro encoding weight 0.2265625\n",
      "erro encoding input 0.7021484375\n",
      "erro phase encoding 0.625\n",
      "\n",
      "erro HSGS 1.0\n",
      "erro encoding weight 0.2138671875\n",
      "erro encoding input 0.7021484375\n",
      "erro phase encoding 0.625\n",
      "\n",
      "erro HSGS 1.0\n",
      "erro encoding weight 0.2138671875\n",
      "erro encoding input 0.7021484375\n",
      "erro phase encoding 0.625\n",
      "\n",
      "erro HSGS 1.0\n",
      "erro encoding weight 0.2138671875\n",
      "erro encoding input 0.7021484375\n",
      "erro phase encoding 0.625\n",
      "\n",
      "erro HSGS 1.0\n",
      "erro encoding weight 0.2138671875\n",
      "erro encoding input 0.7021484375\n",
      "erro phase encoding 0.625\n",
      "\n",
      "erro HSGS 1.0\n",
      "erro encoding weight 0.2119140625\n",
      "erro encoding input 0.6845703125\n",
      "erro phase encoding 0.625\n",
      "\n",
      "erro HSGS 1.0\n",
      "erro encoding weight 0.2119140625\n",
      "erro encoding input 0.6845703125\n",
      "erro phase encoding 0.625\n",
      "\n",
      "erro HSGS 1.0\n",
      "erro encoding weight 0.2119140625\n",
      "erro encoding input 0.6845703125\n",
      "erro phase encoding 0.625\n",
      "\n",
      "erro HSGS 1.0\n",
      "erro encoding weight 0.2119140625\n",
      "erro encoding input 0.6845703125\n",
      "erro phase encoding 0.625\n",
      "\n",
      "erro HSGS 1.0\n",
      "erro encoding weight 0.2119140625\n",
      "erro encoding input 0.6845703125\n",
      "erro phase encoding 0.625\n",
      "\n",
      "erro HSGS 1.0\n",
      "erro encoding weight 0.2119140625\n",
      "erro encoding input 0.6845703125\n",
      "erro phase encoding 0.625\n",
      "\n",
      "erro HSGS 1.0\n",
      "erro encoding weight 0.2119140625\n",
      "erro encoding input 0.6845703125\n",
      "erro phase encoding 0.625\n",
      "\n",
      "erro HSGS 1.0\n",
      "erro encoding weight 0.2119140625\n",
      "erro encoding input 0.6845703125\n",
      "erro phase encoding 0.625\n",
      "\n",
      "erro HSGS 1.0\n",
      "erro encoding weight 0.2119140625\n",
      "erro encoding input 0.6845703125\n",
      "erro phase encoding 0.625\n",
      "\n",
      "erro HSGS 1.0\n",
      "erro encoding weight 0.2080078125\n",
      "erro encoding input 0.6845703125\n",
      "erro phase encoding 0.625\n",
      "\n",
      "erro HSGS 1.0\n",
      "erro encoding weight 0.2080078125\n",
      "erro encoding input 0.6845703125\n",
      "erro phase encoding 0.625\n",
      "\n",
      "erro HSGS 1.0\n",
      "erro encoding weight 0.2080078125\n",
      "erro encoding input 0.6845703125\n",
      "erro phase encoding 0.625\n",
      "\n",
      "erro HSGS 1.0\n",
      "erro encoding weight 0.2080078125\n",
      "erro encoding input 0.6845703125\n",
      "erro phase encoding 0.625\n"
     ]
    }
   ],
   "source": [
    "weightsEncodingWeight, weightsEncodingInput, weightsPhaseEncoding, weightsHSGS = experiment_TRAIN(X_train, \n",
    "                                                                                                 y_train,\n",
    "                                                                                                 lrParameter=0.2, \n",
    "                                                                                                 n_epochs=20, \n",
    "                                                                                                 trainingBias=True,\n",
    "                                                                                                 error_by_epoch = False,\n",
    "                                                                                                 trainingApproaches={'neuronio-classico', \n",
    "                                                                                                                     'neuronio-classico-bin', \n",
    "                                                                                                                     'hsgs',\n",
    "                                                                                                                     'encoding-weight', \n",
    "                                                                                                                     'encoding-input',\n",
    "                                                                                                                     'phase-encoding'})"
   ]
  },
  {
   "cell_type": "code",
   "execution_count": 14,
   "metadata": {},
   "outputs": [],
   "source": [
    "weights = [weightsEncodingWeight, \n",
    "          weightsEncodingInput, \n",
    "          weightsPhaseEncoding, \n",
    "          weightsHSGS]"
   ]
  },
  {
   "cell_type": "code",
   "execution_count": 15,
   "metadata": {},
   "outputs": [],
   "source": [
    "with open('results/version6/weights_biased_v6.json', 'w+') as fp:\n",
    "    json.dump(weights, fp)"
   ]
  },
  {
   "cell_type": "code",
   "execution_count": 16,
   "metadata": {},
   "outputs": [
    {
     "name": "stdout",
     "output_type": "stream",
     "text": [
      "erro HSGS 0.48484848484848486\n",
      "erro encoding weight 0.5151515151515151\n",
      "erro encoding input 0.45454545454545453\n",
      "erro phase encoding 0.6060606060606061\n",
      "erro HSGS 0.48484848484848486\n",
      "erro encoding weight 0.5757575757575758\n",
      "erro encoding input 0.36363636363636365\n",
      "erro phase encoding 0.6363636363636364\n",
      "erro HSGS 0.48484848484848486\n",
      "erro encoding weight 0.5757575757575758\n",
      "erro encoding input 0.3939393939393939\n",
      "erro phase encoding 0.5454545454545454\n",
      "erro HSGS 0.48484848484848486\n",
      "erro encoding weight 0.6060606060606061\n",
      "erro encoding input 0.3939393939393939\n",
      "erro phase encoding 0.6363636363636364\n",
      "erro HSGS 0.48484848484848486\n",
      "erro encoding weight 0.5757575757575758\n",
      "erro encoding input 0.45454545454545453\n",
      "erro phase encoding 0.5757575757575758\n",
      "erro HSGS 0.48484848484848486\n",
      "erro encoding weight 0.5454545454545454\n",
      "erro encoding input 0.3939393939393939\n",
      "erro phase encoding 0.6363636363636364\n",
      "erro HSGS 0.48484848484848486\n",
      "erro encoding weight 0.6060606060606061\n",
      "erro encoding input 0.48484848484848486\n",
      "erro phase encoding 0.5151515151515151\n",
      "erro HSGS 0.48484848484848486\n",
      "erro encoding weight 0.6060606060606061\n",
      "erro encoding input 0.5454545454545454\n",
      "erro phase encoding 0.6060606060606061\n",
      "erro HSGS 0.48484848484848486\n",
      "erro encoding weight 0.5151515151515151\n",
      "erro encoding input 0.5757575757575758\n",
      "erro phase encoding 0.5454545454545454\n",
      "erro HSGS 0.48484848484848486\n",
      "erro encoding weight 0.5757575757575758\n",
      "erro encoding input 0.3939393939393939\n",
      "erro phase encoding 0.5151515151515151\n",
      "ERROS HSGS             0.4848\n",
      "ERROS ENCODING WEIGHT  0.56974\n",
      "ERROS ENCODING INPUT   0.4454300000000001\n",
      "ERROS PHASE ENCODING   0.5818599999999999\n"
     ]
    }
   ],
   "source": [
    "resultsBIAS = experiment_TEST(X_test, \n",
    "                              y_test, \n",
    "                              weights[0], \n",
    "                              weights[1], \n",
    "                              weights[2], \n",
    "                              weights[3], \n",
    "                              repeat=10,\n",
    "                              bias=True, \n",
    "                              testingApproaches={'neuronio-classico', 'neuronio-classico-bin', 'hsgs','encoding-weight', 'phase-encoding','encoding-input'})"
   ]
  },
  {
   "cell_type": "code",
   "execution_count": 17,
   "metadata": {},
   "outputs": [],
   "source": [
    "with open('results/version6/experiments_biased.json', 'w+') as fp:\n",
    "    json.dump(resultsBIAS, fp)"
   ]
  },
  {
   "cell_type": "markdown",
   "metadata": {},
   "source": [
    "#### xgboost baseline"
   ]
  },
  {
   "cell_type": "code",
   "execution_count": 7,
   "metadata": {},
   "outputs": [],
   "source": [
    "from xgboost import XGBClassifier\n",
    "from sklearn.metrics import accuracy_score"
   ]
  },
  {
   "cell_type": "code",
   "execution_count": 9,
   "metadata": {},
   "outputs": [
    {
     "name": "stdout",
     "output_type": "stream",
     "text": [
      "[15:02:03] WARNING: ../src/learner.cc:1061: Starting in XGBoost 1.3.0, the default evaluation metric used with the objective 'binary:logistic' was changed from 'error' to 'logloss'. Explicitly set eval_metric if you'd like to restore the old behavior.\n"
     ]
    },
    {
     "data": {
      "text/plain": [
       "XGBClassifier(base_score=0.5, booster='gbtree', colsample_bylevel=1,\n",
       "              colsample_bynode=1, colsample_bytree=1, gamma=0, gpu_id=-1,\n",
       "              importance_type='gain', interaction_constraints='',\n",
       "              learning_rate=0.300000012, max_delta_step=0, max_depth=6,\n",
       "              min_child_weight=1, missing=nan, monotone_constraints='()',\n",
       "              n_estimators=100, n_jobs=8, num_parallel_tree=1, random_state=0,\n",
       "              reg_alpha=0, reg_lambda=1, scale_pos_weight=1, subsample=1,\n",
       "              tree_method='exact', validate_parameters=1, verbosity=None)"
      ]
     },
     "execution_count": 9,
     "metadata": {},
     "output_type": "execute_result"
    }
   ],
   "source": [
    "model = XGBClassifier()\n",
    "model.fit(np.array(X_train), np.array(y_train))"
   ]
  },
  {
   "cell_type": "code",
   "execution_count": 14,
   "metadata": {},
   "outputs": [
    {
     "name": "stdout",
     "output_type": "stream",
     "text": [
      "Accuracy: 95.45%\n"
     ]
    }
   ],
   "source": [
    "# make predictions for test data\n",
    "y_pred = model.predict(np.array(X_test))\n",
    "predictions = [round(value) for value in y_pred]\n",
    "\n",
    "accuracy = accuracy_score(np.array(y_test), predictions)\n",
    "print(\"Accuracy: %.2f%%\" % (accuracy * 100.0))"
   ]
  }
 ],
 "metadata": {
  "environment": {
   "name": "r-cpu.3-6.m65",
   "type": "gcloud",
   "uri": "gcr.io/deeplearning-platform-release/r-cpu.3-6:m65"
  },
  "kernelspec": {
   "display_name": "Python 3",
   "language": "python",
   "name": "python3"
  },
  "language_info": {
   "codemirror_mode": {
    "name": "ipython",
    "version": 3
   },
   "file_extension": ".py",
   "mimetype": "text/x-python",
   "name": "python",
   "nbconvert_exporter": "python",
   "pygments_lexer": "ipython3",
   "version": "3.7.10"
  }
 },
 "nbformat": 4,
 "nbformat_minor": 4
}
