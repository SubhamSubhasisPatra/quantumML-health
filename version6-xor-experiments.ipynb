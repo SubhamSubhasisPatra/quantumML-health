{
 "cells": [
  {
   "cell_type": "code",
   "execution_count": 1,
   "metadata": {},
   "outputs": [],
   "source": [
    "from code.neuron import *\n",
    "from code.encodingsource import *\n",
    "from code.hsgs import *\n",
    "from code.classical_neuron import *\n",
    "from code.classical_pso import *\n",
    "from code.sf import *\n",
    "simulator = Aer.get_backend('qasm_simulator')\n",
    "import pandas as pd\n",
    "import numpy as np\n",
    "import matplotlib.pyplot as plt\n",
    "import json\n",
    "\n",
    "from code.experiment_functions import * "
   ]
  },
  {
   "cell_type": "markdown",
   "metadata": {},
   "source": [
    "# Without Bias"
   ]
  },
  {
   "cell_type": "code",
   "execution_count": 2,
   "metadata": {},
   "outputs": [
    {
     "data": {
      "image/png": "[encoded data removed]",
      "text/plain": [
       "<Figure size 720x720 with 1 Axes>"
      ]
     },
     "metadata": {
      "needs_background": "light"
     },
     "output_type": "display_data"
    }
   ],
   "source": [
    "from matplotlib.colors import ListedColormap\n",
    "import matplotlib.pyplot as plt\n",
    "import warnings\n",
    "import numpy as np\n",
    "\n",
    "# Create Dataset\n",
    "np.random.seed(0)\n",
    "X_xor = np.random.rand(200, 8)\n",
    "y_xor = np.logical_xor(X_xor[:, 0] > 0.5,\n",
    "                       X_xor[:, 1] > 0.5)\n",
    "y_xor = np.where(y_xor, 1, -1)\n",
    "\n",
    "fig = plt.figure(figsize=(10,10))\n",
    "plt.scatter(X_xor[y_xor == 1, 0],\n",
    "            X_xor[y_xor == 1, 1],\n",
    "            c='b', marker='x',\n",
    "            label='1')\n",
    "plt.scatter(X_xor[y_xor == -1, 0],\n",
    "            X_xor[y_xor == -1, 1],\n",
    "            c='r',\n",
    "            marker='s',\n",
    "            label='-1')\n",
    "\n",
    "plt.xlim([0, 1])\n",
    "plt.ylim([0, 1])\n",
    "plt.legend(loc='best')\n",
    "plt.tight_layout()\n",
    "plt.show()"
   ]
  },
  {
   "cell_type": "code",
   "execution_count": 3,
   "metadata": {},
   "outputs": [],
   "source": [
    "from sklearn.model_selection import train_test_split\n",
    "X_xor = np.round(X_xor, 4)\n",
    "X_train, X_test, y_train, y_test = train_test_split(X_xor, y_xor, test_size=0.33, random_state=42)"
   ]
  },
  {
   "cell_type": "code",
   "execution_count": 4,
   "metadata": {},
   "outputs": [],
   "source": [
    "X_train = [list(x) for x in X_train]\n",
    "X_test = [list(x) for x in X_test]\n",
    "y_train = [int(1) if x == 1 else int(0) for x in y_train]\n",
    "y_test = [int(1) if x == 1 else int(0) for x in y_test]"
   ]
  },
  {
   "cell_type": "code",
   "execution_count": 6,
   "metadata": {},
   "outputs": [],
   "source": [
    "\"\"\"\n",
    "with open('results/version6/train_xor.json', 'w+') as fp:\n",
    "    json.dump([X_train, y_train], fp)\n",
    "    \n",
    "with open('results/version6/test_xor.json', 'w+') as fp:\n",
    "    json.dump([X_test, y_test], fp)\n",
    "\"\"\""
   ]
  },
  {
   "cell_type": "markdown",
   "metadata": {},
   "source": [
    "#### load saved data"
   ]
  },
  {
   "cell_type": "code",
   "execution_count": 2,
   "metadata": {},
   "outputs": [],
   "source": [
    "with open('results/version6/train_xor.json') as json_file:\n",
    "    X_train = json.load(json_file)[0]\n",
    "\n",
    "with open('results/version6/train_xor.json') as json_file:\n",
    "    y_train = json.load(json_file)[1]"
   ]
  },
  {
   "cell_type": "code",
   "execution_count": 3,
   "metadata": {},
   "outputs": [],
   "source": [
    "with open('results/version6/test_xor.json') as json_file:\n",
    "    X_test = json.load(json_file)[0]\n",
    "\n",
    "with open('results/version6/test_xor.json') as json_file:\n",
    "    y_test = json.load(json_file)[1]"
   ]
  },
  {
   "cell_type": "markdown",
   "metadata": {},
   "source": [
    "### Without Bias"
   ]
  },
  {
   "cell_type": "code",
   "execution_count": null,
   "metadata": {},
   "outputs": [],
   "source": [
    "epoch_errosHSGS, epoch_errosEncodingWeight, epoch_errosEncodingInput, epoch_errosPhaseEncoding  = experiment_TRAIN(X_train, \n",
    "                                                                                                 y_train,\n",
    "                                                                                                 lrParameter=0.2, \n",
    "                                                                                                 n_epochs=40, \n",
    "                                                                                                 trainingBias=False,\n",
    "                                                                                                 error_by_epoch = True,\n",
    "                                                                                                 trainingApproaches={'neuronio-classico', \n",
    "                                                                                                                     'neuronio-classico-bin', \n",
    "                                                                                                                     'hsgs',\n",
    "                                                                                                                     'encoding-weight', \n",
    "                                                                                                                     'encoding-input',\n",
    "                                                                                                                     'phase-encoding'})"
   ]
  },
  {
   "cell_type": "code",
   "execution_count": null,
   "metadata": {},
   "outputs": [],
   "source": [
    "with open('results/version6/error_by_epoch_unbiased.json', 'w+') as fp:\n",
    "    json.dump({'epoch_errosHSGS': epoch_errosHSGS,\n",
    "               'epoch_errosEncodingWeight': epoch_errosEncodingWeight, \n",
    "               'epoch_errosPhaseEncoding': epoch_errosPhaseEncoding, \n",
    "               'epoch_errosEncodingInput': epoch_errosEncodingInput},\n",
    "              fp)"
   ]
  },
  {
   "cell_type": "code",
   "execution_count": 4,
   "metadata": {},
   "outputs": [
    {
     "name": "stdout",
     "output_type": "stream",
     "text": [
      "\n",
      "erro HSGS 1.0\n",
      "erro encoding weight 0.23046875\n",
      "erro encoding input 0.525390625\n",
      "erro phase encoding 0.5478515625\n",
      "\n",
      "erro HSGS 1.0\n",
      "erro encoding weight 0.22265625\n",
      "erro encoding input 0.5185546875\n",
      "erro phase encoding 0.5390625\n",
      "\n",
      "erro HSGS 1.0\n",
      "erro encoding weight 0.22265625\n",
      "erro encoding input 0.5185546875\n",
      "erro phase encoding 0.5390625\n",
      "\n",
      "erro HSGS 1.0\n",
      "erro encoding weight 0.21875\n",
      "erro encoding input 0.5185546875\n",
      "erro phase encoding 0.5380859375\n",
      "\n",
      "erro HSGS 1.0\n",
      "erro encoding weight 0.21875\n",
      "erro encoding input 0.5185546875\n",
      "erro phase encoding 0.5380859375\n",
      "\n",
      "erro HSGS 1.0\n",
      "erro encoding weight 0.21875\n",
      "erro encoding input 0.5185546875\n",
      "erro phase encoding 0.5380859375\n",
      "\n",
      "erro HSGS 1.0\n",
      "erro encoding weight 0.21875\n",
      "erro encoding input 0.5185546875\n",
      "erro phase encoding 0.5380859375\n",
      "\n",
      "erro HSGS 1.0\n",
      "erro encoding weight 0.21875\n",
      "erro encoding input 0.5185546875\n",
      "erro phase encoding 0.529296875\n",
      "\n",
      "erro HSGS 1.0\n",
      "erro encoding weight 0.21484375\n",
      "erro encoding input 0.5185546875\n",
      "erro phase encoding 0.529296875\n",
      "\n",
      "erro HSGS 1.0\n",
      "erro encoding weight 0.21484375\n",
      "erro encoding input 0.5185546875\n",
      "erro phase encoding 0.529296875\n",
      "\n",
      "erro HSGS 1.0\n",
      "erro encoding weight 0.21484375\n",
      "erro encoding input 0.5185546875\n",
      "erro phase encoding 0.529296875\n",
      "\n",
      "erro HSGS 1.0\n",
      "erro encoding weight 0.21484375\n",
      "erro encoding input 0.5185546875\n",
      "erro phase encoding 0.525390625\n",
      "\n",
      "erro HSGS 1.0\n",
      "erro encoding weight 0.21484375\n",
      "erro encoding input 0.5185546875\n",
      "erro phase encoding 0.525390625\n",
      "\n",
      "erro HSGS 1.0\n",
      "erro encoding weight 0.21484375\n",
      "erro encoding input 0.4990234375\n",
      "erro phase encoding 0.525390625\n",
      "\n",
      "erro HSGS 1.0\n",
      "erro encoding weight 0.21484375\n",
      "erro encoding input 0.4990234375\n",
      "erro phase encoding 0.525390625\n",
      "\n",
      "erro HSGS 1.0\n",
      "erro encoding weight 0.21484375\n",
      "erro encoding input 0.4990234375\n",
      "erro phase encoding 0.525390625\n",
      "\n",
      "erro HSGS 1.0\n",
      "erro encoding weight 0.21484375\n",
      "erro encoding input 0.4990234375\n",
      "erro phase encoding 0.525390625\n",
      "\n",
      "erro HSGS 1.0\n",
      "erro encoding weight 0.21484375\n",
      "erro encoding input 0.4990234375\n",
      "erro phase encoding 0.525390625\n",
      "\n",
      "erro HSGS 1.0\n",
      "erro encoding weight 0.21484375\n",
      "erro encoding input 0.4990234375\n",
      "erro phase encoding 0.525390625\n",
      "\n",
      "erro HSGS 1.0\n",
      "erro encoding weight 0.21484375\n",
      "erro encoding input 0.4990234375\n",
      "erro phase encoding 0.525390625\n",
      "\n",
      "erro HSGS 1.0\n",
      "erro encoding weight 0.21484375\n",
      "erro encoding input 0.4990234375\n",
      "erro phase encoding 0.525390625\n"
     ]
    }
   ],
   "source": [
    "weightsEncodingWeight, weightsEncodingInput, weightsPhaseEncoding, weightsHSGS = experiment_TRAIN(X_train, \n",
    "                                                                                                y_train,\n",
    "                                                                                                 lrParameter=0.2, \n",
    "                                                                                                 n_epochs=20, \n",
    "                                                                                                 trainingBias=False,\n",
    "                                                                                                 error_by_epoch = False,\n",
    "                                                                                                 trainingApproaches={'neuronio-classico', \n",
    "                                                                                                                     'neuronio-classico-bin', \n",
    "                                                                                                                     'hsgs',\n",
    "                                                                                                                     'encoding-weight', \n",
    "                                                                                                                     'encoding-input',\n",
    "                                                                                                                     'phase-encoding'})"
   ]
  },
  {
   "cell_type": "code",
   "execution_count": 5,
   "metadata": {},
   "outputs": [],
   "source": [
    "weights = [weightsEncodingWeight, \n",
    "          weightsEncodingInput, \n",
    "          weightsPhaseEncoding, \n",
    "          weightsHSGS]"
   ]
  },
  {
   "cell_type": "code",
   "execution_count": 6,
   "metadata": {},
   "outputs": [],
   "source": [
    "with open('results/version6/weights_unbiased_v6.json', 'w+') as fp:\n",
    "    json.dump(weights, fp)"
   ]
  },
  {
   "cell_type": "markdown",
   "metadata": {},
   "source": [
    "#### Test"
   ]
  },
  {
   "cell_type": "code",
   "execution_count": 7,
   "metadata": {},
   "outputs": [],
   "source": [
    "with open('results/version6/weights_unbiased_v6.json') as json_file:\n",
    "    weights = json.load(json_file)"
   ]
  },
  {
   "cell_type": "code",
   "execution_count": 8,
   "metadata": {},
   "outputs": [
    {
     "name": "stdout",
     "output_type": "stream",
     "text": [
      "erro HSGS 0.5\n",
      "erro encoding weight 0.5151515151515151\n",
      "erro encoding input 0.42424242424242425\n",
      "erro phase encoding 0.4696969696969697\n",
      "erro HSGS 0.5\n",
      "erro encoding weight 0.5909090909090909\n",
      "erro encoding input 0.36363636363636365\n",
      "erro phase encoding 0.48484848484848486\n",
      "erro HSGS 0.5\n",
      "erro encoding weight 0.5454545454545454\n",
      "erro encoding input 0.3333333333333333\n",
      "erro phase encoding 0.5\n",
      "erro HSGS 0.5\n",
      "erro encoding weight 0.5151515151515151\n",
      "erro encoding input 0.5\n",
      "erro phase encoding 0.5\n",
      "erro HSGS 0.5\n",
      "erro encoding weight 0.5303030303030303\n",
      "erro encoding input 0.5151515151515151\n",
      "erro phase encoding 0.4696969696969697\n",
      "erro HSGS 0.5\n",
      "erro encoding weight 0.5606060606060606\n",
      "erro encoding input 0.4696969696969697\n",
      "erro phase encoding 0.5454545454545454\n",
      "erro HSGS 0.5\n",
      "erro encoding weight 0.5909090909090909\n",
      "erro encoding input 0.48484848484848486\n",
      "erro phase encoding 0.5454545454545454\n",
      "erro HSGS 0.5\n",
      "erro encoding weight 0.6212121212121212\n",
      "erro encoding input 0.4696969696969697\n",
      "erro phase encoding 0.4393939393939394\n",
      "erro HSGS 0.5\n",
      "erro encoding weight 0.5303030303030303\n",
      "erro encoding input 0.45454545454545453\n",
      "erro phase encoding 0.5757575757575758\n",
      "erro HSGS 0.5\n",
      "erro encoding weight 0.5151515151515151\n",
      "erro encoding input 0.5151515151515151\n",
      "erro phase encoding 0.48484848484848486\n",
      "ERROS HSGS             0.5\n",
      "ERROS ENCODING WEIGHT  0.55153\n",
      "ERROS ENCODING INPUT   0.4530200000000001\n",
      "ERROS PHASE ENCODING   0.50152\n"
     ]
    }
   ],
   "source": [
    "resultsBIAS = experiment_TEST(X_test, \n",
    "                              y_test, \n",
    "                              weights[0], \n",
    "                              weights[1], \n",
    "                              weights[2], \n",
    "                              weights[3], \n",
    "                              repeat=10,\n",
    "                              bias=False, \n",
    "                              testingApproaches={'neuronio-classico', 'neuronio-classico-bin', 'hsgs','encoding-weight', 'phase-encoding','encoding-input'})"
   ]
  },
  {
   "cell_type": "code",
   "execution_count": 9,
   "metadata": {},
   "outputs": [],
   "source": [
    "with open('results/version6/experiments_unbiased.json', 'w+') as fp:\n",
    "    json.dump(resultsBIAS, fp)"
   ]
  },
  {
   "cell_type": "markdown",
   "metadata": {},
   "source": [
    "## BIAS"
   ]
  },
  {
   "cell_type": "code",
   "execution_count": null,
   "metadata": {},
   "outputs": [],
   "source": [
    "epoch_errosHSGS, epoch_errosEncodingWeight, epoch_errosEncodingInput, epoch_errosPhaseEncoding  = experiment_TRAIN(X_train, \n",
    "                                                                                                 y_train,\n",
    "                                                                                                 lrParameter=0.2, \n",
    "                                                                                                 n_epochs=40, \n",
    "                                                                                                 trainingBias=True,\n",
    "                                                                                                 error_by_epoch = True,\n",
    "                                                                                                 trainingApproaches={'neuronio-classico', \n",
    "                                                                                                                     'neuronio-classico-bin', \n",
    "                                                                                                                     'hsgs',\n",
    "                                                                                                                     'encoding-weight', \n",
    "                                                                                                                     'encoding-input',\n",
    "                                                                                                                     'phase-encoding'})\n",
    "                                    "
   ]
  },
  {
   "cell_type": "code",
   "execution_count": null,
   "metadata": {},
   "outputs": [],
   "source": [
    "with open('results/version6/error_by_epoch_biased.json', 'w+') as fp:\n",
    "    json.dump({'epoch_errosHSGS': epoch_errosHSGS,\n",
    "               'epoch_errosEncodingWeight': epoch_errosEncodingWeight, \n",
    "               'epoch_errosPhaseEncoding': epoch_errosPhaseEncoding, \n",
    "               'epoch_errosEncodingInput': epoch_errosEncodingInput},\n",
    "              fp)"
   ]
  },
  {
   "cell_type": "code",
   "execution_count": 10,
   "metadata": {},
   "outputs": [
    {
     "name": "stdout",
     "output_type": "stream",
     "text": [
      "\n",
      "erro HSGS 1.0\n",
      "erro encoding weight 0.2392578125\n",
      "erro encoding input 0.74609375\n",
      "erro phase encoding 0.43359375\n",
      "\n",
      "erro HSGS 1.0\n",
      "erro encoding weight 0.2294921875\n",
      "erro encoding input 0.71484375\n",
      "erro phase encoding 0.3828125\n",
      "\n",
      "erro HSGS 1.0\n",
      "erro encoding weight 0.2099609375\n",
      "erro encoding input 0.71484375\n",
      "erro phase encoding 0.3828125\n",
      "\n",
      "erro HSGS 1.0\n",
      "erro encoding weight 0.2099609375\n",
      "erro encoding input 0.71484375\n",
      "erro phase encoding 0.3828125\n",
      "\n",
      "erro HSGS 1.0\n",
      "erro encoding weight 0.2099609375\n",
      "erro encoding input 0.71484375\n",
      "erro phase encoding 0.3828125\n",
      "\n",
      "erro HSGS 1.0\n",
      "erro encoding weight 0.20703125\n",
      "erro encoding input 0.71484375\n",
      "erro phase encoding 0.3828125\n",
      "\n",
      "erro HSGS 1.0\n",
      "erro encoding weight 0.20703125\n",
      "erro encoding input 0.71484375\n",
      "erro phase encoding 0.353515625\n",
      "\n",
      "erro HSGS 1.0\n",
      "erro encoding weight 0.20703125\n",
      "erro encoding input 0.71484375\n",
      "erro phase encoding 0.353515625\n",
      "\n",
      "erro HSGS 1.0\n",
      "erro encoding weight 0.2001953125\n",
      "erro encoding input 0.708984375\n",
      "erro phase encoding 0.353515625\n",
      "\n",
      "erro HSGS 1.0\n",
      "erro encoding weight 0.185546875\n",
      "erro encoding input 0.708984375\n",
      "erro phase encoding 0.353515625\n",
      "\n",
      "erro HSGS 1.0\n",
      "erro encoding weight 0.185546875\n",
      "erro encoding input 0.708984375\n",
      "erro phase encoding 0.353515625\n",
      "\n",
      "erro HSGS 1.0\n",
      "erro encoding weight 0.185546875\n",
      "erro encoding input 0.708984375\n",
      "erro phase encoding 0.353515625\n",
      "\n",
      "erro HSGS 1.0\n",
      "erro encoding weight 0.185546875\n",
      "erro encoding input 0.7080078125\n",
      "erro phase encoding 0.353515625\n",
      "\n",
      "erro HSGS 1.0\n",
      "erro encoding weight 0.185546875\n",
      "erro encoding input 0.7080078125\n",
      "erro phase encoding 0.353515625\n",
      "\n",
      "erro HSGS 1.0\n",
      "erro encoding weight 0.185546875\n",
      "erro encoding input 0.7080078125\n",
      "erro phase encoding 0.353515625\n",
      "\n",
      "erro HSGS 1.0\n",
      "erro encoding weight 0.185546875\n",
      "erro encoding input 0.7080078125\n",
      "erro phase encoding 0.353515625\n",
      "\n",
      "erro HSGS 1.0\n",
      "erro encoding weight 0.185546875\n",
      "erro encoding input 0.7080078125\n",
      "erro phase encoding 0.353515625\n",
      "\n",
      "erro HSGS 1.0\n",
      "erro encoding weight 0.185546875\n",
      "erro encoding input 0.7080078125\n",
      "erro phase encoding 0.353515625\n",
      "\n",
      "erro HSGS 1.0\n",
      "erro encoding weight 0.185546875\n",
      "erro encoding input 0.7080078125\n",
      "erro phase encoding 0.353515625\n",
      "\n",
      "erro HSGS 1.0\n",
      "erro encoding weight 0.185546875\n",
      "erro encoding input 0.7060546875\n",
      "erro phase encoding 0.353515625\n",
      "\n",
      "erro HSGS 1.0\n",
      "erro encoding weight 0.185546875\n",
      "erro encoding input 0.7060546875\n",
      "erro phase encoding 0.353515625\n"
     ]
    }
   ],
   "source": [
    "weightsEncodingWeight, weightsEncodingInput, weightsPhaseEncoding, weightsHSGS = experiment_TRAIN(X_train, \n",
    "                                                                                                 y_train,\n",
    "                                                                                                 lrParameter=0.2, \n",
    "                                                                                                 n_epochs=20, \n",
    "                                                                                                 trainingBias=True,\n",
    "                                                                                                 error_by_epoch = False,\n",
    "                                                                                                 trainingApproaches={'neuronio-classico', \n",
    "                                                                                                                     'neuronio-classico-bin', \n",
    "                                                                                                                     'hsgs',\n",
    "                                                                                                                     'encoding-weight', \n",
    "                                                                                                                     'encoding-input',\n",
    "                                                                                                                     'phase-encoding'})"
   ]
  },
  {
   "cell_type": "code",
   "execution_count": 11,
   "metadata": {},
   "outputs": [],
   "source": [
    "weights = [weightsEncodingWeight, \n",
    "          weightsEncodingInput, \n",
    "          weightsPhaseEncoding, \n",
    "          weightsHSGS]"
   ]
  },
  {
   "cell_type": "code",
   "execution_count": 12,
   "metadata": {},
   "outputs": [],
   "source": [
    "with open('results/version6/weights_biased_v6.json', 'w+') as fp:\n",
    "    json.dump(weights, fp)"
   ]
  },
  {
   "cell_type": "code",
   "execution_count": 13,
   "metadata": {},
   "outputs": [
    {
     "name": "stdout",
     "output_type": "stream",
     "text": [
      "erro HSGS 0.5\n",
      "erro encoding weight 0.6363636363636364\n",
      "erro encoding input 0.5757575757575758\n",
      "erro phase encoding 0.45454545454545453\n",
      "erro HSGS 0.5\n",
      "erro encoding weight 0.48484848484848486\n",
      "erro encoding input 0.48484848484848486\n",
      "erro phase encoding 0.5303030303030303\n",
      "erro HSGS 0.5\n",
      "erro encoding weight 0.5151515151515151\n",
      "erro encoding input 0.3787878787878788\n",
      "erro phase encoding 0.5606060606060606\n",
      "erro HSGS 0.5\n",
      "erro encoding weight 0.5606060606060606\n",
      "erro encoding input 0.5\n",
      "erro phase encoding 0.5\n",
      "erro HSGS 0.5\n",
      "erro encoding weight 0.5757575757575758\n",
      "erro encoding input 0.48484848484848486\n",
      "erro phase encoding 0.4696969696969697\n",
      "erro HSGS 0.5\n",
      "erro encoding weight 0.6060606060606061\n",
      "erro encoding input 0.48484848484848486\n",
      "erro phase encoding 0.5303030303030303\n",
      "erro HSGS 0.5\n",
      "erro encoding weight 0.6212121212121212\n",
      "erro encoding input 0.45454545454545453\n",
      "erro phase encoding 0.5151515151515151\n",
      "erro HSGS 0.5\n",
      "erro encoding weight 0.5151515151515151\n",
      "erro encoding input 0.42424242424242425\n",
      "erro phase encoding 0.5606060606060606\n",
      "erro HSGS 0.5\n",
      "erro encoding weight 0.5606060606060606\n",
      "erro encoding input 0.5454545454545454\n",
      "erro phase encoding 0.4393939393939394\n",
      "erro HSGS 0.5\n",
      "erro encoding weight 0.5303030303030303\n",
      "erro encoding input 0.5303030303030303\n",
      "erro phase encoding 0.5\n",
      "ERROS HSGS             0.5\n",
      "ERROS ENCODING WEIGHT  0.5606199999999999\n",
      "ERROS ENCODING INPUT   0.48635\n",
      "ERROS PHASE ENCODING   0.50606\n"
     ]
    }
   ],
   "source": [
    "resultsBIAS = experiment_TEST(X_test, \n",
    "                              y_test, \n",
    "                              weights[0], \n",
    "                              weights[1], \n",
    "                              weights[2], \n",
    "                              weights[3], \n",
    "                              repeat=10,\n",
    "                              bias=True, \n",
    "                              testingApproaches={'neuronio-classico', 'neuronio-classico-bin', 'hsgs','encoding-weight', 'phase-encoding','encoding-input'})"
   ]
  },
  {
   "cell_type": "code",
   "execution_count": 14,
   "metadata": {},
   "outputs": [],
   "source": [
    "with open('results/version6/experiments_biased.json', 'w+') as fp:\n",
    "    json.dump(resultsBIAS, fp)"
   ]
  },
  {
   "cell_type": "markdown",
   "metadata": {},
   "source": [
    "#### xgboost baseline"
   ]
  },
  {
   "cell_type": "code",
   "execution_count": 7,
   "metadata": {},
   "outputs": [],
   "source": [
    "from xgboost import XGBClassifier\n",
    "from sklearn.metrics import accuracy_score"
   ]
  },
  {
   "cell_type": "code",
   "execution_count": 9,
   "metadata": {},
   "outputs": [
    {
     "name": "stdout",
     "output_type": "stream",
     "text": [
      "[15:02:03] WARNING: ../src/learner.cc:1061: Starting in XGBoost 1.3.0, the default evaluation metric used with the objective 'binary:logistic' was changed from 'error' to 'logloss'. Explicitly set eval_metric if you'd like to restore the old behavior.\n"
     ]
    },
    {
     "data": {
      "text/plain": [
       "XGBClassifier(base_score=0.5, booster='gbtree', colsample_bylevel=1,\n",
       "              colsample_bynode=1, colsample_bytree=1, gamma=0, gpu_id=-1,\n",
       "              importance_type='gain', interaction_constraints='',\n",
       "              learning_rate=0.300000012, max_delta_step=0, max_depth=6,\n",
       "              min_child_weight=1, missing=nan, monotone_constraints='()',\n",
       "              n_estimators=100, n_jobs=8, num_parallel_tree=1, random_state=0,\n",
       "              reg_alpha=0, reg_lambda=1, scale_pos_weight=1, subsample=1,\n",
       "              tree_method='exact', validate_parameters=1, verbosity=None)"
      ]
     },
     "execution_count": 9,
     "metadata": {},
     "output_type": "execute_result"
    }
   ],
   "source": [
    "model = XGBClassifier()\n",
    "model.fit(np.array(X_train), np.array(y_train))"
   ]
  },
  {
   "cell_type": "code",
   "execution_count": 14,
   "metadata": {},
   "outputs": [
    {
     "name": "stdout",
     "output_type": "stream",
     "text": [
      "Accuracy: 95.45%\n"
     ]
    }
   ],
   "source": [
    "# make predictions for test data\n",
    "y_pred = model.predict(np.array(X_test))\n",
    "predictions = [round(value) for value in y_pred]\n",
    "\n",
    "accuracy = accuracy_score(np.array(y_test), predictions)\n",
    "print(\"Accuracy: %.2f%%\" % (accuracy * 100.0))"
   ]
  }
 ],
 "metadata": {
  "environment": {
   "name": "common-cpu.mnightly-2021-02-12-debian-10-test",
   "type": "gcloud",
   "uri": "gcr.io/deeplearning-platform-release/base-cpu:mnightly-2021-02-12-debian-10-test"
  },
  "kernelspec": {
   "display_name": "Python 3",
   "language": "python",
   "name": "python3"
  },
  "language_info": {
   "codemirror_mode": {
    "name": "ipython",
    "version": 3
   },
   "file_extension": ".py",
   "mimetype": "text/x-python",
   "name": "python",
   "nbconvert_exporter": "python",
   "pygments_lexer": "ipython3",
   "version": "3.7.9"
  }
 },
 "nbformat": 4,
 "nbformat_minor": 4
}
