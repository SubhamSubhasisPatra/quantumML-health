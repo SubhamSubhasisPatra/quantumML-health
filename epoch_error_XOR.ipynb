{
 "cells": [
  {
   "cell_type": "code",
   "execution_count": 1,
   "metadata": {
    "ExecuteTime": {
     "start_time": "2024-09-04T13:55:34.225214Z"
    }
   },
   "outputs": [
    {
     "ename": "ModuleNotFoundError",
     "evalue": "No module named 'code.neuron'; 'code' is not a package",
     "output_type": "error",
     "traceback": [
      "\u001b[1;31m---------------------------------------------------------------------------\u001b[0m",
      "\u001b[1;31mModuleNotFoundError\u001b[0m                       Traceback (most recent call last)",
      "Cell \u001b[1;32mIn[1], line 1\u001b[0m\n\u001b[1;32m----> 1\u001b[0m \u001b[38;5;28;01mfrom\u001b[39;00m \u001b[38;5;21;01mcode\u001b[39;00m\u001b[38;5;21;01m.\u001b[39;00m\u001b[38;5;21;01mneuron\u001b[39;00m \u001b[38;5;28;01mimport\u001b[39;00m \u001b[38;5;241m*\u001b[39m\n\u001b[0;32m      2\u001b[0m \u001b[38;5;28;01mfrom\u001b[39;00m \u001b[38;5;21;01mcode\u001b[39;00m\u001b[38;5;21;01m.\u001b[39;00m\u001b[38;5;21;01mencodingsource\u001b[39;00m \u001b[38;5;28;01mimport\u001b[39;00m \u001b[38;5;241m*\u001b[39m\n\u001b[0;32m      3\u001b[0m \u001b[38;5;28;01mfrom\u001b[39;00m \u001b[38;5;21;01mcode\u001b[39;00m\u001b[38;5;21;01m.\u001b[39;00m\u001b[38;5;21;01mhsgs\u001b[39;00m \u001b[38;5;28;01mimport\u001b[39;00m \u001b[38;5;241m*\u001b[39m\n",
      "\u001b[1;31mModuleNotFoundError\u001b[0m: No module named 'code.neuron'; 'code' is not a package"
     ]
    }
   ],
   "source": [
    "from quantum_code.neuron import *\n",
    "from quantum_code.encodingsource import *\n",
    "from quantum_code.hsgs import *\n",
    "from quantum_code.classical_neuron import *\n",
    "from quantum_code.classical_pso import *\n",
    "from quantum_code.sf import *\n",
    "simulator = Aer.get_backend('qasm_simulator')\n",
    "import pandas as pd\n",
    "import numpy as np\n",
    "import matplotlib.pyplot as plt\n",
    "import json\n",
    "import time \n",
    "\n",
    "from quantum_code.experiment_functions import * "
   ]
  },
  {
   "cell_type": "code",
   "execution_count": 2,
   "metadata": {},
   "outputs": [],
   "source": [
    "X_train = [[-1, -1],  [-1,1], [1,1], [1,-1]]\n",
    "y_train = [1, 0, 1, 0]\n",
    "\n",
    "X_test =  [[-1, -1],  [-1,1], [1,1], [1,-1]]\n",
    "y_test =  [1, 0, 1, 0]"
   ]
  },
  {
   "cell_type": "markdown",
   "metadata": {},
   "source": [
    "## Get Error by Epoch"
   ]
  },
  {
   "cell_type": "code",
   "execution_count": 10,
   "metadata": {},
   "outputs": [],
   "source": [
    "epochs = {'model':[], 'epoch':[], 'value':[]}"
   ]
  },
  {
   "cell_type": "code",
   "execution_count": 11,
   "metadata": {},
   "outputs": [],
   "source": [
    "initial_weights = list(np.random.uniform(low=0.0, high=1.0, size=(len(X_train[0]),)))"
   ]
  },
  {
   "cell_type": "code",
   "execution_count": 12,
   "metadata": {},
   "outputs": [],
   "source": [
    "bias = True"
   ]
  },
  {
   "cell_type": "code",
   "execution_count": 13,
   "metadata": {},
   "outputs": [
    {
     "name": "stdout",
     "output_type": "stream",
     "text": [
      "lrParameter:  0.02\n",
      "threshold:  0.5\n",
      "trainingBias:  True\n",
      "best error HSGS training:  1\n"
     ]
    }
   ],
   "source": [
    "weights = quantumNeuronFIT(X_train, \n",
    "                           y_train,\n",
    "                           init_weight = initial_weights,\n",
    "                           threshold=0.5,\n",
    "                           lrParameter=0.02, \n",
    "                           n_epochs=60, \n",
    "                           trainingBias=bias,\n",
    "                           epoch_results=False,\n",
    "                           trainingApproaches={'hsgs'})"
   ]
  },
  {
   "cell_type": "code",
   "execution_count": 14,
   "metadata": {},
   "outputs": [],
   "source": [
    "epochs['value'].extend(weights[4])\n",
    "epochs['model'].extend(['BQN' for i in range(len(weights[4]))])\n",
    "epochs['epoch'].extend(list(range(len(weights[4]))))"
   ]
  },
  {
   "cell_type": "code",
   "execution_count": 15,
   "metadata": {},
   "outputs": [
    {
     "name": "stdout",
     "output_type": "stream",
     "text": [
      "lrParameter:  0.02\n",
      "threshold:  0.8\n",
      "trainingBias:  True\n",
      "phaseEstrategyOperator:  original\n",
      "\n",
      "best error phase-encoding training:  2\n",
      "lrParameter:  0.02\n",
      "threshold:  0.8\n",
      "trainingBias:  True\n",
      "phaseEstrategyOperator:  angleradius\n",
      "\n",
      "best error phase-encoding training:  2\n"
     ]
    }
   ],
   "source": [
    "for strategy in ['original', 'angleradius']:\n",
    "    weights = quantumNeuronFIT(X_train, \n",
    "                           y_train,\n",
    "                           init_weight=initial_weights,\n",
    "                           threshold=0.8,\n",
    "                           lrParameter=0.02, \n",
    "                           n_epochs=50, \n",
    "                           trainingBias=bias,\n",
    "                           phaseEstrategyOperator=strategy,\n",
    "                           trainingApproaches={'phase-encoding'})\n",
    "    \n",
    "    epochs['value'].extend(weights[5])\n",
    "    epochs['model'].extend([strategy for i in range(len(weights[5]))])\n",
    "    epochs['epoch'].extend(list(range(len(weights[5]))))"
   ]
  },
  {
   "cell_type": "code",
   "execution_count": 16,
   "metadata": {},
   "outputs": [
    {
     "name": "stdout",
     "output_type": "stream",
     "text": [
      "lrParameter:  0.02\n",
      "threshold:  0.7\n",
      "trainingBias:  True\n",
      "phaseEstrategyOperator:  angle\n",
      "\n",
      "best error phase-encoding training:  0\n",
      "lrParameter:  0.02\n",
      "threshold:  0.7\n",
      "trainingBias:  True\n",
      "phaseEstrategyOperator:  radius\n",
      "\n",
      "best error phase-encoding training:  2\n"
     ]
    }
   ],
   "source": [
    "for strategy in ['angle', 'radius']:\n",
    "    weights = quantumNeuronFIT(X_train, \n",
    "                           y_train,\n",
    "                           init_weight=initial_weights,\n",
    "                           threshold=0.7,\n",
    "                           lrParameter=0.02, \n",
    "                           n_epochs=60, \n",
    "                           trainingBias=bias,\n",
    "                           phaseEstrategyOperator=strategy,\n",
    "                           trainingApproaches={'phase-encoding'})\n",
    "    \n",
    "    epochs['value'].extend(weights[5])\n",
    "    epochs['model'].extend([strategy for i in range(len(weights[5]))])\n",
    "    epochs['epoch'].extend(list(range(len(weights[5]))))"
   ]
  },
  {
   "cell_type": "code",
   "execution_count": 17,
   "metadata": {},
   "outputs": [],
   "source": [
    "if bias:\n",
    "    pd.DataFrame(epochs).to_csv('data_and_results/XOR/error_by_epoch_bias.csv')\n",
    "else:\n",
    "    pd.DataFrame(epochs).to_csv('data_and_results/XOR/error_by_epoch_nobias.csv')"
   ]
  },
  {
   "cell_type": "code",
   "execution_count": null,
   "metadata": {},
   "outputs": [],
   "source": []
  }
 ],
 "metadata": {
  "environment": {
   "name": "common-cpu.m71",
   "type": "gcloud",
   "uri": "gcr.io/deeplearning-platform-release/base-cpu:m71"
  },
  "kernelspec": {
   "display_name": "myenv",
   "language": "python",
   "name": "python3"
  },
  "language_info": {
   "codemirror_mode": {
    "name": "ipython",
    "version": 3
   },
   "file_extension": ".py",
   "mimetype": "text/x-python",
   "name": "python",
   "nbconvert_exporter": "python",
   "pygments_lexer": "ipython3",
   "version": "3.10.0"
  }
 },
 "nbformat": 4,
 "nbformat_minor": 4
}
