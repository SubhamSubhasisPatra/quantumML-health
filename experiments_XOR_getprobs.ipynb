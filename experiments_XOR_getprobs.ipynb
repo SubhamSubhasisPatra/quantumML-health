{
 "cells": [
  {
   "cell_type": "code",
   "execution_count": null,
   "metadata": {},
   "outputs": [],
   "source": [
    "from code.neuron import *\n",
    "from code.encodingsource import *\n",
    "from code.hsgs import *\n",
    "from code.classical_neuron import *\n",
    "from code.classical_pso import *\n",
    "from code.sf import *\n",
    "simulator = Aer.get_backend('qasm_simulator')\n",
    "import pandas as pd\n",
    "import numpy as np\n",
    "import matplotlib.pyplot as plt\n",
    "import json\n",
    "\n",
    "from code.experiment_functions import *"
   ]
  },
  {
   "cell_type": "code",
   "execution_count": null,
   "metadata": {},
   "outputs": [],
   "source": [
    "X_train = [[-1, -1],  [-1,1], [1,1], [1,-1]]\n",
    "y_train = [1, 0, 1, 0]\n",
    "\n",
    "X_test =  [[-1, -1],  [-1,1], [1,1], [1,-1]]\n",
    "y_test =  [1, 0, 1, 0]"
   ]
  },
  {
   "cell_type": "markdown",
   "metadata": {},
   "source": [
    "## Test"
   ]
  },
  {
   "cell_type": "code",
   "execution_count": null,
   "metadata": {},
   "outputs": [],
   "source": [
    "w = list(np.random.uniform(low=0.0, high=1.0, size=(len(X_test[0]),)))"
   ]
  },
  {
   "cell_type": "code",
   "execution_count": null,
   "metadata": {},
   "outputs": [],
   "source": [
    "weights = quantumNeuronFIT(X_train, \n",
    "                           y_train,\n",
    "                           init_weight = w,\n",
    "                           threshold=0.7,\n",
    "                           lrParameter=0.1, \n",
    "                           n_epochs=1, \n",
    "                           trainingBias=False,\n",
    "                           epoch_results=False,\n",
    "                           phaseEstrategyOperator='original',\n",
    "                           trainingApproaches={'hsgs'})"
   ]
  },
  {
   "cell_type": "code",
   "execution_count": null,
   "metadata": {},
   "outputs": [],
   "source": [
    "results = quantumNeuronPREDICT(X_test, \n",
    "                                   y_test,\n",
    "                                   threshold=0.7,\n",
    "                                   weightVectorsPhaseEncoding = weights[0], \n",
    "                                   weightVectorsHSGS = weights[1], \n",
    "                                   repeat=1,\n",
    "                                   bias=False, \n",
    "                                   phaseEstrategyOperator='original',\n",
    "                                   testingApproaches={'hsgs'})"
   ]
  },
  {
   "cell_type": "code",
   "execution_count": null,
   "metadata": {},
   "outputs": [],
   "source": [
    "results"
   ]
  },
  {
   "cell_type": "markdown",
   "metadata": {},
   "source": [
    "## Binary Quantum Neuron Experiments "
   ]
  },
  {
   "cell_type": "code",
   "execution_count": null,
   "metadata": {},
   "outputs": [],
   "source": [
    "output = {'model':[],\n",
    "          'phase_strategy':[],\n",
    "          'threshold':[],\n",
    "            'bias':[],\n",
    "            'lr':[],\n",
    "            'initial_weights':[],\n",
    "            'neuron_outputs':[]}"
   ]
  },
  {
   "cell_type": "code",
   "execution_count": null,
   "metadata": {},
   "outputs": [],
   "source": [
    "# search space\n",
    "initial_weights =  list(np.random.uniform(low=0.0, high=1.0, size=(len(X_train[0]),)))\n",
    "threshold_space = [0.3, 0.5, 0.7, 0.8, 0.9]\n",
    "lr_space = [0.02, 0.1]\n",
    "bias_space = [False, True]\n",
    "strategy_space = ['original']"
   ]
  },
  {
   "cell_type": "code",
   "execution_count": null,
   "metadata": {},
   "outputs": [],
   "source": [
    "%%time\n",
    "for w in initial_weights:\n",
    "    for strategy in strategy_space:\n",
    "        for threshold in threshold_space:\n",
    "            for lr in lr_space:\n",
    "                for bias in bias_space:\n",
    "                    # execute experiment\n",
    "                    weights = quantumNeuronFIT(X_train, \n",
    "                                               y_train,\n",
    "                                               init_weight=initial_weights,\n",
    "                                               threshold=threshold,\n",
    "                                               lrParameter=lr, \n",
    "                                               n_epochs=100, \n",
    "                                               trainingBias=bias,\n",
    "                                               phaseEstrategyOperator=strategy,\n",
    "                                               trainingApproaches={'hsgs'})\n",
    "\n",
    "                    results = quantumNeuronPREDICT(X_test, \n",
    "                                                   y_test,\n",
    "                                                   threshold=threshold,\n",
    "                                                   weightVectorsPhaseEncoding = weights[0], \n",
    "                                                   weightVectorsHSGS = weights[1], \n",
    "                                                   repeat=5,\n",
    "                                                   bias=bias, \n",
    "                                                   phaseEstrategyOperator=strategy,\n",
    "                                                   testingApproaches={'hsgs'})\n",
    "\n",
    "\n",
    "                    output['model'].append('HSGS')\n",
    "                    output['lr'].append(lr)\n",
    "                    output['bias'].append(bias)\n",
    "                    output['threshold'].append(threshold)\n",
    "                    output['phase_strategy'].append(strategy)\n",
    "                    output['neuron_outputs'].append(results[1])\n",
    "                    output['initial_weights'].append(w)\n",
    "                    print('\\n')"
   ]
  },
  {
   "cell_type": "code",
   "execution_count": null,
   "metadata": {},
   "outputs": [],
   "source": [
    "experiment_hsgs = pd.DataFrame(output)"
   ]
  },
  {
   "cell_type": "code",
   "execution_count": null,
   "metadata": {},
   "outputs": [],
   "source": [
    "experiment_hsgs.to_csv('data_and_results/XOR/XOR_probs_hsgs.csv', index=False)"
   ]
  },
  {
   "cell_type": "markdown",
   "metadata": {},
   "source": [
    "## Continuously Valued Quantum Neuron Experiments"
   ]
  },
  {
   "cell_type": "code",
   "execution_count": null,
   "metadata": {},
   "outputs": [],
   "source": [
    "output = {'model':[],\n",
    "          'phase_strategy':[],\n",
    "            'bias':[],\n",
    "            'threshold':[],\n",
    "            'lr':[],\n",
    "            'initial_weights':[],\n",
    "            'neuron_outputs':[]}"
   ]
  },
  {
   "cell_type": "code",
   "execution_count": null,
   "metadata": {},
   "outputs": [],
   "source": [
    "# search space\n",
    "initial_weights =  list(np.random.uniform(low=0.0, high=1.0, size=(len(X_test[0]),)))\n",
    "threshold_space = [0.3, 0.5, 0.7, 0.9]\n",
    "lr_space = [0.02, 0.1]\n",
    "bias_space = [False, True]\n",
    "strategy_space = ['original', 'angle', 'radius', 'angleradius']"
   ]
  },
  {
   "cell_type": "code",
   "execution_count": null,
   "metadata": {},
   "outputs": [],
   "source": [
    "%%time\n",
    "for w in initial_weights:\n",
    "    for strategy in strategy_space:\n",
    "        for threshold in threshold_space:\n",
    "            for lr in lr_space:\n",
    "                for bias in bias_space:\n",
    "                    # execute experiment\n",
    "                    weights = quantumNeuronFIT(X_train, \n",
    "                                               y_train,\n",
    "                                               init_weight=initial_weights,\n",
    "                                               threshold=threshold,\n",
    "                                               lrParameter=lr, \n",
    "                                               n_epochs=100, \n",
    "                                               trainingBias=bias,\n",
    "                                               phaseEstrategyOperator=strategy,\n",
    "                                               trainingApproaches={'phase-encoding'})\n",
    "\n",
    "                    results = quantumNeuronPREDICT(X_test, \n",
    "                                                       y_test,\n",
    "                                                       threshold=threshold,\n",
    "                                                       weightVectorsPhaseEncoding = weights[0], \n",
    "                                                       weightVectorsHSGS = weights[1], \n",
    "                                                       repeat=5,\n",
    "                                                       bias=bias, \n",
    "                                                       phaseEstrategyOperator=strategy,\n",
    "                                                       testingApproaches={'phase-encoding'})\n",
    "\n",
    "                    # get experiment results\n",
    "                    output['model'].append('phase-encoding')\n",
    "                    output['lr'].append(lr)\n",
    "                    output['bias'].append(bias)\n",
    "                    output['threshold'].append(threshold)\n",
    "                    output['phase_strategy'].append(strategy)\n",
    "                    output['neuron_outputs'].append(results[0])\n",
    "                    output['initial_weights'].append(w)\n",
    "                    print('\\n')"
   ]
  },
  {
   "cell_type": "code",
   "execution_count": null,
   "metadata": {},
   "outputs": [],
   "source": [
    "experiment_phase = pd.DataFrame(output)"
   ]
  },
  {
   "cell_type": "markdown",
   "metadata": {},
   "source": [
    "### Save Results"
   ]
  },
  {
   "cell_type": "code",
   "execution_count": null,
   "metadata": {},
   "outputs": [],
   "source": [
    "experiments = pd.concat([experiment_hsgs, experiment_phase])"
   ]
  },
  {
   "cell_type": "code",
   "execution_count": null,
   "metadata": {},
   "outputs": [],
   "source": [
    "experiments.to_csv('data_and_results/XOR/experiments_XOR_probs.csv')"
   ]
  },
  {
   "cell_type": "code",
   "execution_count": null,
   "metadata": {},
   "outputs": [],
   "source": [
    "xore = pd.read_csv('data_and_results/XOR/experiments_XOR_encoding_probs.csv')\n",
    "xor = pd.read_csv('data_and_results/XOR/experiments_XOR_probs.csv')"
   ]
  },
  {
   "cell_type": "code",
   "execution_count": null,
   "metadata": {},
   "outputs": [],
   "source": [
    "experiments = pd.concat([xor, xore])"
   ]
  },
  {
   "cell_type": "code",
   "execution_count": null,
   "metadata": {},
   "outputs": [],
   "source": [
    "experiments.to_csv('data_and_results/XOR/experiments_XOR_probs.csv', index=False)"
   ]
  },
  {
   "cell_type": "code",
   "execution_count": null,
   "metadata": {},
   "outputs": [],
   "source": []
  }
 ],
 "metadata": {
  "environment": {
   "name": "common-cpu.m76",
   "type": "gcloud",
   "uri": "gcr.io/deeplearning-platform-release/base-cpu:m76"
  },
  "kernelspec": {
   "display_name": "Python 3",
   "language": "python",
   "name": "python3"
  },
  "language_info": {
   "codemirror_mode": {
    "name": "ipython",
    "version": 3
   },
   "file_extension": ".py",
   "mimetype": "text/x-python",
   "name": "python",
   "nbconvert_exporter": "python",
   "pygments_lexer": "ipython3",
   "version": "3.7.10"
  }
 },
 "nbformat": 4,
 "nbformat_minor": 4
}
