{
 "cells": [
  {
   "cell_type": "code",
   "execution_count": null,
   "id": "dominant-dividend",
   "metadata": {},
   "outputs": [],
   "source": [
    "def realize(input_vector, threshold = 0.5):\n",
    "    ''' transforms binary {1,-1} in random real number\n",
    "        based on greather than threshold for -1 and smaller \n",
    "        than threshold for 1\n",
    "    '''\n",
    "    from random import random\n",
    "    \n",
    "    real_Q10 =[]\n",
    "    for i in input_vector:\n",
    "        if i == -1:\n",
    "            x = 0\n",
    "            while x <= 0.5:\n",
    "                x = random()\n",
    "            real_Q10.append(x)\n",
    "        elif i == 1:\n",
    "            x = 1\n",
    "            while x >= 0.5:\n",
    "                x = random()\n",
    "            real_Q10.append(x)  \n",
    "    return real_Q10"
   ]
  },
  {
   "cell_type": "code",
   "execution_count": null,
   "id": "tribal-benjamin",
   "metadata": {},
   "outputs": [],
   "source": [
    "# save test database\n",
    "with open('data/real_test.json', 'w+') as fp:\n",
    "    json.dump(real_test, fp)"
   ]
  }
 ],
 "metadata": {
  "environment": {
   "name": "common-cpu.mnightly-2021-02-12-debian-10-test",
   "type": "gcloud",
   "uri": "gcr.io/deeplearning-platform-release/base-cpu:mnightly-2021-02-12-debian-10-test"
  },
  "kernelspec": {
   "display_name": "Python 3",
   "language": "python",
   "name": "python3"
  },
  "language_info": {
   "codemirror_mode": {
    "name": "ipython",
    "version": 3
   },
   "file_extension": ".py",
   "mimetype": "text/x-python",
   "name": "python",
   "nbconvert_exporter": "python",
   "pygments_lexer": "ipython3",
   "version": "3.7.9"
  }
 },
 "nbformat": 4,
 "nbformat_minor": 5
}
