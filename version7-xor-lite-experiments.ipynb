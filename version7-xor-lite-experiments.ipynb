{
 "cells": [
  {
   "cell_type": "code",
   "execution_count": 1,
   "metadata": {},
   "outputs": [],
   "source": [
    "from code.neuron import *\n",
    "from code.encodingsource import *\n",
    "from code.hsgs import *\n",
    "from code.classical_neuron import *\n",
    "from code.classical_pso import *\n",
    "from code.sf import *\n",
    "simulator = Aer.get_backend('qasm_simulator')\n",
    "import pandas as pd\n",
    "import numpy as np\n",
    "import matplotlib.pyplot as plt\n",
    "import json\n",
    "\n",
    "from code.experiment_functions import * "
   ]
  },
  {
   "cell_type": "markdown",
   "metadata": {},
   "source": [
    "# Without Bias"
   ]
  },
  {
   "cell_type": "code",
   "execution_count": 2,
   "metadata": {},
   "outputs": [],
   "source": [
    "X_train = [[0,0,1,1] for x in range(10)]+[[0,1,1,0] for x in range(10)]\n",
    "X_test = [[0,0,1,1] for x in range(50)]+[[0,1,1,0] for x in range(50)]\n",
    "y_train = [0 for x in range(10)]+[1 for x in range(10)]\n",
    "y_test =[0 for x in range(50)]+[1 for x in range(50)]"
   ]
  },
  {
   "cell_type": "markdown",
   "metadata": {},
   "source": [
    "### Without Bias"
   ]
  },
  {
   "cell_type": "code",
   "execution_count": null,
   "metadata": {},
   "outputs": [],
   "source": [
    "epoch_errosHSGS, epoch_errosEncodingWeight, epoch_errosEncodingInput, epoch_errosPhaseEncoding  = experiment_TRAIN(X_train, \n",
    "                                                                                                 y_train,\n",
    "                                                                                                 lrParameter=0.2, \n",
    "                                                                                                 n_epochs=40, \n",
    "                                                                                                 trainingBias=False,\n",
    "                                                                                                 error_by_epoch = True,\n",
    "                                                                                                 trainingApproaches={'neuronio-classico', \n",
    "                                                                                                                     'neuronio-classico-bin', \n",
    "                                                                                                                     'hsgs',\n",
    "                                                                                                                     'encoding-weight', \n",
    "                                                                                                                     'encoding-input',\n",
    "                                                                                                                     'phase-encoding'})"
   ]
  },
  {
   "cell_type": "code",
   "execution_count": null,
   "metadata": {},
   "outputs": [],
   "source": [
    "with open('results/version6/error_by_epoch_unbiased.json', 'w+') as fp:\n",
    "    json.dump({'epoch_errosHSGS': epoch_errosHSGS,\n",
    "               'epoch_errosEncodingWeight': epoch_errosEncodingWeight, \n",
    "               'epoch_errosPhaseEncoding': epoch_errosPhaseEncoding, \n",
    "               'epoch_errosEncodingInput': epoch_errosEncodingInput},\n",
    "              fp)"
   ]
  },
  {
   "cell_type": "code",
   "execution_count": 3,
   "metadata": {},
   "outputs": [
    {
     "name": "stdout",
     "output_type": "stream",
     "text": [
      "\n",
      "erro HSGS 1.0\n",
      "erro encoding weight 0.9970703125\n",
      "erro encoding input 0.486328125\n",
      "erro phase encoding 0.783203125\n",
      "\n",
      "erro HSGS 1.0\n",
      "erro encoding weight 0.9970703125\n",
      "erro encoding input 0.486328125\n",
      "erro phase encoding 0.783203125\n",
      "\n",
      "erro HSGS 1.0\n",
      "erro encoding weight 0.9970703125\n",
      "erro encoding input 0.486328125\n",
      "erro phase encoding 0.783203125\n",
      "\n",
      "erro HSGS 1.0\n",
      "erro encoding weight 0.9970703125\n",
      "erro encoding input 0.486328125\n",
      "erro phase encoding 0.783203125\n",
      "\n",
      "erro HSGS 1.0\n",
      "erro encoding weight 0.9970703125\n",
      "erro encoding input 0.46875\n",
      "erro phase encoding 0.783203125\n",
      "\n",
      "erro HSGS 1.0\n",
      "erro encoding weight 0.9970703125\n",
      "erro encoding input 0.46875\n",
      "erro phase encoding 0.783203125\n",
      "\n",
      "erro HSGS 1.0\n",
      "erro encoding weight 0.9970703125\n",
      "erro encoding input 0.4619140625\n",
      "erro phase encoding 0.783203125\n",
      "\n",
      "erro HSGS 1.0\n",
      "erro encoding weight 0.9970703125\n",
      "erro encoding input 0.4619140625\n",
      "erro phase encoding 0.783203125\n",
      "\n",
      "erro HSGS 1.0\n",
      "erro encoding weight 0.9970703125\n",
      "erro encoding input 0.4619140625\n",
      "erro phase encoding 0.783203125\n",
      "\n",
      "erro HSGS 1.0\n",
      "erro encoding weight 0.9970703125\n",
      "erro encoding input 0.4619140625\n",
      "erro phase encoding 0.783203125\n",
      "\n",
      "erro HSGS 1.0\n",
      "erro encoding weight 0.9970703125\n",
      "erro encoding input 0.4619140625\n",
      "erro phase encoding 0.783203125\n",
      "\n",
      "erro HSGS 1.0\n",
      "erro encoding weight 0.9970703125\n",
      "erro encoding input 0.4619140625\n",
      "erro phase encoding 0.783203125\n",
      "\n",
      "erro HSGS 1.0\n",
      "erro encoding weight 0.9970703125\n",
      "erro encoding input 0.4619140625\n",
      "erro phase encoding 0.783203125\n",
      "\n",
      "erro HSGS 1.0\n",
      "erro encoding weight 0.9970703125\n",
      "erro encoding input 0.4619140625\n",
      "erro phase encoding 0.783203125\n",
      "\n",
      "erro HSGS 1.0\n",
      "erro encoding weight 0.9970703125\n",
      "erro encoding input 0.4619140625\n",
      "erro phase encoding 0.783203125\n",
      "\n",
      "erro HSGS 1.0\n",
      "erro encoding weight 0.9970703125\n",
      "erro encoding input 0.4619140625\n",
      "erro phase encoding 0.783203125\n",
      "\n",
      "erro HSGS 1.0\n",
      "erro encoding weight 0.9970703125\n",
      "erro encoding input 0.4619140625\n",
      "erro phase encoding 0.783203125\n",
      "\n",
      "erro HSGS 1.0\n",
      "erro encoding weight 0.9970703125\n",
      "erro encoding input 0.4619140625\n",
      "erro phase encoding 0.783203125\n",
      "\n",
      "erro HSGS 1.0\n",
      "erro encoding weight 0.9970703125\n",
      "erro encoding input 0.4619140625\n",
      "erro phase encoding 0.783203125\n",
      "\n",
      "erro HSGS 1.0\n",
      "erro encoding weight 0.9970703125\n",
      "erro encoding input 0.4619140625\n",
      "erro phase encoding 0.783203125\n",
      "\n",
      "erro HSGS 1.0\n",
      "erro encoding weight 0.9970703125\n",
      "erro encoding input 0.4619140625\n",
      "erro phase encoding 0.783203125\n"
     ]
    }
   ],
   "source": [
    "weightsEncodingWeight, weightsEncodingInput, weightsPhaseEncoding, weightsHSGS = experiment_TRAIN(X_train, \n",
    "                                                                                                y_train,\n",
    "                                                                                                 lrParameter=0.2, \n",
    "                                                                                                 n_epochs=20, \n",
    "                                                                                                 trainingBias=False,\n",
    "                                                                                                 error_by_epoch = False,\n",
    "                                                                                                 trainingApproaches={'neuronio-classico', \n",
    "                                                                                                                     'neuronio-classico-bin', \n",
    "                                                                                                                     'hsgs',\n",
    "                                                                                                                     'encoding-weight', \n",
    "                                                                                                                     'encoding-input',\n",
    "                                                                                                                     'phase-encoding'})"
   ]
  },
  {
   "cell_type": "code",
   "execution_count": 4,
   "metadata": {},
   "outputs": [],
   "source": [
    "weights = [weightsEncodingWeight, \n",
    "          weightsEncodingInput, \n",
    "          weightsPhaseEncoding, \n",
    "          weightsHSGS]"
   ]
  },
  {
   "cell_type": "code",
   "execution_count": 5,
   "metadata": {},
   "outputs": [],
   "source": [
    "with open('results/version7/weights_unbiased_v7.json', 'w+') as fp:\n",
    "    json.dump(weights, fp)"
   ]
  },
  {
   "cell_type": "markdown",
   "metadata": {},
   "source": [
    "#### Test"
   ]
  },
  {
   "cell_type": "code",
   "execution_count": 6,
   "metadata": {},
   "outputs": [],
   "source": [
    "with open('results/version7/weights_unbiased_v7.json') as json_file:\n",
    "    weights = json.load(json_file)"
   ]
  },
  {
   "cell_type": "code",
   "execution_count": 7,
   "metadata": {},
   "outputs": [
    {
     "name": "stdout",
     "output_type": "stream",
     "text": [
      "erro HSGS 0.5\n",
      "erro encoding weight 0.0\n",
      "erro encoding input 0.505\n",
      "erro phase encoding 0.0\n",
      "erro HSGS 0.5\n",
      "erro encoding weight 0.0\n",
      "erro encoding input 0.555\n",
      "erro phase encoding 0.0\n",
      "erro HSGS 0.5\n",
      "erro encoding weight 0.0\n",
      "erro encoding input 0.485\n",
      "erro phase encoding 0.0\n",
      "erro HSGS 0.5\n",
      "erro encoding weight 0.0\n",
      "erro encoding input 0.575\n",
      "erro phase encoding 0.0\n",
      "erro HSGS 0.5\n",
      "erro encoding weight 0.0\n",
      "erro encoding input 0.545\n",
      "erro phase encoding 0.0\n",
      "erro HSGS 0.5\n",
      "erro encoding weight 0.0\n",
      "erro encoding input 0.49\n",
      "erro phase encoding 0.0\n",
      "erro HSGS 0.5\n",
      "erro encoding weight 0.0\n",
      "erro encoding input 0.52\n",
      "erro phase encoding 0.0\n",
      "erro HSGS 0.5\n",
      "erro encoding weight 0.0\n",
      "erro encoding input 0.49\n",
      "erro phase encoding 0.0\n",
      "erro HSGS 0.5\n",
      "erro encoding weight 0.0\n",
      "erro encoding input 0.535\n",
      "erro phase encoding 0.0\n",
      "erro HSGS 0.5\n",
      "erro encoding weight 0.0\n",
      "erro encoding input 0.51\n",
      "erro phase encoding 0.0\n",
      "ERROS HSGS             0.5\n",
      "ERROS ENCODING WEIGHT  0.0\n",
      "ERROS ENCODING INPUT   0.521\n",
      "ERROS PHASE ENCODING   0.0\n"
     ]
    }
   ],
   "source": [
    "resultsBIAS = experiment_TEST(X_test, \n",
    "                              y_test, \n",
    "                              weights[0], \n",
    "                              weights[1], \n",
    "                              weights[2], \n",
    "                              weights[3], \n",
    "                              repeat=10,\n",
    "                              bias=False, \n",
    "                              testingApproaches={'neuronio-classico', 'neuronio-classico-bin', 'hsgs','encoding-weight', 'phase-encoding','encoding-input'})"
   ]
  },
  {
   "cell_type": "code",
   "execution_count": 8,
   "metadata": {},
   "outputs": [],
   "source": [
    "with open('results/version7/experiments_unbiased.json', 'w+') as fp:\n",
    "    json.dump(resultsBIAS, fp)"
   ]
  },
  {
   "cell_type": "markdown",
   "metadata": {},
   "source": [
    "## BIAS"
   ]
  },
  {
   "cell_type": "code",
   "execution_count": null,
   "metadata": {},
   "outputs": [],
   "source": [
    "epoch_errosHSGS, epoch_errosEncodingWeight, epoch_errosEncodingInput, epoch_errosPhaseEncoding  = experiment_TRAIN(X_train, \n",
    "                                                                                                 y_train,\n",
    "                                                                                                 lrParameter=0.2, \n",
    "                                                                                                 n_epochs=40, \n",
    "                                                                                                 trainingBias=True,\n",
    "                                                                                                 error_by_epoch = True,\n",
    "                                                                                                 trainingApproaches={'neuronio-classico', \n",
    "                                                                                                                     'neuronio-classico-bin', \n",
    "                                                                                                                     'hsgs',\n",
    "                                                                                                                     'encoding-weight', \n",
    "                                                                                                                     'encoding-input',\n",
    "                                                                                                                     'phase-encoding'})\n",
    "                                    "
   ]
  },
  {
   "cell_type": "code",
   "execution_count": null,
   "metadata": {},
   "outputs": [],
   "source": [
    "with open('results/version6/error_by_epoch_biased.json', 'w+') as fp:\n",
    "    json.dump({'epoch_errosHSGS': epoch_errosHSGS,\n",
    "               'epoch_errosEncodingWeight': epoch_errosEncodingWeight, \n",
    "               'epoch_errosPhaseEncoding': epoch_errosPhaseEncoding, \n",
    "               'epoch_errosEncodingInput': epoch_errosEncodingInput},\n",
    "              fp)"
   ]
  },
  {
   "cell_type": "code",
   "execution_count": 9,
   "metadata": {},
   "outputs": [
    {
     "name": "stdout",
     "output_type": "stream",
     "text": [
      "\n",
      "erro HSGS 0.587890625\n",
      "erro encoding weight 0.7431640625\n",
      "erro encoding input 0.751953125\n",
      "erro phase encoding 0.5029296875\n",
      "\n",
      "erro HSGS 0.568359375\n",
      "erro encoding weight 0.7431640625\n",
      "erro encoding input 0.751953125\n",
      "erro phase encoding 0.5029296875\n",
      "\n",
      "erro HSGS 0.568359375\n",
      "erro encoding weight 0.7431640625\n",
      "erro encoding input 0.7490234375\n",
      "erro phase encoding 0.5029296875\n",
      "\n",
      "erro HSGS 0.552734375\n",
      "erro encoding weight 0.7431640625\n",
      "erro encoding input 0.7490234375\n",
      "erro phase encoding 0.4912109375\n",
      "\n",
      "erro HSGS 0.552734375\n",
      "erro encoding weight 0.7353515625\n",
      "erro encoding input 0.7490234375\n",
      "erro phase encoding 0.4912109375\n",
      "\n",
      "erro HSGS 0.552734375\n",
      "erro encoding weight 0.7353515625\n",
      "erro encoding input 0.7333984375\n",
      "erro phase encoding 0.4912109375\n",
      "\n",
      "erro HSGS 0.552734375\n",
      "erro encoding weight 0.7353515625\n",
      "erro encoding input 0.7333984375\n",
      "erro phase encoding 0.4912109375\n",
      "\n",
      "erro HSGS 0.552734375\n",
      "erro encoding weight 0.7353515625\n",
      "erro encoding input 0.7333984375\n",
      "erro phase encoding 0.4912109375\n",
      "\n",
      "erro HSGS 0.552734375\n",
      "erro encoding weight 0.7353515625\n",
      "erro encoding input 0.7333984375\n",
      "erro phase encoding 0.4912109375\n",
      "\n",
      "erro HSGS 0.552734375\n",
      "erro encoding weight 0.7353515625\n",
      "erro encoding input 0.7333984375\n",
      "erro phase encoding 0.4912109375\n",
      "\n",
      "erro HSGS 0.552734375\n",
      "erro encoding weight 0.7353515625\n",
      "erro encoding input 0.7333984375\n",
      "erro phase encoding 0.4912109375\n",
      "\n",
      "erro HSGS 0.552734375\n",
      "erro encoding weight 0.7353515625\n",
      "erro encoding input 0.7333984375\n",
      "erro phase encoding 0.4912109375\n",
      "\n",
      "erro HSGS 0.552734375\n",
      "erro encoding weight 0.7353515625\n",
      "erro encoding input 0.7333984375\n",
      "erro phase encoding 0.4912109375\n",
      "\n",
      "erro HSGS 0.5439453125\n",
      "erro encoding weight 0.732421875\n",
      "erro encoding input 0.7333984375\n",
      "erro phase encoding 0.4912109375\n",
      "\n",
      "erro HSGS 0.5439453125\n",
      "erro encoding weight 0.732421875\n",
      "erro encoding input 0.7333984375\n",
      "erro phase encoding 0.4912109375\n",
      "\n",
      "erro HSGS 0.5439453125\n",
      "erro encoding weight 0.732421875\n",
      "erro encoding input 0.7333984375\n",
      "erro phase encoding 0.4912109375\n",
      "\n",
      "erro HSGS 0.5439453125\n",
      "erro encoding weight 0.732421875\n",
      "erro encoding input 0.7333984375\n",
      "erro phase encoding 0.4912109375\n",
      "\n",
      "erro HSGS 0.5419921875\n",
      "erro encoding weight 0.73046875\n",
      "erro encoding input 0.7333984375\n",
      "erro phase encoding 0.4912109375\n",
      "\n",
      "erro HSGS 0.5419921875\n",
      "erro encoding weight 0.73046875\n",
      "erro encoding input 0.7333984375\n",
      "erro phase encoding 0.4912109375\n",
      "\n",
      "erro HSGS 0.5419921875\n",
      "erro encoding weight 0.73046875\n",
      "erro encoding input 0.7333984375\n",
      "erro phase encoding 0.4912109375\n",
      "\n",
      "erro HSGS 0.5419921875\n",
      "erro encoding weight 0.73046875\n",
      "erro encoding input 0.7333984375\n",
      "erro phase encoding 0.4912109375\n"
     ]
    }
   ],
   "source": [
    "weightsEncodingWeight, weightsEncodingInput, weightsPhaseEncoding, weightsHSGS = experiment_TRAIN(X_train, \n",
    "                                                                                                 y_train,\n",
    "                                                                                                 lrParameter=0.2, \n",
    "                                                                                                 n_epochs=20, \n",
    "                                                                                                 trainingBias=True,\n",
    "                                                                                                 error_by_epoch = False,\n",
    "                                                                                                 trainingApproaches={'neuronio-classico', \n",
    "                                                                                                                     'neuronio-classico-bin', \n",
    "                                                                                                                     'hsgs',\n",
    "                                                                                                                     'encoding-weight', \n",
    "                                                                                                                     'encoding-input',\n",
    "                                                                                                                     'phase-encoding'})"
   ]
  },
  {
   "cell_type": "code",
   "execution_count": 10,
   "metadata": {},
   "outputs": [],
   "source": [
    "weights = [weightsEncodingWeight, \n",
    "          weightsEncodingInput, \n",
    "          weightsPhaseEncoding, \n",
    "          weightsHSGS]"
   ]
  },
  {
   "cell_type": "code",
   "execution_count": null,
   "metadata": {},
   "outputs": [],
   "source": [
    "with open('results/version7/weights_biased_v7.json', 'w+') as fp:\n",
    "    json.dump(weights, fp)"
   ]
  },
  {
   "cell_type": "code",
   "execution_count": null,
   "metadata": {},
   "outputs": [
    {
     "name": "stdout",
     "output_type": "stream",
     "text": [
      "erro HSGS 0.51\n",
      "erro encoding weight 0.0\n",
      "erro encoding input 0.455\n",
      "erro phase encoding 0.0\n",
      "erro HSGS 0.485\n",
      "erro encoding weight 0.0\n",
      "erro encoding input 0.53\n",
      "erro phase encoding 0.0\n",
      "erro HSGS 0.505\n",
      "erro encoding weight 0.0\n",
      "erro encoding input 0.505\n",
      "erro phase encoding 0.0\n",
      "erro HSGS 0.48\n",
      "erro encoding weight 0.0\n",
      "erro encoding input 0.51\n",
      "erro phase encoding 0.0\n",
      "erro HSGS 0.435\n",
      "erro encoding weight 0.0\n",
      "erro encoding input 0.53\n",
      "erro phase encoding 0.0\n",
      "erro HSGS 0.45\n",
      "erro encoding weight 0.0\n",
      "erro encoding input 0.435\n",
      "erro phase encoding 0.0\n",
      "erro HSGS 0.515\n",
      "erro encoding weight 0.0\n",
      "erro encoding input 0.46\n",
      "erro phase encoding 0.0\n",
      "erro HSGS 0.525\n",
      "erro encoding weight 0.0\n",
      "erro encoding input 0.495\n",
      "erro phase encoding 0.0\n",
      "erro HSGS 0.54\n",
      "erro encoding weight 0.0\n",
      "erro encoding input 0.49\n",
      "erro phase encoding 0.0\n",
      "erro HSGS 0.43\n",
      "erro encoding weight 0.0\n",
      "erro encoding input 0.495\n",
      "erro phase encoding 0.0\n",
      "ERROS HSGS             0.4875\n",
      "ERROS ENCODING WEIGHT  0.0\n",
      "ERROS ENCODING INPUT   0.49050000000000005\n",
      "ERROS PHASE ENCODING   0.0\n"
     ]
    }
   ],
   "source": [
    "resultsBIAS = experiment_TEST(X_test, \n",
    "                              y_test, \n",
    "                              weights[0], \n",
    "                              weights[1], \n",
    "                              weights[2], \n",
    "                              weights[3], \n",
    "                              repeat=10,\n",
    "                              bias=True, \n",
    "                              testingApproaches={'neuronio-classico', 'neuronio-classico-bin', 'hsgs','encoding-weight', 'phase-encoding','encoding-input'})"
   ]
  },
  {
   "cell_type": "code",
   "execution_count": null,
   "metadata": {},
   "outputs": [],
   "source": [
    "with open('results/version7/experiments_biased.json', 'w+') as fp:\n",
    "    json.dump(resultsBIAS, fp)"
   ]
  },
  {
   "cell_type": "markdown",
   "metadata": {},
   "source": [
    "#### xgboost baseline"
   ]
  },
  {
   "cell_type": "code",
   "execution_count": null,
   "metadata": {},
   "outputs": [],
   "source": [
    "from xgboost import XGBClassifier\n",
    "from sklearn.metrics import accuracy_score"
   ]
  },
  {
   "cell_type": "code",
   "execution_count": null,
   "metadata": {},
   "outputs": [],
   "source": [
    "model = XGBClassifier()\n",
    "model.fit(np.array(X_train), np.array(y_train))"
   ]
  },
  {
   "cell_type": "code",
   "execution_count": null,
   "metadata": {},
   "outputs": [],
   "source": [
    "# make predictions for test data\n",
    "y_pred = model.predict(np.array(X_test))\n",
    "predictions = [round(value) for value in y_pred]\n",
    "\n",
    "accuracy = accuracy_score(np.array(y_test), predictions)\n",
    "print(\"Accuracy: %.2f%%\" % (accuracy * 100.0))"
   ]
  },
  {
   "cell_type": "code",
   "execution_count": null,
   "metadata": {},
   "outputs": [],
   "source": []
  }
 ],
 "metadata": {
  "environment": {
   "name": "r-cpu.3-6.m65",
   "type": "gcloud",
   "uri": "gcr.io/deeplearning-platform-release/r-cpu.3-6:m65"
  },
  "kernelspec": {
   "display_name": "Python 3",
   "language": "python",
   "name": "python3"
  },
  "language_info": {
   "codemirror_mode": {
    "name": "ipython",
    "version": 3
   },
   "file_extension": ".py",
   "mimetype": "text/x-python",
   "name": "python",
   "nbconvert_exporter": "python",
   "pygments_lexer": "ipython3",
   "version": "3.7.10"
  }
 },
 "nbformat": 4,
 "nbformat_minor": 4
}
