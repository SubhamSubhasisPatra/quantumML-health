{
 "cells": [
  {
   "cell_type": "code",
   "execution_count": 1,
   "metadata": {},
   "outputs": [],
   "source": [
    "from code.neuron import *\n",
    "from code.encodingsource import *\n",
    "from code.hsgs import *\n",
    "from code.classical_neuron import *\n",
    "from code.classical_pso import *\n",
    "from code.sf import *\n",
    "simulator = Aer.get_backend('qasm_simulator')\n",
    "import pandas as pd\n",
    "import numpy as np\n",
    "import matplotlib.pyplot as plt\n",
    "import json\n",
    "\n",
    "from code.experiment_functions import * "
   ]
  },
  {
   "cell_type": "markdown",
   "metadata": {},
   "source": [
    "# Without Bias"
   ]
  },
  {
   "cell_type": "code",
   "execution_count": 2,
   "metadata": {},
   "outputs": [],
   "source": [
    "X_train = [[0,0,1,1] for x in range(10)]+[[0,1,1,0] for x in range(10)]\n",
    "X_test = [[0,0,1,1] for x in range(100)]+[[0,1,1,0] for x in range(100)]\n",
    "y_train = [0 for x in range(200)]+[1 for x in range(200)]\n",
    "y_test =[0 for x in range(100)]+[1 for x in range(100)]"
   ]
  },
  {
   "cell_type": "markdown",
   "metadata": {},
   "source": [
    "### Without Bias"
   ]
  },
  {
   "cell_type": "code",
   "execution_count": null,
   "metadata": {},
   "outputs": [],
   "source": [
    "epoch_errosHSGS, epoch_errosEncodingWeight, epoch_errosEncodingInput, epoch_errosPhaseEncoding  = experiment_TRAIN(X_train, \n",
    "                                                                                                 y_train,\n",
    "                                                                                                 lrParameter=0.2, \n",
    "                                                                                                 n_epochs=40, \n",
    "                                                                                                 trainingBias=False,\n",
    "                                                                                                 error_by_epoch = True,\n",
    "                                                                                                 trainingApproaches={'neuronio-classico', \n",
    "                                                                                                                     'neuronio-classico-bin', \n",
    "                                                                                                                     'hsgs',\n",
    "                                                                                                                     'encoding-weight', \n",
    "                                                                                                                     'encoding-input',\n",
    "                                                                                                                     'phase-encoding'})"
   ]
  },
  {
   "cell_type": "code",
   "execution_count": null,
   "metadata": {},
   "outputs": [],
   "source": [
    "with open('results/version6/error_by_epoch_unbiased.json', 'w+') as fp:\n",
    "    json.dump({'epoch_errosHSGS': epoch_errosHSGS,\n",
    "               'epoch_errosEncodingWeight': epoch_errosEncodingWeight, \n",
    "               'epoch_errosPhaseEncoding': epoch_errosPhaseEncoding, \n",
    "               'epoch_errosEncodingInput': epoch_errosEncodingInput},\n",
    "              fp)"
   ]
  },
  {
   "cell_type": "code",
   "execution_count": 3,
   "metadata": {},
   "outputs": [
    {
     "name": "stdout",
     "output_type": "stream",
     "text": [
      "\n",
      "erro HSGS 1.0\n",
      "erro encoding weight 0.455078125\n",
      "erro encoding input 0.484375\n",
      "erro phase encoding 0.576171875\n",
      "\n",
      "erro HSGS 1.0\n",
      "erro encoding weight 0.3984375\n",
      "erro encoding input 0.484375\n",
      "erro phase encoding 0.576171875\n",
      "\n",
      "erro HSGS 1.0\n",
      "erro encoding weight 0.3984375\n",
      "erro encoding input 0.484375\n",
      "erro phase encoding 0.576171875\n",
      "\n",
      "erro HSGS 1.0\n",
      "erro encoding weight 0.3955078125\n",
      "erro encoding input 0.4794921875\n",
      "erro phase encoding 0.576171875\n",
      "\n",
      "erro HSGS 1.0\n",
      "erro encoding weight 0.3955078125\n",
      "erro encoding input 0.47265625\n",
      "erro phase encoding 0.576171875\n",
      "\n",
      "erro HSGS 1.0\n",
      "erro encoding weight 0.3955078125\n",
      "erro encoding input 0.47265625\n",
      "erro phase encoding 0.576171875\n",
      "\n",
      "erro HSGS 1.0\n",
      "erro encoding weight 0.3955078125\n",
      "erro encoding input 0.47265625\n",
      "erro phase encoding 0.576171875\n",
      "\n",
      "erro HSGS 1.0\n",
      "erro encoding weight 0.3955078125\n",
      "erro encoding input 0.4677734375\n",
      "erro phase encoding 0.576171875\n",
      "\n",
      "erro HSGS 1.0\n",
      "erro encoding weight 0.384765625\n",
      "erro encoding input 0.4677734375\n",
      "erro phase encoding 0.576171875\n",
      "\n",
      "erro HSGS 1.0\n",
      "erro encoding weight 0.384765625\n",
      "erro encoding input 0.4677734375\n",
      "erro phase encoding 0.576171875\n",
      "\n",
      "erro HSGS 1.0\n",
      "erro encoding weight 0.384765625\n",
      "erro encoding input 0.4677734375\n",
      "erro phase encoding 0.576171875\n",
      "\n",
      "erro HSGS 1.0\n",
      "erro encoding weight 0.384765625\n",
      "erro encoding input 0.4677734375\n",
      "erro phase encoding 0.576171875\n",
      "\n",
      "erro HSGS 1.0\n",
      "erro encoding weight 0.384765625\n",
      "erro encoding input 0.4677734375\n",
      "erro phase encoding 0.576171875\n",
      "\n",
      "erro HSGS 1.0\n",
      "erro encoding weight 0.384765625\n",
      "erro encoding input 0.4677734375\n",
      "erro phase encoding 0.576171875\n",
      "\n",
      "erro HSGS 1.0\n",
      "erro encoding weight 0.384765625\n",
      "erro encoding input 0.4677734375\n",
      "erro phase encoding 0.576171875\n",
      "\n",
      "erro HSGS 1.0\n",
      "erro encoding weight 0.384765625\n",
      "erro encoding input 0.4677734375\n",
      "erro phase encoding 0.576171875\n",
      "\n",
      "erro HSGS 1.0\n",
      "erro encoding weight 0.373046875\n",
      "erro encoding input 0.4677734375\n",
      "erro phase encoding 0.576171875\n",
      "\n",
      "erro HSGS 1.0\n",
      "erro encoding weight 0.373046875\n",
      "erro encoding input 0.4677734375\n",
      "erro phase encoding 0.576171875\n",
      "\n",
      "erro HSGS 1.0\n",
      "erro encoding weight 0.373046875\n",
      "erro encoding input 0.4677734375\n",
      "erro phase encoding 0.576171875\n",
      "\n",
      "erro HSGS 1.0\n",
      "erro encoding weight 0.373046875\n",
      "erro encoding input 0.4677734375\n",
      "erro phase encoding 0.576171875\n",
      "\n",
      "erro HSGS 1.0\n",
      "erro encoding weight 0.373046875\n",
      "erro encoding input 0.4677734375\n",
      "erro phase encoding 0.576171875\n"
     ]
    }
   ],
   "source": [
    "weightsEncodingWeight, weightsEncodingInput, weightsPhaseEncoding, weightsHSGS = experiment_TRAIN(X_train, \n",
    "                                                                                                y_train,\n",
    "                                                                                                 lrParameter=0.2, \n",
    "                                                                                                 n_epochs=20, \n",
    "                                                                                                 trainingBias=False,\n",
    "                                                                                                 error_by_epoch = False,\n",
    "                                                                                                 trainingApproaches={'neuronio-classico', \n",
    "                                                                                                                     'neuronio-classico-bin', \n",
    "                                                                                                                     'hsgs',\n",
    "                                                                                                                     'encoding-weight', \n",
    "                                                                                                                     'encoding-input',\n",
    "                                                                                                                     'phase-encoding'})"
   ]
  },
  {
   "cell_type": "code",
   "execution_count": 4,
   "metadata": {},
   "outputs": [],
   "source": [
    "weights = [weightsEncodingWeight, \n",
    "          weightsEncodingInput, \n",
    "          weightsPhaseEncoding, \n",
    "          weightsHSGS]"
   ]
  },
  {
   "cell_type": "code",
   "execution_count": 7,
   "metadata": {},
   "outputs": [],
   "source": [
    "with open('results/version7/weights_unbiased_v7.json', 'w+') as fp:\n",
    "    json.dump(weights, fp)"
   ]
  },
  {
   "cell_type": "markdown",
   "metadata": {},
   "source": [
    "#### Test"
   ]
  },
  {
   "cell_type": "code",
   "execution_count": 8,
   "metadata": {},
   "outputs": [],
   "source": [
    "with open('results/version7/weights_unbiased_v7.json') as json_file:\n",
    "    weights = json.load(json_file)"
   ]
  },
  {
   "cell_type": "code",
   "execution_count": 9,
   "metadata": {},
   "outputs": [
    {
     "name": "stdout",
     "output_type": "stream",
     "text": [
      "erro HSGS 0.5\n",
      "erro encoding weight 0.5\n",
      "erro encoding input 0.5\n",
      "erro phase encoding 0.5\n",
      "erro HSGS 0.5\n",
      "erro encoding weight 0.5\n",
      "erro encoding input 0.485\n",
      "erro phase encoding 0.5\n",
      "erro HSGS 0.5\n",
      "erro encoding weight 0.5\n",
      "erro encoding input 0.42\n",
      "erro phase encoding 0.5\n",
      "erro HSGS 0.5\n",
      "erro encoding weight 0.5\n",
      "erro encoding input 0.51\n",
      "erro phase encoding 0.5\n",
      "erro HSGS 0.5\n",
      "erro encoding weight 0.5\n",
      "erro encoding input 0.485\n",
      "erro phase encoding 0.5\n",
      "erro HSGS 0.5\n",
      "erro encoding weight 0.5\n",
      "erro encoding input 0.46\n",
      "erro phase encoding 0.5\n",
      "erro HSGS 0.5\n",
      "erro encoding weight 0.5\n",
      "erro encoding input 0.53\n",
      "erro phase encoding 0.5\n",
      "erro HSGS 0.5\n",
      "erro encoding weight 0.5\n",
      "erro encoding input 0.435\n",
      "erro phase encoding 0.5\n",
      "erro HSGS 0.5\n",
      "erro encoding weight 0.5\n",
      "erro encoding input 0.49\n",
      "erro phase encoding 0.5\n",
      "erro HSGS 0.5\n",
      "erro encoding weight 0.5\n",
      "erro encoding input 0.485\n",
      "erro phase encoding 0.5\n",
      "ERROS HSGS             0.5\n",
      "ERROS ENCODING WEIGHT  0.5\n",
      "ERROS ENCODING INPUT   0.4800000000000001\n",
      "ERROS PHASE ENCODING   0.5\n"
     ]
    }
   ],
   "source": [
    "resultsBIAS = experiment_TEST(X_test, \n",
    "                              y_test, \n",
    "                              weights[0], \n",
    "                              weights[1], \n",
    "                              weights[2], \n",
    "                              weights[3], \n",
    "                              repeat=10,\n",
    "                              bias=False, \n",
    "                              testingApproaches={'neuronio-classico', 'neuronio-classico-bin', 'hsgs','encoding-weight', 'phase-encoding','encoding-input'})"
   ]
  },
  {
   "cell_type": "code",
   "execution_count": 10,
   "metadata": {},
   "outputs": [],
   "source": [
    "with open('results/version7/experiments_unbiased.json', 'w+') as fp:\n",
    "    json.dump(resultsBIAS, fp)"
   ]
  },
  {
   "cell_type": "markdown",
   "metadata": {},
   "source": [
    "## BIAS"
   ]
  },
  {
   "cell_type": "code",
   "execution_count": null,
   "metadata": {},
   "outputs": [],
   "source": [
    "epoch_errosHSGS, epoch_errosEncodingWeight, epoch_errosEncodingInput, epoch_errosPhaseEncoding  = experiment_TRAIN(X_train, \n",
    "                                                                                                 y_train,\n",
    "                                                                                                 lrParameter=0.2, \n",
    "                                                                                                 n_epochs=40, \n",
    "                                                                                                 trainingBias=True,\n",
    "                                                                                                 error_by_epoch = True,\n",
    "                                                                                                 trainingApproaches={'neuronio-classico', \n",
    "                                                                                                                     'neuronio-classico-bin', \n",
    "                                                                                                                     'hsgs',\n",
    "                                                                                                                     'encoding-weight', \n",
    "                                                                                                                     'encoding-input',\n",
    "                                                                                                                     'phase-encoding'})\n",
    "                                    "
   ]
  },
  {
   "cell_type": "code",
   "execution_count": null,
   "metadata": {},
   "outputs": [],
   "source": [
    "with open('results/version6/error_by_epoch_biased.json', 'w+') as fp:\n",
    "    json.dump({'epoch_errosHSGS': epoch_errosHSGS,\n",
    "               'epoch_errosEncodingWeight': epoch_errosEncodingWeight, \n",
    "               'epoch_errosPhaseEncoding': epoch_errosPhaseEncoding, \n",
    "               'epoch_errosEncodingInput': epoch_errosEncodingInput},\n",
    "              fp)"
   ]
  },
  {
   "cell_type": "code",
   "execution_count": 11,
   "metadata": {},
   "outputs": [
    {
     "name": "stdout",
     "output_type": "stream",
     "text": [
      "\n",
      "erro HSGS 1.0\n",
      "erro encoding weight 0.7255859375\n",
      "erro encoding input 0.7373046875\n",
      "erro phase encoding 0.4755859375\n",
      "\n",
      "erro HSGS 1.0\n",
      "erro encoding weight 0.7099609375\n",
      "erro encoding input 0.728515625\n",
      "erro phase encoding 0.4755859375\n",
      "\n",
      "erro HSGS 1.0\n",
      "erro encoding weight 0.70703125\n",
      "erro encoding input 0.728515625\n",
      "erro phase encoding 0.4755859375\n",
      "\n",
      "erro HSGS 1.0\n",
      "erro encoding weight 0.68359375\n",
      "erro encoding input 0.728515625\n",
      "erro phase encoding 0.4755859375\n",
      "\n",
      "erro HSGS 1.0\n",
      "erro encoding weight 0.6796875\n",
      "erro encoding input 0.728515625\n",
      "erro phase encoding 0.4755859375\n",
      "\n",
      "erro HSGS 1.0\n",
      "erro encoding weight 0.6796875\n",
      "erro encoding input 0.728515625\n",
      "erro phase encoding 0.4755859375\n",
      "\n",
      "erro HSGS 1.0\n",
      "erro encoding weight 0.6796875\n",
      "erro encoding input 0.728515625\n",
      "erro phase encoding 0.4658203125\n",
      "\n",
      "erro HSGS 1.0\n",
      "erro encoding weight 0.6796875\n",
      "erro encoding input 0.728515625\n",
      "erro phase encoding 0.4658203125\n",
      "\n",
      "erro HSGS 1.0\n",
      "erro encoding weight 0.6796875\n",
      "erro encoding input 0.7255859375\n",
      "erro phase encoding 0.4658203125\n",
      "\n",
      "erro HSGS 1.0\n",
      "erro encoding weight 0.6796875\n",
      "erro encoding input 0.7255859375\n",
      "erro phase encoding 0.4658203125\n",
      "\n",
      "erro HSGS 1.0\n",
      "erro encoding weight 0.6796875\n",
      "erro encoding input 0.7255859375\n",
      "erro phase encoding 0.4658203125\n",
      "\n",
      "erro HSGS 1.0\n",
      "erro encoding weight 0.6796875\n",
      "erro encoding input 0.7255859375\n",
      "erro phase encoding 0.4658203125\n",
      "\n",
      "erro HSGS 1.0\n",
      "erro encoding weight 0.67578125\n",
      "erro encoding input 0.7255859375\n",
      "erro phase encoding 0.4658203125\n",
      "\n",
      "erro HSGS 1.0\n",
      "erro encoding weight 0.67578125\n",
      "erro encoding input 0.7255859375\n",
      "erro phase encoding 0.4658203125\n",
      "\n",
      "erro HSGS 1.0\n",
      "erro encoding weight 0.67578125\n",
      "erro encoding input 0.7255859375\n",
      "erro phase encoding 0.4658203125\n",
      "\n",
      "erro HSGS 1.0\n",
      "erro encoding weight 0.67578125\n",
      "erro encoding input 0.7255859375\n",
      "erro phase encoding 0.4658203125\n",
      "\n",
      "erro HSGS 1.0\n",
      "erro encoding weight 0.67578125\n",
      "erro encoding input 0.7255859375\n",
      "erro phase encoding 0.4658203125\n",
      "\n",
      "erro HSGS 1.0\n",
      "erro encoding weight 0.67578125\n",
      "erro encoding input 0.7255859375\n",
      "erro phase encoding 0.4658203125\n",
      "\n",
      "erro HSGS 1.0\n",
      "erro encoding weight 0.67578125\n",
      "erro encoding input 0.7255859375\n",
      "erro phase encoding 0.4658203125\n",
      "\n",
      "erro HSGS 1.0\n",
      "erro encoding weight 0.67578125\n",
      "erro encoding input 0.7255859375\n",
      "erro phase encoding 0.4658203125\n",
      "\n",
      "erro HSGS 1.0\n",
      "erro encoding weight 0.67578125\n",
      "erro encoding input 0.7255859375\n",
      "erro phase encoding 0.4658203125\n"
     ]
    }
   ],
   "source": [
    "weightsEncodingWeight, weightsEncodingInput, weightsPhaseEncoding, weightsHSGS = experiment_TRAIN(X_train, \n",
    "                                                                                                 y_train,\n",
    "                                                                                                 lrParameter=0.2, \n",
    "                                                                                                 n_epochs=20, \n",
    "                                                                                                 trainingBias=True,\n",
    "                                                                                                 error_by_epoch = False,\n",
    "                                                                                                 trainingApproaches={'neuronio-classico', \n",
    "                                                                                                                     'neuronio-classico-bin', \n",
    "                                                                                                                     'hsgs',\n",
    "                                                                                                                     'encoding-weight', \n",
    "                                                                                                                     'encoding-input',\n",
    "                                                                                                                     'phase-encoding'})"
   ]
  },
  {
   "cell_type": "code",
   "execution_count": 12,
   "metadata": {},
   "outputs": [],
   "source": [
    "weights = [weightsEncodingWeight, \n",
    "          weightsEncodingInput, \n",
    "          weightsPhaseEncoding, \n",
    "          weightsHSGS]"
   ]
  },
  {
   "cell_type": "code",
   "execution_count": 13,
   "metadata": {},
   "outputs": [],
   "source": [
    "with open('results/version7/weights_biased_v7.json', 'w+') as fp:\n",
    "    json.dump(weights, fp)"
   ]
  },
  {
   "cell_type": "code",
   "execution_count": 14,
   "metadata": {},
   "outputs": [
    {
     "name": "stdout",
     "output_type": "stream",
     "text": [
      "erro HSGS 0.5\n",
      "erro encoding weight 0.5\n",
      "erro encoding input 0.5\n",
      "erro phase encoding 0.605\n",
      "erro HSGS 0.5\n",
      "erro encoding weight 0.5\n",
      "erro encoding input 0.5\n",
      "erro phase encoding 0.6\n",
      "erro HSGS 0.5\n",
      "erro encoding weight 0.5\n",
      "erro encoding input 0.5\n",
      "erro phase encoding 0.645\n",
      "erro HSGS 0.5\n",
      "erro encoding weight 0.5\n",
      "erro encoding input 0.5\n",
      "erro phase encoding 0.63\n",
      "erro HSGS 0.5\n",
      "erro encoding weight 0.5\n",
      "erro encoding input 0.5\n",
      "erro phase encoding 0.615\n",
      "erro HSGS 0.5\n",
      "erro encoding weight 0.5\n",
      "erro encoding input 0.5\n",
      "erro phase encoding 0.625\n",
      "erro HSGS 0.5\n",
      "erro encoding weight 0.5\n",
      "erro encoding input 0.5\n",
      "erro phase encoding 0.6\n",
      "erro HSGS 0.5\n",
      "erro encoding weight 0.5\n",
      "erro encoding input 0.5\n",
      "erro phase encoding 0.6\n",
      "erro HSGS 0.5\n",
      "erro encoding weight 0.5\n",
      "erro encoding input 0.5\n",
      "erro phase encoding 0.62\n",
      "erro HSGS 0.5\n",
      "erro encoding weight 0.5\n",
      "erro encoding input 0.5\n",
      "erro phase encoding 0.625\n",
      "ERROS HSGS             0.5\n",
      "ERROS ENCODING WEIGHT  0.5\n",
      "ERROS ENCODING INPUT   0.5\n",
      "ERROS PHASE ENCODING   0.6165\n"
     ]
    }
   ],
   "source": [
    "resultsBIAS = experiment_TEST(X_test, \n",
    "                              y_test, \n",
    "                              weights[0], \n",
    "                              weights[1], \n",
    "                              weights[2], \n",
    "                              weights[3], \n",
    "                              repeat=10,\n",
    "                              bias=True, \n",
    "                              testingApproaches={'neuronio-classico', 'neuronio-classico-bin', 'hsgs','encoding-weight', 'phase-encoding','encoding-input'})"
   ]
  },
  {
   "cell_type": "code",
   "execution_count": 15,
   "metadata": {},
   "outputs": [],
   "source": [
    "with open('results/version7/experiments_biased.json', 'w+') as fp:\n",
    "    json.dump(resultsBIAS, fp)"
   ]
  },
  {
   "cell_type": "markdown",
   "metadata": {},
   "source": [
    "#### xgboost baseline"
   ]
  },
  {
   "cell_type": "code",
   "execution_count": null,
   "metadata": {},
   "outputs": [],
   "source": [
    "from xgboost import XGBClassifier\n",
    "from sklearn.metrics import accuracy_score"
   ]
  },
  {
   "cell_type": "code",
   "execution_count": null,
   "metadata": {},
   "outputs": [],
   "source": [
    "model = XGBClassifier()\n",
    "model.fit(np.array(X_train), np.array(y_train))"
   ]
  },
  {
   "cell_type": "code",
   "execution_count": null,
   "metadata": {},
   "outputs": [],
   "source": [
    "# make predictions for test data\n",
    "y_pred = model.predict(np.array(X_test))\n",
    "predictions = [round(value) for value in y_pred]\n",
    "\n",
    "accuracy = accuracy_score(np.array(y_test), predictions)\n",
    "print(\"Accuracy: %.2f%%\" % (accuracy * 100.0))"
   ]
  },
  {
   "cell_type": "code",
   "execution_count": null,
   "metadata": {},
   "outputs": [],
   "source": []
  }
 ],
 "metadata": {
  "environment": {
   "name": "r-cpu.3-6.m65",
   "type": "gcloud",
   "uri": "gcr.io/deeplearning-platform-release/r-cpu.3-6:m65"
  },
  "kernelspec": {
   "display_name": "Python 3",
   "language": "python",
   "name": "python3"
  },
  "language_info": {
   "codemirror_mode": {
    "name": "ipython",
    "version": 3
   },
   "file_extension": ".py",
   "mimetype": "text/x-python",
   "name": "python",
   "nbconvert_exporter": "python",
   "pygments_lexer": "ipython3",
   "version": "3.7.10"
  }
 },
 "nbformat": 4,
 "nbformat_minor": 4
}
