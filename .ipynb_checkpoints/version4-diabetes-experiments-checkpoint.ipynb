{
 "cells": [
  {
   "cell_type": "code",
   "execution_count": 1,
   "metadata": {},
   "outputs": [],
   "source": [
    "from code.neuron import *\n",
    "from code.encodingsource import *\n",
    "from code.hsgs import *\n",
    "from code.classical_neuron import *\n",
    "from code.classical_pso import *\n",
    "from code.sf import *\n",
    "simulator = Aer.get_backend('qasm_simulator')\n",
    "import pandas as pd\n",
    "import numpy as np\n",
    "import matplotlib.pyplot as plt\n",
    "import json\n",
    "\n",
    "from code.experiment_functions import *"
   ]
  },
  {
   "cell_type": "code",
   "execution_count": 2,
   "metadata": {},
   "outputs": [],
   "source": [
    "diabetes = pd.read_csv('data/diabetes.csv')"
   ]
  },
  {
   "cell_type": "code",
   "execution_count": 3,
   "metadata": {},
   "outputs": [],
   "source": [
    "# normalization 0-1\n",
    "for i in diabetes.columns:\n",
    "    diabetes[i] = (diabetes[i] - diabetes[i].min()) / (diabetes[i].max() - diabetes[i].min())"
   ]
  },
  {
   "cell_type": "code",
   "execution_count": 4,
   "metadata": {},
   "outputs": [],
   "source": [
    "# split in test and train data\n",
    "from sklearn.model_selection import train_test_split\n",
    "\n",
    "X_train, X_test, y_train, y_test = train_test_split(diabetes.drop('Outcome',axis=1), diabetes['Outcome'])"
   ]
  },
  {
   "cell_type": "code",
   "execution_count": 5,
   "metadata": {},
   "outputs": [],
   "source": [
    "X_train = X_train.values.tolist()\n",
    "X_test = X_test.values.tolist()\n",
    "y_train = y_train.values.tolist()\n",
    "y_test = y_test.values.tolist()"
   ]
  },
  {
   "cell_type": "code",
   "execution_count": 6,
   "metadata": {},
   "outputs": [],
   "source": [
    "y_train = [int(x) for x in y_train]\n",
    "y_test =  [int(x) for x in y_test]"
   ]
  },
  {
   "cell_type": "code",
   "execution_count": 7,
   "metadata": {},
   "outputs": [],
   "source": [
    "\"\"\"\n",
    "with open('results/version4/train_data.json', 'w+') as fp:\n",
    "    json.dump([X_train, y_train], fp)\n",
    "    \n",
    "with open('results/version4/test_data.json', 'w+') as fp:\n",
    "    json.dump([X_test, y_test], fp)\n",
    "\"\"\""
   ]
  },
  {
   "cell_type": "code",
   "execution_count": 8,
   "metadata": {},
   "outputs": [],
   "source": [
    "with open('results/version4/train_data.json') as json_file:\n",
    "    X_train = json.load(json_file)[0]\n",
    "\n",
    "with open('results/version4/train_data.json') as json_file:\n",
    "    y_train = json.load(json_file)[1]\n",
    "    \n",
    "with open('results/version4/test_data.json') as json_file:\n",
    "    X_test = json.load(json_file)[0]\n",
    "\n",
    "with open('results/version4/test_data.json') as json_file:\n",
    "    y_test = json.load(json_file)[1]"
   ]
  },
  {
   "cell_type": "markdown",
   "metadata": {},
   "source": [
    "## Unbiased"
   ]
  },
  {
   "cell_type": "code",
   "execution_count": null,
   "metadata": {},
   "outputs": [],
   "source": [
    "epoch_errosHSGS, epoch_errosEncodingWeight, epoch_errosEncodingInput, epoch_errosPhaseEncoding  = experiment_TRAIN(X_train, \n",
    "                                                                                         y_train,\n",
    "                                                                                         lrParameter=0.2, \n",
    "                                                                                         n_epochs=20, \n",
    "                                                                                         trainingBias=False,\n",
    "                                                                                         error_by_epoch = True,\n",
    "                                                                                         trainingApproaches={'neuronio-classico', 'neuronio-classico-bin', 'hsgs','encoding-weight', 'encoding-input', 'phase-encoding'})"
   ]
  },
  {
   "cell_type": "code",
   "execution_count": null,
   "metadata": {},
   "outputs": [],
   "source": [
    "with open('results/version4/error_by_epoch_unbiased.json', 'w+') as fp:\n",
    "    json.dump({'epoch_errosHSGS': epoch_errosHSGS,\n",
    "               'epoch_errosEncodingWeight': epoch_errosEncodingWeight, \n",
    "               'epoch_errosPhaseEncoding': epoch_errosPhaseEncoding, \n",
    "               'epoch_errosEncodingInput': epoch_errosEncodingInput},\n",
    "              fp)"
   ]
  },
  {
   "cell_type": "code",
   "execution_count": null,
   "metadata": {},
   "outputs": [],
   "source": [
    "weightsEncodingWeight, weightsEncodingInput, weightsPhaseEncoding, weightsHSGS = experiment_TRAIN(X_train, \n",
    "                                                                                                 y_train,\n",
    "                                                                                                 lrParameter=0.2, \n",
    "                                                                                                 n_epochs=10, \n",
    "                                                                                                 trainingBias=False,\n",
    "                                                                                                 trainingApproaches={'neuronio-classico', 'neuronio-classico-bin', 'hsgs','encoding-weight', 'encoding-input', 'phase-encoding'})"
   ]
  },
  {
   "cell_type": "code",
   "execution_count": null,
   "metadata": {},
   "outputs": [],
   "source": [
    "weights = [weightsEncodingWeight, \n",
    "          weightsEncodingInput, \n",
    "          weightsPhaseEncoding, \n",
    "          weightsHSGS]"
   ]
  },
  {
   "cell_type": "code",
   "execution_count": null,
   "metadata": {},
   "outputs": [],
   "source": [
    "with open('results/version4/weights_unbiased_v4.json', 'w+') as fp:\n",
    "    json.dump(weights, fp)"
   ]
  },
  {
   "cell_type": "markdown",
   "metadata": {},
   "source": [
    "#### Test"
   ]
  },
  {
   "cell_type": "code",
   "execution_count": null,
   "metadata": {},
   "outputs": [],
   "source": [
    "with open('results/version4/weights_unbiased_v4.json') as json_file:\n",
    "    weights = json.load(json_file)"
   ]
  },
  {
   "cell_type": "code",
   "execution_count": null,
   "metadata": {},
   "outputs": [],
   "source": [
    "resultsBIAS = experiment_TEST(X_test, \n",
    "                              y_test, \n",
    "                              weights[0], \n",
    "                              weights[1], \n",
    "                              weights[2], \n",
    "                              weights[3],\n",
    "                              repeat=5,\n",
    "                              bias=False, \n",
    "                              testingApproaches={'neuronio-classico', 'neuronio-classico-bin', 'hsgs','encoding-weight', 'phase-encoding','encoding-input'})"
   ]
  },
  {
   "cell_type": "code",
   "execution_count": null,
   "metadata": {},
   "outputs": [],
   "source": [
    "with open('results/version4/experiments_unbiased.json', 'w+') as fp:\n",
    "    json.dump(resultsBIAS, fp)"
   ]
  },
  {
   "cell_type": "markdown",
   "metadata": {},
   "source": [
    "##### save results as dataframe"
   ]
  },
  {
   "cell_type": "code",
   "execution_count": null,
   "metadata": {},
   "outputs": [],
   "source": [
    "def readAndResults(i):\n",
    "    with open('results/'+i) as f:\n",
    "        data = json.load(f)\n",
    "\n",
    "    erros = ['error_HSGS', 'error_encoding_weight', 'error_encoding_input', 'error_phase_encoding']\n",
    "    new_data = {'error':[], 'model':[]}\n",
    "\n",
    "    for erro in erros:\n",
    "        new_data['error'] = new_data['error'] + data[erro] \n",
    "        new_data['model'] = new_data['model'] +  ( (erro+' ') * len(data[erro])).split(' ')[:-1]  \n",
    "\n",
    "    new_data = pd.DataFrame(new_data)\n",
    "\n",
    "    new_data.to_csv('results/'+i[:-5]+'_dataframe.csv', index=False)\n",
    "    \n",
    "    return new_data"
   ]
  },
  {
   "cell_type": "code",
   "execution_count": null,
   "metadata": {},
   "outputs": [],
   "source": [
    "readAndResults('version4/experiments_unbiased.json')"
   ]
  },
  {
   "cell_type": "markdown",
   "metadata": {},
   "source": [
    "## Biased"
   ]
  },
  {
   "cell_type": "code",
   "execution_count": null,
   "metadata": {},
   "outputs": [],
   "source": [
    "epoch_errosHSGS, epoch_errosEncodingWeight, epoch_errosEncodingInput, epoch_errosPhaseEncoding  = experiment_TRAIN(X_train, \n",
    "                                                                                                 y_train,\n",
    "                                                                                                 lrParameter=0.2, \n",
    "                                                                                                 n_epochs=20, \n",
    "                                                                                                 trainingBias=True,\n",
    "                                                                                                 error_by_epoch = True,\n",
    "                                                                                                 trainingApproaches={'neuronio-classico', \n",
    "                                                                                                                     'neuronio-classico-bin', \n",
    "                                                                                                                     'hsgs',\n",
    "                                                                                                                     'encoding-weight', \n",
    "                                                                                                                     'encoding-input',\n",
    "                                                                                                                     'phase-encoding'})"
   ]
  },
  {
   "cell_type": "code",
   "execution_count": null,
   "metadata": {},
   "outputs": [],
   "source": [
    "with open('results/version4/error_by_epoch_biased.json', 'w+') as fp:\n",
    "    json.dump({'epoch_errosHSGS': epoch_errosHSGS,\n",
    "               'epoch_errosEncodingWeight': epoch_errosEncodingWeight, \n",
    "               'epoch_errosPhaseEncoding': epoch_errosPhaseEncoding, \n",
    "               'epoch_errosEncodingInput': epoch_errosEncodingInput},\n",
    "              fp)"
   ]
  },
  {
   "cell_type": "code",
   "execution_count": null,
   "metadata": {},
   "outputs": [],
   "source": [
    "weightsEncodingWeight, weightsEncodingInput, weightsPhaseEncoding, weightsHSGS = experiment_TRAIN(X_train, \n",
    "                                                                                                             y_train,\n",
    "                                                                                                             lrParameter=0.2, \n",
    "                                                                                                             n_epochs=10, \n",
    "                                                                                                             trainingBias=True,\n",
    "                                                                                                             trainingApproaches={'neuronio-classico', \n",
    "                                                                                                                                 'neuronio-classico-bin', \n",
    "                                                                                                                                 'hsgs',\n",
    "                                                                                                                                 'encoding-weight', \n",
    "                                                                                                                                 'encoding-input', \n",
    "                                                                                                                                 'phase-encoding'})"
   ]
  },
  {
   "cell_type": "code",
   "execution_count": null,
   "metadata": {},
   "outputs": [],
   "source": [
    "weights = [weightsEncodingWeight, \n",
    "          weightsEncodingInput, \n",
    "          weightsPhaseEncoding, \n",
    "          weightsHSGS]"
   ]
  },
  {
   "cell_type": "code",
   "execution_count": null,
   "metadata": {},
   "outputs": [],
   "source": [
    "with open('results/version4/weights_biased_v4.json', 'w+') as fp:\n",
    "    json.dump(weights, fp)"
   ]
  },
  {
   "cell_type": "markdown",
   "metadata": {},
   "source": [
    "##### test"
   ]
  },
  {
   "cell_type": "code",
   "execution_count": null,
   "metadata": {},
   "outputs": [],
   "source": [
    "with open('results/version4/weights_biased_v4.json') as json_file:\n",
    "    weights = json.load(json_file)"
   ]
  },
  {
   "cell_type": "code",
   "execution_count": null,
   "metadata": {},
   "outputs": [],
   "source": [
    "resultsBIAS = experiment_TEST(X_test, \n",
    "                              y_test, \n",
    "                              weights[0], \n",
    "                              weights[1], \n",
    "                              weights[2], \n",
    "                              weights[3], \n",
    "                              repeat=5,\n",
    "                              bias=True, \n",
    "                              testingApproaches={'neuronio-classico', 'neuronio-classico-bin', 'hsgs','encoding-weight', 'phase-encoding','encoding-input'})"
   ]
  },
  {
   "cell_type": "code",
   "execution_count": null,
   "metadata": {},
   "outputs": [],
   "source": [
    "with open('results/version4/experiments_biased.json', 'w+') as fp:\n",
    "    json.dump(resultsBIAS, fp)"
   ]
  },
  {
   "cell_type": "markdown",
   "metadata": {},
   "source": [
    "##### save result as dataframe"
   ]
  },
  {
   "cell_type": "code",
   "execution_count": null,
   "metadata": {},
   "outputs": [],
   "source": [
    "readAndResults('version4/experiments_biased.json')"
   ]
  },
  {
   "cell_type": "code",
   "execution_count": null,
   "metadata": {},
   "outputs": [],
   "source": []
  }
 ],
 "metadata": {
  "environment": {
   "name": "common-cpu.mnightly-2021-02-12-debian-10-test",
   "type": "gcloud",
   "uri": "gcr.io/deeplearning-platform-release/base-cpu:mnightly-2021-02-12-debian-10-test"
  },
  "kernelspec": {
   "display_name": "Python 3",
   "language": "python",
   "name": "python3"
  },
  "language_info": {
   "codemirror_mode": {
    "name": "ipython",
    "version": 3
   },
   "file_extension": ".py",
   "mimetype": "text/x-python",
   "name": "python",
   "nbconvert_exporter": "python",
   "pygments_lexer": "ipython3",
   "version": "3.7.9"
  }
 },
 "nbformat": 4,
 "nbformat_minor": 4
}
