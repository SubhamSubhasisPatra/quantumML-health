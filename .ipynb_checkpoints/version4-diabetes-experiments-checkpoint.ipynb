{
 "cells": [
  {
   "cell_type": "code",
   "execution_count": 1,
   "metadata": {},
   "outputs": [],
   "source": [
    "from code.neuron import *\n",
    "from code.encodingsource import *\n",
    "from code.hsgs import *\n",
    "from code.classical_neuron import *\n",
    "from code.classical_pso import *\n",
    "from code.sf import *\n",
    "simulator = Aer.get_backend('qasm_simulator')\n",
    "import pandas as pd\n",
    "import numpy as np\n",
    "import matplotlib.pyplot as plt\n",
    "import json\n",
    "\n",
    "from code.experiment_functions import *"
   ]
  },
  {
   "cell_type": "code",
   "execution_count": null,
   "metadata": {},
   "outputs": [],
   "source": [
    "diabetes = pd.read_csv('data/diabetes.csv')"
   ]
  },
  {
   "cell_type": "code",
   "execution_count": null,
   "metadata": {},
   "outputs": [],
   "source": [
    "# normalization 0-1\n",
    "for i in diabetes.columns:\n",
    "    diabetes[i] = (diabetes[i] - diabetes[i].min()) / (diabetes[i].max() - diabetes[i].min())"
   ]
  },
  {
   "cell_type": "code",
   "execution_count": null,
   "metadata": {},
   "outputs": [],
   "source": [
    "drop_indices = np.random.choice(diabetes.index, 368, replace=False)\n",
    "diabetes = diabetes.drop(drop_indices)"
   ]
  },
  {
   "cell_type": "code",
   "execution_count": null,
   "metadata": {},
   "outputs": [],
   "source": [
    "# split in test and train data\n",
    "from sklearn.model_selection import train_test_split\n",
    "\n",
    "X_train, X_test, y_train, y_test = train_test_split(diabetes.drop('Outcome',axis=1), diabetes['Outcome'], test_size=0.2)"
   ]
  },
  {
   "cell_type": "code",
   "execution_count": null,
   "metadata": {},
   "outputs": [],
   "source": [
    "X_train[X_train == 0] = 0.000001\n",
    "X_test[X_test == 0] = 0.000001"
   ]
  },
  {
   "cell_type": "code",
   "execution_count": null,
   "metadata": {},
   "outputs": [],
   "source": [
    "X_train = X_train.values.tolist()\n",
    "X_test = X_test.values.tolist()\n",
    "y_train = y_train.values.tolist()\n",
    "y_test = y_test.values.tolist()"
   ]
  },
  {
   "cell_type": "code",
   "execution_count": null,
   "metadata": {},
   "outputs": [],
   "source": [
    "y_train = [int(x) for x in y_train]\n",
    "y_test =  [int(x) for x in y_test]"
   ]
  },
  {
   "cell_type": "code",
   "execution_count": null,
   "metadata": {},
   "outputs": [],
   "source": [
    "\"\"\"\n",
    "with open('results/version4/train_data.json', 'w+') as fp:\n",
    "    json.dump([X_train, y_train], fp)\n",
    "    \n",
    "with open('results/version4/test_data.json', 'w+') as fp:\n",
    "    json.dump([X_test, y_test], fp)\n",
    "\"\"\""
   ]
  },
  {
   "cell_type": "code",
   "execution_count": 2,
   "metadata": {},
   "outputs": [],
   "source": [
    "with open('results/version4/train_data.json') as json_file:\n",
    "    X_train = json.load(json_file)[0]\n",
    "\n",
    "with open('results/version4/train_data.json') as json_file:\n",
    "    y_train = json.load(json_file)[1]\n",
    "    \n",
    "with open('results/version4/test_data.json') as json_file:\n",
    "    X_test = json.load(json_file)[0]\n",
    "\n",
    "with open('results/version4/test_data.json') as json_file:\n",
    "    y_test = json.load(json_file)[1]"
   ]
  },
  {
   "cell_type": "markdown",
   "metadata": {},
   "source": [
    "## Test"
   ]
  },
  {
   "cell_type": "code",
   "execution_count": null,
   "metadata": {},
   "outputs": [],
   "source": [
    "weights = quantumNeuronFIT(X_train, \n",
    "                           y_train,\n",
    "                           init_weight = [0.5, 0.5, 0.5, 0.5, 0.5, 0.5, 0.5, 0.5],\n",
    "                           threshold=0.7,\n",
    "                           lrParameter=0.1, \n",
    "                           n_epochs=20, \n",
    "                           trainingBias=False,\n",
    "                           epoch_results=True,\n",
    "                           phaseEstrategyOperator='original',\n",
    "                           trainingApproaches={'hsgs','phase-encoding'})"
   ]
  },
  {
   "cell_type": "code",
   "execution_count": null,
   "metadata": {},
   "outputs": [],
   "source": [
    "results = quantumNeuronPREDICT(X_test, \n",
    "                                   y_test,\n",
    "                                   threshold=0.7,\n",
    "                                   weightVectorsPhaseEncoding = weights[0], \n",
    "                                   weightVectorsHSGS = weights[1], \n",
    "                                   repeat=10,\n",
    "                                   bias=False, \n",
    "                                   phaseEstrategyOperator='original',\n",
    "                                   testingApproaches={'hsgs', 'phase-encoding'})"
   ]
  },
  {
   "cell_type": "code",
   "execution_count": null,
   "metadata": {},
   "outputs": [],
   "source": [
    "print('phase avg_error', results[0])\n",
    "print('phase weights', results[2])\n",
    "\n",
    "print('\\HSGS avg_error', results[3])\n",
    "print('HSGS weights', results[5])\n",
    "\n",
    "#print('phase neuron_outputs: ', results[1])\n",
    "#print('HSGS neuron_outputs: ', results[4])\n",
    "#print('targets: ', results[6])\n",
    "#print('examples: ', results[7])"
   ]
  },
  {
   "cell_type": "markdown",
   "metadata": {},
   "source": [
    "## Search"
   ]
  },
  {
   "cell_type": "code",
   "execution_count": 6,
   "metadata": {},
   "outputs": [],
   "source": [
    "output = {'model':[],\n",
    "          'phase_strategy':[],\n",
    "            'bias':[],\n",
    "            'threshold':[],\n",
    "            'lr':[],\n",
    "            'avg_error':[],\n",
    "            'trained_weights':[],\n",
    "            'initial_weights':[],\n",
    "            'neuron_outputs':[]}"
   ]
  },
  {
   "cell_type": "code",
   "execution_count": 7,
   "metadata": {},
   "outputs": [],
   "source": [
    "# search space\n",
    "\n",
    "initial_weights = [\n",
    "  [0.5, 0.5, 0.5, 0.5, 0.5, 0.5, 0.5, 0.5],\n",
    " #[0.9091283748867313, 0.13316944575925016],\n",
    " #[0.5234125806737658, 0.7504098591020348],\n",
    " #[0.6690132408839138, 0.4677528597449807],\n",
    " #[0.20484909029779508, 0.49076588909107044],\n",
    " #[0.372384689385059, 0.4774011548515884]\n",
    "]\n",
    "\n",
    "threshold_space = [0.5, 0.8, 0.2]\n",
    "lr_space = [0.01, 0.05, 0.1]\n",
    "bias_space = [False, True]\n",
    "strategy_space = ['radius', 'angleradius', 'original', 'angle']"
   ]
  },
  {
   "cell_type": "code",
   "execution_count": null,
   "metadata": {},
   "outputs": [
    {
     "name": "stdout",
     "output_type": "stream",
     "text": [
      "lrParameter:  0.01\n",
      "threshold:  0.5\n",
      "trainingBias:  False\n",
      "phaseEstrategyOperator:  radius\n"
     ]
    }
   ],
   "source": [
    "%%time\n",
    "for w in initial_weights:\n",
    "    for strategy in strategy_space:\n",
    "        for threshold in threshold_space:\n",
    "            for lr in lr_space:\n",
    "                for bias in bias_space:\n",
    "                    # execute experiment\n",
    "                    weights = quantumNeuronFIT(X_train, \n",
    "                                               y_train,\n",
    "                                               init_weight=w,\n",
    "                                               threshold=threshold,\n",
    "                                               lrParameter=lr, \n",
    "                                               n_epochs=20, \n",
    "                                               trainingBias=bias,\n",
    "                                               epoch_results=True,\n",
    "                                               phaseEstrategyOperator=strategy,\n",
    "                                               trainingApproaches={'hsgs','phase-encoding'})\n",
    "\n",
    "                    results = quantumNeuronPREDICT(X_test, \n",
    "                                                       y_test,\n",
    "                                                       threshold=threshold,\n",
    "                                                       weightVectorsPhaseEncoding = weights[0], \n",
    "                                                       weightVectorsHSGS = weights[1], \n",
    "                                                       repeat=5,\n",
    "                                                       bias=bias, \n",
    "                                                       phaseEstrategyOperator=strategy,\n",
    "                                                       testingApproaches={'hsgs', 'phase-encoding'})\n",
    "\n",
    "                    # get experiment results\n",
    "                    output['model'].append('phase-encoding')\n",
    "                    output['lr'].append(lr)\n",
    "                    output['bias'].append(bias)\n",
    "                    output['threshold'].append(threshold)\n",
    "                    output['phase_strategy'].append(strategy)\n",
    "                    output['avg_error'].append(results[0])\n",
    "                    output['neuron_outputs'].append(results[1])\n",
    "                    output['trained_weights'].append(results[2])\n",
    "                    output['initial_weights'].append(w)\n",
    "\n",
    "                    output['model'].append('HSGS')\n",
    "                    output['lr'].append(lr)\n",
    "                    output['bias'].append(bias)\n",
    "                    output['threshold'].append(threshold)\n",
    "                    output['phase_strategy'].append(strategy)\n",
    "                    output['avg_error'].append(results[3])\n",
    "                    output['neuron_outputs'].append(results[4])\n",
    "                    output['trained_weights'].append(results[5])\n",
    "                    output['initial_weights'].append(w)\n",
    "                    print('\\n')\n"
   ]
  },
  {
   "cell_type": "code",
   "execution_count": null,
   "metadata": {},
   "outputs": [],
   "source": [
    "experiment_data = pd.DataFrame(output)\n",
    "experiment_data"
   ]
  },
  {
   "cell_type": "code",
   "execution_count": null,
   "metadata": {},
   "outputs": [],
   "source": [
    "experiment_data.to_csv('results/experiment_diabetes_radius.csv')"
   ]
  },
  {
   "cell_type": "code",
   "execution_count": null,
   "metadata": {},
   "outputs": [],
   "source": []
  }
 ],
 "metadata": {
  "environment": {
   "name": "r-cpu.3-6.m65",
   "type": "gcloud",
   "uri": "gcr.io/deeplearning-platform-release/r-cpu.3-6:m65"
  },
  "kernelspec": {
   "display_name": "Python 3",
   "language": "python",
   "name": "python3"
  },
  "language_info": {
   "codemirror_mode": {
    "name": "ipython",
    "version": 3
   },
   "file_extension": ".py",
   "mimetype": "text/x-python",
   "name": "python",
   "nbconvert_exporter": "python",
   "pygments_lexer": "ipython3",
   "version": "3.7.10"
  }
 },
 "nbformat": 4,
 "nbformat_minor": 4
}
