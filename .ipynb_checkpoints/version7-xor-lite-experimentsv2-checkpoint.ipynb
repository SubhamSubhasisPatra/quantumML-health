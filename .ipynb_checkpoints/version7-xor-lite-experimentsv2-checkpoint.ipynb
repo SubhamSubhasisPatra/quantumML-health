{
 "cells": [
  {
   "cell_type": "code",
   "execution_count": 1,
   "metadata": {},
   "outputs": [],
   "source": [
    "from code.neuron import *\n",
    "from code.encodingsource import *\n",
    "from code.hsgs import *\n",
    "from code.classical_neuron import *\n",
    "from code.classical_pso import *\n",
    "from code.sf import *\n",
    "simulator = Aer.get_backend('qasm_simulator')\n",
    "import pandas as pd\n",
    "import numpy as np\n",
    "import matplotlib.pyplot as plt\n",
    "import json\n",
    "\n",
    "from code.experiment_functions import * "
   ]
  },
  {
   "cell_type": "code",
   "execution_count": 2,
   "metadata": {},
   "outputs": [],
   "source": [
    "X_train = [[-1, -1],  [-1,1], [1,1], [1,-1]]\n",
    "y_train = [1, 0, 1, 0]\n",
    "\n",
    "X_test =  [[-1, -1],  [-1,1], [1,1], [1,-1]]\n",
    "y_test =  [1, 0, 1, 0]"
   ]
  },
  {
   "cell_type": "code",
   "execution_count": 3,
   "metadata": {},
   "outputs": [],
   "source": [
    "with open('results/version7/train_xor.json', 'w+') as fp:\n",
    "    json.dump([X_train, y_train], fp)\n",
    "    \n",
    "with open('results/version7/test_xor.json', 'w+') as fp:\n",
    "    json.dump([X_test, y_test], fp)"
   ]
  },
  {
   "cell_type": "markdown",
   "metadata": {},
   "source": [
    "# Search"
   ]
  },
  {
   "cell_type": "code",
   "execution_count": 4,
   "metadata": {},
   "outputs": [
    {
     "name": "stdout",
     "output_type": "stream",
     "text": [
      "[0.5, 0.5]\n",
      "lrParameter:  0.1\n",
      "threshold:  0.3\n",
      "trainingBias:  False\n",
      "phaseEstrategyOperator:  angleradius\n",
      "[0.5, 0.5]\n",
      "[0.5, 0.5]\n",
      "EPOCH 0\n",
      "EXEMPLO 0\n",
      "before circuit:\n",
      " weight: [0.5, 0.5] \n",
      "input: [1.4142135623730951, 0.7853981633974483]\n",
      "before delta:\n",
      " weight: [0.5, 0.5] \n",
      "input: [1.4142135623730951, 0.7853981633974483]\n",
      "out: 0.29541015625 \n",
      "\n",
      "EXEMPLO 1\n",
      "before circuit:\n",
      " weight: [0.5, 0.5] \n",
      "input: [1.4142135623730951, -0.7853981633974483]\n",
      "before delta:\n",
      " weight: [0.5, 0.5] \n",
      "input: [1.4142135623730951, -0.7853981633974483]\n",
      "out: 0.834716796875 \n",
      "\n",
      "EXEMPLO 2\n",
      "before circuit:\n",
      " weight: [0.5, 0.5] \n",
      "input: [1.4142135623730951, 0.7853981633974483]\n",
      "before delta:\n",
      " weight: [0.5, 0.5] \n",
      "input: [1.4142135623730951, 0.7853981633974483]\n",
      "out: 0.554931640625 \n",
      "\n",
      "EXEMPLO 3\n",
      "before circuit:\n",
      " weight: [0.5, 0.5] \n",
      "input: [1.4142135623730951, -0.7853981633974483]\n",
      "before delta:\n",
      " weight: [0.5, 0.5] \n",
      "input: [1.4142135623730951, -0.7853981633974483]\n",
      "out: 0.9959716796875 \n",
      "\n",
      "EPOCH 1\n",
      "EXEMPLO 0\n",
      "before circuit:\n",
      " weight: [0.5, 0.5] \n",
      "input: [1.4142135623730951, 0.7853981633974483]\n",
      "before delta:\n",
      " weight: [0.5, 0.5] \n",
      "input: [1.4142135623730951, 0.7853981633974483]\n",
      "out: 0.8486328125 \n",
      "\n",
      "EXEMPLO 1\n",
      "before circuit:\n",
      " weight: [0.5, 0.5] \n",
      "input: [1.4142135623730951, -0.7853981633974483]\n",
      "before delta:\n",
      " weight: [0.5, 0.5] \n",
      "input: [1.4142135623730951, -0.7853981633974483]\n",
      "out: 0.9208984375 \n",
      "\n",
      "EXEMPLO 2\n",
      "before circuit:\n",
      " weight: [0.5, 0.5] \n",
      "input: [1.4142135623730951, 0.7853981633974483]\n",
      "before delta:\n",
      " weight: [0.5, 0.5] \n",
      "input: [1.4142135623730951, 0.7853981633974483]\n",
      "out: 0.9971923828125 \n",
      "\n",
      "EXEMPLO 3\n",
      "before circuit:\n",
      " weight: [0.5, 0.5] \n",
      "input: [1.4142135623730951, -0.7853981633974483]\n",
      "before delta:\n",
      " weight: [0.5, 0.5] \n",
      "input: [1.4142135623730951, -0.7853981633974483]\n",
      "out: 0.6605224609375 \n",
      "\n",
      "EPOCH 2\n",
      "EXEMPLO 0\n",
      "before circuit:\n",
      " weight: [0.5, 0.5] \n",
      "input: [1.4142135623730951, 0.7853981633974483]\n",
      "before delta:\n",
      " weight: [0.5, 0.5] \n",
      "input: [1.4142135623730951, 0.7853981633974483]\n",
      "out: 0.91064453125 \n",
      "\n",
      "EXEMPLO 1\n",
      "before circuit:\n",
      " weight: [0.5, 0.5] \n",
      "input: [1.4142135623730951, -0.7853981633974483]\n",
      "before delta:\n",
      " weight: [0.5, 0.5] \n",
      "input: [1.4142135623730951, -0.7853981633974483]\n",
      "out: 0.3311767578125 \n",
      "\n",
      "EXEMPLO 2\n",
      "before circuit:\n",
      " weight: [0.5, 0.5] \n",
      "input: [1.4142135623730951, 0.7853981633974483]\n",
      "before delta:\n",
      " weight: [0.5, 0.5] \n",
      "input: [1.4142135623730951, 0.7853981633974483]\n",
      "out: 0.637939453125 \n",
      "\n",
      "EXEMPLO 3\n",
      "before circuit:\n",
      " weight: [0.5, 0.5] \n",
      "input: [1.4142135623730951, -0.7853981633974483]\n",
      "before delta:\n",
      " weight: [0.5, 0.5] \n",
      "input: [1.4142135623730951, -0.7853981633974483]\n",
      "out: 0.0640869140625 \n",
      "\n",
      "EPOCH 3\n",
      "EXEMPLO 0\n",
      "before circuit:\n",
      " weight: [0.5, 0.5] \n",
      "input: [1.4142135623730951, 0.7853981633974483]\n",
      "before delta:\n",
      " weight: [0.5, 0.5] \n",
      "input: [1.4142135623730951, 0.7853981633974483]\n",
      "out: 0.6405029296875 \n",
      "\n",
      "EXEMPLO 1\n",
      "before circuit:\n",
      " weight: [0.5, 0.5] \n",
      "input: [1.4142135623730951, -0.7853981633974483]\n",
      "before delta:\n",
      " weight: [0.5, 0.5] \n",
      "input: [1.4142135623730951, -0.7853981633974483]\n",
      "out: 0.0689697265625 \n",
      "\n",
      "EXEMPLO 2\n",
      "before circuit:\n",
      " weight: [0.5, 0.5] \n",
      "input: [1.4142135623730951, 0.7853981633974483]\n",
      "before delta:\n",
      " weight: [0.5, 0.5] \n",
      "input: [1.4142135623730951, 0.7853981633974483]\n",
      "out: 0.6429443359375 \n",
      "\n",
      "EXEMPLO 3\n",
      "before circuit:\n",
      " weight: [0.5, 0.5] \n",
      "input: [1.4142135623730951, -0.7853981633974483]\n",
      "before delta:\n",
      " weight: [0.5, 0.5] \n",
      "input: [1.4142135623730951, -0.7853981633974483]\n",
      "out: 0.0635986328125 \n",
      "\n"
     ]
    }
   ],
   "source": [
    "w0 = [0.5, 0.5]\n",
    "\n",
    "weights = quantumNeuronFIT(X_train, \n",
    "                           y_train,\n",
    "                           w0 =w0,\n",
    "                           threshold=0.3,\n",
    "                           lrParameter=0.1, \n",
    "                           n_epochs=20, \n",
    "                           trainingBias=False,\n",
    "                           #epoch_results=True,\n",
    "                           phaseEstrategyOperator='angleradius',\n",
    "                           trainingApproaches={'hsgs','phase-encoding'})"
   ]
  },
  {
   "cell_type": "code",
   "execution_count": null,
   "metadata": {},
   "outputs": [],
   "source": [
    "results = quantumNeuronPREDICT(X_test, \n",
    "                                   y_test,\n",
    "                                   threshold=0.3,\n",
    "                                   weightVectorsPhaseEncoding = weights[0], \n",
    "                                   weightVectorsHSGS = weights[1], \n",
    "                                   repeat=10,\n",
    "                                   bias=False, \n",
    "                                   phaseEstrategyOperator='angleradius',\n",
    "                                   testingApproaches={'hsgs', 'phase-encoding'})"
   ]
  },
  {
   "cell_type": "code",
   "execution_count": null,
   "metadata": {},
   "outputs": [],
   "source": [
    "print('PhaseEncoding:\\navg_error', results[0])\n",
    "print('neuron_outputs', results[1])\n",
    "print('weights', results[2])\n",
    "\n",
    "print('\\nHSGS:\\navg_error', results[3])\n",
    "print('neuron_outputs', results[4])\n",
    "print('weights', results[5])"
   ]
  },
  {
   "cell_type": "code",
   "execution_count": null,
   "metadata": {},
   "outputs": [],
   "source": [
    "output = {'model':[],\n",
    "          'phase_strategy':[],\n",
    "            'bias':[],\n",
    "            'threshold':[],\n",
    "            'lr':[],\n",
    "            'avg_error':[],\n",
    "            'weights':[],\n",
    "            'neuron_outputs':[]}"
   ]
  },
  {
   "cell_type": "code",
   "execution_count": null,
   "metadata": {},
   "outputs": [],
   "source": [
    "# search space\n",
    "threshold_space = [0.1, 0.2, 0.3, 0.4, 0.5, 0.6, 0.7, 0.8, 0.9]\n",
    "lr_space = [0.02, 0.05, 0.1, 0.2, 0.5]\n",
    "#epochs_space = [20, 50, 100, 200]\n",
    "bias_space = [True, False]\n",
    "strategy_space = ['original', 'angle', 'radius', 'angleradius']"
   ]
  },
  {
   "cell_type": "code",
   "execution_count": null,
   "metadata": {},
   "outputs": [],
   "source": [
    "for strategy in strategy_space:\n",
    "    for threshold in threshold_space:\n",
    "        for lr in lr_space:\n",
    "            for bias in bias_space:\n",
    "                # execute experiment\n",
    "                weights = quantumNeuronFIT(X_train, \n",
    "                                           y_train,\n",
    "                                           threshold=threshold,\n",
    "                                           lrParameter=lr, \n",
    "                                           n_epochs=100, \n",
    "                                           trainingBias=bias,\n",
    "                                           phaseEstrategyOperator=strategy,\n",
    "                                           trainingApproaches={'hsgs','phase-encoding'})\n",
    "                \n",
    "                results = quantumNeuronPREDICT(X_test, \n",
    "                                                   y_test,\n",
    "                                                   threshold=threshold,\n",
    "                                                   weightVectorsPhaseEncoding = weights[0], \n",
    "                                                   weightVectorsHSGS = weights[1], \n",
    "                                                   repeat=20,\n",
    "                                                   bias=bias, \n",
    "                                                   phaseEstrategyOperator=strategy,\n",
    "                                                   testingApproaches={'hsgs', 'phase-encoding'})\n",
    "                \n",
    "                # get experiment results\n",
    "                output['model'].append('phase-encoding')\n",
    "                output['lr'].append(lr)\n",
    "                output['bias'].append(bias)\n",
    "                output['threshold'].append(threshold)\n",
    "                output['phase_strategy'].append(strategy)\n",
    "                output['avg_error'].append(results[0])\n",
    "                output['neuron_outputs'].append(results[1])\n",
    "                output['weights'].append(results[2])\n",
    "                \n",
    "                output['model'].append('HSGS')\n",
    "                output['lr'].append(lr)\n",
    "                output['bias'].append(bias)\n",
    "                output['threshold'].append(threshold)\n",
    "                output['phase_strategy'].append(strategy)\n",
    "                output['avg_error'].append(results[3])\n",
    "                output['neuron_outputs'].append(results[4])\n",
    "                output['weights'].append(results[5])\n",
    "                print('\\n')\n",
    "    "
   ]
  },
  {
   "cell_type": "code",
   "execution_count": null,
   "metadata": {},
   "outputs": [],
   "source": [
    "experiment_data = pd.DataFrame(output)"
   ]
  },
  {
   "cell_type": "code",
   "execution_count": null,
   "metadata": {},
   "outputs": [],
   "source": [
    "experiment_data"
   ]
  },
  {
   "cell_type": "code",
   "execution_count": null,
   "metadata": {},
   "outputs": [],
   "source": [
    "experiment_data.to_csv('experiment_data.csv')"
   ]
  },
  {
   "cell_type": "markdown",
   "metadata": {},
   "source": [
    "- verificar computação do erro no treinamento\n",
    "- inicialização por pesos reais\n",
    "- verificar o que está sendo previsto pelo phase\n",
    "- verificar execução do neurônio em comparação com o de fernando\n",
    "- verificar porque o teste de fernando está dando erro zero para o phase em alguns casos e o meu não\n",
    "- verificar hsgs nando, hsgs claudio"
   ]
  },
  {
   "cell_type": "markdown",
   "metadata": {},
   "source": [
    "# Tests"
   ]
  },
  {
   "cell_type": "markdown",
   "metadata": {},
   "source": [
    "### Without Bias"
   ]
  },
  {
   "cell_type": "code",
   "execution_count": null,
   "metadata": {},
   "outputs": [],
   "source": [
    "bestWeightsPhaseEncoding, bestWeightsHSGS, errosPhaseEncoding, errosHSGS = experiment_TRAIN(X_train, \n",
    "                                                                                            y_train,\n",
    "                                                                                            threshold=0.5,\n",
    "                                                                                            lrParameter=0.2, \n",
    "                                                                                            n_epochs=50, \n",
    "                                                                                            trainingBias=False,\n",
    "                                                                                            trainingApproaches={'hsgs','phase-encoding'},\n",
    "                                                                                            )"
   ]
  },
  {
   "cell_type": "code",
   "execution_count": null,
   "metadata": {},
   "outputs": [],
   "source": [
    "weights = [bestWeightsPhaseEncoding, \n",
    "          bestWeightsHSGS]"
   ]
  },
  {
   "cell_type": "code",
   "execution_count": null,
   "metadata": {},
   "outputs": [],
   "source": [
    "with open('results/version7/weights_unbiased.json', 'w+') as fp:\n",
    "    json.dump(weights, fp)"
   ]
  },
  {
   "cell_type": "markdown",
   "metadata": {},
   "source": [
    "#### Test"
   ]
  },
  {
   "cell_type": "code",
   "execution_count": null,
   "metadata": {},
   "outputs": [],
   "source": [
    "with open('results/version7/weights_unbiased.json') as json_file:\n",
    "    weights = json.load(json_file)"
   ]
  },
  {
   "cell_type": "code",
   "execution_count": null,
   "metadata": {},
   "outputs": [],
   "source": [
    "resultsBIAS = experiment_TEST(X_test, \n",
    "                              y_test, \n",
    "                              weights[0], \n",
    "                              weights[1], \n",
    "                              repeat=20,\n",
    "                              bias=False, \n",
    "                              testingApproaches={'hsgs', 'phase-encoding'},\n",
    "                             )"
   ]
  },
  {
   "cell_type": "code",
   "execution_count": null,
   "metadata": {},
   "outputs": [],
   "source": [
    "with open('results/version7/experiments_unbiased.json', 'w+') as fp:\n",
    "    json.dump(resultsBIAS, fp)"
   ]
  },
  {
   "cell_type": "markdown",
   "metadata": {},
   "source": [
    "## BIAS"
   ]
  },
  {
   "cell_type": "code",
   "execution_count": null,
   "metadata": {},
   "outputs": [],
   "source": [
    "bestWeightsPhaseEncoding, bestWeightsHSGS, errosPhaseEncoding, errosHSGS = experiment_TRAIN(X_train, \n",
    "                                                                                            y_train,\n",
    "                                                                                            threshold=0.5,\n",
    "                                                                                            lrParameter=0.2, \n",
    "                                                                                            n_epochs=50, \n",
    "                                                                                            trainingBias=True,\n",
    "                                                                                            trainingApproaches={'hsgs','phase-encoding'},\n",
    "                                                                                            )"
   ]
  },
  {
   "cell_type": "code",
   "execution_count": null,
   "metadata": {},
   "outputs": [],
   "source": [
    "weights = [bestWeightsPhaseEncoding, \n",
    "          bestWeightsHSGS]"
   ]
  },
  {
   "cell_type": "code",
   "execution_count": null,
   "metadata": {},
   "outputs": [],
   "source": [
    "with open('results/version7/weights_biased.json', 'w+') as fp:\n",
    "    json.dump(weights, fp)"
   ]
  },
  {
   "cell_type": "code",
   "execution_count": null,
   "metadata": {},
   "outputs": [],
   "source": [
    "resultsBIAS = experiment_TEST(X_test, \n",
    "                              y_test, \n",
    "                              weights[0], \n",
    "                              weights[1], \n",
    "                              repeat=20,\n",
    "                              bias=True, \n",
    "                              testingApproaches={'hsgs', 'phase-encoding'},)"
   ]
  },
  {
   "cell_type": "code",
   "execution_count": null,
   "metadata": {},
   "outputs": [],
   "source": []
  },
  {
   "cell_type": "code",
   "execution_count": null,
   "metadata": {},
   "outputs": [],
   "source": [
    "with open('results/version7/experiments_biased.json', 'w+') as fp:\n",
    "    json.dump(resultsBIAS, fp)"
   ]
  },
  {
   "cell_type": "code",
   "execution_count": null,
   "metadata": {},
   "outputs": [],
   "source": []
  }
 ],
 "metadata": {
  "environment": {
   "name": "r-cpu.3-6.m65",
   "type": "gcloud",
   "uri": "gcr.io/deeplearning-platform-release/r-cpu.3-6:m65"
  },
  "kernelspec": {
   "display_name": "Python 3",
   "language": "python",
   "name": "python3"
  },
  "language_info": {
   "codemirror_mode": {
    "name": "ipython",
    "version": 3
   },
   "file_extension": ".py",
   "mimetype": "text/x-python",
   "name": "python",
   "nbconvert_exporter": "python",
   "pygments_lexer": "ipython3",
   "version": "3.7.10"
  }
 },
 "nbformat": 4,
 "nbformat_minor": 4
}
