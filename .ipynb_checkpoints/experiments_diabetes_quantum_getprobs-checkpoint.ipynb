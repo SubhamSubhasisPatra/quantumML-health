{
 "cells": [
  {
   "cell_type": "code",
   "execution_count": 1,
   "metadata": {},
   "outputs": [
    {
     "name": "stderr",
     "output_type": "stream",
     "text": [
      "/opt/conda/lib/python3.7/site-packages/qiskit/aqua/__init__.py:86: DeprecationWarning: The package qiskit.aqua is deprecated. It was moved/refactored to qiskit-terra For more information see <https://github.com/Qiskit/qiskit-aqua/blob/main/README.md#migration-guide>\n",
      "  warn_package('aqua', 'qiskit-terra')\n"
     ]
    }
   ],
   "source": [
    "from code.neuron import *\n",
    "from code.encodingsource import *\n",
    "from code.hsgs import *\n",
    "from code.classical_neuron import *\n",
    "from code.classical_pso import *\n",
    "from code.sf import *\n",
    "simulator = Aer.get_backend('qasm_simulator')\n",
    "import pandas as pd\n",
    "import numpy as np\n",
    "import matplotlib.pyplot as plt\n",
    "import json\n",
    "import time\n",
    "\n",
    "from code.experiment_functions import *"
   ]
  },
  {
   "cell_type": "code",
   "execution_count": 2,
   "metadata": {},
   "outputs": [],
   "source": [
    "with open('data_and_results/diabetes/train_data.json') as json_file:\n",
    "    X_train = json.load(json_file)[0]\n",
    "\n",
    "with open('data_and_results/diabetes/train_data.json') as json_file:\n",
    "    y_train = json.load(json_file)[1]\n",
    "    \n",
    "with open('data_and_results/diabetes/test_data.json') as json_file:\n",
    "    X_test = json.load(json_file)[0]\n",
    "\n",
    "with open('data_and_results/diabetes/test_data.json') as json_file:\n",
    "    y_test = json.load(json_file)[1]"
   ]
  },
  {
   "cell_type": "code",
   "execution_count": 3,
   "metadata": {},
   "outputs": [],
   "source": [
    "def float_to_binary(list_, m, n):\n",
    "    \"\"\"Convert the float value `x` to a binary string of length `m + n`\n",
    "    where the first `m` binary digits are the integer part and the last\n",
    "    'n' binary digits are the fractional part of `x`.\n",
    "    \"\"\"\n",
    "    list_scaled = []\n",
    "    for number in list_:\n",
    "        x_scaled = round(number * 2 ** n)\n",
    "        x_scaled = '{:0{}b}'.format(x_scaled, m + n)\n",
    "        for i in x_scaled:\n",
    "            if i == '0':\n",
    "                list_scaled.append(-1)\n",
    "            else:\n",
    "                list_scaled.append(1)\n",
    "    return list_scaled\n",
    "\n",
    "X_test_bin = []\n",
    "for i in X_test:\n",
    "    X_test_bin.append(float_to_binary(i, 1, 4))\n",
    "    \n",
    "X_train_bin = []\n",
    "for i in X_train:\n",
    "    X_train_bin.append(float_to_binary(i, 1, 4))"
   ]
  },
  {
   "cell_type": "markdown",
   "metadata": {},
   "source": [
    "## Test"
   ]
  },
  {
   "cell_type": "code",
   "execution_count": null,
   "metadata": {},
   "outputs": [],
   "source": [
    "w = list(np.random.uniform(low=0.0, high=1.0, size=(len(X_test_bin[0]),)))"
   ]
  },
  {
   "cell_type": "code",
   "execution_count": null,
   "metadata": {},
   "outputs": [],
   "source": [
    "weights = quantumNeuronFIT(X_test_bin, \n",
    "                           y_train,\n",
    "                           init_weight = w,\n",
    "                           threshold=0.7,\n",
    "                           lrParameter=0.1, \n",
    "                           n_epochs=1, \n",
    "                           trainingBias=False,\n",
    "                           epoch_results=False,\n",
    "                           phaseEstrategyOperator='original',\n",
    "                           trainingApproaches={'hsgs'})"
   ]
  },
  {
   "cell_type": "code",
   "execution_count": null,
   "metadata": {},
   "outputs": [],
   "source": [
    "results = quantumNeuronPREDICT(X_test, \n",
    "                                   y_test,\n",
    "                                   threshold=0.7,\n",
    "                                   weightVectorsPhaseEncoding = weights[0], \n",
    "                                   weightVectorsHSGS = weights[1], \n",
    "                                   repeat=1,\n",
    "                                   bias=False, \n",
    "                                   phaseEstrategyOperator='original',\n",
    "                                   testingApproaches={'hsgs'})"
   ]
  },
  {
   "cell_type": "markdown",
   "metadata": {},
   "source": [
    "## Binary Quantum Neuron Experiments "
   ]
  },
  {
   "cell_type": "code",
   "execution_count": 4,
   "metadata": {},
   "outputs": [],
   "source": [
    "output = {'model':[],\n",
    "          'phase_strategy':[],\n",
    "          'threshold':[],\n",
    "            'bias':[],\n",
    "            'lr':[],\n",
    "            'initial_weights':[],\n",
    "            'neuron_outputs':[],\n",
    "            'circuit_size':[]\n",
    "         }"
   ]
  },
  {
   "cell_type": "code",
   "execution_count": 5,
   "metadata": {},
   "outputs": [],
   "source": [
    "# search space\n",
    "initial_weights =  list(np.random.uniform(low=0.0, high=1.0, size=(len(X_train_bin[0]),)))\n",
    "threshold_space = [0.3, 0.5, 0.7, 0.8, 0.9]\n",
    "lr_space = [0.02, 0.1]\n",
    "bias_space = [False, True]\n",
    "strategy_space = ['original']\n",
    "time_exec=[]"
   ]
  },
  {
   "cell_type": "code",
   "execution_count": null,
   "metadata": {},
   "outputs": [
    {
     "name": "stdout",
     "output_type": "stream",
     "text": [
      "lrParameter:  0.02\n",
      "threshold:  0.3\n",
      "trainingBias:  False\n",
      "phaseEstrategyOperator:  original\n"
     ]
    }
   ],
   "source": [
    "%%time\n",
    "for strategy in strategy_space:\n",
    "    start_time = time.time()\n",
    "    for threshold in threshold_space:\n",
    "        for lr in lr_space:\n",
    "            for bias in bias_space:\n",
    "                # execute experiment\n",
    "                weights = quantumNeuronFIT(X_train_bin, \n",
    "                                           y_train,\n",
    "                                           init_weight=initial_weights,\n",
    "                                           threshold=threshold,\n",
    "                                           lrParameter=lr, \n",
    "                                           n_epochs=20, \n",
    "                                           trainingBias=bias,\n",
    "                                           phaseEstrategyOperator=strategy,\n",
    "                                           trainingApproaches={'hsgs'})\n",
    "\n",
    "                results = quantumNeuronPREDICT(X_test_bin, \n",
    "                                               y_test,\n",
    "                                               threshold=threshold,\n",
    "                                               weightVectorsPhaseEncoding = weights[0], \n",
    "                                               weightVectorsHSGS = weights[1], \n",
    "                                               repeat=5,\n",
    "                                               bias=bias, \n",
    "                                               phaseEstrategyOperator=strategy,\n",
    "                                               testingApproaches={'hsgs'})\n",
    "\n",
    "\n",
    "                output['model'].append('HSGS')\n",
    "                output['lr'].append(lr)\n",
    "                output['bias'].append(bias)\n",
    "                output['threshold'].append(threshold)\n",
    "                output['phase_strategy'].append(strategy)\n",
    "                output['neuron_outputs'].append(results[1])\n",
    "                output['circuit_size'].append(results[3])\n",
    "                output['initial_weights'].append(w)\n",
    "                print('\\n')\n",
    "    time_exec.append(time.time() - start_time)"
   ]
  },
  {
   "cell_type": "code",
   "execution_count": null,
   "metadata": {},
   "outputs": [],
   "source": [
    "experiment_hsgs = pd.DataFrame(output)"
   ]
  },
  {
   "cell_type": "code",
   "execution_count": null,
   "metadata": {},
   "outputs": [],
   "source": [
    "experiment_hsgs.to_csv('data_and_results/diabetes/diabetes_size_hsgs.csv', index=False)"
   ]
  },
  {
   "cell_type": "code",
   "execution_count": null,
   "metadata": {},
   "outputs": [],
   "source": [
    "time_exec"
   ]
  },
  {
   "cell_type": "markdown",
   "metadata": {},
   "source": [
    "## Continuously Valued Quantum Neuron Experiments"
   ]
  },
  {
   "cell_type": "code",
   "execution_count": null,
   "metadata": {},
   "outputs": [],
   "source": [
    "output = {'model':[],\n",
    "          'phase_strategy':[],\n",
    "            'bias':[],\n",
    "            'threshold':[],\n",
    "            'lr':[],\n",
    "            'initial_weights':[],\n",
    "            'neuron_outputs':[],\n",
    "            'circuit_size':[]\n",
    "         }"
   ]
  },
  {
   "cell_type": "code",
   "execution_count": null,
   "metadata": {},
   "outputs": [],
   "source": [
    "# search space\n",
    "initial_weights =  list(np.random.uniform(low=0.0, high=1.0, size=(len(X_test[0]),)))\n",
    "threshold_space = [0.3, 0.5, 0.7, 0.8, 0.9]\n",
    "lr_space = [0.02, 0.1]\n",
    "bias_space = [False, True]\n",
    "strategy_space = ['radius', 'angleradius', 'original', 'angle']\n",
    "time_exec=[]"
   ]
  },
  {
   "cell_type": "code",
   "execution_count": null,
   "metadata": {},
   "outputs": [],
   "source": [
    "%%time\n",
    "for strategy in strategy_space:\n",
    "    start_time = time.time()\n",
    "    for threshold in threshold_space:\n",
    "        for lr in lr_space:\n",
    "            for bias in bias_space:\n",
    "                # execute experiment\n",
    "                weights = quantumNeuronFIT(X_train, \n",
    "                                           y_train,\n",
    "                                           init_weight=initial_weights,\n",
    "                                           threshold=threshold,\n",
    "                                           lrParameter=lr, \n",
    "                                           n_epochs=20, \n",
    "                                           trainingBias=bias,\n",
    "                                           phaseEstrategyOperator=strategy,\n",
    "                                           trainingApproaches={'phase-encoding'})\n",
    "\n",
    "                results = quantumNeuronPREDICT(X_test, \n",
    "                                                   y_test,\n",
    "                                                   threshold=threshold,\n",
    "                                                   weightVectorsPhaseEncoding = weights[0], \n",
    "                                                   weightVectorsHSGS = weights[1], \n",
    "                                                   repeat=5,\n",
    "                                                   bias=bias, \n",
    "                                                   phaseEstrategyOperator=strategy,\n",
    "                                                   testingApproaches={'phase-encoding'})\n",
    "\n",
    "                # get experiment results\n",
    "                output['model'].append('phase-encoding')\n",
    "                output['lr'].append(lr)\n",
    "                output['bias'].append(bias)\n",
    "                output['threshold'].append(threshold)\n",
    "                output['phase_strategy'].append(strategy)\n",
    "                output['neuron_outputs'].append(results[0])\n",
    "                output['circuit_size'].append(results[2])\n",
    "                output['initial_weights'].append(w)\n",
    "                print('\\n')\n",
    "    print('\\nTIME OF EXECUTION ', strategy, ': ', time.time() - start_time,' seconds\\n')\n",
    "    time_exec.append(time.time() - start_time)"
   ]
  },
  {
   "cell_type": "code",
   "execution_count": null,
   "metadata": {},
   "outputs": [],
   "source": [
    "experiment_phase = pd.DataFrame(output)"
   ]
  },
  {
   "cell_type": "code",
   "execution_count": null,
   "metadata": {},
   "outputs": [],
   "source": [
    "experiment_phase.to_csv('data_and_results/diabetes/diabetes_size_phase.csv')"
   ]
  },
  {
   "cell_type": "code",
   "execution_count": null,
   "metadata": {},
   "outputs": [],
   "source": [
    "time_exec"
   ]
  },
  {
   "cell_type": "markdown",
   "metadata": {},
   "source": [
    "### Save Results"
   ]
  },
  {
   "cell_type": "code",
   "execution_count": null,
   "metadata": {},
   "outputs": [],
   "source": [
    "p1 = pd.read_csv('data_and_results/diabetes/diabetes_probs.csv')\n",
    "p2 = pd.read_csv('data_and_results/diabetes/diabetes_probs_phase_radius.csv')\n",
    "p3 = pd.read_csv('data_and_results/diabetes/experiments_diabetes_encoding_probs_.csv')"
   ]
  },
  {
   "cell_type": "code",
   "execution_count": null,
   "metadata": {},
   "outputs": [],
   "source": [
    "experiments = pd.concat([p1, p2, p3])"
   ]
  },
  {
   "cell_type": "code",
   "execution_count": null,
   "metadata": {},
   "outputs": [],
   "source": [
    "experiments.to_csv('data_and_results/diabetes/diabetes_probs.csv')"
   ]
  },
  {
   "cell_type": "code",
   "execution_count": null,
   "metadata": {},
   "outputs": [],
   "source": []
  }
 ],
 "metadata": {
  "environment": {
   "name": "common-cpu.m76",
   "type": "gcloud",
   "uri": "gcr.io/deeplearning-platform-release/base-cpu:m76"
  },
  "kernelspec": {
   "display_name": "Python 3",
   "language": "python",
   "name": "python3"
  },
  "language_info": {
   "codemirror_mode": {
    "name": "ipython",
    "version": 3
   },
   "file_extension": ".py",
   "mimetype": "text/x-python",
   "name": "python",
   "nbconvert_exporter": "python",
   "pygments_lexer": "ipython3",
   "version": "3.7.10"
  }
 },
 "nbformat": 4,
 "nbformat_minor": 4
}
