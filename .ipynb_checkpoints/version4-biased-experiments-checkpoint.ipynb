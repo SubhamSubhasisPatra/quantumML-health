{
 "cells": [
  {
   "cell_type": "code",
   "execution_count": 1,
   "metadata": {},
   "outputs": [],
   "source": [
    "from code.neuron import *\n",
    "from code.encodingsource import *\n",
    "from code.hsgs import *\n",
    "from code.classical_neuron import *\n",
    "from code.classical_pso import *\n",
    "from code.sf import *\n",
    "simulator = Aer.get_backend('qasm_simulator')\n",
    "import pandas as pd\n",
    "import numpy as np\n",
    "import matplotlib.pyplot as plt\n",
    "import json\n",
    "\n",
    "from code.experiment_functions import *"
   ]
  },
  {
   "cell_type": "code",
   "execution_count": 2,
   "metadata": {},
   "outputs": [],
   "source": [
    "diabetes = pd.read_csv('data/diabetes.csv')"
   ]
  },
  {
   "cell_type": "code",
   "execution_count": 3,
   "metadata": {},
   "outputs": [],
   "source": [
    "# normalization 0-1\n",
    "for i in diabetes.columns:\n",
    "    diabetes[i] = (diabetes[i] - diabetes[i].min()) / (diabetes[i].max() - diabetes[i].min())"
   ]
  },
  {
   "cell_type": "code",
   "execution_count": 4,
   "metadata": {},
   "outputs": [],
   "source": [
    "# split in test and train data\n",
    "from sklearn.model_selection import train_test_split\n",
    "\n",
    "X_train, X_test, y_train, y_test = train_test_split(diabetes.drop('Outcome',axis=1), diabetes['Outcome'])"
   ]
  },
  {
   "cell_type": "code",
   "execution_count": 5,
   "metadata": {},
   "outputs": [],
   "source": [
    "X_train = X_train.values.tolist()\n",
    "X_test = X_test.values.tolist()\n",
    "y_train = y_train.values.tolist()\n",
    "y_test = y_test.values.tolist()"
   ]
  },
  {
   "cell_type": "code",
   "execution_count": 6,
   "metadata": {},
   "outputs": [],
   "source": [
    "y_train = [int(x) for x in y_train]\n",
    "y_test =  [int(x) for x in y_test]"
   ]
  },
  {
   "cell_type": "markdown",
   "metadata": {},
   "source": [
    "### Train and Test with Bias"
   ]
  },
  {
   "cell_type": "code",
   "execution_count": 7,
   "metadata": {},
   "outputs": [
    {
     "name": "stdout",
     "output_type": "stream",
     "text": [
      "\n",
      "erro HSGS 8.2080078125\n",
      "erro encoding weight 331.734375\n",
      "erro encoding input 182.505859375\n",
      "erro phase encoding 73.08203125\n",
      "erro classico 21.800604746665947\n",
      "erro classico Bin 150.1796233262912\n",
      "\n",
      "erro HSGS 0.0\n",
      "erro encoding weight 330.5244140625\n",
      "erro encoding input 181.1201171875\n",
      "erro phase encoding 74.41796875\n",
      "erro classico 11.836733653224373\n",
      "erro classico Bin 145.7823554784469\n",
      "\n",
      "erro HSGS 0.0\n",
      "erro encoding weight 331.3505859375\n",
      "erro encoding input 181.453125\n",
      "erro phase encoding 73.609375\n",
      "erro classico 11.83895421034015\n",
      "erro classico Bin 145.7823554784469\n",
      "\n",
      "erro HSGS 0.0\n",
      "erro encoding weight 330.5224609375\n",
      "erro encoding input 181.1103515625\n",
      "erro phase encoding 73.7763671875\n",
      "erro classico 11.839079572712958\n",
      "erro classico Bin 145.7823554784469\n",
      "\n",
      "erro HSGS 0.0\n",
      "erro encoding weight 331.404296875\n",
      "erro encoding input 180.865234375\n",
      "erro phase encoding 74.19921875\n",
      "erro classico 11.839084109064341\n",
      "erro classico Bin 145.7823554784469\n",
      "\n",
      "erro HSGS 0.0\n",
      "erro encoding weight 330.9736328125\n",
      "erro encoding input 181.4404296875\n",
      "erro phase encoding 74.2890625\n",
      "erro classico 11.839084278300644\n",
      "erro classico Bin 145.7823554784469\n",
      "\n",
      "erro HSGS 0.0\n",
      "erro encoding weight 331.6796875\n",
      "erro encoding input 181.087890625\n",
      "erro phase encoding 73.935546875\n",
      "erro classico 11.839084284865777\n",
      "erro classico Bin 145.7823554784469\n",
      "\n",
      "erro HSGS 0.0\n",
      "erro encoding weight 330.4775390625\n",
      "erro encoding input 181.20703125\n",
      "erro phase encoding 73.919921875\n",
      "erro classico 11.839084285105224\n",
      "erro classico Bin 145.7823554784469\n",
      "\n",
      "erro HSGS 0.0\n",
      "erro encoding weight 330.9609375\n",
      "erro encoding input 181.1435546875\n",
      "erro phase encoding 74.1494140625\n",
      "erro classico 11.83908428512826\n",
      "erro classico Bin 145.7823554784469\n",
      "\n",
      "erro HSGS 0.0\n",
      "erro encoding weight 331.087890625\n",
      "erro encoding input 181.4619140625\n",
      "erro phase encoding 73.75390625\n",
      "erro classico 11.839084285138629\n",
      "erro classico Bin 145.7823554784469\n",
      "\n",
      "erro HSGS 0.0\n",
      "erro encoding weight 330.8984375\n",
      "erro encoding input 181.3291015625\n",
      "erro phase encoding 73.84375\n",
      "erro classico 11.839084285138169\n",
      "erro classico Bin 145.7823554784469\n",
      "\n",
      "erro HSGS 0.0\n",
      "erro encoding weight 331.02734375\n",
      "erro encoding input 181.5224609375\n",
      "erro phase encoding 74.2587890625\n",
      "erro classico 11.839084285139236\n",
      "erro classico Bin 145.7823554784469\n",
      "\n",
      "erro HSGS 0.0\n",
      "erro encoding weight 331.3076171875\n",
      "erro encoding input 181.3837890625\n",
      "erro phase encoding 73.7314453125\n",
      "erro classico 11.839084285138169\n",
      "erro classico Bin 145.7823554784469\n",
      "\n",
      "erro HSGS 0.0\n",
      "erro encoding weight 330.291015625\n",
      "erro encoding input 181.88671875\n",
      "erro phase encoding 73.8154296875\n",
      "erro classico 11.839084285139236\n",
      "erro classico Bin 145.7823554784469\n",
      "\n",
      "erro HSGS 0.0\n",
      "erro encoding weight 330.876953125\n",
      "erro encoding input 181.0859375\n",
      "erro phase encoding 73.677734375\n",
      "erro classico 11.839084285138169\n",
      "erro classico Bin 145.7823554784469\n",
      "\n",
      "erro HSGS 0.0\n",
      "erro encoding weight 331.7001953125\n",
      "erro encoding input 181.5\n",
      "erro phase encoding 73.7412109375\n",
      "erro classico 11.839084285139236\n",
      "erro classico Bin 145.7823554784469\n",
      "\n",
      "erro HSGS 0.0\n",
      "erro encoding weight 330.43359375\n",
      "erro encoding input 181.2783203125\n",
      "erro phase encoding 73.8642578125\n",
      "erro classico 11.839084285138169\n",
      "erro classico Bin 145.7823554784469\n",
      "\n",
      "erro HSGS 0.0\n",
      "erro encoding weight 330.9296875\n",
      "erro encoding input 181.9814453125\n",
      "erro phase encoding 73.2880859375\n",
      "erro classico 11.839084285139236\n",
      "erro classico Bin 145.7823554784469\n",
      "\n",
      "erro HSGS 0.0\n",
      "erro encoding weight 331.322265625\n",
      "erro encoding input 181.05078125\n",
      "erro phase encoding 73.5234375\n",
      "erro classico 11.839084285138169\n",
      "erro classico Bin 145.7823554784469\n",
      "\n",
      "erro HSGS 0.0\n",
      "erro encoding weight 331.615234375\n",
      "erro encoding input 181.5078125\n",
      "erro phase encoding 73.791015625\n",
      "erro classico 11.839084285139236\n",
      "erro classico Bin 145.7823554784469\n"
     ]
    }
   ],
   "source": [
    "epoch_errosHSGS, epoch_errosEncodingWeight, epoch_errosEncodingInput, epoch_errosPhaseEncoding  = experiment_TRAIN(X_train, \n",
    "                                                                                                 y_train,\n",
    "                                                                                                 lrParameter=0.2, \n",
    "                                                                                                 n_epochs=20, \n",
    "                                                                                                 trainingBias=True,\n",
    "                                                                                                 error_by_epoch = True,\n",
    "                                                                                                 trainingApproaches={'neuronio-classico', \n",
    "                                                                                                                     'neuronio-classico-bin', \n",
    "                                                                                                                     'hsgs',\n",
    "                                                                                                                     'encoding-weight', \n",
    "                                                                                                                     'encoding-input',\n",
    "                                                                                                                     'phase-encoding'})"
   ]
  },
  {
   "cell_type": "code",
   "execution_count": 8,
   "metadata": {},
   "outputs": [],
   "source": [
    "with open('results/version4/error_by_epoch_biased.json', 'w+') as fp:\n",
    "    json.dump({'epoch_errosHSGS': epoch_errosHSGS,\n",
    "               'epoch_errosEncodingWeight': epoch_errosEncodingWeight, \n",
    "               'epoch_errosPhaseEncoding': epoch_errosPhaseEncoding, \n",
    "               'epoch_errosEncodingInput': epoch_errosEncodingInput},\n",
    "              fp)"
   ]
  },
  {
   "cell_type": "code",
   "execution_count": null,
   "metadata": {},
   "outputs": [
    {
     "name": "stdout",
     "output_type": "stream",
     "text": [
      "\n",
      "erro HSGS 8.1591796875\n",
      "erro encoding weight 332.6474609375\n",
      "erro encoding input 181.53125\n",
      "erro phase encoding 72.84375\n",
      "erro classico 21.800604746665947\n",
      "erro classico Bin 150.1796233262912\n",
      "\n",
      "erro HSGS 0.0\n",
      "erro encoding weight 330.380859375\n",
      "erro encoding input 180.927734375\n",
      "erro phase encoding 73.5732421875\n",
      "erro classico 11.836733653224373\n",
      "erro classico Bin 145.7823554784469\n",
      "\n",
      "erro HSGS 0.0\n",
      "erro encoding weight 330.3857421875\n",
      "erro encoding input 180.7373046875\n",
      "erro phase encoding 73.8271484375\n",
      "erro classico 11.83895421034015\n",
      "erro classico Bin 145.7823554784469\n",
      "\n",
      "erro HSGS 0.0\n",
      "erro encoding weight 331.482421875\n",
      "erro encoding input 181.41015625\n",
      "erro phase encoding 74.1845703125\n",
      "erro classico 11.839079572712958\n",
      "erro classico Bin 145.7823554784469\n"
     ]
    }
   ],
   "source": [
    "weightsEncodingWeight, weightsEncodingInput, weightsPhaseEncoding, weightsHSGS, weightsVectorsClassico, weightVectorsClassicoBin = experiment_TRAIN(X_train, \n",
    "                                                                                                             y_train,\n",
    "                                                                                                             lrParameter=0.2, \n",
    "                                                                                                             n_epochs=10, \n",
    "                                                                                                             trainingBias=True,\n",
    "                                                                                                             trainingApproaches={'neuronio-classico', \n",
    "                                                                                                                                 'neuronio-classico-bin', \n",
    "                                                                                                                                 'hsgs',\n",
    "                                                                                                                                 'encoding-weight', \n",
    "                                                                                                                                 'encoding-input', \n",
    "                                                                                                                                 'phase-encoding'})"
   ]
  },
  {
   "cell_type": "code",
   "execution_count": null,
   "metadata": {},
   "outputs": [],
   "source": [
    "weights = [weightsEncodingWeight, \n",
    "          weightsEncodingInput, \n",
    "          weightsPhaseEncoding, \n",
    "          weightsHSGS, \n",
    "          weightsVectorsClassico, \n",
    "          weightVectorsClassicoBin]"
   ]
  },
  {
   "cell_type": "code",
   "execution_count": null,
   "metadata": {},
   "outputs": [],
   "source": [
    "with open('results/version4/weights_biased_v4.json', 'w+') as fp:\n",
    "    json.dump(weights, fp)"
   ]
  },
  {
   "cell_type": "markdown",
   "metadata": {},
   "source": [
    "#### Test"
   ]
  },
  {
   "cell_type": "code",
   "execution_count": null,
   "metadata": {},
   "outputs": [],
   "source": [
    "with open('results/version4/weights_biased_v4.json') as json_file:\n",
    "    weights = json.load(json_file)"
   ]
  },
  {
   "cell_type": "code",
   "execution_count": null,
   "metadata": {},
   "outputs": [],
   "source": [
    "resultsBIAS = experiment_TEST(X_test, \n",
    "                              y_test, \n",
    "                              weights[0], \n",
    "                              weights[1], \n",
    "                              weights[2], \n",
    "                              weights[3], \n",
    "                              weights[4], \n",
    "                              weights[5], \n",
    "                              repeat=10,\n",
    "                              bias=True, \n",
    "                              testingApproaches={'neuronio-classico', 'neuronio-classico-bin', 'hsgs','encoding-weight', 'phase-encoding','encoding-input'})"
   ]
  },
  {
   "cell_type": "code",
   "execution_count": null,
   "metadata": {},
   "outputs": [],
   "source": [
    "with open('results/version4/experiments_biased.json', 'w+') as fp:\n",
    "    json.dump(resultsBIAS, fp)"
   ]
  },
  {
   "cell_type": "markdown",
   "metadata": {},
   "source": [
    "## Save results as dataframe"
   ]
  },
  {
   "cell_type": "code",
   "execution_count": null,
   "metadata": {},
   "outputs": [],
   "source": [
    "def readAndResults(i):\n",
    "    with open('results/'+i) as f:\n",
    "        data = json.load(f)\n",
    "\n",
    "    erros = ['error_HSGS', 'error_encoding_weight', 'error_encoding_input', 'error_phase_encoding']\n",
    "    new_data = {'error':[], 'model':[]}\n",
    "\n",
    "    for erro in erros:\n",
    "        new_data['error'] = new_data['error'] + data[erro] \n",
    "        new_data['model'] = new_data['model'] +  ( (erro+' ') * len(data[erro])).split(' ')[:-1]  \n",
    "\n",
    "    new_data = pd.DataFrame(new_data)\n",
    "\n",
    "    new_data.to_csv('results/'+i[:-5]+'_dataframe.csv', index=False)\n",
    "    \n",
    "    return new_data"
   ]
  },
  {
   "cell_type": "code",
   "execution_count": null,
   "metadata": {},
   "outputs": [],
   "source": [
    "readAndResults('version4/experiments_biased.json')"
   ]
  }
 ],
 "metadata": {
  "environment": {
   "name": "common-cpu.mnightly-2021-02-12-debian-10-test",
   "type": "gcloud",
   "uri": "gcr.io/deeplearning-platform-release/base-cpu:mnightly-2021-02-12-debian-10-test"
  },
  "kernelspec": {
   "display_name": "Python 3",
   "language": "python",
   "name": "python3"
  },
  "language_info": {
   "codemirror_mode": {
    "name": "ipython",
    "version": 3
   },
   "file_extension": ".py",
   "mimetype": "text/x-python",
   "name": "python",
   "nbconvert_exporter": "python",
   "pygments_lexer": "ipython3",
   "version": "3.7.9"
  }
 },
 "nbformat": 4,
 "nbformat_minor": 4
}
