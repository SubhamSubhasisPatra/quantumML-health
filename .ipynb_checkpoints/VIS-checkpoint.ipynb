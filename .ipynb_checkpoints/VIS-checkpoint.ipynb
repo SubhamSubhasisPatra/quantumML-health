{
 "cells": [
  {
   "cell_type": "code",
   "execution_count": 1,
   "id": "educational-process",
   "metadata": {},
   "outputs": [],
   "source": [
    "def readAndResults(i):\n",
    "    import json\n",
    "    import pandas as pd\n",
    "    \n",
    "    with open('results/'+i) as f:\n",
    "        data = json.load(f)\n",
    "\n",
    "    erros = ['error_HSGS', 'error_encoding_weight', 'error_encoding_input', 'error_classic', 'error_classic_bin']\n",
    "    new_data = {'error':[], 'model':[]}\n",
    "\n",
    "    for erro in erros:\n",
    "        new_data['error'] = new_data['error'] + data[erro] \n",
    "        new_data['model'] = new_data['model'] +  ( (erro+' ') * len(data[erro])).split(' ')[:-1]  \n",
    "\n",
    "    new_data = pd.DataFrame(new_data)\n",
    "\n",
    "    new_data.to_csv('results/'+i[:-5]+'_dataframe.csv', index=False)"
   ]
  },
  {
   "cell_type": "code",
   "execution_count": 11,
   "id": "gross-custody",
   "metadata": {},
   "outputs": [],
   "source": [
    "readAndResults('version2/experiments_biased_float_to_binary.json')"
   ]
  },
  {
   "cell_type": "code",
   "execution_count": 13,
   "id": "dangerous-waterproof",
   "metadata": {},
   "outputs": [],
   "source": [
    "readAndResults('version2/experiments_unbiased_original.json')"
   ]
  },
  {
   "cell_type": "code",
   "execution_count": 14,
   "id": "employed-annual",
   "metadata": {},
   "outputs": [],
   "source": [
    "readAndResults('version2/experiments_unbiased_float_to_binary.json')"
   ]
  },
  {
   "cell_type": "code",
   "execution_count": null,
   "id": "authorized-outside",
   "metadata": {},
   "outputs": [],
   "source": []
  },
  {
   "cell_type": "markdown",
   "id": "pleased-sacrifice",
   "metadata": {},
   "source": [
    "#### Version 3"
   ]
  },
  {
   "cell_type": "code",
   "execution_count": 3,
   "id": "bizarre-speaking",
   "metadata": {},
   "outputs": [],
   "source": [
    "readAndResults('version3/experiments_biased_simple_1noise.json')"
   ]
  },
  {
   "cell_type": "code",
   "execution_count": 5,
   "id": "unlimited-server",
   "metadata": {},
   "outputs": [],
   "source": [
    "readAndResults('version3/experiments_biased_simple_2noises.json')"
   ]
  },
  {
   "cell_type": "code",
   "execution_count": 6,
   "id": "crude-conservation",
   "metadata": {},
   "outputs": [],
   "source": [
    "readAndResults('version3/experiments_biased_simple_3noises.json')"
   ]
  },
  {
   "cell_type": "code",
   "execution_count": 7,
   "id": "indonesian-worthy",
   "metadata": {},
   "outputs": [],
   "source": [
    "readAndResults('version3/experiments_unbiased_simple_1noise.json')"
   ]
  },
  {
   "cell_type": "code",
   "execution_count": 8,
   "id": "arranged-relative",
   "metadata": {},
   "outputs": [],
   "source": [
    "readAndResults('version3/experiments_unbiased_simple_2noises.json')"
   ]
  },
  {
   "cell_type": "code",
   "execution_count": 9,
   "id": "personalized-worcester",
   "metadata": {},
   "outputs": [],
   "source": [
    "readAndResults('version3/experiments_unbiased_simple_3noises.json')"
   ]
  },
  {
   "cell_type": "code",
   "execution_count": null,
   "id": "committed-plumbing",
   "metadata": {},
   "outputs": [],
   "source": []
  },
  {
   "cell_type": "code",
   "execution_count": null,
   "id": "artificial-impossible",
   "metadata": {},
   "outputs": [],
   "source": [
    "def readAndResults(i):\n",
    "    import json\n",
    "    import pandas as pd\n",
    "    \n",
    "    with open('results/'+i) as f:\n",
    "        data = json.load(f)\n",
    "\n",
    "    erros = ['error_HSGS', 'error_encoding_weight', 'error_encoding_input', 'error_classic', 'error_classic_bin']\n",
    "    new_data = {'error':[], 'model':[]}\n",
    "\n",
    "    for erro in erros:\n",
    "        new_data['error'] = new_data['error'] + data[erro] \n",
    "        new_data['model'] = new_data['model'] +  ( (erro+' ') * len(data[erro])).split(' ')[:-1]  \n",
    "\n",
    "    new_data = pd.DataFrame(new_data)\n",
    "\n",
    "    new_data.to_csv('results/'+i[:-5]+'_dataframe.csv', index=False)"
   ]
  },
  {
   "cell_type": "code",
   "execution_count": 11,
   "id": "intensive-appointment",
   "metadata": {},
   "outputs": [],
   "source": [
    "import json\n",
    "import pandas as pd\n",
    "\n",
    "i='version5/experiments_biased.json'"
   ]
  },
  {
   "cell_type": "code",
   "execution_count": 12,
   "id": "indoor-thermal",
   "metadata": {},
   "outputs": [],
   "source": [
    "with open('results/'+i) as f:\n",
    "    data = json.load(f)"
   ]
  },
  {
   "cell_type": "code",
   "execution_count": 13,
   "id": "academic-insider",
   "metadata": {},
   "outputs": [],
   "source": [
    "prob_data = pd.DataFrame({'output_HSGS': data['output_HSGS'], \n",
    "              'output_encoding_weight': data['output_encoding_weight'], \n",
    "              'output_encoding_input': data['output_encoding_input'] , \n",
    "              'output_phase_encoding': data['output_phase_encoding']})"
   ]
  },
  {
   "cell_type": "code",
   "execution_count": 14,
   "id": "consolidated-shoot",
   "metadata": {},
   "outputs": [],
   "source": [
    "prob_data = prob_data[0:200]"
   ]
  },
  {
   "cell_type": "code",
   "execution_count": 15,
   "id": "endless-ethics",
   "metadata": {},
   "outputs": [],
   "source": [
    "prob_data.to_csv('results/version5/predicted_biased.csv')"
   ]
  },
  {
   "cell_type": "code",
   "execution_count": null,
   "id": "virgin-classification",
   "metadata": {},
   "outputs": [],
   "source": []
  }
 ],
 "metadata": {
  "environment": {
   "name": "common-cpu.mnightly-2021-02-12-debian-10-test",
   "type": "gcloud",
   "uri": "gcr.io/deeplearning-platform-release/base-cpu:mnightly-2021-02-12-debian-10-test"
  },
  "kernelspec": {
   "display_name": "Python 3",
   "language": "python",
   "name": "python3"
  },
  "language_info": {
   "codemirror_mode": {
    "name": "ipython",
    "version": 3
   },
   "file_extension": ".py",
   "mimetype": "text/x-python",
   "name": "python",
   "nbconvert_exporter": "python",
   "pygments_lexer": "ipython3",
   "version": "3.7.9"
  }
 },
 "nbformat": 4,
 "nbformat_minor": 5
}
