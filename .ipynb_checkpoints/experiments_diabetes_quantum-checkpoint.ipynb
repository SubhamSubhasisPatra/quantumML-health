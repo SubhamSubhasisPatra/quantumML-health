{
 "cells": [
  {
   "cell_type": "code",
   "execution_count": 1,
   "metadata": {},
   "outputs": [
    {
     "name": "stderr",
     "output_type": "stream",
     "text": [
      "/opt/conda/lib/python3.7/site-packages/qiskit/aqua/__init__.py:86: DeprecationWarning: The package qiskit.aqua is deprecated. It was moved/refactored to qiskit-terra For more information see <https://github.com/Qiskit/qiskit-aqua/blob/main/README.md#migration-guide>\n",
      "  warn_package('aqua', 'qiskit-terra')\n"
     ]
    }
   ],
   "source": [
    "from code.neuron import *\n",
    "from code.encodingsource import *\n",
    "from code.hsgs import *\n",
    "from code.classical_neuron import *\n",
    "from code.classical_pso import *\n",
    "from code.sf import *\n",
    "simulator = Aer.get_backend('qasm_simulator')\n",
    "import pandas as pd\n",
    "import numpy as np\n",
    "import matplotlib.pyplot as plt\n",
    "import json\n",
    "\n",
    "from code.experiment_functions import *"
   ]
  },
  {
   "cell_type": "code",
   "execution_count": 2,
   "metadata": {},
   "outputs": [],
   "source": [
    "diabetes = pd.read_csv('data_and_results/diabetes/diabetes.csv')"
   ]
  },
  {
   "cell_type": "code",
   "execution_count": 3,
   "metadata": {},
   "outputs": [],
   "source": [
    "# normalization 0-1\n",
    "for i in diabetes.columns:\n",
    "    diabetes[i] = (diabetes[i] - diabetes[i].min()) / (diabetes[i].max() - diabetes[i].min())"
   ]
  },
  {
   "cell_type": "code",
   "execution_count": 4,
   "metadata": {},
   "outputs": [],
   "source": [
    "# split in test and train data\n",
    "from sklearn.model_selection import train_test_split\n",
    "\n",
    "X_train, X_test, y_train, y_test = train_test_split(diabetes.drop('Outcome',axis=1), diabetes['Outcome'], test_size=0.2)"
   ]
  },
  {
   "cell_type": "code",
   "execution_count": 5,
   "metadata": {},
   "outputs": [],
   "source": [
    "X_train[X_train == 0] = 0.000001\n",
    "X_test[X_test == 0] = 0.000001"
   ]
  },
  {
   "cell_type": "code",
   "execution_count": 6,
   "metadata": {},
   "outputs": [],
   "source": [
    "X_train = X_train.values.tolist()\n",
    "X_test = X_test.values.tolist()\n",
    "y_train = y_train.values.tolist()\n",
    "y_test = y_test.values.tolist()"
   ]
  },
  {
   "cell_type": "code",
   "execution_count": 7,
   "metadata": {},
   "outputs": [],
   "source": [
    "y_train = [int(x) for x in y_train]\n",
    "y_test =  [int(x) for x in y_test]"
   ]
  },
  {
   "cell_type": "code",
   "execution_count": 8,
   "metadata": {},
   "outputs": [
    {
     "data": {
      "text/plain": [
       "\"\\nwith open('data_and_results/diabetes/train_data.json', 'w+') as fp:\\n    json.dump([X_train, y_train], fp)\\n    \\nwith open('data_and_results/diabetes/test_data.json', 'w+') as fp:\\n    json.dump([X_test, y_test], fp)\\n\""
      ]
     },
     "execution_count": 8,
     "metadata": {},
     "output_type": "execute_result"
    }
   ],
   "source": [
    "\"\"\"\n",
    "with open('data_and_results/diabetes/train_data.json', 'w+') as fp:\n",
    "    json.dump([X_train, y_train], fp)\n",
    "    \n",
    "with open('data_and_results/diabetes/test_data.json', 'w+') as fp:\n",
    "    json.dump([X_test, y_test], fp)\n",
    "\"\"\""
   ]
  },
  {
   "cell_type": "code",
   "execution_count": 9,
   "metadata": {},
   "outputs": [],
   "source": [
    "with open('data_and_results/diabetes/train_data.json') as json_file:\n",
    "    X_train = json.load(json_file)[0]\n",
    "\n",
    "with open('data_and_results/diabetes/train_data.json') as json_file:\n",
    "    y_train = json.load(json_file)[1]\n",
    "    \n",
    "with open('data_and_results/diabetes/test_data.json') as json_file:\n",
    "    X_test = json.load(json_file)[0]\n",
    "\n",
    "with open('data_and_results/diabetes/test_data.json') as json_file:\n",
    "    y_test = json.load(json_file)[1]"
   ]
  },
  {
   "cell_type": "code",
   "execution_count": 10,
   "metadata": {},
   "outputs": [],
   "source": [
    "def float_to_binary(list_, m, n):\n",
    "    \"\"\"Convert the float value `x` to a binary string of length `m + n`\n",
    "    where the first `m` binary digits are the integer part and the last\n",
    "    'n' binary digits are the fractional part of `x`.\n",
    "    \"\"\"\n",
    "    list_scaled = []\n",
    "    for number in list_:\n",
    "        x_scaled = round(number * 2 ** n)\n",
    "        x_scaled = '{:0{}b}'.format(x_scaled, m + n)\n",
    "        for i in x_scaled:\n",
    "            if i == '0':\n",
    "                list_scaled.append(-1)\n",
    "            else:\n",
    "                list_scaled.append(1)\n",
    "    return list_scaled\n",
    "\n",
    "X_test_bin = []\n",
    "for i in X_test:\n",
    "    X_test_bin.append(float_to_binary(i, 1, 4))\n",
    "    \n",
    "X_train_bin = []\n",
    "for i in X_train:\n",
    "    X_train_bin.append(float_to_binary(i, 1, 4))"
   ]
  },
  {
   "cell_type": "markdown",
   "metadata": {},
   "source": [
    "## Test"
   ]
  },
  {
   "cell_type": "code",
   "execution_count": 11,
   "metadata": {},
   "outputs": [],
   "source": [
    "w = list(np.random.uniform(low=0.0, high=1.0, size=(len(X_test_bin[0]),)))"
   ]
  },
  {
   "cell_type": "code",
   "execution_count": null,
   "metadata": {},
   "outputs": [
    {
     "name": "stdout",
     "output_type": "stream",
     "text": [
      "lrParameter:  0.1\n",
      "threshold:  0.7\n",
      "trainingBias:  False\n",
      "phaseEstrategyOperator:  original\n"
     ]
    }
   ],
   "source": [
    "weights = quantumNeuronFIT(X_test_bin, \n",
    "                           y_train,\n",
    "                           init_weight = w,\n",
    "                           threshold=0.7,\n",
    "                           lrParameter=0.1, \n",
    "                           n_epochs=1, \n",
    "                           trainingBias=False,\n",
    "                           epoch_results=False,\n",
    "                           phaseEstrategyOperator='original',\n",
    "                           trainingApproaches={'hsgs'})"
   ]
  },
  {
   "cell_type": "code",
   "execution_count": null,
   "metadata": {},
   "outputs": [],
   "source": [
    "results = quantumNeuronPREDICT(X_test, \n",
    "                                   y_test,\n",
    "                                   threshold=0.7,\n",
    "                                   weightVectorsPhaseEncoding = weights[0], \n",
    "                                   weightVectorsHSGS = weights[1], \n",
    "                                   repeat=1,\n",
    "                                   bias=False, \n",
    "                                   phaseEstrategyOperator='original',\n",
    "                                   testingApproaches={'hsgs'})"
   ]
  },
  {
   "cell_type": "code",
   "execution_count": null,
   "metadata": {},
   "outputs": [],
   "source": [
    "results"
   ]
  },
  {
   "cell_type": "markdown",
   "metadata": {},
   "source": [
    "## Binary Quantum Neuron Experiments "
   ]
  },
  {
   "cell_type": "code",
   "execution_count": 8,
   "metadata": {},
   "outputs": [],
   "source": [
    "output = {'model':[],\n",
    "          'phase_strategy':[],\n",
    "            'bias':[],\n",
    "            'threshold':[],\n",
    "            'lr':[],\n",
    "            'avg_error':[],\n",
    "            'trained_weights':[],\n",
    "            'initial_weights':[],\n",
    "            'neuron_outputs':[]}"
   ]
  },
  {
   "cell_type": "code",
   "execution_count": 9,
   "metadata": {},
   "outputs": [],
   "source": [
    "# search space\n",
    "initial_weights =  list(np.random.uniform(low=0.0, high=1.0, size=(len(X_train_bin[0]),)))\n",
    "threshold_space = [0.3, 0.5, 0.7, 0.8, 0.9]\n",
    "lr_space = [0.02, 0.1]\n",
    "bias_space = [False, True]\n",
    "strategy_space = ['original']"
   ]
  },
  {
   "cell_type": "code",
   "execution_count": null,
   "metadata": {},
   "outputs": [
    {
     "name": "stdout",
     "output_type": "stream",
     "text": [
      "lrParameter:  0.02\n",
      "threshold:  0.3\n",
      "trainingBias:  False\n",
      "phaseEstrategyOperator:  original\n",
      "best error HSGS training:  124\n",
      "AVG TEST ERROR HSGS    0.3125\n",
      "\n",
      "\n",
      "lrParameter:  0.02\n",
      "threshold:  0.3\n",
      "trainingBias:  True\n",
      "phaseEstrategyOperator:  original\n"
     ]
    },
    {
     "name": "stderr",
     "output_type": "stream",
     "text": [
      "/opt/conda/lib/python3.7/site-packages/numpy/lib/function_base.py:380: RuntimeWarning: Mean of empty slice.\n",
      "  avg = a.mean(axis)\n",
      "/opt/conda/lib/python3.7/site-packages/numpy/core/_methods.py:170: RuntimeWarning: invalid value encountered in double_scalars\n",
      "  ret = ret.dtype.type(ret / rcount)\n"
     ]
    },
    {
     "name": "stdout",
     "output_type": "stream",
     "text": [
      "best error HSGS training:  122\n",
      "AVG TEST ERROR HSGS    0.45\n",
      "\n",
      "\n",
      "lrParameter:  0.1\n",
      "threshold:  0.3\n",
      "trainingBias:  False\n",
      "phaseEstrategyOperator:  original\n",
      "best error HSGS training:  129\n",
      "AVG TEST ERROR HSGS    0.5\n",
      "\n",
      "\n",
      "lrParameter:  0.1\n",
      "threshold:  0.3\n",
      "trainingBias:  True\n",
      "phaseEstrategyOperator:  original\n",
      "best error HSGS training:  118\n",
      "AVG TEST ERROR HSGS    0.4125\n",
      "\n",
      "\n",
      "lrParameter:  0.02\n",
      "threshold:  0.5\n",
      "trainingBias:  False\n",
      "phaseEstrategyOperator:  original\n",
      "best error HSGS training:  118\n",
      "AVG TEST ERROR HSGS    0.4\n",
      "\n",
      "\n",
      "lrParameter:  0.02\n",
      "threshold:  0.5\n",
      "trainingBias:  True\n",
      "phaseEstrategyOperator:  original\n",
      "best error HSGS training:  135\n",
      "AVG TEST ERROR HSGS    0.4375\n",
      "\n",
      "\n",
      "lrParameter:  0.1\n",
      "threshold:  0.5\n",
      "trainingBias:  False\n",
      "phaseEstrategyOperator:  original\n",
      "best error HSGS training:  118\n",
      "AVG TEST ERROR HSGS    0.4\n",
      "\n",
      "\n",
      "lrParameter:  0.1\n",
      "threshold:  0.5\n",
      "trainingBias:  True\n",
      "phaseEstrategyOperator:  original\n",
      "best error HSGS training:  133\n",
      "AVG TEST ERROR HSGS    0.4749999999999999\n",
      "\n",
      "\n",
      "lrParameter:  0.02\n",
      "threshold:  0.7\n",
      "trainingBias:  False\n",
      "phaseEstrategyOperator:  original\n",
      "best error HSGS training:  122\n",
      "AVG TEST ERROR HSGS    0.3375\n",
      "\n",
      "\n",
      "lrParameter:  0.02\n",
      "threshold:  0.7\n",
      "trainingBias:  True\n",
      "phaseEstrategyOperator:  original\n",
      "best error HSGS training:  118\n",
      "AVG TEST ERROR HSGS    0.36249999999999993\n",
      "\n",
      "\n",
      "lrParameter:  0.1\n",
      "threshold:  0.7\n",
      "trainingBias:  False\n",
      "phaseEstrategyOperator:  original\n",
      "best error HSGS training:  122\n",
      "AVG TEST ERROR HSGS    0.3375\n",
      "\n",
      "\n",
      "lrParameter:  0.1\n",
      "threshold:  0.7\n",
      "trainingBias:  True\n",
      "phaseEstrategyOperator:  original\n",
      "best error HSGS training:  117\n",
      "AVG TEST ERROR HSGS    0.36249999999999993\n",
      "\n",
      "\n",
      "lrParameter:  0.02\n",
      "threshold:  0.8\n",
      "trainingBias:  False\n",
      "phaseEstrategyOperator:  original\n",
      "best error HSGS training:  124\n"
     ]
    }
   ],
   "source": [
    "%%time\n",
    "for w in initial_weights:\n",
    "    for strategy in strategy_space:\n",
    "        for threshold in threshold_space:\n",
    "            for lr in lr_space:\n",
    "                for bias in bias_space:\n",
    "                    # execute experiment\n",
    "                    weights = quantumNeuronFIT(X_train_bin, \n",
    "                                               y_train,\n",
    "                                               init_weight=initial_weights,\n",
    "                                               threshold=threshold,\n",
    "                                               lrParameter=lr, \n",
    "                                               n_epochs=50, \n",
    "                                               trainingBias=bias,\n",
    "                                               phaseEstrategyOperator=strategy,\n",
    "                                               trainingApproaches={'hsgs'})\n",
    "\n",
    "                    results = quantumNeuronPREDICT(X_test_bin, \n",
    "                                                   y_test,\n",
    "                                                   threshold=threshold,\n",
    "                                                   weightVectorsPhaseEncoding = weights[0], \n",
    "                                                   weightVectorsHSGS = weights[1], \n",
    "                                                   repeat=5,\n",
    "                                                   bias=bias, \n",
    "                                                   phaseEstrategyOperator=strategy,\n",
    "                                                   testingApproaches={'hsgs'})\n",
    "\n",
    "\n",
    "                    output['model'].append('HSGS')\n",
    "                    output['lr'].append(lr)\n",
    "                    output['bias'].append(bias)\n",
    "                    output['threshold'].append(threshold)\n",
    "                    output['phase_strategy'].append(strategy)\n",
    "                    output['avg_error'].append(results[3])\n",
    "                    output['neuron_outputs'].append(results[4])\n",
    "                    output['trained_weights'].append(results[5])\n",
    "                    output['initial_weights'].append(w)\n",
    "                    print('\\n')"
   ]
  },
  {
   "cell_type": "code",
   "execution_count": 12,
   "metadata": {},
   "outputs": [],
   "source": [
    "experiment_hsgs = pd.DataFrame(output)"
   ]
  },
  {
   "cell_type": "markdown",
   "metadata": {},
   "source": [
    "## Continuously Valued Quantum Neuron Experiments"
   ]
  },
  {
   "cell_type": "code",
   "execution_count": 3,
   "metadata": {},
   "outputs": [],
   "source": [
    "output = {'model':[],\n",
    "          'phase_strategy':[],\n",
    "            'bias':[],\n",
    "            'threshold':[],\n",
    "            'lr':[],\n",
    "            'avg_error':[],\n",
    "            'trained_weights':[],\n",
    "            'initial_weights':[],\n",
    "            'neuron_outputs':[]}"
   ]
  },
  {
   "cell_type": "code",
   "execution_count": 4,
   "metadata": {},
   "outputs": [],
   "source": [
    "# search space\n",
    "initial_weights =  list(np.random.uniform(low=0.0, high=1.0, size=(len(X_test[0]),)))\n",
    "threshold_space = [0.3, 0.5, 0.7, 0.9]\n",
    "lr_space = [0.02, 0.1]\n",
    "bias_space = [False, True]\n",
    "strategy_space = ['original', 'angle', 'radius', 'angleradius']"
   ]
  },
  {
   "cell_type": "code",
   "execution_count": null,
   "metadata": {},
   "outputs": [
    {
     "name": "stdout",
     "output_type": "stream",
     "text": [
      "lrParameter:  0.02\n",
      "threshold:  0.3\n",
      "trainingBias:  False\n",
      "phaseEstrategyOperator:  original\n",
      "\n",
      "best error phase-encoding training:  196\n",
      "AVG TEST ERROR PHASE   0.6875\n",
      "\n",
      "\n",
      "lrParameter:  0.02\n",
      "threshold:  0.3\n",
      "trainingBias:  True\n",
      "phaseEstrategyOperator:  original\n"
     ]
    },
    {
     "name": "stderr",
     "output_type": "stream",
     "text": [
      "/opt/conda/lib/python3.7/site-packages/numpy/lib/function_base.py:380: RuntimeWarning: Mean of empty slice.\n",
      "  avg = a.mean(axis)\n",
      "/opt/conda/lib/python3.7/site-packages/numpy/core/_methods.py:170: RuntimeWarning: invalid value encountered in double_scalars\n",
      "  ret = ret.dtype.type(ret / rcount)\n"
     ]
    },
    {
     "name": "stdout",
     "output_type": "stream",
     "text": [
      "\n",
      "best error phase-encoding training:  115\n",
      "AVG TEST ERROR PHASE   0.3125\n",
      "\n",
      "\n",
      "lrParameter:  0.1\n",
      "threshold:  0.3\n",
      "trainingBias:  False\n",
      "phaseEstrategyOperator:  original\n",
      "\n",
      "best error phase-encoding training:  196\n",
      "AVG TEST ERROR PHASE   0.6875\n",
      "\n",
      "\n",
      "lrParameter:  0.1\n",
      "threshold:  0.3\n",
      "trainingBias:  True\n",
      "phaseEstrategyOperator:  original\n",
      "\n",
      "best error phase-encoding training:  124\n",
      "AVG TEST ERROR PHASE   0.32500000000000007\n",
      "\n",
      "\n",
      "lrParameter:  0.02\n",
      "threshold:  0.5\n",
      "trainingBias:  False\n",
      "phaseEstrategyOperator:  original\n",
      "\n",
      "best error phase-encoding training:  209\n",
      "AVG TEST ERROR PHASE   0.69875\n",
      "\n",
      "\n",
      "lrParameter:  0.02\n",
      "threshold:  0.5\n",
      "trainingBias:  True\n",
      "phaseEstrategyOperator:  original\n"
     ]
    }
   ],
   "source": [
    "%%time\n",
    "for w in initial_weights:\n",
    "    for strategy in strategy_space:\n",
    "        for threshold in threshold_space:\n",
    "            for lr in lr_space:\n",
    "                for bias in bias_space:\n",
    "                    # execute experiment\n",
    "                    weights = quantumNeuronFIT(X_train, \n",
    "                                               y_train,\n",
    "                                               init_weight=initial_weights,\n",
    "                                               threshold=threshold,\n",
    "                                               lrParameter=lr, \n",
    "                                               n_epochs=50, \n",
    "                                               trainingBias=bias,\n",
    "                                               phaseEstrategyOperator=strategy,\n",
    "                                               trainingApproaches={'phase-encoding'})\n",
    "\n",
    "                    results = quantumNeuronPREDICT(X_test, \n",
    "                                                       y_test,\n",
    "                                                       threshold=threshold,\n",
    "                                                       weightVectorsPhaseEncoding = weights[0], \n",
    "                                                       weightVectorsHSGS = weights[1], \n",
    "                                                       repeat=5,\n",
    "                                                       bias=bias, \n",
    "                                                       phaseEstrategyOperator=strategy,\n",
    "                                                       testingApproaches={'phase-encoding'})\n",
    "\n",
    "                    # get experiment results\n",
    "                    output['model'].append('phase-encoding')\n",
    "                    output['lr'].append(lr)\n",
    "                    output['bias'].append(bias)\n",
    "                    output['threshold'].append(threshold)\n",
    "                    output['phase_strategy'].append(strategy)\n",
    "                    output['avg_error'].append(results[0])\n",
    "                    output['neuron_outputs'].append(results[1])\n",
    "                    output['trained_weights'].append(results[2])\n",
    "                    output['initial_weights'].append(w)\n",
    "                    print('\\n')"
   ]
  },
  {
   "cell_type": "code",
   "execution_count": 7,
   "metadata": {},
   "outputs": [],
   "source": [
    "experiment_phase = pd.DataFrame(output)"
   ]
  },
  {
   "cell_type": "markdown",
   "metadata": {},
   "source": [
    "### Save Results"
   ]
  },
  {
   "cell_type": "code",
   "execution_count": null,
   "metadata": {},
   "outputs": [],
   "source": [
    "experiments = pd.concat([experiment_hsgs, experiment_phase])"
   ]
  },
  {
   "cell_type": "code",
   "execution_count": null,
   "metadata": {},
   "outputs": [],
   "source": [
    "experiments.to_csv('data_and_results/diabetes/experiments_diabetes.csv')"
   ]
  }
 ],
 "metadata": {
  "environment": {
   "name": "common-cpu.m76",
   "type": "gcloud",
   "uri": "gcr.io/deeplearning-platform-release/base-cpu:m76"
  },
  "kernelspec": {
   "display_name": "Python 3",
   "language": "python",
   "name": "python3"
  },
  "language_info": {
   "codemirror_mode": {
    "name": "ipython",
    "version": 3
   },
   "file_extension": ".py",
   "mimetype": "text/x-python",
   "name": "python",
   "nbconvert_exporter": "python",
   "pygments_lexer": "ipython3",
   "version": "3.7.10"
  }
 },
 "nbformat": 4,
 "nbformat_minor": 4
}
