{
 "cells": [
  {
   "cell_type": "code",
   "execution_count": 1,
   "metadata": {},
   "outputs": [
    {
     "name": "stderr",
     "output_type": "stream",
     "text": [
      "/opt/conda/lib/python3.7/site-packages/qiskit/aqua/__init__.py:86: DeprecationWarning: The package qiskit.aqua is deprecated. It was moved/refactored to qiskit-terra For more information see <https://github.com/Qiskit/qiskit-aqua/blob/main/README.md#migration-guide>\n",
      "  warn_package('aqua', 'qiskit-terra')\n"
     ]
    }
   ],
   "source": [
    "from code.neuron import *\n",
    "from code.encodingsource import *\n",
    "from code.hsgs import *\n",
    "from code.classical_neuron import *\n",
    "from code.classical_pso import *\n",
    "from code.sf import *\n",
    "simulator = Aer.get_backend('qasm_simulator')\n",
    "import pandas as pd\n",
    "import numpy as np\n",
    "import matplotlib.pyplot as plt\n",
    "import json\n",
    "from scipy import stats\n",
    "\n",
    "\n",
    "from code.experiment_functions import *"
   ]
  },
  {
   "cell_type": "code",
   "execution_count": 2,
   "metadata": {},
   "outputs": [],
   "source": [
    "diabetes = pd.read_csv('data_and_results/diabetes/diabetes.csv')"
   ]
  },
  {
   "cell_type": "code",
   "execution_count": 3,
   "metadata": {},
   "outputs": [],
   "source": [
    "# normalization 0-1\n",
    "for i in diabetes.columns:\n",
    "    diabetes[i] = (diabetes[i] - diabetes[i].min()) / (diabetes[i].max() - diabetes[i].min())"
   ]
  },
  {
   "cell_type": "code",
   "execution_count": 4,
   "metadata": {},
   "outputs": [],
   "source": [
    "# split in test and train data\n",
    "from sklearn.model_selection import train_test_split\n",
    "\n",
    "X_train, X_test, y_train, y_test = train_test_split(diabetes.drop('Outcome',axis=1), diabetes['Outcome'], test_size=0.2)"
   ]
  },
  {
   "cell_type": "markdown",
   "metadata": {},
   "source": [
    "### Train and Test MLP for Comparison"
   ]
  },
  {
   "cell_type": "code",
   "execution_count": 23,
   "metadata": {},
   "outputs": [],
   "source": [
    "from sklearn.model_selection import GridSearchCV\n",
    "from sklearn.neural_network import MLPClassifier\n",
    "from sklearn import metrics"
   ]
  },
  {
   "cell_type": "code",
   "execution_count": 24,
   "metadata": {},
   "outputs": [],
   "source": [
    "parameter_space = {\n",
    "    'hidden_layer_sizes': [(50,50,50), (50,100,50), (100,)],\n",
    "    'activation': ['tanh', 'relu'],\n",
    "    'solver': ['sgd', 'adam'],\n",
    "    'alpha': [0.0001, 0.05],\n",
    "    'learning_rate': ['constant','adaptive'],\n",
    "}"
   ]
  },
  {
   "cell_type": "code",
   "execution_count": 25,
   "metadata": {},
   "outputs": [
    {
     "name": "stderr",
     "output_type": "stream",
     "text": [
      "/opt/conda/lib/python3.7/site-packages/sklearn/neural_network/_multilayer_perceptron.py:617: ConvergenceWarning: Stochastic Optimizer: Maximum iterations (100) reached and the optimization hasn't converged yet.\n",
      "  % self.max_iter, ConvergenceWarning)\n"
     ]
    },
    {
     "data": {
      "text/plain": [
       "GridSearchCV(cv=3, estimator=MLPClassifier(max_iter=100), n_jobs=-1,\n",
       "             param_grid={'activation': ['tanh', 'relu'],\n",
       "                         'alpha': [0.0001, 0.05],\n",
       "                         'hidden_layer_sizes': [(50, 50, 50), (50, 100, 50),\n",
       "                                                (100,)],\n",
       "                         'learning_rate': ['constant', 'adaptive'],\n",
       "                         'solver': ['sgd', 'adam']})"
      ]
     },
     "execution_count": 25,
     "metadata": {},
     "output_type": "execute_result"
    }
   ],
   "source": [
    "mlp = MLPClassifier(max_iter=100)\n",
    "clf = GridSearchCV(mlp, parameter_space, n_jobs=-1, cv=3)\n",
    "clf.fit(X_train, y_train)"
   ]
  },
  {
   "cell_type": "code",
   "execution_count": 26,
   "metadata": {},
   "outputs": [
    {
     "name": "stdout",
     "output_type": "stream",
     "text": [
      "Best parameters found:\n",
      " {'activation': 'relu', 'alpha': 0.05, 'hidden_layer_sizes': (50, 50, 50), 'learning_rate': 'adaptive', 'solver': 'adam'}\n"
     ]
    }
   ],
   "source": [
    "print('Best parameters found:\\n', clf.best_params_)"
   ]
  },
  {
   "cell_type": "code",
   "execution_count": 27,
   "metadata": {},
   "outputs": [],
   "source": [
    "predicted = clf.predict(X_test)"
   ]
  },
  {
   "cell_type": "code",
   "execution_count": 28,
   "metadata": {},
   "outputs": [
    {
     "name": "stdout",
     "output_type": "stream",
     "text": [
      "0.7288135593220338\n",
      "0.8051948051948052\n",
      "0.7543859649122807\n",
      "0.7413793103448276\n",
      "0.7947187556520168\n"
     ]
    }
   ],
   "source": [
    "print(metrics.precision_score(y_test, predicted))\n",
    "print(metrics.accuracy_score(y_test, predicted))\n",
    "print(metrics.recall_score(y_test, predicted))\n",
    "print(metrics.f1_score(y_test, predicted))\n",
    "print(metrics.roc_auc_score(y_test, predicted))"
   ]
  },
  {
   "cell_type": "code",
   "execution_count": 29,
   "metadata": {},
   "outputs": [],
   "source": [
    "predicted = clf.predict_proba(X_test)"
   ]
  },
  {
   "cell_type": "code",
   "execution_count": 30,
   "metadata": {},
   "outputs": [],
   "source": [
    "predicted = [i[1] for i in predicted]"
   ]
  },
  {
   "cell_type": "code",
   "execution_count": 31,
   "metadata": {},
   "outputs": [
    {
     "data": {
      "text/plain": [
       "KstestResult(statistic=0.5997467896545488, pvalue=1.36590738719633e-12)"
      ]
     },
     "execution_count": 31,
     "metadata": {},
     "output_type": "execute_result"
    }
   ],
   "source": [
    "indicesa = [i for i, x in enumerate(y_test) if x == 0]\n",
    "a = list(map(predicted.__getitem__, indicesa))\n",
    "indicesb = [i for i, x in enumerate(y_test) if x == 1]\n",
    "b = list(map(predicted.__getitem__, indicesb))\n",
    "#stats.ks_2samp(a, b)[1]\n",
    "stats.ks_2samp(a, b)\n"
   ]
  },
  {
   "cell_type": "code",
   "execution_count": 32,
   "metadata": {},
   "outputs": [
    {
     "data": {
      "text/plain": [
       "0.656352622349753"
      ]
     },
     "execution_count": 32,
     "metadata": {},
     "output_type": "execute_result"
    }
   ],
   "source": [
    "np.min(clf.cv_results_['mean_test_score'])"
   ]
  },
  {
   "cell_type": "markdown",
   "metadata": {},
   "source": [
    "### Train and Test Classical Neuron for Comparison"
   ]
  },
  {
   "cell_type": "code",
   "execution_count": null,
   "metadata": {},
   "outputs": [],
   "source": [
    "from sklearn.linear_model import Perceptron"
   ]
  },
  {
   "cell_type": "code",
   "execution_count": null,
   "metadata": {},
   "outputs": [],
   "source": [
    "parameter_space = {\n",
    "    'penalty': ['l2', 'l1', 'elasticnet']\n",
    "}"
   ]
  },
  {
   "cell_type": "code",
   "execution_count": null,
   "metadata": {},
   "outputs": [],
   "source": [
    "percep = Perceptron()\n",
    "clf = GridSearchCV(percep, parameter_space, n_jobs=-1, cv=3)\n",
    "clf.fit(X_train, y_train)"
   ]
  },
  {
   "cell_type": "code",
   "execution_count": null,
   "metadata": {},
   "outputs": [],
   "source": [
    "print('Best parameters found:\\n', clf.best_params_)"
   ]
  },
  {
   "cell_type": "code",
   "execution_count": null,
   "metadata": {},
   "outputs": [],
   "source": [
    "predicted = clf.predict(X_test)"
   ]
  },
  {
   "cell_type": "code",
   "execution_count": null,
   "metadata": {},
   "outputs": [],
   "source": [
    "print(metrics.precision_score(y_test, predicted))\n",
    "print(metrics.accuracy_score(y_test, predicted))\n",
    "print(metrics.recall_score(y_test, predicted))\n",
    "print(metrics.f1_score(y_test, predicted))\n",
    "print(metrics.roc_auc_score(y_test, predicted))"
   ]
  },
  {
   "cell_type": "code",
   "execution_count": null,
   "metadata": {},
   "outputs": [],
   "source": [
    "predicted"
   ]
  },
  {
   "cell_type": "code",
   "execution_count": null,
   "metadata": {},
   "outputs": [],
   "source": [
    "predicted = clf.predict(X_test)\n",
    "#predicted = [i[1] for i in predicted]"
   ]
  },
  {
   "cell_type": "code",
   "execution_count": 18,
   "metadata": {},
   "outputs": [],
   "source": [
    "def KS(predicted, y_test):\n",
    "    indicesa = [i for i, x in enumerate(y_test) if x == 0]\n",
    "    a = list(map(predicted.__getitem__, indicesa))\n",
    "    indicesb = [i for i, x in enumerate(y_test) if x == 1]\n",
    "    b = list(map(predicted.__getitem__, indicesb))\n",
    "    #stats.ks_2samp(a, b)[1]\n",
    "    return stats.ks_2samp(a, b)\n"
   ]
  },
  {
   "cell_type": "code",
   "execution_count": null,
   "metadata": {},
   "outputs": [],
   "source": [
    "p_precision_score=[]\n",
    "p_accuracy_score=[]\n",
    "p_recall_score=[]\n",
    "p_f1_score=[]"
   ]
  },
  {
   "cell_type": "code",
   "execution_count": null,
   "metadata": {},
   "outputs": [],
   "source": [
    "for pen in ['l2', 'l1', 'elasticnet']:\n",
    "    for i in range(10):\n",
    "        percep = Perceptron(penalty=pen)\n",
    "        percep.fit(X_train, y_train)\n",
    "        predicted = clf.predict(X_test)\n",
    "        p_precision_score.append(metrics.precision_score(y_test, predicted))\n",
    "        p_accuracy_score.append(metrics.accuracy_score(y_test, predicted))\n",
    "        p_recall_score.append(metrics.recall_score(y_test, predicted))\n",
    "        p_f1_score.append(metrics.f1_score(y_test, predicted))"
   ]
  },
  {
   "cell_type": "code",
   "execution_count": null,
   "metadata": {},
   "outputs": [],
   "source": [
    "print(np.max(p_precision_score))\n",
    "print(np.max(p_accuracy_score))\n",
    "print(np.mean(p_accuracy_score))\n",
    "print(np.max(p_recall_score))\n",
    "print(np.max(p_f1_score))"
   ]
  },
  {
   "cell_type": "markdown",
   "metadata": {},
   "source": [
    "## Preprocessing for classical"
   ]
  },
  {
   "cell_type": "code",
   "execution_count": 5,
   "metadata": {},
   "outputs": [],
   "source": [
    "def angleTransformation(inputVector):\n",
    "    inputVector = [math.atan(inputVector[i]/inputVector[i+1]) for i in range(0, len(inputVector), 2)] + [np.sqrt(sum([i*i for i in inputVector])), math.asin(inputVector[-1]/np.sqrt(sum([i*i for i in inputVector])))] + [0]*(int(len(inputVector)/2) -2)\n",
    "    return inputVector\n",
    "\n",
    "def radiusTransformation(inputVector):\n",
    "    inputVector = [math.sqrt(inputVector[i]**2 + inputVector[i+1]**2) for i in range(0, len(inputVector), 2)] + [np.sqrt(sum([i*i for i in inputVector])), math.asin(inputVector[-1]/np.sqrt(sum([i*i for i in inputVector])))] + [0]*(int(len(inputVector)/2) - 2)\n",
    "    return inputVector\n",
    "\n",
    "def angleRadiusTransformation(inputVector):\n",
    "    inputVector = [math.sqrt(inputVector[i]**2 + inputVector[i+1]**2) for i in range(0, len(inputVector), 2)] + [math.atan(inputVector[i]/inputVector[i+1]) for i in range(0, len(inputVector), 2)] + [np.sqrt(sum([i*i for i in inputVector])), math.asin(inputVector[-1]/np.sqrt(sum([i*i for i in inputVector])))] \n",
    "    return inputVector"
   ]
  },
  {
   "cell_type": "code",
   "execution_count": 6,
   "metadata": {},
   "outputs": [
    {
     "name": "stderr",
     "output_type": "stream",
     "text": [
      "/opt/conda/lib/python3.7/site-packages/ipykernel_launcher.py:2: RuntimeWarning: divide by zero encountered in double_scalars\n",
      "  \n",
      "/opt/conda/lib/python3.7/site-packages/ipykernel_launcher.py:2: RuntimeWarning: invalid value encountered in double_scalars\n",
      "  \n",
      "/opt/conda/lib/python3.7/site-packages/ipykernel_launcher.py:10: RuntimeWarning: divide by zero encountered in double_scalars\n",
      "  # Remove the CWD from sys.path while we load stuff.\n",
      "/opt/conda/lib/python3.7/site-packages/ipykernel_launcher.py:10: RuntimeWarning: invalid value encountered in double_scalars\n",
      "  # Remove the CWD from sys.path while we load stuff.\n"
     ]
    }
   ],
   "source": [
    "X_train_angle = X_train.apply(angleTransformation, axis=1).apply(pd.Series).fillna(0)\n",
    "X_train_radius = X_train.apply(radiusTransformation, axis=1).apply(pd.Series).fillna(0)\n",
    "X_train_angle_radius = X_train.apply(angleRadiusTransformation, axis=1).apply(pd.Series).fillna(0)"
   ]
  },
  {
   "cell_type": "code",
   "execution_count": 7,
   "metadata": {},
   "outputs": [
    {
     "name": "stderr",
     "output_type": "stream",
     "text": [
      "/opt/conda/lib/python3.7/site-packages/ipykernel_launcher.py:2: RuntimeWarning: divide by zero encountered in double_scalars\n",
      "  \n",
      "/opt/conda/lib/python3.7/site-packages/ipykernel_launcher.py:2: RuntimeWarning: invalid value encountered in double_scalars\n",
      "  \n",
      "/opt/conda/lib/python3.7/site-packages/ipykernel_launcher.py:10: RuntimeWarning: divide by zero encountered in double_scalars\n",
      "  # Remove the CWD from sys.path while we load stuff.\n",
      "/opt/conda/lib/python3.7/site-packages/ipykernel_launcher.py:10: RuntimeWarning: invalid value encountered in double_scalars\n",
      "  # Remove the CWD from sys.path while we load stuff.\n"
     ]
    }
   ],
   "source": [
    "X_test_angle = X_test.apply(angleTransformation, axis=1).apply(pd.Series).fillna(0)\n",
    "X_test_radius = X_test.apply(radiusTransformation, axis=1).apply(pd.Series).fillna(0)\n",
    "X_test_angle_radius = X_test.apply(angleRadiusTransformation, axis=1).apply(pd.Series).fillna(0)"
   ]
  },
  {
   "cell_type": "markdown",
   "metadata": {},
   "source": [
    "### MLP with preprocessing strategies"
   ]
  },
  {
   "cell_type": "code",
   "execution_count": 37,
   "metadata": {},
   "outputs": [],
   "source": [
    "def runMLP(X_train, y_train, X_test, y_test):\n",
    "    from sklearn.model_selection import GridSearchCV\n",
    "    from sklearn.neural_network import MLPClassifier\n",
    "    from sklearn import metrics\n",
    "\n",
    "    parameter_space = {\n",
    "        'hidden_layer_sizes': [(50,50,50), (50,100,50), (100,)],\n",
    "        'activation': ['tanh', 'relu'],\n",
    "        'solver': ['sgd', 'adam'],\n",
    "        'alpha': [0.0001, 0.05],\n",
    "        'learning_rate': ['constant','adaptive'],\n",
    "    }\n",
    "\n",
    "    mlp = MLPClassifier(max_iter=100)\n",
    "    clf = GridSearchCV(mlp, parameter_space, n_jobs=-1, cv=3)\n",
    "    clf.fit(X_train, y_train)\n",
    "\n",
    "    predicted = clf.predict(X_test)\n",
    "    \n",
    "    print('accuracy_score: ', metrics.accuracy_score(y_test, predicted))\n",
    "    print('min accuracy_score : ', np.min(clf.cv_results_['mean_test_score']))\n",
    "    print('precision_score: ', metrics.precision_score(y_test, predicted))\n",
    "    print('recall_score: ', metrics.recall_score(y_test, predicted))\n",
    "    print('f1_score: ', metrics.f1_score(y_test, predicted))\n",
    "    print('roc_auc_score: ', metrics.roc_auc_score(y_test, predicted))\n",
    "    print('Kolmogorov-Smirnov : ', KS(predicted, y_test))\n",
    "    \n",
    "    "
   ]
  },
  {
   "cell_type": "code",
   "execution_count": 34,
   "metadata": {},
   "outputs": [
    {
     "name": "stdout",
     "output_type": "stream",
     "text": [
      "accuracy_score:  0.7337662337662337\n",
      "min accuracy_score :  0.656344651681811\n",
      "precision_score:  0.6538461538461539\n",
      "recall_score:  0.5964912280701754\n",
      "f1_score:  0.6238532110091742\n",
      "roc_auc_score:  0.7054621088804486\n",
      "Kolmogorov-Smirnov :  KstestResult(statistic=0.4109242177608971, pvalue=5.800445875614457e-06)\n"
     ]
    },
    {
     "name": "stderr",
     "output_type": "stream",
     "text": [
      "/opt/conda/lib/python3.7/site-packages/sklearn/neural_network/_multilayer_perceptron.py:617: ConvergenceWarning: Stochastic Optimizer: Maximum iterations (100) reached and the optimization hasn't converged yet.\n",
      "  % self.max_iter, ConvergenceWarning)\n"
     ]
    }
   ],
   "source": [
    "runMLP(X_train_angle, y_train, X_test_angle, y_test)"
   ]
  },
  {
   "cell_type": "code",
   "execution_count": 35,
   "metadata": {},
   "outputs": [
    {
     "name": "stdout",
     "output_type": "stream",
     "text": [
      "accuracy_score:  0.7792207792207793\n",
      "min accuracy_score :  0.656344651681811\n",
      "precision_score:  0.7804878048780488\n",
      "recall_score:  0.5614035087719298\n",
      "f1_score:  0.653061224489796\n",
      "roc_auc_score:  0.7343100018086453\n",
      "Kolmogorov-Smirnov :  KstestResult(statistic=0.46862000361729067, pvalue=1.1206235561722622e-07)\n"
     ]
    }
   ],
   "source": [
    "runMLP(X_train_radius, y_train, X_test_radius, y_test)"
   ]
  },
  {
   "cell_type": "code",
   "execution_count": 36,
   "metadata": {},
   "outputs": [
    {
     "name": "stdout",
     "output_type": "stream",
     "text": [
      "accuracy_score:  0.7792207792207793\n",
      "min accuracy_score :  0.656336681013869\n",
      "precision_score:  0.7090909090909091\n",
      "recall_score:  0.6842105263157895\n",
      "f1_score:  0.6964285714285715\n",
      "roc_auc_score:  0.759631036353771\n",
      "Kolmogorov-Smirnov :  KstestResult(statistic=0.5192620727075421, pvalue=2.1363334434809644e-09)\n"
     ]
    },
    {
     "name": "stderr",
     "output_type": "stream",
     "text": [
      "/opt/conda/lib/python3.7/site-packages/sklearn/neural_network/_multilayer_perceptron.py:617: ConvergenceWarning: Stochastic Optimizer: Maximum iterations (100) reached and the optimization hasn't converged yet.\n",
      "  % self.max_iter, ConvergenceWarning)\n"
     ]
    }
   ],
   "source": [
    "runMLP(X_train_angle_radius, y_train, X_test_angle_radius, y_test)"
   ]
  },
  {
   "cell_type": "markdown",
   "metadata": {},
   "source": [
    "## CP with preprocessing strategies"
   ]
  },
  {
   "cell_type": "code",
   "execution_count": 38,
   "metadata": {},
   "outputs": [],
   "source": [
    "def runCP(X_train, y_train, X_test, y_test):\n",
    "    from sklearn.linear_model import Perceptron\n",
    "\n",
    "    parameter_space = {\n",
    "    'penalty': ['l2', 'l1', 'elasticnet']\n",
    "    }\n",
    "\n",
    "    percep = Perceptron()\n",
    "    clf = GridSearchCV(percep, parameter_space, n_jobs=-1, cv=3)\n",
    "    clf.fit(X_train, y_train)\n",
    "\n",
    "    predicted = clf.predict(X_test)\n",
    "    \n",
    "    print('accuracy_score: ', metrics.accuracy_score(y_test, predicted))\n",
    "    print('min accuracy_score : ', np.min(clf.cv_results_['mean_test_score']))\n",
    "    print('precision_score: ', metrics.precision_score(y_test, predicted))\n",
    "    print('recall_score: ', metrics.recall_score(y_test, predicted))\n",
    "    print('f1_score: ', metrics.f1_score(y_test, predicted))\n",
    "    print('roc_auc_score: ', metrics.roc_auc_score(y_test, predicted))\n",
    "    print('Kolmogorov-Smirnov : ', KS(predicted, y_test))\n",
    "    "
   ]
  },
  {
   "cell_type": "code",
   "execution_count": 39,
   "metadata": {},
   "outputs": [
    {
     "name": "stdout",
     "output_type": "stream",
     "text": [
      "accuracy_score:  0.5194805194805194\n",
      "min accuracy_score :  0.6058982942770604\n",
      "precision_score:  0.43410852713178294\n",
      "recall_score:  0.9824561403508771\n",
      "f1_score:  0.6021505376344086\n",
      "roc_auc_score:  0.6149394103816241\n",
      "Kolmogorov-Smirnov :  KstestResult(statistic=0.22987882076324834, pvalue=0.03640309894586102)\n"
     ]
    }
   ],
   "source": [
    "runCP(X_train_angle, y_train, X_test_angle, y_test)"
   ]
  },
  {
   "cell_type": "code",
   "execution_count": 40,
   "metadata": {},
   "outputs": [
    {
     "name": "stdout",
     "output_type": "stream",
     "text": [
      "accuracy_score:  0.7272727272727273\n",
      "min accuracy_score :  0.7133269567989796\n",
      "precision_score:  0.8571428571428571\n",
      "recall_score:  0.3157894736842105\n",
      "f1_score:  0.46153846153846156\n",
      "roc_auc_score:  0.6424308193163322\n",
      "Kolmogorov-Smirnov :  KstestResult(statistic=0.2848616386326641, pvalue=0.004443827418292412)\n"
     ]
    }
   ],
   "source": [
    "runCP(X_train_radius, y_train, X_test_radius, y_test)"
   ]
  },
  {
   "cell_type": "code",
   "execution_count": 41,
   "metadata": {},
   "outputs": [
    {
     "name": "stdout",
     "output_type": "stream",
     "text": [
      "accuracy_score:  0.7597402597402597\n",
      "min accuracy_score :  0.6109676390881557\n",
      "precision_score:  0.6428571428571429\n",
      "recall_score:  0.7894736842105263\n",
      "f1_score:  0.7086614173228346\n",
      "roc_auc_score:  0.7658708627238199\n",
      "Kolmogorov-Smirnov :  KstestResult(statistic=0.5317417254476398, pvalue=7.559796122436069e-10)\n"
     ]
    }
   ],
   "source": [
    "runCP(X_train_angle_radius, y_train, X_test_angle_radius, y_test)"
   ]
  },
  {
   "cell_type": "code",
   "execution_count": null,
   "metadata": {},
   "outputs": [],
   "source": []
  }
 ],
 "metadata": {
  "environment": {
   "name": "common-cpu.m76",
   "type": "gcloud",
   "uri": "gcr.io/deeplearning-platform-release/base-cpu:m76"
  },
  "kernelspec": {
   "display_name": "Python 3",
   "language": "python",
   "name": "python3"
  },
  "language_info": {
   "codemirror_mode": {
    "name": "ipython",
    "version": 3
   },
   "file_extension": ".py",
   "mimetype": "text/x-python",
   "name": "python",
   "nbconvert_exporter": "python",
   "pygments_lexer": "ipython3",
   "version": "3.7.10"
  }
 },
 "nbformat": 4,
 "nbformat_minor": 4
}
