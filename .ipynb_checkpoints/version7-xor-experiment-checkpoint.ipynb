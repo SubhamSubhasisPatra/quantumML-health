{
 "cells": [
  {
   "cell_type": "code",
   "execution_count": 1,
   "metadata": {},
   "outputs": [],
   "source": [
    "from code.neuron import *\n",
    "from code.encodingsource import *\n",
    "from code.hsgs import *\n",
    "from code.classical_neuron import *\n",
    "from code.classical_pso import *\n",
    "from code.sf import *\n",
    "simulator = Aer.get_backend('qasm_simulator')\n",
    "import pandas as pd\n",
    "import numpy as np\n",
    "import matplotlib.pyplot as plt\n",
    "import json\n",
    "import time \n",
    "\n",
    "from code.experiment_functions import * "
   ]
  },
  {
   "cell_type": "code",
   "execution_count": 2,
   "metadata": {},
   "outputs": [],
   "source": [
    "X_train = [[-1, -1],  [-1,1], [1,1], [1,-1]]\n",
    "y_train = [1, 0, 1, 0]\n",
    "\n",
    "X_test =  [[-1, -1],  [-1,1], [1,1], [1,-1]]\n",
    "y_test =  [1, 0, 1, 0]"
   ]
  },
  {
   "cell_type": "code",
   "execution_count": 3,
   "metadata": {},
   "outputs": [],
   "source": [
    "with open('results/version7/train_xor.json', 'w+') as fp:\n",
    "    json.dump([X_train, y_train], fp)\n",
    "    \n",
    "with open('results/version7/test_xor.json', 'w+') as fp:\n",
    "    json.dump([X_test, y_test], fp)"
   ]
  },
  {
   "cell_type": "markdown",
   "metadata": {},
   "source": [
    "### Tests"
   ]
  },
  {
   "cell_type": "code",
   "execution_count": 5,
   "metadata": {},
   "outputs": [],
   "source": [
    "w = list(np.random.uniform(low=0.0, high=1.0, size=(len(X_test[0]),)))"
   ]
  },
  {
   "cell_type": "code",
   "execution_count": 8,
   "metadata": {},
   "outputs": [
    {
     "name": "stdout",
     "output_type": "stream",
     "text": [
      "lrParameter:  0.1\n",
      "threshold:  0.5\n",
      "trainingBias:  True\n",
      "phaseEstrategyOperator:  phase-encoding-phase\n",
      "best error HSGS training:  1\n"
     ]
    }
   ],
   "source": [
    "weights = quantumNeuronFIT(X_train, \n",
    "                           y_train,\n",
    "                           init_weight = w,\n",
    "                           threshold=0.5,\n",
    "                           lrParameter=0.1, \n",
    "                           n_epochs=20, \n",
    "                           trainingBias=True,\n",
    "                           epoch_results=False,\n",
    "                           trainingApproaches={'hsgs'})"
   ]
  },
  {
   "cell_type": "code",
   "execution_count": 9,
   "metadata": {},
   "outputs": [
    {
     "name": "stdout",
     "output_type": "stream",
     "text": [
      "AVG TEST ERROR HSGS    0.0\n"
     ]
    },
    {
     "name": "stderr",
     "output_type": "stream",
     "text": [
      "/opt/conda/lib/python3.7/site-packages/numpy/lib/function_base.py:380: RuntimeWarning: Mean of empty slice.\n",
      "  avg = a.mean(axis)\n",
      "/opt/conda/lib/python3.7/site-packages/numpy/core/_methods.py:170: RuntimeWarning: invalid value encountered in double_scalars\n",
      "  ret = ret.dtype.type(ret / rcount)\n"
     ]
    }
   ],
   "source": [
    "results = quantumNeuronPREDICT(X_test, \n",
    "                                   y_test,\n",
    "                                   threshold=0.5,\n",
    "                                   weightVectorsPhaseEncoding = weights[0], \n",
    "                                   weightVectorsHSGS = weights[1], \n",
    "                                   repeat=10,\n",
    "                                   bias=False, \n",
    "                                   testingApproaches={'hsgs'})"
   ]
  },
  {
   "cell_type": "code",
   "execution_count": 10,
   "metadata": {},
   "outputs": [
    {
     "name": "stdout",
     "output_type": "stream",
     "text": [
      "\\HSGS avg_error 0.0\n",
      "HSGS weights [0.17630828937395723, 0.8799187922401146, -1.0999999999999999, -1.0999999999999999]\n",
      "HSGS neuron_outputs:  [1, 0, 1, 0, 1, 0, 1, 0, 1, 0, 1, 0, 1, 0, 1, 0, 1, 0, 1, 0, 1, 0, 1, 0, 1, 0, 1, 0, 1, 0, 1, 0, 1, 0, 1, 0, 1, 0, 1, 0]\n",
      "targets:  [1, 0, 1, 0, 1, 0, 1, 0, 1, 0, 1, 0, 1, 0, 1, 0, 1, 0, 1, 0, 1, 0, 1, 0, 1, 0, 1, 0, 1, 0, 1, 0, 1, 0, 1, 0, 1, 0, 1, 0]\n"
     ]
    }
   ],
   "source": [
    "print('\\HSGS avg_error', results[3])\n",
    "print('HSGS weights', results[5])\n",
    "print('HSGS neuron_outputs: ', results[4])\n",
    "print('targets: ', results[6])"
   ]
  },
  {
   "cell_type": "markdown",
   "metadata": {},
   "source": [
    "## Binary Quantum Neuron Experiments "
   ]
  },
  {
   "cell_type": "code",
   "execution_count": 4,
   "metadata": {},
   "outputs": [],
   "source": [
    "output = {'model':[],\n",
    "          'phase_strategy':[],\n",
    "            'bias':[],\n",
    "            'threshold':[],\n",
    "            'lr':[],\n",
    "            'avg_error':[],\n",
    "            'trained_weights':[],\n",
    "            'initial_weights':[],\n",
    "            'neuron_outputs':[]}"
   ]
  },
  {
   "cell_type": "code",
   "execution_count": 5,
   "metadata": {},
   "outputs": [],
   "source": [
    "# search space\n",
    "initial_weights =  list(np.random.uniform(low=0.0, high=1.0, size=(len(X_train[0]),)))\n",
    "threshold_space = [0.1, 0.3, 0.5, 0.7, 0.8]\n",
    "lr_space = [0.02, 0.1]\n",
    "bias_space = [False, True]\n",
    "strategy_space = ['original']"
   ]
  },
  {
   "cell_type": "code",
   "execution_count": null,
   "metadata": {},
   "outputs": [
    {
     "name": "stdout",
     "output_type": "stream",
     "text": [
      "lrParameter:  0.02\n",
      "threshold:  0.1\n",
      "trainingBias:  False\n",
      "phaseEstrategyOperator:  original\n",
      "best error HSGS training:  0\n",
      "AVG TEST ERROR HSGS    0.0\n",
      "\n",
      "\n",
      "lrParameter:  0.02\n",
      "threshold:  0.1\n",
      "trainingBias:  True\n",
      "phaseEstrategyOperator:  original\n"
     ]
    },
    {
     "name": "stderr",
     "output_type": "stream",
     "text": [
      "/opt/conda/lib/python3.7/site-packages/numpy/lib/function_base.py:380: RuntimeWarning: Mean of empty slice.\n",
      "  avg = a.mean(axis)\n",
      "/opt/conda/lib/python3.7/site-packages/numpy/core/_methods.py:170: RuntimeWarning: invalid value encountered in double_scalars\n",
      "  ret = ret.dtype.type(ret / rcount)\n"
     ]
    },
    {
     "name": "stdout",
     "output_type": "stream",
     "text": [
      "best error HSGS training:  3\n",
      "AVG TEST ERROR HSGS    0.75\n",
      "\n",
      "\n",
      "lrParameter:  0.1\n",
      "threshold:  0.1\n",
      "trainingBias:  False\n",
      "phaseEstrategyOperator:  original\n",
      "best error HSGS training:  0\n",
      "AVG TEST ERROR HSGS    0.0\n",
      "\n",
      "\n",
      "lrParameter:  0.1\n",
      "threshold:  0.1\n",
      "trainingBias:  True\n",
      "phaseEstrategyOperator:  original\n",
      "best error HSGS training:  3\n",
      "AVG TEST ERROR HSGS    0.75\n",
      "\n",
      "\n",
      "lrParameter:  0.02\n",
      "threshold:  0.3\n",
      "trainingBias:  False\n",
      "phaseEstrategyOperator:  original\n",
      "best error HSGS training:  0\n",
      "AVG TEST ERROR HSGS    0.0\n",
      "\n",
      "\n",
      "lrParameter:  0.02\n",
      "threshold:  0.3\n",
      "trainingBias:  True\n",
      "phaseEstrategyOperator:  original\n",
      "best error HSGS training:  1\n",
      "AVG TEST ERROR HSGS    0.25\n",
      "\n",
      "\n",
      "lrParameter:  0.1\n",
      "threshold:  0.3\n",
      "trainingBias:  False\n",
      "phaseEstrategyOperator:  original\n",
      "best error HSGS training:  0\n",
      "AVG TEST ERROR HSGS    0.0\n",
      "\n",
      "\n",
      "lrParameter:  0.1\n",
      "threshold:  0.3\n",
      "trainingBias:  True\n",
      "phaseEstrategyOperator:  original\n",
      "best error HSGS training:  1\n",
      "AVG TEST ERROR HSGS    0.25\n",
      "\n",
      "\n",
      "lrParameter:  0.02\n",
      "threshold:  0.5\n",
      "trainingBias:  False\n",
      "phaseEstrategyOperator:  original\n",
      "best error HSGS training:  0\n",
      "AVG TEST ERROR HSGS    0.0\n",
      "\n",
      "\n",
      "lrParameter:  0.02\n",
      "threshold:  0.5\n",
      "trainingBias:  True\n",
      "phaseEstrategyOperator:  original\n",
      "best error HSGS training:  1\n",
      "AVG TEST ERROR HSGS    0.25\n",
      "\n",
      "\n",
      "lrParameter:  0.1\n",
      "threshold:  0.5\n",
      "trainingBias:  False\n",
      "phaseEstrategyOperator:  original\n",
      "best error HSGS training:  0\n",
      "AVG TEST ERROR HSGS    0.0\n",
      "\n",
      "\n",
      "lrParameter:  0.1\n",
      "threshold:  0.5\n",
      "trainingBias:  True\n",
      "phaseEstrategyOperator:  original\n",
      "best error HSGS training:  1\n",
      "AVG TEST ERROR HSGS    0.25\n",
      "\n",
      "\n",
      "lrParameter:  0.02\n",
      "threshold:  0.7\n",
      "trainingBias:  False\n",
      "phaseEstrategyOperator:  original\n",
      "best error HSGS training:  0\n",
      "AVG TEST ERROR HSGS    0.0\n",
      "\n",
      "\n",
      "lrParameter:  0.02\n",
      "threshold:  0.7\n",
      "trainingBias:  True\n",
      "phaseEstrategyOperator:  original\n",
      "best error HSGS training:  1\n",
      "AVG TEST ERROR HSGS    0.25\n",
      "\n",
      "\n",
      "lrParameter:  0.1\n",
      "threshold:  0.7\n",
      "trainingBias:  False\n",
      "phaseEstrategyOperator:  original\n",
      "best error HSGS training:  0\n",
      "AVG TEST ERROR HSGS    0.0\n",
      "\n",
      "\n",
      "lrParameter:  0.1\n",
      "threshold:  0.7\n",
      "trainingBias:  True\n",
      "phaseEstrategyOperator:  original\n",
      "best error HSGS training:  1\n",
      "AVG TEST ERROR HSGS    0.25\n",
      "\n",
      "\n",
      "lrParameter:  0.02\n",
      "threshold:  0.8\n",
      "trainingBias:  False\n",
      "phaseEstrategyOperator:  original\n"
     ]
    }
   ],
   "source": [
    "%%time\n",
    "for w in initial_weights:\n",
    "    for strategy in strategy_space:\n",
    "        for threshold in threshold_space:\n",
    "            for lr in lr_space:\n",
    "                for bias in bias_space:\n",
    "                    # execute experiment\n",
    "                    weights = quantumNeuronFIT(X_train, \n",
    "                                               y_train,\n",
    "                                               init_weight=initial_weights,\n",
    "                                               threshold=threshold,\n",
    "                                               lrParameter=lr, \n",
    "                                               n_epochs=20, \n",
    "                                               trainingBias=bias,\n",
    "                                               phaseEstrategyOperator=strategy,\n",
    "                                               trainingApproaches={'hsgs'})\n",
    "\n",
    "                    results = quantumNeuronPREDICT(X_test, \n",
    "                                                   y_test,\n",
    "                                                   threshold=threshold,\n",
    "                                                   weightVectorsPhaseEncoding = weights[0], \n",
    "                                                   weightVectorsHSGS = weights[1], \n",
    "                                                   repeat=5,\n",
    "                                                   bias=bias, \n",
    "                                                   phaseEstrategyOperator=strategy,\n",
    "                                                   testingApproaches={'hsgs'})\n",
    "\n",
    "\n",
    "                    output['model'].append('HSGS')\n",
    "                    output['lr'].append(lr)\n",
    "                    output['bias'].append(bias)\n",
    "                    output['threshold'].append(threshold)\n",
    "                    output['phase_strategy'].append(strategy)\n",
    "                    output['avg_error'].append(results[3])\n",
    "                    output['neuron_outputs'].append(results[4])\n",
    "                    output['trained_weights'].append(results[5])\n",
    "                    output['initial_weights'].append(initial_weights)\n",
    "                    print('\\n')"
   ]
  },
  {
   "cell_type": "code",
   "execution_count": null,
   "metadata": {},
   "outputs": [],
   "source": [
    "experiment_hsgs = pd.DataFrame(output)\n",
    "experiment_hsgs.to_csv('results/version7/experiment_XOR_hsgs.csv')"
   ]
  },
  {
   "cell_type": "markdown",
   "metadata": {},
   "source": [
    "## Continuously Valued Quantum Neuron Experiments"
   ]
  },
  {
   "cell_type": "code",
   "execution_count": null,
   "metadata": {},
   "outputs": [],
   "source": [
    "# search space\n",
    "initial_weights =  list(np.random.uniform(low=0.0, high=1.0, size=(len(X_test[0]),)))\n",
    "threshold_space = [0.1, 0.3, 0.5, 0.7, 0.8]\n",
    "lr_space = [0.02, 0.1]\n",
    "bias_space = [False, True]\n",
    "strategy_space = ['original', 'angle', 'radius', 'angleradius']"
   ]
  },
  {
   "cell_type": "code",
   "execution_count": null,
   "metadata": {},
   "outputs": [],
   "source": [
    "%%time\n",
    "for w in initial_weights:\n",
    "    for strategy in strategy_space:\n",
    "        for threshold in threshold_space:\n",
    "            for lr in lr_space:\n",
    "                for bias in bias_space:\n",
    "                    # execute experiment\n",
    "                    weights = quantumNeuronFIT(X_train, \n",
    "                                               y_train,\n",
    "                                               init_weight=initial_weights,\n",
    "                                               threshold=threshold,\n",
    "                                               lrParameter=lr, \n",
    "                                               n_epochs=20, \n",
    "                                               trainingBias=bias,\n",
    "                                               phaseEstrategyOperator=strategy,\n",
    "                                               trainingApproaches={'phase-encoding'})\n",
    "\n",
    "                    results = quantumNeuronPREDICT(X_test, \n",
    "                                                       y_test,\n",
    "                                                       threshold=threshold,\n",
    "                                                       weightVectorsPhaseEncoding = weights[0], \n",
    "                                                       weightVectorsHSGS = weights[1], \n",
    "                                                       repeat=5,\n",
    "                                                       bias=bias, \n",
    "                                                       phaseEstrategyOperator=strategy,\n",
    "                                                       testingApproaches={'phase-encoding'})\n",
    "\n",
    "                    # get experiment results\n",
    "                    output['model'].append('phase-encoding')\n",
    "                    output['lr'].append(lr)\n",
    "                    output['bias'].append(bias)\n",
    "                    output['threshold'].append(threshold)\n",
    "                    output['phase_strategy'].append(strategy)\n",
    "                    output['avg_error'].append(results[0])\n",
    "                    output['neuron_outputs'].append(results[1])\n",
    "                    output['trained_weights'].append(results[2])\n",
    "                    output['initial_weights'].append(w)\n",
    "                    print('\\n')"
   ]
  },
  {
   "cell_type": "code",
   "execution_count": null,
   "metadata": {},
   "outputs": [],
   "source": [
    "experiment_phase = pd.DataFrame(output)\n",
    "experiment_phase.to_csv('results/version7/experiment_XOR_phase.csv')"
   ]
  },
  {
   "cell_type": "code",
   "execution_count": null,
   "metadata": {},
   "outputs": [],
   "source": []
  }
 ],
 "metadata": {
  "environment": {
   "name": "common-cpu.m69",
   "type": "gcloud",
   "uri": "gcr.io/deeplearning-platform-release/base-cpu:m69"
  },
  "kernelspec": {
   "display_name": "Python 3",
   "language": "python",
   "name": "python3"
  },
  "language_info": {
   "codemirror_mode": {
    "name": "ipython",
    "version": 3
   },
   "file_extension": ".py",
   "mimetype": "text/x-python",
   "name": "python",
   "nbconvert_exporter": "python",
   "pygments_lexer": "ipython3",
   "version": "3.7.10"
  }
 },
 "nbformat": 4,
 "nbformat_minor": 4
}
