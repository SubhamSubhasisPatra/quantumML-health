{
 "cells": [
  {
   "cell_type": "code",
   "execution_count": 1,
   "metadata": {},
   "outputs": [],
   "source": [
    "from code.neuron import *\n",
    "from code.encodingsource import *\n",
    "from code.hsgs import *\n",
    "from code.classical_neuron import *\n",
    "from code.classical_pso import *\n",
    "from code.sf import *\n",
    "simulator = Aer.get_backend('qasm_simulator')\n",
    "import pandas as pd\n",
    "import numpy as np"
   ]
  },
  {
   "cell_type": "markdown",
   "metadata": {},
   "source": [
    "## makePhaseEncodingV1"
   ]
  },
  {
   "cell_type": "markdown",
   "metadata": {},
   "source": [
    "#### Teste 1: Vetores reais iguais"
   ]
  },
  {
   "cell_type": "code",
   "execution_count": 2,
   "metadata": {},
   "outputs": [],
   "source": [
    "inputVector = [0.8, 0.8, 0.5, 0.3, 0.8, 0.8, 0.5, 0.3]\n",
    "\n",
    "weightVector = [0.8, 0.8, 0.5, 0.3, 0.8, 0.8, 0.5, 0.3]"
   ]
  },
  {
   "cell_type": "code",
   "execution_count": 3,
   "metadata": {},
   "outputs": [],
   "source": [
    "neuron = createNeuron(inputVector, weightVector, 'phase-encoding', ancilla=True)"
   ]
  },
  {
   "cell_type": "code",
   "execution_count": 4,
   "metadata": {},
   "outputs": [
    {
     "data": {
      "text/plain": [
       "1.0"
      ]
     },
     "execution_count": 4,
     "metadata": {},
     "output_type": "execute_result"
    }
   ],
   "source": [
    "executeNeuron(neuron, simulator, threshold=None)"
   ]
  },
  {
   "cell_type": "markdown",
   "metadata": {},
   "source": [
    "#### Teste 2: Vetores reais inversamente proporcionais"
   ]
  },
  {
   "cell_type": "code",
   "execution_count": 5,
   "metadata": {},
   "outputs": [],
   "source": [
    "inputVector = [0.8, 0.8, 0.1, 0.3, 0.25, 0.9, 0.0, 0.5]\n",
    "\n",
    "weightVector = [0.2, 0.2, 0.9, 0.7, 0.75, 0.1, 1.0, 0.5]"
   ]
  },
  {
   "cell_type": "code",
   "execution_count": 6,
   "metadata": {},
   "outputs": [
    {
     "data": {
      "text/plain": [
       "0.0556640625"
      ]
     },
     "execution_count": 6,
     "metadata": {},
     "output_type": "execute_result"
    }
   ],
   "source": [
    "neuron = createNeuron(inputVector, weightVector, 'phase-encoding', ancilla=True)\n",
    "executeNeuron(neuron, simulator, threshold=None)"
   ]
  },
  {
   "cell_type": "markdown",
   "metadata": {},
   "source": [
    "#### Teste 3: Vetores binários "
   ]
  },
  {
   "cell_type": "code",
   "execution_count": 7,
   "metadata": {},
   "outputs": [],
   "source": [
    "inputVector = [1, 1, -1, -1]\n",
    "weightVector = [0.2, 0.2, 0.9, 0.7]"
   ]
  },
  {
   "cell_type": "code",
   "execution_count": 8,
   "metadata": {},
   "outputs": [
    {
     "data": {
      "text/plain": [
       "0.30078125"
      ]
     },
     "execution_count": 8,
     "metadata": {},
     "output_type": "execute_result"
    }
   ],
   "source": [
    "neuron = createNeuron(inputVector, weightVector, 'phase-encoding', ancilla=True)\n",
    "executeNeuron(neuron, simulator, threshold=None)"
   ]
  },
  {
   "cell_type": "code",
   "execution_count": 9,
   "metadata": {},
   "outputs": [
    {
     "name": "stdout",
     "output_type": "stream",
     "text": [
      "            ┌───┐┌───┐                        ┌───┐┌───┐                   »\n",
      " q_input_0: ┤ H ├┤ X ├──■────────■─────────■──┤ X ├┤ X ├──■────────■───────»\n",
      "            ├───┤├───┤  │  ┌─────┴──────┐  │  ├───┤└───┘  │  ┌─────┴──────┐»\n",
      " q_input_1: ┤ H ├┤ X ├──■──┤ U(0,0,π,0) ├──■──┤ X ├───────■──┤ U(0,0,π,0) ├»\n",
      "            └───┘└───┘  │  └────────────┘  │  └───┘       │  └────────────┘»\n",
      "q_output_0: ────────────┼──────────────────┼──────────────┼────────────────»\n",
      "                      ┌─┴─┐              ┌─┴─┐          ┌─┴─┐              »\n",
      "   q_aux_0: ──────────┤ X ├──────────────┤ X ├──────────┤ X ├──────────────»\n",
      "                      └───┘              └───┘          └───┘              »\n",
      "c_output: 1/═══════════════════════════════════════════════════════════════»\n",
      "                                                                           »\n",
      "«                 ┌───┐                                                       »\n",
      "« q_input_0: ──■──┤ X ├──■─────────■─────────■─────────■─────────■─────────■──»\n",
      "«              │  ├───┤  │  ┌──────┴──────┐  │  ┌───┐  │  ┌──────┴──────┐  │  »\n",
      "« q_input_1: ──■──┤ X ├──■──┤ U(0,0,-π,0) ├──■──┤ X ├──■──┤ U(0,0,-π,0) ├──■──»\n",
      "«              │  └───┘  │  └─────────────┘  │  └───┘  │  └─────────────┘  │  »\n",
      "«q_output_0: ──┼─────────┼───────────────────┼─────────┼───────────────────┼──»\n",
      "«            ┌─┴─┐     ┌─┴─┐               ┌─┴─┐     ┌─┴─┐               ┌─┴─┐»\n",
      "«   q_aux_0: ┤ X ├─────┤ X ├───────────────┤ X ├─────┤ X ├───────────────┤ X ├»\n",
      "«            └───┘     └───┘               └───┘     └───┘               └───┘»\n",
      "«c_output: 1/═════════════════════════════════════════════════════════════════»\n",
      "«                                                                             »\n",
      "«            ┌───┐                           ┌───┐┌───┐                      »\n",
      "« q_input_0: ┤ X ├──■──────────■──────────■──┤ X ├┤ X ├──■──────────■────────»\n",
      "«            ├───┤  │  ┌───────┴───────┐  │  ├───┤└───┘  │  ┌───────┴───────┐»\n",
      "« q_input_1: ┤ X ├──■──┤ U(0,0,-π/5,0) ├──■──┤ X ├───────■──┤ U(0,0,-π/5,0) ├»\n",
      "«            └───┘  │  └───────────────┘  │  └───┘       │  └───────────────┘»\n",
      "«q_output_0: ───────┼─────────────────────┼──────────────┼───────────────────»\n",
      "«                 ┌─┴─┐                 ┌─┴─┐          ┌─┴─┐                 »\n",
      "«   q_aux_0: ─────┤ X ├─────────────────┤ X ├──────────┤ X ├─────────────────»\n",
      "«                 └───┘                 └───┘          └───┘                 »\n",
      "«c_output: 1/════════════════════════════════════════════════════════════════»\n",
      "«                                                                            »\n",
      "«                 ┌───┐                                       »\n",
      "« q_input_0: ──■──┤ X ├──■───────────■───────────■─────────■──»\n",
      "«              │  ├───┤  │  ┌────────┴────────┐  │  ┌───┐  │  »\n",
      "« q_input_1: ──■──┤ X ├──■──┤ U(0,0,-9π/10,0) ├──■──┤ X ├──■──»\n",
      "«              │  └───┘  │  └─────────────────┘  │  └───┘  │  »\n",
      "«q_output_0: ──┼─────────┼───────────────────────┼─────────┼──»\n",
      "«            ┌─┴─┐     ┌─┴─┐                   ┌─┴─┐     ┌─┴─┐»\n",
      "«   q_aux_0: ┤ X ├─────┤ X ├───────────────────┤ X ├─────┤ X ├»\n",
      "«            └───┘     └───┘                   └───┘     └───┘»\n",
      "«c_output: 1/═════════════════════════════════════════════════»\n",
      "«                                                             »\n",
      "«                                    ┌───┐┌───┐                     ┌───┐»\n",
      "« q_input_0: ─────────■───────────■──┤ H ├┤ X ├─────────────────────┤ X ├»\n",
      "«            ┌────────┴────────┐  │  ├───┤├───┤                     └─┬─┘»\n",
      "« q_input_1: ┤ U(0,0,-7π/10,0) ├──■──┤ H ├┤ X ├──────────■────────────■──»\n",
      "«            └─────────────────┘  │  └───┘└───┘┌─────────┴─────────┐     »\n",
      "«q_output_0: ─────────────────────┼────────────┤ U(π/2,-π/2,π/2,0) ├─────»\n",
      "«                               ┌─┴─┐          └───────────────────┘     »\n",
      "«   q_aux_0: ───────────────────┤ X ├────────────────────────────────────»\n",
      "«                               └───┘                                    »\n",
      "«c_output: 1/════════════════════════════════════════════════════════════»\n",
      "«                                                                        »\n",
      "«                                  ┌───┐                        \n",
      "« q_input_0: ──────────■───────────┤ X ├──────────■─────────────\n",
      "«                      │           └─┬─┘          │             \n",
      "« q_input_1: ──────────┼─────────────■────────────┼─────────────\n",
      "«            ┌─────────┴──────────┐     ┌─────────┴─────────┐┌─┐\n",
      "«q_output_0: ┤ U(-π/2,-π/2,π/2,0) ├─────┤ U(π/2,-π/2,π/2,0) ├┤M├\n",
      "«            └────────────────────┘     └───────────────────┘└╥┘\n",
      "«   q_aux_0: ─────────────────────────────────────────────────╫─\n",
      "«                                                             ║ \n",
      "«c_output: 1/═════════════════════════════════════════════════╩═\n",
      "«                                                             0 \n"
     ]
    }
   ],
   "source": [
    "print(neuron)"
   ]
  },
  {
   "cell_type": "markdown",
   "metadata": {},
   "source": [
    "## makePhaseEncodingVBin"
   ]
  },
  {
   "cell_type": "markdown",
   "metadata": {},
   "source": [
    "#### Teste 1: Vetores reais iguais"
   ]
  },
  {
   "cell_type": "code",
   "execution_count": 2,
   "metadata": {},
   "outputs": [],
   "source": [
    "inputVector = [0.8, 0.8]\n",
    "weightVector = [0.8, 0.8]"
   ]
  },
  {
   "cell_type": "code",
   "execution_count": 3,
   "metadata": {},
   "outputs": [
    {
     "data": {
      "text/plain": [
       "1.0"
      ]
     },
     "execution_count": 3,
     "metadata": {},
     "output_type": "execute_result"
    }
   ],
   "source": [
    "neuron = createNeuron(inputVector, weightVector, 'phase-encoding', ancilla=True)\n",
    "executeNeuron(neuron, simulator, threshold=None)"
   ]
  },
  {
   "cell_type": "markdown",
   "metadata": {},
   "source": [
    "#### Teste 2: Vetores reais inversamente proporcionais"
   ]
  },
  {
   "cell_type": "code",
   "execution_count": 11,
   "metadata": {},
   "outputs": [],
   "source": [
    "inputVector = [0.8, 0.8]\n",
    "weightVector = [0.2, 0.2]"
   ]
  },
  {
   "cell_type": "code",
   "execution_count": 12,
   "metadata": {},
   "outputs": [
    {
     "data": {
      "text/plain": [
       "0.087890625"
      ]
     },
     "execution_count": 12,
     "metadata": {},
     "output_type": "execute_result"
    }
   ],
   "source": [
    "neuron = createNeuron(inputVector, weightVector, 'phase-encoding')\n",
    "executeNeuron(neuron, simulator, threshold=None)"
   ]
  },
  {
   "cell_type": "code",
   "execution_count": 13,
   "metadata": {},
   "outputs": [
    {
     "name": "stdout",
     "output_type": "stream",
     "text": [
      "            ┌───┐┌──────────┐┌──────────┐┌──────────┐┌──────────┐┌───┐┌───┐»\n",
      " q_input_0: ┤ H ├┤ RZ(4π/5) ├┤ RZ(4π/5) ├┤ RZ(-π/5) ├┤ RZ(-π/5) ├┤ H ├┤ X ├»\n",
      "            └───┘└──────────┘└──────────┘└──────────┘└──────────┘└───┘└───┘»\n",
      "q_output_0: ───────────────────────────────────────────────────────────────»\n",
      "                                                                           »\n",
      "   q_aux_0: ───────────────────────────────────────────────────────────────»\n",
      "                                                                           »\n",
      "c_output: 1/═══════════════════════════════════════════════════════════════»\n",
      "                                                                           »\n",
      "«                                  \n",
      "« q_input_0: ─────────■────────────\n",
      "«            ┌────────┴────────┐┌─┐\n",
      "«q_output_0: ┤ U(π,-π/2,π/2,0) ├┤M├\n",
      "«            └─────────────────┘└╥┘\n",
      "«   q_aux_0: ────────────────────╫─\n",
      "«                                ║ \n",
      "«c_output: 1/════════════════════╩═\n",
      "«                                0 \n"
     ]
    }
   ],
   "source": [
    "print(neuron)"
   ]
  },
  {
   "cell_type": "markdown",
   "metadata": {},
   "source": [
    "## Equation 5 Testing"
   ]
  },
  {
   "cell_type": "code",
   "execution_count": 9,
   "metadata": {},
   "outputs": [],
   "source": [
    "import math \n",
    "from code.phaseEncoding import normalizePi"
   ]
  },
  {
   "cell_type": "markdown",
   "metadata": {},
   "source": [
    "#### Teste 1: Vetores reais iguais"
   ]
  },
  {
   "cell_type": "code",
   "execution_count": 10,
   "metadata": {},
   "outputs": [
    {
     "data": {
      "text/plain": [
       "(1+0j)"
      ]
     },
     "execution_count": 10,
     "metadata": {},
     "output_type": "execute_result"
    }
   ],
   "source": [
    "from cmath import sqrt, exp\n",
    "\n",
    "# normalizacao\n",
    "thetas = normalizePi([0.8, 0.8, 0.5, 0.3, 0.0, 0.5, 0.0, 0.2])\n",
    "phis = normalizePi([0.8, 0.8, 0.5, 0.3, 0.0, 0.5, 0.0, 0.2])\n",
    "\n",
    "# criar vetor com valores de theta_i - phi_i\n",
    "eis = [thetas[i]-phis[i] for i in range(len(thetas)) ] \n",
    "expi = [exp(x*sqrt(-1)) for x in eis] \n",
    "\n",
    "# calculo final equacao 5\n",
    "(1/(len(expi))) * sum(expi)"
   ]
  },
  {
   "cell_type": "markdown",
   "metadata": {},
   "source": [
    "#### Teste 2: Vetores reais inversamente proporcionais"
   ]
  },
  {
   "cell_type": "code",
   "execution_count": 11,
   "metadata": {},
   "outputs": [
    {
     "data": {
      "text/plain": [
       "(-0.0024141952685542757-4.336808689942018e-19j)"
      ]
     },
     "execution_count": 11,
     "metadata": {},
     "output_type": "execute_result"
    }
   ],
   "source": [
    "from cmath import sqrt, exp\n",
    "\n",
    "# normalizacao\n",
    "thetas = normalizePi([0.8, 0.8, 0.5, 0.3, 0.0, 0.5, 0.0, 0.2])\n",
    "phis = normalizePi([0.2, 0.2, 0.5, 0.7, 1.0, 0.5, 1.0, 0.8])\n",
    "\n",
    "# criar vetor com valores de theta_i - phi_i\n",
    "eis = [thetas[i]-phis[i] for i in range(len(thetas)) ] \n",
    "expi = [exp(x*sqrt(-1)) for x in eis] \n",
    "\n",
    "# calculo final equacao 5\n",
    "(1/(2**len(expi))) * sum(expi)"
   ]
  },
  {
   "cell_type": "markdown",
   "metadata": {},
   "source": [
    "#### Teste 3: Vetores Binários Iguais"
   ]
  },
  {
   "cell_type": "code",
   "execution_count": 12,
   "metadata": {},
   "outputs": [
    {
     "data": {
      "text/plain": [
       "(-0.004949513760141765+0.1433502808334276j)"
      ]
     },
     "execution_count": 12,
     "metadata": {},
     "output_type": "execute_result"
    }
   ],
   "source": [
    "from cmath import sqrt, exp\n",
    "\n",
    "# normalizacao\n",
    "thetas = normalizePi([1, 1, -1, -1])\n",
    "phis = normalizePi([0.2, 0.2, 0.9, 0.7])\n",
    "\n",
    "# criar vetor com valores de theta_i - phi_i\n",
    "eis = [thetas[i]-phis[i] for i in range(len(thetas)) ] \n",
    "expi = [exp(x*sqrt(-1)) for x in eis] \n",
    "\n",
    "# calculo final equacao 5\n",
    "(1/(2**len(expi))) * sum(expi)"
   ]
  },
  {
   "cell_type": "markdown",
   "metadata": {},
   "source": [
    "#### Teste 4: Vetores Binários Inversamente proporcionais"
   ]
  },
  {
   "cell_type": "code",
   "execution_count": 13,
   "metadata": {},
   "outputs": [
    {
     "data": {
      "text/plain": [
       "(0.25+0j)"
      ]
     },
     "execution_count": 13,
     "metadata": {},
     "output_type": "execute_result"
    }
   ],
   "source": [
    "from cmath import sqrt, exp\n",
    "\n",
    "# normalizacao\n",
    "thetas = normalizePi([-1, 1, 1, -1])\n",
    "phis = normalizePi([1, -1, -1, 1])\n",
    "\n",
    "# criar vetor com valores de theta_i - phi_i\n",
    "eis = [thetas[i]-phis[i] for i in range(len(thetas)) ] \n",
    "expi = [exp(x*sqrt(-1)) for x in eis] \n",
    "\n",
    "# calculo final equacao 5\n",
    "(1/(2**len(expi))) * sum(expi)"
   ]
  },
  {
   "cell_type": "code",
   "execution_count": null,
   "metadata": {},
   "outputs": [],
   "source": []
  }
 ],
 "metadata": {
  "environment": {
   "name": "r-cpu.3-6.m65",
   "type": "gcloud",
   "uri": "gcr.io/deeplearning-platform-release/r-cpu.3-6:m65"
  },
  "kernelspec": {
   "display_name": "Python 3",
   "language": "python",
   "name": "python3"
  },
  "language_info": {
   "codemirror_mode": {
    "name": "ipython",
    "version": 3
   },
   "file_extension": ".py",
   "mimetype": "text/x-python",
   "name": "python",
   "nbconvert_exporter": "python",
   "pygments_lexer": "ipython3",
   "version": "3.7.10"
  }
 },
 "nbformat": 4,
 "nbformat_minor": 4
}
