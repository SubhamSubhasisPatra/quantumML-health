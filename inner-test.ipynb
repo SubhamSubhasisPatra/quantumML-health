{
 "cells": [
  {
   "cell_type": "markdown",
   "metadata": {},
   "source": [
    "## Remove numpy , pandas , qiskit "
   ]
  },
  {
   "cell_type": "code",
   "execution_count": 6,
   "metadata": {},
   "outputs": [
    {
     "name": "stdout",
     "output_type": "stream",
     "text": [
      "^C\n",
      "Note: you may need to restart the kernel to use updated packages.\n"
     ]
    }
   ],
   "source": [
    "# %pip uninstall scipy numpy pandas\n",
    "%pip uninstall numpy\n"
   ]
  },
  {
   "cell_type": "markdown",
   "metadata": {},
   "source": [
    "### Install all the required modules "
   ]
  },
  {
   "cell_type": "code",
   "execution_count": 1,
   "metadata": {},
   "outputs": [
    {
     "name": "stdout",
     "output_type": "stream",
     "text": [
      "Collecting numpy==1.19.5\n",
      "  Obtaining dependency information for numpy==1.19.5 from https://files.pythonhosted.org/packages/5a/13/25a83b9aae5fe9460b1997f5ba48814783d7f460bbbd8cadd96e1481ddf0/numpy-1.19.5-cp38-cp38-win_amd64.whl.metadata\n",
      "  Downloading numpy-1.19.5-cp38-cp38-win_amd64.whl.metadata (2.0 kB)\n",
      "Downloading numpy-1.19.5-cp38-cp38-win_amd64.whl (13.3 MB)\n",
      "   ---------------------------------------- 0.0/13.3 MB ? eta -:--:--\n",
      "   ---------------------------------------- 0.0/13.3 MB 2.0 MB/s eta 0:00:07\n",
      "   ---------------------------------------- 0.1/13.3 MB 770.8 kB/s eta 0:00:18\n",
      "   ---------------------------------------- 0.1/13.3 MB 804.6 kB/s eta 0:00:17\n",
      "    --------------------------------------- 0.2/13.3 MB 1.1 MB/s eta 0:00:12\n",
      "    --------------------------------------- 0.3/13.3 MB 1.3 MB/s eta 0:00:11\n",
      "   - -------------------------------------- 0.3/13.3 MB 1.3 MB/s eta 0:00:10\n",
      "   - -------------------------------------- 0.3/13.3 MB 1.3 MB/s eta 0:00:10\n",
      "   - -------------------------------------- 0.6/13.3 MB 1.8 MB/s eta 0:00:07\n",
      "   -- ------------------------------------- 0.9/13.3 MB 2.0 MB/s eta 0:00:07\n",
      "   --- ------------------------------------ 1.0/13.3 MB 2.2 MB/s eta 0:00:06\n",
      "   ---- ----------------------------------- 1.4/13.3 MB 2.6 MB/s eta 0:00:05\n",
      "   ----- ---------------------------------- 1.8/13.3 MB 3.1 MB/s eta 0:00:04\n",
      "   ------ --------------------------------- 2.2/13.3 MB 3.6 MB/s eta 0:00:04\n",
      "   -------- ------------------------------- 2.7/13.3 MB 4.1 MB/s eta 0:00:03\n",
      "   --------- ------------------------------ 3.2/13.3 MB 4.6 MB/s eta 0:00:03\n",
      "   ----------- ---------------------------- 3.7/13.3 MB 5.0 MB/s eta 0:00:02\n",
      "   ----------- ---------------------------- 3.8/13.3 MB 5.1 MB/s eta 0:00:02\n",
      "   ----------- ---------------------------- 3.8/13.3 MB 5.1 MB/s eta 0:00:02\n",
      "   ------------ --------------------------- 4.2/13.3 MB 4.7 MB/s eta 0:00:02\n",
      "   --------------- ------------------------ 5.1/13.3 MB 5.4 MB/s eta 0:00:02\n",
      "   ------------------ --------------------- 6.1/13.3 MB 6.2 MB/s eta 0:00:02\n",
      "   -------------------- ------------------- 6.6/13.3 MB 6.4 MB/s eta 0:00:02\n",
      "   --------------------- ------------------ 7.2/13.3 MB 6.7 MB/s eta 0:00:01\n",
      "   --------------------- ------------------ 7.2/13.3 MB 6.7 MB/s eta 0:00:01\n",
      "   ------------------------ --------------- 8.2/13.3 MB 6.9 MB/s eta 0:00:01\n",
      "   ------------------------- -------------- 8.5/13.3 MB 6.9 MB/s eta 0:00:01\n",
      "   --------------------------- ------------ 9.0/13.3 MB 7.0 MB/s eta 0:00:01\n",
      "   ---------------------------- ----------- 9.4/13.3 MB 7.2 MB/s eta 0:00:01\n",
      "   ---------------------------- ----------- 9.4/13.3 MB 7.2 MB/s eta 0:00:01\n",
      "   ---------------------------- ----------- 9.4/13.3 MB 7.2 MB/s eta 0:00:01\n",
      "   ---------------------------- ----------- 9.6/13.3 MB 6.7 MB/s eta 0:00:01\n",
      "   ---------------------------- ----------- 9.6/13.3 MB 6.7 MB/s eta 0:00:01\n",
      "   ---------------------------- ----------- 9.6/13.3 MB 6.7 MB/s eta 0:00:01\n",
      "   ---------------------------- ----------- 9.6/13.3 MB 6.7 MB/s eta 0:00:01\n",
      "   ---------------------------- ----------- 9.6/13.3 MB 6.7 MB/s eta 0:00:01\n",
      "   ------------------------------- -------- 10.5/13.3 MB 6.8 MB/s eta 0:00:01\n",
      "   ---------------------------------------  13.3/13.3 MB 10.1 MB/s eta 0:00:01\n",
      "   ---------------------------------------- 13.3/13.3 MB 9.6 MB/s eta 0:00:00\n",
      "Installing collected packages: numpy\n",
      "  Attempting uninstall: numpy\n",
      "    Found existing installation: numpy 1.20.0\n",
      "    Uninstalling numpy-1.20.0:\n",
      "      Successfully uninstalled numpy-1.20.0\n",
      "Successfully installed numpy-1.19.5\n",
      "Note: you may need to restart the kernel to use updated packages.\n"
     ]
    },
    {
     "name": "stderr",
     "output_type": "stream",
     "text": [
      "DEPRECATION: torchsde 0.2.5 has a non-standard dependency specifier numpy>=1.19.*; python_version >= \"3.7\". pip 23.3 will enforce this behaviour change. A possible replacement is to upgrade to a newer version of torchsde or contact the author to suggest that they release a version with a conforming dependency specifiers. Discussion can be found at https://github.com/pypa/pip/issues/12063\n",
      "ERROR: pip's dependency resolver does not currently take into account all the packages that are installed. This behaviour is the source of the following dependency conflicts.\n",
      "tts 0.14.3 requires numba==0.55.1; python_version < \"3.9\", but you have numba 0.57.1 which is incompatible.\n",
      "tts 0.14.3 requires numpy==1.21.6; python_version < \"3.10\", but you have numpy 1.19.5 which is incompatible.\n",
      "librosa 0.10.0.post2 requires numpy!=1.22.0,!=1.22.1,!=1.22.2,>=1.20.3, but you have numpy 1.19.5 which is incompatible.\n",
      "matplotlib 3.7.1 requires numpy>=1.20, but you have numpy 1.19.5 which is incompatible.\n",
      "nemo-toolkit 1.20.0 requires numpy<1.24,>=1.22, but you have numpy 1.19.5 which is incompatible.\n",
      "numba 0.57.1 requires numpy<1.25,>=1.21, but you have numpy 1.19.5 which is incompatible.\n",
      "onnxruntime 1.15.1 requires numpy>=1.21.6, but you have numpy 1.19.5 which is incompatible.\n",
      "scikit-image 0.21.0 requires numpy>=1.21.1, but you have numpy 1.19.5 which is incompatible.\n",
      "scikit-image 0.21.0 requires scipy>=1.8, but you have scipy 1.6.2 which is incompatible.\n",
      "torchmetrics 1.1.0 requires numpy>1.20.0, but you have numpy 1.19.5 which is incompatible.\n",
      "trainer 0.0.20 requires protobuf<3.20,>=3.9.2, but you have protobuf 4.24.2 which is incompatible.\n",
      "\n",
      "[notice] A new release of pip is available: 23.2.1 -> 24.2\n",
      "[notice] To update, run: python.exe -m pip install --upgrade pip\n"
     ]
    }
   ],
   "source": [
    "# %pip install scipy==1.6.2 numpy==1.19.5 pandas==1.3.5\n",
    "%pip install numpy==1.19.5"
   ]
  },
  {
   "cell_type": "code",
   "execution_count": null,
   "metadata": {},
   "outputs": [],
   "source": [
    "%pip install qiskit==0.20.0"
   ]
  },
  {
   "cell_type": "code",
   "execution_count": 2,
   "metadata": {},
   "outputs": [
    {
     "name": "stderr",
     "output_type": "stream",
     "text": [
      "c:\\Users\\ssu300\\AppData\\Local\\Programs\\Python\\Python38\\lib\\site-packages\\qiskit\\dagcircuit\\dagcircuit.py:31: DeprecationWarning: The retworkx package is deprecated and has been renamed to rustworkx. Rustworkx is a drop-in replacement and can be used by replacing `import retworkx` with import `rustworkx`. \n",
      "  import retworkx as rx\n"
     ]
    }
   ],
   "source": [
    "\n",
    "from quantum_code.neuron import *\n",
    "from quantum_code.encodingsource import InitializerUniformlyRotation\n",
    "from quantum_code.hsgs import *\n",
    "from quantum_code.classical_neuron import *\n",
    "from quantum_code.classical_pso import *\n",
    "from quantum_code.sf import *\n",
    "simulator = Aer.get_backend('qasm_simulator')\n",
    "import pandas as pd\n",
    "import numpy as np\n",
    "import math\n",
    "from qiskit.tools.visualization import plot_histogram, plot_state_city"
   ]
  },
  {
   "cell_type": "markdown",
   "metadata": {},
   "source": [
    "## makePhaseEncodingV1"
   ]
  },
  {
   "cell_type": "markdown",
   "metadata": {},
   "source": [
    "#### Teste 1: Vetores reais iguais"
   ]
  },
  {
   "cell_type": "code",
   "execution_count": 3,
   "metadata": {},
   "outputs": [],
   "source": [
    "inputVector = [0.8, 0.8, 0.5, 0.3, 0.8, 0.8, 0.5, 0.3]\n",
    "\n",
    "weightVector = [0.8, 0.8, 0.5, 0.3, 0.8, 0.8, 0.5, 0.3]"
   ]
  },
  {
   "cell_type": "code",
   "execution_count": 4,
   "metadata": {},
   "outputs": [
    {
     "name": "stdout",
     "output_type": "stream",
     "text": [
      "WARNING: nenhum neuronio valido selecionado\n"
     ]
    }
   ],
   "source": [
    "neuron = createNeuron(inputVector, weightVector, 'phase-encoding-phase', ancilla=True)"
   ]
  },
  {
   "cell_type": "code",
   "execution_count": 5,
   "metadata": {},
   "outputs": [
    {
     "data": {
      "text/plain": [
       "0.1217041015625"
      ]
     },
     "execution_count": 5,
     "metadata": {},
     "output_type": "execute_result"
    }
   ],
   "source": [
    "executeNeuron(neuron, simulator, threshold=None)"
   ]
  },
  {
   "cell_type": "markdown",
   "metadata": {},
   "source": [
    "#### Teste 2: Vetores reais inversamente proporcionais"
   ]
  },
  {
   "cell_type": "code",
   "execution_count": 6,
   "metadata": {},
   "outputs": [],
   "source": [
    "inputVector = [0.8, 0.8, 0.1, 0.3, 0.25, 0.9, 0.0, 0.5]\n",
    "\n",
    "weightVector = [0.2, 0.2, 0.9, 0.7, 0.75, 0.1, 1.0, 0.5]"
   ]
  },
  {
   "cell_type": "code",
   "execution_count": 7,
   "metadata": {},
   "outputs": [
    {
     "name": "stdout",
     "output_type": "stream",
     "text": [
      "WARNING: nenhum neuronio valido selecionado\n"
     ]
    },
    {
     "data": {
      "text/plain": [
       "0.128173828125"
      ]
     },
     "execution_count": 7,
     "metadata": {},
     "output_type": "execute_result"
    }
   ],
   "source": [
    "neuron = createNeuron(inputVector, weightVector, 'phase-encoding-phase', ancilla=True)\n",
    "executeNeuron(neuron, simulator, threshold=None)"
   ]
  },
  {
   "cell_type": "markdown",
   "metadata": {},
   "source": [
    "#### Teste 3: Vetores binários "
   ]
  },
  {
   "cell_type": "code",
   "execution_count": 8,
   "metadata": {},
   "outputs": [],
   "source": [
    "inputVector = [1, 1, -1, -1]\n",
    "weightVector = [0.2, 0.2, 0.9, 0.7]"
   ]
  },
  {
   "cell_type": "code",
   "execution_count": 9,
   "metadata": {},
   "outputs": [
    {
     "name": "stdout",
     "output_type": "stream",
     "text": [
      "WARNING: nenhum neuronio valido selecionado\n"
     ]
    },
    {
     "data": {
      "text/plain": [
       "0.251708984375"
      ]
     },
     "execution_count": 9,
     "metadata": {},
     "output_type": "execute_result"
    }
   ],
   "source": [
    "neuron = createNeuron(inputVector, weightVector, 'phase-encoding-phase', ancilla=True)\n",
    "executeNeuron(neuron, simulator, threshold=None)"
   ]
  },
  {
   "cell_type": "markdown",
   "metadata": {},
   "source": [
    "#### DEBUGGING"
   ]
  },
  {
   "cell_type": "code",
   "execution_count": 10,
   "metadata": {},
   "outputs": [
    {
     "name": "stdout",
     "output_type": "stream",
     "text": [
      "[1.4142135623730951, 0.7853981633974483]\n"
     ]
    }
   ],
   "source": [
    "inputVector = [1, 1]\n",
    "weightVector = [1.0656854249492382, 0.028761101961531033]\n",
    "\n",
    "inputVector = [math.sqrt(inputVector[0]**2 + inputVector[1]**2), math.atan(inputVector[0]/inputVector[1])]\n",
    "print(inputVector)"
   ]
  },
  {
   "cell_type": "code",
   "execution_count": 11,
   "metadata": {},
   "outputs": [
    {
     "name": "stdout",
     "output_type": "stream",
     "text": [
      "WARNING: nenhum neuronio valido selecionado\n"
     ]
    }
   ],
   "source": [
    "neuron = createNeuron(inputVector, weightVector, 'phase-encoding-phase')\n",
    "a = executeNeuron(neuron, simulator, threshold=None)"
   ]
  },
  {
   "cell_type": "code",
   "execution_count": 12,
   "metadata": {},
   "outputs": [
    {
     "data": {
      "text/plain": [
       "0.4962158203125"
      ]
     },
     "execution_count": 12,
     "metadata": {},
     "output_type": "execute_result"
    }
   ],
   "source": [
    "a"
   ]
  },
  {
   "cell_type": "markdown",
   "metadata": {},
   "source": [
    "#### Teste 2: Vetores reais inversamente proporcionais"
   ]
  },
  {
   "cell_type": "code",
   "execution_count": 14,
   "metadata": {},
   "outputs": [],
   "source": [
    "inputVector = [1, 1]\n",
    "weightVector = [-0.707106781187, 0.707106781187]"
   ]
  },
  {
   "cell_type": "code",
   "execution_count": 15,
   "metadata": {},
   "outputs": [
    {
     "data": {
      "text/plain": [
       "0.3734130859375"
      ]
     },
     "execution_count": 15,
     "metadata": {},
     "output_type": "execute_result"
    }
   ],
   "source": [
    "neuron = createNeuron(inputVector, weightVector, 'phase-encoding')\n",
    "executeNeuron(neuron, simulator, threshold=None)"
   ]
  },
  {
   "cell_type": "code",
   "execution_count": 16,
   "metadata": {},
   "outputs": [
    {
     "data": {
      "text/plain": [
       "0.0"
      ]
     },
     "execution_count": 16,
     "metadata": {},
     "output_type": "execute_result"
    }
   ],
   "source": [
    "inputVector = [-1, -1]\n",
    "weightVector = [-1, 1]\n",
    "neuron = createNeuron(inputVector, weightVector, 'hsgs')\n",
    "executeNeuron(neuron, simulator, threshold=None)"
   ]
  },
  {
   "cell_type": "markdown",
   "metadata": {},
   "source": [
    "## Paper Vizualizations"
   ]
  },
  {
   "cell_type": "code",
   "execution_count": 17,
   "metadata": {},
   "outputs": [
    {
     "ename": "FileNotFoundError",
     "evalue": "[Errno 2] No such file or directory: 'results/version4/train_data.json'",
     "output_type": "error",
     "traceback": [
      "\u001b[1;31m---------------------------------------------------------------------------\u001b[0m",
      "\u001b[1;31mFileNotFoundError\u001b[0m                         Traceback (most recent call last)",
      "Cell \u001b[1;32mIn[17], line 3\u001b[0m\n\u001b[0;32m      1\u001b[0m \u001b[38;5;28;01mimport\u001b[39;00m \u001b[38;5;21;01mjson\u001b[39;00m\n\u001b[1;32m----> 3\u001b[0m \u001b[38;5;28;01mwith\u001b[39;00m \u001b[38;5;28;43mopen\u001b[39;49m\u001b[43m(\u001b[49m\u001b[38;5;124;43m'\u001b[39;49m\u001b[38;5;124;43mresults/version4/train_data.json\u001b[39;49m\u001b[38;5;124;43m'\u001b[39;49m\u001b[43m)\u001b[49m \u001b[38;5;28;01mas\u001b[39;00m json_file:\n\u001b[0;32m      4\u001b[0m     X_train \u001b[38;5;241m=\u001b[39m json\u001b[38;5;241m.\u001b[39mload(json_file)[\u001b[38;5;241m0\u001b[39m]\n\u001b[0;32m      6\u001b[0m X_train[\u001b[38;5;241m0\u001b[39m]\n",
      "File \u001b[1;32mc:\\Users\\ssu300\\AppData\\Local\\Programs\\Python\\Python38\\lib\\site-packages\\IPython\\core\\interactiveshell.py:284\u001b[0m, in \u001b[0;36m_modified_open\u001b[1;34m(file, *args, **kwargs)\u001b[0m\n\u001b[0;32m    277\u001b[0m \u001b[38;5;28;01mif\u001b[39;00m file \u001b[38;5;129;01min\u001b[39;00m {\u001b[38;5;241m0\u001b[39m, \u001b[38;5;241m1\u001b[39m, \u001b[38;5;241m2\u001b[39m}:\n\u001b[0;32m    278\u001b[0m     \u001b[38;5;28;01mraise\u001b[39;00m \u001b[38;5;167;01mValueError\u001b[39;00m(\n\u001b[0;32m    279\u001b[0m         \u001b[38;5;124mf\u001b[39m\u001b[38;5;124m\"\u001b[39m\u001b[38;5;124mIPython won\u001b[39m\u001b[38;5;124m'\u001b[39m\u001b[38;5;124mt let you open fd=\u001b[39m\u001b[38;5;132;01m{\u001b[39;00mfile\u001b[38;5;132;01m}\u001b[39;00m\u001b[38;5;124m by default \u001b[39m\u001b[38;5;124m\"\u001b[39m\n\u001b[0;32m    280\u001b[0m         \u001b[38;5;124m\"\u001b[39m\u001b[38;5;124mas it is likely to crash IPython. If you know what you are doing, \u001b[39m\u001b[38;5;124m\"\u001b[39m\n\u001b[0;32m    281\u001b[0m         \u001b[38;5;124m\"\u001b[39m\u001b[38;5;124myou can use builtins\u001b[39m\u001b[38;5;124m'\u001b[39m\u001b[38;5;124m open.\u001b[39m\u001b[38;5;124m\"\u001b[39m\n\u001b[0;32m    282\u001b[0m     )\n\u001b[1;32m--> 284\u001b[0m \u001b[38;5;28;01mreturn\u001b[39;00m \u001b[43mio_open\u001b[49m\u001b[43m(\u001b[49m\u001b[43mfile\u001b[49m\u001b[43m,\u001b[49m\u001b[43m \u001b[49m\u001b[38;5;241;43m*\u001b[39;49m\u001b[43margs\u001b[49m\u001b[43m,\u001b[49m\u001b[43m \u001b[49m\u001b[38;5;241;43m*\u001b[39;49m\u001b[38;5;241;43m*\u001b[39;49m\u001b[43mkwargs\u001b[49m\u001b[43m)\u001b[49m\n",
      "\u001b[1;31mFileNotFoundError\u001b[0m: [Errno 2] No such file or directory: 'results/version4/train_data.json'"
     ]
    }
   ],
   "source": [
    "import json\n",
    "\n",
    "with open('results/version4/train_data.json') as json_file:\n",
    "    X_train = json.load(json_file)[0]\n",
    "    \n",
    "X_train[0]"
   ]
  },
  {
   "cell_type": "code",
   "execution_count": null,
   "metadata": {},
   "outputs": [],
   "source": [
    "inputVector = [0.058823529411764705,\n",
    " 0.5025125628140703,\n",
    " 0.5409836065573771,\n",
    " 0.15151515151515152,\n",
    " 0.06619385342789598,\n",
    " 0.3517138599105813,\n",
    " 0.251067463706234,\n",
    " 0.08333333333333333]\n",
    "\n",
    "weightVector =  [-15.818641924476797, -12.315419383719554, -10.675844294283312, -6.948244798159284, 0.5, 0.5, 0.5, 0.5]"
   ]
  },
  {
   "cell_type": "code",
   "execution_count": null,
   "metadata": {},
   "outputs": [],
   "source": [
    "neuron = createNeuron(inputVector, weightVector, 'phase-encoding')\n",
    "a = executeNeuron(neuron, simulator, threshold=None)\n",
    "a"
   ]
  },
  {
   "cell_type": "code",
   "execution_count": null,
   "metadata": {},
   "outputs": [],
   "source": [
    "print(neuron)"
   ]
  },
  {
   "cell_type": "code",
   "execution_count": 18,
   "metadata": {},
   "outputs": [],
   "source": [
    "input_ = [-1, 1, 1, 1] #[[-1, -1],  [-1,1], [1,1], [1,-1]]\n",
    "\n",
    "inputVector =  [-1, -1, -1, 1] #+[1]*len(input_)\n",
    "weightVector = [-1, 1, 1, 1] #[-0.02325, 0.2094, 0.4767, 0.7094] #[0.5, 0.5, 1.0, 1.0]"
   ]
  },
  {
   "cell_type": "code",
   "execution_count": 19,
   "metadata": {},
   "outputs": [],
   "source": [
    "#inputVector = [math.sqrt(inputVector[i]**2 + inputVector[i+1]**2) for i in range(0, len(inputVector), 2)] + [math.atan(inputVector[i]/inputVector[i+1]) for i in range(0, len(inputVector), 2)] \n",
    "#inputVector"
   ]
  },
  {
   "cell_type": "code",
   "execution_count": null,
   "metadata": {},
   "outputs": [],
   "source": [
    "neuron = createNeuron(inputVector, weightVector, 'hsgs')\n",
    "a = executeNeuron(neuron, simulator, threshold=None)\n",
    "a"
   ]
  },
  {
   "cell_type": "code",
   "execution_count": null,
   "metadata": {},
   "outputs": [],
   "source": [
    "print(neuron)"
   ]
  },
  {
   "cell_type": "code",
   "execution_count": 13,
   "metadata": {},
   "outputs": [],
   "source": [
    "inputVector =  [-1, 1, 1, -1] \n",
    "weightVector = [-0.27, 0.20, 0.5, 0.177] "
   ]
  },
  {
   "cell_type": "code",
   "execution_count": null,
   "metadata": {},
   "outputs": [],
   "source": [
    "neuron = createNeuron(inputVector, weightVector, 'encoding-weight')\n",
    "a = executeNeuron(neuron, simulator, threshold=None)\n",
    "a"
   ]
  },
  {
   "cell_type": "code",
   "execution_count": null,
   "metadata": {},
   "outputs": [],
   "source": [
    "neuron.draw()"
   ]
  },
  {
   "cell_type": "markdown",
   "metadata": {},
   "source": [
    "## Equation 5 Testing"
   ]
  },
  {
   "cell_type": "code",
   "execution_count": null,
   "metadata": {},
   "outputs": [],
   "source": [
    "import math "
   ]
  },
  {
   "cell_type": "markdown",
   "metadata": {},
   "source": [
    "#### Teste 1: Vetores reais iguais"
   ]
  },
  {
   "cell_type": "code",
   "execution_count": null,
   "metadata": {},
   "outputs": [],
   "source": [
    "from cmath import sqrt, exp\n",
    "\n",
    "# normalizacao\n",
    "thetas = [math.pi*i for i in inputVector]\n",
    "phis =  [math.pi*i for i in weightVector]\n",
    "\n",
    "# criar vetor com valores de theta_i - phi_i\n",
    "eis = [thetas[i]-phis[i] for i in range(len(thetas)) ] \n",
    "expi = [exp(x*sqrt(-1)) for x in eis] \n",
    "\n",
    "# calculo final equacao 5\n",
    "(1/(len(expi))) * sum(expi)"
   ]
  },
  {
   "cell_type": "markdown",
   "metadata": {},
   "source": [
    "#### Teste 2: Vetores reais inversamente proporcionais"
   ]
  },
  {
   "cell_type": "code",
   "execution_count": null,
   "metadata": {},
   "outputs": [],
   "source": [
    "from cmath import sqrt, exp\n",
    "\n",
    "inputVector = [0.8, 0.8, 0.3, 0.0]\n",
    "weightVector = [0.2, 0.2, 0.7, 1.0]\n",
    "\n",
    "# normalizacao\n",
    "thetas = [math.pi*i for i in inputVector]\n",
    "phis =  [math.pi*i for i in weightVector]\n",
    "\n",
    "# criar vetor com valores de theta_i - phi_i\n",
    "eis = [thetas[i]-phis[i] for i in range(len(thetas)) ] \n",
    "expi = [exp(x*sqrt(-1)) for x in eis] \n",
    "\n",
    "# calculo final equacao 5\n",
    "(1/(2**len(expi))) * sum(expi)"
   ]
  },
  {
   "cell_type": "markdown",
   "metadata": {},
   "source": [
    "### Preprocessing Transformations"
   ]
  },
  {
   "cell_type": "code",
   "execution_count": null,
   "metadata": {},
   "outputs": [],
   "source": [
    "# Eq. 5.4\n",
    "\n",
    "inputVector = [1,  3]\n",
    "\n",
    "np.sqrt(sum([i*i for i in inputVector])) "
   ]
  },
  {
   "cell_type": "code",
   "execution_count": null,
   "metadata": {},
   "outputs": [],
   "source": [
    "# Eq. 5.5\n",
    "\n",
    "inputVector = [1,  3]\n",
    "\n",
    "math.asin(inputVector[-1]/np.sqrt(sum([i*i for i in inputVector])))"
   ]
  },
  {
   "cell_type": "code",
   "execution_count": 7,
   "metadata": {},
   "outputs": [],
   "source": [
    "inputVector = [0.15, 0.31, 0.3, -0.14]"
   ]
  },
  {
   "cell_type": "code",
   "execution_count": null,
   "metadata": {},
   "outputs": [],
   "source": [
    "[np.sqrt(sum([i*i for i in inputVector])), math.asin(inputVector[-1]/np.sqrt(sum([i*i for i in inputVector])))] "
   ]
  },
  {
   "cell_type": "code",
   "execution_count": null,
   "metadata": {},
   "outputs": [],
   "source": [
    "[1,2,3] + [0]*(int(len(inputVector)/2)-2)"
   ]
  },
  {
   "cell_type": "code",
   "execution_count": null,
   "metadata": {},
   "outputs": [],
   "source": [
    "inputVector = [math.atan(inputVector[i]/inputVector[i+1]) for i in range(0, len(inputVector), 2)] + [np.sqrt(sum([i*i for i in inputVector])), math.asin(inputVector[-1]/np.sqrt(sum([i*i for i in inputVector])))] + [0]*int(len(inputVector)/2)[:-2]\n",
    "#inputVector = [math.sqrt(inputVector[i]**2 + inputVector[i+1]**2) for i in range(0, len(inputVector), 2)] + [np.sqrt(sum([i*i for i in inputVector])), math.asin(inputVector[-1]/np.sqrt(sum([i*i for i in inputVector])))] + [0]*int(len(inputVector)/2)[:-2]\n",
    "#inputVector = [math.sqrt(inputVector[i]**2 + inputVector[i+1]**2) for i in range(0, len(inputVector), 2)] + [math.atan(inputVector[i]/inputVector[i+1]) for i in range(0, len(inputVector), 2)] + [np.sqrt(sum([i*i for i in inputVector])), math.asin(inputVector[-1]/np.sqrt(sum([i*i for i in inputVector])))]\n",
    "    "
   ]
  },
  {
   "cell_type": "code",
   "execution_count": null,
   "metadata": {},
   "outputs": [],
   "source": []
  }
 ],
 "metadata": {
  "environment": {
   "name": "common-cpu.m76",
   "type": "gcloud",
   "uri": "gcr.io/deeplearning-platform-release/base-cpu:m76"
  },
  "kernelspec": {
   "display_name": "Python 3",
   "language": "python",
   "name": "python3"
  },
  "language_info": {
   "codemirror_mode": {
    "name": "ipython",
    "version": 3
   },
   "file_extension": ".py",
   "mimetype": "text/x-python",
   "name": "python",
   "nbconvert_exporter": "python",
   "pygments_lexer": "ipython3",
   "version": "3.8.0"
  }
 },
 "nbformat": 4,
 "nbformat_minor": 4
}
