{
 "cells": [
  {
   "cell_type": "code",
   "execution_count": 1,
   "metadata": {},
   "outputs": [],
   "source": [
    "from code.neuron import *\n",
    "from code.encodingsource import *\n",
    "from code.hsgs import *\n",
    "from code.classical_neuron import *\n",
    "from code.classical_pso import *\n",
    "from code.sf import *\n",
    "simulator = Aer.get_backend('qasm_simulator')\n",
    "import pandas as pd\n",
    "import numpy as np\n",
    "import math\n",
    "from qiskit.tools.visualization import plot_histogram, plot_state_city"
   ]
  },
  {
   "cell_type": "markdown",
   "metadata": {},
   "source": [
    "## makePhaseEncodingV1"
   ]
  },
  {
   "cell_type": "markdown",
   "metadata": {},
   "source": [
    "#### Teste 1: Vetores reais iguais"
   ]
  },
  {
   "cell_type": "code",
   "execution_count": null,
   "metadata": {},
   "outputs": [],
   "source": [
    "inputVector = [0.8, 0.8, 0.5, 0.3, 0.8, 0.8, 0.5, 0.3]\n",
    "\n",
    "weightVector = [0.8, 0.8, 0.5, 0.3, 0.8, 0.8, 0.5, 0.3]"
   ]
  },
  {
   "cell_type": "code",
   "execution_count": null,
   "metadata": {},
   "outputs": [],
   "source": [
    "neuron = createNeuron(inputVector, weightVector, 'phase-encoding-phase', ancilla=True)"
   ]
  },
  {
   "cell_type": "code",
   "execution_count": null,
   "metadata": {},
   "outputs": [],
   "source": [
    "executeNeuron(neuron, simulator, threshold=None)"
   ]
  },
  {
   "cell_type": "markdown",
   "metadata": {},
   "source": [
    "#### Teste 2: Vetores reais inversamente proporcionais"
   ]
  },
  {
   "cell_type": "code",
   "execution_count": null,
   "metadata": {},
   "outputs": [],
   "source": [
    "inputVector = [0.8, 0.8, 0.1, 0.3, 0.25, 0.9, 0.0, 0.5]\n",
    "\n",
    "weightVector = [0.2, 0.2, 0.9, 0.7, 0.75, 0.1, 1.0, 0.5]"
   ]
  },
  {
   "cell_type": "code",
   "execution_count": null,
   "metadata": {},
   "outputs": [],
   "source": [
    "neuron = createNeuron(inputVector, weightVector, 'phase-encoding-phase', ancilla=True)\n",
    "executeNeuron(neuron, simulator, threshold=None)"
   ]
  },
  {
   "cell_type": "markdown",
   "metadata": {},
   "source": [
    "#### Teste 3: Vetores binários "
   ]
  },
  {
   "cell_type": "code",
   "execution_count": null,
   "metadata": {},
   "outputs": [],
   "source": [
    "inputVector = [1, 1, -1, -1]\n",
    "weightVector = [0.2, 0.2, 0.9, 0.7]"
   ]
  },
  {
   "cell_type": "code",
   "execution_count": null,
   "metadata": {},
   "outputs": [],
   "source": [
    "neuron = createNeuron(inputVector, weightVector, 'phase-encoding-phase', ancilla=True)\n",
    "executeNeuron(neuron, simulator, threshold=None)"
   ]
  },
  {
   "cell_type": "markdown",
   "metadata": {},
   "source": [
    "#### DEBUGGING"
   ]
  },
  {
   "cell_type": "code",
   "execution_count": 14,
   "metadata": {},
   "outputs": [
    {
     "name": "stdout",
     "output_type": "stream",
     "text": [
      "[1.4142135623730951, 0.7853981633974483]\n"
     ]
    }
   ],
   "source": [
    "inputVector = [1, 1]\n",
    "weightVector = [1.0656854249492382, 0.028761101961531033]\n",
    "\n",
    "inputVector = [math.sqrt(inputVector[0]**2 + inputVector[1]**2), math.atan(inputVector[0]/inputVector[1])]\n",
    "print(inputVector)"
   ]
  },
  {
   "cell_type": "code",
   "execution_count": 15,
   "metadata": {},
   "outputs": [],
   "source": [
    "neuron = createNeuron(inputVector, weightVector, 'phase-encoding-phase')\n",
    "a = executeNeuron(neuron, simulator, threshold=None)"
   ]
  },
  {
   "cell_type": "code",
   "execution_count": 16,
   "metadata": {},
   "outputs": [
    {
     "data": {
      "text/plain": [
       "0.6405029296875"
      ]
     },
     "execution_count": 16,
     "metadata": {},
     "output_type": "execute_result"
    }
   ],
   "source": [
    "a"
   ]
  },
  {
   "cell_type": "markdown",
   "metadata": {},
   "source": [
    "#### Teste 2: Vetores reais inversamente proporcionais"
   ]
  },
  {
   "cell_type": "code",
   "execution_count": 4,
   "metadata": {},
   "outputs": [],
   "source": [
    "inputVector = [1, 1]\n",
    "weightVector = [-0.707106781187, 0.707106781187]"
   ]
  },
  {
   "cell_type": "code",
   "execution_count": 6,
   "metadata": {},
   "outputs": [
    {
     "data": {
      "text/plain": [
       "(0.3643798828125, <Figure size 504x360 with 1 Axes>)"
      ]
     },
     "execution_count": 6,
     "metadata": {},
     "output_type": "execute_result"
    }
   ],
   "source": [
    "neuron = createNeuron(inputVector, weightVector, 'phase-encoding')\n",
    "executeNeuron(neuron, simulator, threshold=None)"
   ]
  },
  {
   "cell_type": "code",
   "execution_count": null,
   "metadata": {},
   "outputs": [],
   "source": [
    "inputVector = [-1, -1]\n",
    "weightVector = [-1, 1]\n",
    "neuron = createNeuron(inputVector, weightVector, 'hsgs')\n",
    "executeNeuron(neuron, simulator, threshold=None)"
   ]
  },
  {
   "cell_type": "markdown",
   "metadata": {},
   "source": [
    "## Paper Vizualizations"
   ]
  },
  {
   "cell_type": "code",
   "execution_count": 59,
   "metadata": {},
   "outputs": [],
   "source": [
    "inputVector = [0.8, 0.7, 0.4, 0.1]\n",
    "weightVector = [0.2, 0.3, 0.6, 0.9]"
   ]
  },
  {
   "cell_type": "code",
   "execution_count": 60,
   "metadata": {},
   "outputs": [
    {
     "data": {
      "text/plain": [
       "0.0999755859375"
      ]
     },
     "execution_count": 60,
     "metadata": {},
     "output_type": "execute_result"
    }
   ],
   "source": [
    "neuron = createNeuron(inputVector, weightVector, 'phase-encoding')\n",
    "a, b = executeNeuron(neuron, simulator, threshold=None)\n",
    "a"
   ]
  },
  {
   "cell_type": "code",
   "execution_count": 61,
   "metadata": {},
   "outputs": [
    {
     "data": {
      "image/png": "[encoded data removed]",
      "text/plain": [
       "<Figure size 504x360 with 1 Axes>"
      ]
     },
     "execution_count": 61,
     "metadata": {},
     "output_type": "execute_result"
    }
   ],
   "source": [
    "b"
   ]
  },
  {
   "cell_type": "code",
   "execution_count": 69,
   "metadata": {},
   "outputs": [
    {
     "data": {
      "text/plain": [
       "[-1, 1]"
      ]
     },
     "execution_count": 69,
     "metadata": {},
     "output_type": "execute_result"
    }
   ],
   "source": [
    "input_ = [-1, 1] #[[-1, -1],  [-1,1], [1,1], [1,-1]]\n",
    "\n",
    "inputVector = input_ #+[1]*len(input_)\n",
    "weightVector = [0.7828, 0.0287] #[-0.02325, 0.2094, 0.4767, 0.7094] #[0.5, 0.5, 1.0, 1.0]\n",
    "inputVector"
   ]
  },
  {
   "cell_type": "code",
   "execution_count": 70,
   "metadata": {},
   "outputs": [
    {
     "data": {
      "text/plain": [
       "[1.4142135623730951, -0.7853981633974483]"
      ]
     },
     "execution_count": 70,
     "metadata": {},
     "output_type": "execute_result"
    }
   ],
   "source": [
    "inputVector = [math.sqrt(inputVector[i]**2 + inputVector[i+1]**2) for i in range(0, len(inputVector), 2)] + [math.atan(inputVector[i]/inputVector[i+1]) for i in range(0, len(inputVector), 2)] \n",
    "inputVector"
   ]
  },
  {
   "cell_type": "code",
   "execution_count": 71,
   "metadata": {},
   "outputs": [
    {
     "data": {
      "text/plain": [
       "0.4097900390625"
      ]
     },
     "execution_count": 71,
     "metadata": {},
     "output_type": "execute_result"
    }
   ],
   "source": [
    "neuron = createNeuron(inputVector, weightVector, 'phase-encoding')\n",
    "a, b = executeNeuron(neuron, simulator, threshold=None)\n",
    "a"
   ]
  },
  {
   "cell_type": "code",
   "execution_count": 72,
   "metadata": {},
   "outputs": [
    {
     "data": {
      "image/png": "[encoded data removed]",
      "text/plain": [
       "<Figure size 504x360 with 1 Axes>"
      ]
     },
     "execution_count": 72,
     "metadata": {},
     "output_type": "execute_result"
    }
   ],
   "source": [
    "b"
   ]
  },
  {
   "cell_type": "markdown",
   "metadata": {},
   "source": [
    "## Equation 5 Testing"
   ]
  },
  {
   "cell_type": "code",
   "execution_count": 62,
   "metadata": {},
   "outputs": [],
   "source": [
    "import math "
   ]
  },
  {
   "cell_type": "markdown",
   "metadata": {},
   "source": [
    "#### Teste 1: Vetores reais iguais"
   ]
  },
  {
   "cell_type": "code",
   "execution_count": 63,
   "metadata": {},
   "outputs": [
    {
     "data": {
      "text/plain": [
       "(5.551115123125783e-17+0.18163563200134022j)"
      ]
     },
     "execution_count": 63,
     "metadata": {},
     "output_type": "execute_result"
    }
   ],
   "source": [
    "from cmath import sqrt, exp\n",
    "\n",
    "# normalizacao\n",
    "thetas = [math.pi*i for i in inputVector]\n",
    "phis =  [math.pi*i for i in weightVector]\n",
    "\n",
    "# criar vetor com valores de theta_i - phi_i\n",
    "eis = [thetas[i]-phis[i] for i in range(len(thetas)) ] \n",
    "expi = [exp(x*sqrt(-1)) for x in eis] \n",
    "\n",
    "# calculo final equacao 5\n",
    "(1/(len(expi))) * sum(expi)"
   ]
  },
  {
   "cell_type": "markdown",
   "metadata": {},
   "source": [
    "#### Teste 2: Vetores reais inversamente proporcionais"
   ]
  },
  {
   "cell_type": "code",
   "execution_count": null,
   "metadata": {},
   "outputs": [],
   "source": [
    "from cmath import sqrt, exp\n",
    "\n",
    "# normalizacao\n",
    "thetas = normalizePi([0.8, 0.8, 0.5, 0.3, 0.0, 0.5, 0.0, 0.2])\n",
    "phis = normalizePi([0.2, 0.2, 0.5, 0.7, 1.0, 0.5, 1.0, 0.8])\n",
    "\n",
    "# criar vetor com valores de theta_i - phi_i\n",
    "eis = [thetas[i]-phis[i] for i in range(len(thetas)) ] \n",
    "expi = [exp(x*sqrt(-1)) for x in eis] \n",
    "\n",
    "# calculo final equacao 5\n",
    "(1/(2**len(expi))) * sum(expi)"
   ]
  },
  {
   "cell_type": "markdown",
   "metadata": {},
   "source": [
    "#### Teste 3: Vetores Binários Iguais"
   ]
  },
  {
   "cell_type": "code",
   "execution_count": null,
   "metadata": {},
   "outputs": [],
   "source": [
    "from cmath import sqrt, exp\n",
    "\n",
    "# normalizacao\n",
    "thetas = normalizePi([1, 1, -1, -1])\n",
    "phis = normalizePi([0.2, 0.2, 0.9, 0.7])\n",
    "\n",
    "# criar vetor com valores de theta_i - phi_i\n",
    "eis = [thetas[i]-phis[i] for i in range(len(thetas)) ] \n",
    "expi = [exp(x*sqrt(-1)) for x in eis] \n",
    "\n",
    "# calculo final equacao 5\n",
    "(1/(2**len(expi))) * sum(expi)"
   ]
  },
  {
   "cell_type": "markdown",
   "metadata": {},
   "source": [
    "#### Teste 4: Vetores Binários Inversamente proporcionais"
   ]
  },
  {
   "cell_type": "code",
   "execution_count": null,
   "metadata": {},
   "outputs": [],
   "source": [
    "from cmath import sqrt, exp\n",
    "\n",
    "# normalizacao\n",
    "thetas = normalizePi([-1, 1, 1, -1])\n",
    "phis = normalizePi([1, -1, -1, 1])\n",
    "\n",
    "# criar vetor com valores de theta_i - phi_i\n",
    "eis = [thetas[i]-phis[i] for i in range(len(thetas)) ] \n",
    "expi = [exp(x*sqrt(-1)) for x in eis] \n",
    "\n",
    "# calculo final equacao 5\n",
    "(1/(2**len(expi))) * sum(expi)"
   ]
  },
  {
   "cell_type": "code",
   "execution_count": null,
   "metadata": {},
   "outputs": [],
   "source": []
  }
 ],
 "metadata": {
  "environment": {
   "name": "r-cpu.3-6.m65",
   "type": "gcloud",
   "uri": "gcr.io/deeplearning-platform-release/r-cpu.3-6:m65"
  },
  "kernelspec": {
   "display_name": "Python 3",
   "language": "python",
   "name": "python3"
  },
  "language_info": {
   "codemirror_mode": {
    "name": "ipython",
    "version": 3
   },
   "file_extension": ".py",
   "mimetype": "text/x-python",
   "name": "python",
   "nbconvert_exporter": "python",
   "pygments_lexer": "ipython3",
   "version": "3.7.10"
  }
 },
 "nbformat": 4,
 "nbformat_minor": 4
}
