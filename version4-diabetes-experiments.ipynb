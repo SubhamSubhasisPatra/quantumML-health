{
 "cells": [
  {
   "cell_type": "code",
   "execution_count": 1,
   "metadata": {},
   "outputs": [],
   "source": [
    "from code.neuron import *\n",
    "from code.encodingsource import *\n",
    "from code.hsgs import *\n",
    "from code.classical_neuron import *\n",
    "from code.classical_pso import *\n",
    "from code.sf import *\n",
    "simulator = Aer.get_backend('qasm_simulator')\n",
    "import pandas as pd\n",
    "import numpy as np\n",
    "import matplotlib.pyplot as plt\n",
    "import json\n",
    "\n",
    "from code.experiment_functions import *"
   ]
  },
  {
   "cell_type": "code",
   "execution_count": 2,
   "metadata": {},
   "outputs": [],
   "source": [
    "diabetes = pd.read_csv('data/diabetes.csv')"
   ]
  },
  {
   "cell_type": "code",
   "execution_count": 3,
   "metadata": {},
   "outputs": [],
   "source": [
    "# normalization 0-1\n",
    "for i in diabetes.columns:\n",
    "    diabetes[i] = (diabetes[i] - diabetes[i].min()) / (diabetes[i].max() - diabetes[i].min())"
   ]
  },
  {
   "cell_type": "code",
   "execution_count": 4,
   "metadata": {},
   "outputs": [],
   "source": [
    "# split in test and train data\n",
    "from sklearn.model_selection import train_test_split\n",
    "\n",
    "X_train, X_test, y_train, y_test = train_test_split(diabetes.drop('Outcome',axis=1), diabetes['Outcome'])"
   ]
  },
  {
   "cell_type": "code",
   "execution_count": 5,
   "metadata": {},
   "outputs": [],
   "source": [
    "X_train = X_train.values.tolist()\n",
    "X_test = X_test.values.tolist()\n",
    "y_train = y_train.values.tolist()\n",
    "y_test = y_test.values.tolist()"
   ]
  },
  {
   "cell_type": "code",
   "execution_count": 6,
   "metadata": {},
   "outputs": [],
   "source": [
    "y_train = [int(x) for x in y_train]\n",
    "y_test =  [int(x) for x in y_test]"
   ]
  },
  {
   "cell_type": "code",
   "execution_count": 7,
   "metadata": {},
   "outputs": [],
   "source": [
    "\"\"\"\n",
    "with open('results/version4/train_data.json', 'w+') as fp:\n",
    "    json.dump([X_train, y_train], fp)\n",
    "    \n",
    "with open('results/version4/test_data.json', 'w+') as fp:\n",
    "    json.dump([X_test, y_test], fp)\n",
    "\"\"\""
   ]
  },
  {
   "cell_type": "code",
   "execution_count": 2,
   "metadata": {},
   "outputs": [],
   "source": [
    "with open('results/version4/train_data.json') as json_file:\n",
    "    X_train = json.load(json_file)[0]\n",
    "\n",
    "with open('results/version4/train_data.json') as json_file:\n",
    "    y_train = json.load(json_file)[1]\n",
    "    \n",
    "with open('results/version4/test_data.json') as json_file:\n",
    "    X_test = json.load(json_file)[0]\n",
    "\n",
    "with open('results/version4/test_data.json') as json_file:\n",
    "    y_test = json.load(json_file)[1]"
   ]
  },
  {
   "cell_type": "markdown",
   "metadata": {},
   "source": [
    "## Unbiased"
   ]
  },
  {
   "cell_type": "code",
   "execution_count": null,
   "metadata": {},
   "outputs": [],
   "source": [
    "epoch_errosHSGS, epoch_errosEncodingWeight, epoch_errosEncodingInput, epoch_errosPhaseEncoding  = experiment_TRAIN(X_train, \n",
    "                                                                                         y_train,\n",
    "                                                                                         lrParameter=0.2, \n",
    "                                                                                         n_epochs=20, \n",
    "                                                                                         trainingBias=False,\n",
    "                                                                                         error_by_epoch = True,\n",
    "                                                                                         trainingApproaches={'neuronio-classico', 'neuronio-classico-bin', 'hsgs','encoding-weight', 'encoding-input', 'phase-encoding'})"
   ]
  },
  {
   "cell_type": "code",
   "execution_count": null,
   "metadata": {},
   "outputs": [],
   "source": [
    "with open('results/version4/error_by_epoch_unbiased.json', 'w+') as fp:\n",
    "    json.dump({'epoch_errosHSGS': epoch_errosHSGS,\n",
    "               'epoch_errosEncodingWeight': epoch_errosEncodingWeight, \n",
    "               'epoch_errosPhaseEncoding': epoch_errosPhaseEncoding, \n",
    "               'epoch_errosEncodingInput': epoch_errosEncodingInput},\n",
    "              fp)"
   ]
  },
  {
   "cell_type": "code",
   "execution_count": 3,
   "metadata": {},
   "outputs": [
    {
     "name": "stdout",
     "output_type": "stream",
     "text": [
      "\n",
      "erro HSGS 1.0\n",
      "erro encoding weight 0.03515625\n",
      "erro encoding input 0.451171875\n",
      "erro phase encoding 0.8984375\n",
      "\n",
      "erro HSGS 1.0\n",
      "erro encoding weight 0.03515625\n",
      "erro encoding input 0.4091796875\n",
      "erro phase encoding 0.8984375\n",
      "\n",
      "erro HSGS 1.0\n",
      "erro encoding weight 0.0341796875\n",
      "erro encoding input 0.4091796875\n",
      "erro phase encoding 0.8984375\n",
      "\n",
      "erro HSGS 1.0\n",
      "erro encoding weight 0.0263671875\n",
      "erro encoding input 0.4091796875\n",
      "erro phase encoding 0.8984375\n",
      "\n",
      "erro HSGS 1.0\n",
      "erro encoding weight 0.0234375\n",
      "erro encoding input 0.4091796875\n",
      "erro phase encoding 0.8984375\n",
      "\n",
      "erro HSGS 1.0\n",
      "erro encoding weight 0.0234375\n",
      "erro encoding input 0.4091796875\n",
      "erro phase encoding 0.8857421875\n",
      "\n",
      "erro HSGS 1.0\n",
      "erro encoding weight 0.0234375\n",
      "erro encoding input 0.4091796875\n",
      "erro phase encoding 0.8857421875\n",
      "\n",
      "erro HSGS 1.0\n",
      "erro encoding weight 0.0234375\n",
      "erro encoding input 0.4091796875\n",
      "erro phase encoding 0.8857421875\n",
      "\n",
      "erro HSGS 1.0\n",
      "erro encoding weight 0.0234375\n",
      "erro encoding input 0.4091796875\n",
      "erro phase encoding 0.8857421875\n",
      "\n",
      "erro HSGS 1.0\n",
      "erro encoding weight 0.0234375\n",
      "erro encoding input 0.4091796875\n",
      "erro phase encoding 0.8857421875\n",
      "\n",
      "erro HSGS 1.0\n",
      "erro encoding weight 0.0234375\n",
      "erro encoding input 0.4091796875\n",
      "erro phase encoding 0.8857421875\n"
     ]
    }
   ],
   "source": [
    "weightsEncodingWeight, weightsEncodingInput, weightsPhaseEncoding, weightsHSGS = experiment_TRAIN(X_train, \n",
    "                                                                                                 y_train,\n",
    "                                                                                                 lrParameter=0.2, \n",
    "                                                                                                 n_epochs=10, \n",
    "                                                                                                 trainingBias=False,\n",
    "                                                                                                 trainingApproaches={'neuronio-classico', 'neuronio-classico-bin', 'hsgs','encoding-weight', 'encoding-input', 'phase-encoding'})"
   ]
  },
  {
   "cell_type": "code",
   "execution_count": 4,
   "metadata": {},
   "outputs": [],
   "source": [
    "weights = [weightsEncodingWeight, \n",
    "          weightsEncodingInput, \n",
    "          weightsPhaseEncoding, \n",
    "          weightsHSGS]"
   ]
  },
  {
   "cell_type": "code",
   "execution_count": 5,
   "metadata": {},
   "outputs": [],
   "source": [
    "with open('results/version4/weights_unbiased_v4.json', 'w+') as fp:\n",
    "    json.dump(weights, fp)"
   ]
  },
  {
   "cell_type": "markdown",
   "metadata": {},
   "source": [
    "#### Test"
   ]
  },
  {
   "cell_type": "code",
   "execution_count": 6,
   "metadata": {},
   "outputs": [],
   "source": [
    "with open('results/version4/weights_unbiased_v4.json') as json_file:\n",
    "    weights = json.load(json_file)"
   ]
  },
  {
   "cell_type": "code",
   "execution_count": 7,
   "metadata": {},
   "outputs": [
    {
     "name": "stdout",
     "output_type": "stream",
     "text": [
      "erro HSGS 0.3645833333333333\n",
      "erro encoding weight 0.6666666666666666\n",
      "erro encoding input 0.4270833333333333\n",
      "erro phase encoding 0.4791666666666667\n",
      "erro HSGS 0.3645833333333333\n",
      "erro encoding weight 0.6666666666666666\n",
      "erro encoding input 0.5729166666666666\n",
      "erro phase encoding 0.4739583333333333\n",
      "erro HSGS 0.3645833333333333\n",
      "erro encoding weight 0.65625\n",
      "erro encoding input 0.5208333333333334\n",
      "erro phase encoding 0.5260416666666666\n",
      "erro HSGS 0.3645833333333333\n",
      "erro encoding weight 0.65625\n",
      "erro encoding input 0.4947916666666667\n",
      "erro phase encoding 0.5208333333333334\n",
      "erro HSGS 0.3645833333333333\n",
      "erro encoding weight 0.671875\n",
      "erro encoding input 0.546875\n",
      "erro phase encoding 0.5\n",
      "ERROS HSGS             0.3646\n",
      "ERROS ENCODING WEIGHT  0.66354\n",
      "ERROS ENCODING INPUT   0.5125\n",
      "ERROS PHASE ENCODING   0.5\n"
     ]
    }
   ],
   "source": [
    "resultsBIAS = experiment_TEST(X_test, \n",
    "                              y_test, \n",
    "                              weights[0], \n",
    "                              weights[1], \n",
    "                              weights[2], \n",
    "                              weights[3],\n",
    "                              repeat=5,\n",
    "                              bias=False, \n",
    "                              testingApproaches={'neuronio-classico', 'neuronio-classico-bin', 'hsgs','encoding-weight', 'phase-encoding','encoding-input'})"
   ]
  },
  {
   "cell_type": "code",
   "execution_count": 8,
   "metadata": {},
   "outputs": [],
   "source": [
    "with open('results/version4/experiments_unbiased.json', 'w+') as fp:\n",
    "    json.dump(resultsBIAS, fp)"
   ]
  },
  {
   "cell_type": "markdown",
   "metadata": {},
   "source": [
    "##### save results as dataframe"
   ]
  },
  {
   "cell_type": "code",
   "execution_count": 9,
   "metadata": {},
   "outputs": [],
   "source": [
    "def readAndResults(i):\n",
    "    with open('results/'+i) as f:\n",
    "        data = json.load(f)\n",
    "\n",
    "    erros = ['error_HSGS', 'error_encoding_weight', 'error_encoding_input', 'error_phase_encoding']\n",
    "    new_data = {'error':[], 'model':[]}\n",
    "\n",
    "    for erro in erros:\n",
    "        new_data['error'] = new_data['error'] + data[erro] \n",
    "        new_data['model'] = new_data['model'] +  ( (erro+' ') * len(data[erro])).split(' ')[:-1]  \n",
    "\n",
    "    new_data = pd.DataFrame(new_data)\n",
    "\n",
    "    new_data.to_csv('results/'+i[:-5]+'_dataframe.csv', index=False)\n",
    "    \n",
    "    return new_data"
   ]
  },
  {
   "cell_type": "code",
   "execution_count": 10,
   "metadata": {},
   "outputs": [
    {
     "data": {
      "text/html": [
       "<div>\n",
       "<style scoped>\n",
       "    .dataframe tbody tr th:only-of-type {\n",
       "        vertical-align: middle;\n",
       "    }\n",
       "\n",
       "    .dataframe tbody tr th {\n",
       "        vertical-align: top;\n",
       "    }\n",
       "\n",
       "    .dataframe thead th {\n",
       "        text-align: right;\n",
       "    }\n",
       "</style>\n",
       "<table border=\"1\" class=\"dataframe\">\n",
       "  <thead>\n",
       "    <tr style=\"text-align: right;\">\n",
       "      <th></th>\n",
       "      <th>error</th>\n",
       "      <th>model</th>\n",
       "    </tr>\n",
       "  </thead>\n",
       "  <tbody>\n",
       "    <tr>\n",
       "      <th>0</th>\n",
       "      <td>0.3646</td>\n",
       "      <td>error_HSGS</td>\n",
       "    </tr>\n",
       "    <tr>\n",
       "      <th>1</th>\n",
       "      <td>0.3646</td>\n",
       "      <td>error_HSGS</td>\n",
       "    </tr>\n",
       "    <tr>\n",
       "      <th>2</th>\n",
       "      <td>0.3646</td>\n",
       "      <td>error_HSGS</td>\n",
       "    </tr>\n",
       "    <tr>\n",
       "      <th>3</th>\n",
       "      <td>0.3646</td>\n",
       "      <td>error_HSGS</td>\n",
       "    </tr>\n",
       "    <tr>\n",
       "      <th>4</th>\n",
       "      <td>0.3646</td>\n",
       "      <td>error_HSGS</td>\n",
       "    </tr>\n",
       "    <tr>\n",
       "      <th>5</th>\n",
       "      <td>0.6667</td>\n",
       "      <td>error_encoding_weight</td>\n",
       "    </tr>\n",
       "    <tr>\n",
       "      <th>6</th>\n",
       "      <td>0.6667</td>\n",
       "      <td>error_encoding_weight</td>\n",
       "    </tr>\n",
       "    <tr>\n",
       "      <th>7</th>\n",
       "      <td>0.6562</td>\n",
       "      <td>error_encoding_weight</td>\n",
       "    </tr>\n",
       "    <tr>\n",
       "      <th>8</th>\n",
       "      <td>0.6562</td>\n",
       "      <td>error_encoding_weight</td>\n",
       "    </tr>\n",
       "    <tr>\n",
       "      <th>9</th>\n",
       "      <td>0.6719</td>\n",
       "      <td>error_encoding_weight</td>\n",
       "    </tr>\n",
       "    <tr>\n",
       "      <th>10</th>\n",
       "      <td>0.4271</td>\n",
       "      <td>error_encoding_input</td>\n",
       "    </tr>\n",
       "    <tr>\n",
       "      <th>11</th>\n",
       "      <td>0.5729</td>\n",
       "      <td>error_encoding_input</td>\n",
       "    </tr>\n",
       "    <tr>\n",
       "      <th>12</th>\n",
       "      <td>0.5208</td>\n",
       "      <td>error_encoding_input</td>\n",
       "    </tr>\n",
       "    <tr>\n",
       "      <th>13</th>\n",
       "      <td>0.4948</td>\n",
       "      <td>error_encoding_input</td>\n",
       "    </tr>\n",
       "    <tr>\n",
       "      <th>14</th>\n",
       "      <td>0.5469</td>\n",
       "      <td>error_encoding_input</td>\n",
       "    </tr>\n",
       "    <tr>\n",
       "      <th>15</th>\n",
       "      <td>0.4792</td>\n",
       "      <td>error_phase_encoding</td>\n",
       "    </tr>\n",
       "    <tr>\n",
       "      <th>16</th>\n",
       "      <td>0.4740</td>\n",
       "      <td>error_phase_encoding</td>\n",
       "    </tr>\n",
       "    <tr>\n",
       "      <th>17</th>\n",
       "      <td>0.5260</td>\n",
       "      <td>error_phase_encoding</td>\n",
       "    </tr>\n",
       "    <tr>\n",
       "      <th>18</th>\n",
       "      <td>0.5208</td>\n",
       "      <td>error_phase_encoding</td>\n",
       "    </tr>\n",
       "    <tr>\n",
       "      <th>19</th>\n",
       "      <td>0.5000</td>\n",
       "      <td>error_phase_encoding</td>\n",
       "    </tr>\n",
       "  </tbody>\n",
       "</table>\n",
       "</div>"
      ],
      "text/plain": [
       "     error                  model\n",
       "0   0.3646             error_HSGS\n",
       "1   0.3646             error_HSGS\n",
       "2   0.3646             error_HSGS\n",
       "3   0.3646             error_HSGS\n",
       "4   0.3646             error_HSGS\n",
       "5   0.6667  error_encoding_weight\n",
       "6   0.6667  error_encoding_weight\n",
       "7   0.6562  error_encoding_weight\n",
       "8   0.6562  error_encoding_weight\n",
       "9   0.6719  error_encoding_weight\n",
       "10  0.4271   error_encoding_input\n",
       "11  0.5729   error_encoding_input\n",
       "12  0.5208   error_encoding_input\n",
       "13  0.4948   error_encoding_input\n",
       "14  0.5469   error_encoding_input\n",
       "15  0.4792   error_phase_encoding\n",
       "16  0.4740   error_phase_encoding\n",
       "17  0.5260   error_phase_encoding\n",
       "18  0.5208   error_phase_encoding\n",
       "19  0.5000   error_phase_encoding"
      ]
     },
     "execution_count": 10,
     "metadata": {},
     "output_type": "execute_result"
    }
   ],
   "source": [
    "readAndResults('version4/experiments_unbiased.json')"
   ]
  },
  {
   "cell_type": "markdown",
   "metadata": {},
   "source": [
    "## Biased"
   ]
  },
  {
   "cell_type": "code",
   "execution_count": null,
   "metadata": {},
   "outputs": [],
   "source": [
    "epoch_errosHSGS, epoch_errosEncodingWeight, epoch_errosEncodingInput, epoch_errosPhaseEncoding  = experiment_TRAIN(X_train, \n",
    "                                                                                                 y_train,\n",
    "                                                                                                 lrParameter=0.2, \n",
    "                                                                                                 n_epochs=20, \n",
    "                                                                                                 trainingBias=True,\n",
    "                                                                                                 error_by_epoch = True,\n",
    "                                                                                                 trainingApproaches={'neuronio-classico', \n",
    "                                                                                                                     'neuronio-classico-bin', \n",
    "                                                                                                                     'hsgs',\n",
    "                                                                                                                     'encoding-weight', \n",
    "                                                                                                                     'encoding-input',\n",
    "                                                                                                                     'phase-encoding'})"
   ]
  },
  {
   "cell_type": "code",
   "execution_count": null,
   "metadata": {},
   "outputs": [],
   "source": [
    "with open('results/version4/error_by_epoch_biased.json', 'w+') as fp:\n",
    "    json.dump({'epoch_errosHSGS': epoch_errosHSGS,\n",
    "               'epoch_errosEncodingWeight': epoch_errosEncodingWeight, \n",
    "               'epoch_errosPhaseEncoding': epoch_errosPhaseEncoding, \n",
    "               'epoch_errosEncodingInput': epoch_errosEncodingInput},\n",
    "              fp)"
   ]
  },
  {
   "cell_type": "code",
   "execution_count": 11,
   "metadata": {},
   "outputs": [
    {
     "name": "stdout",
     "output_type": "stream",
     "text": [
      "\n",
      "erro HSGS 1.0\n",
      "erro encoding weight 0.3583984375\n",
      "erro encoding input 0.7138671875\n",
      "erro phase encoding 0.6171875\n",
      "\n",
      "erro HSGS 1.0\n",
      "erro encoding weight 0.3525390625\n",
      "erro encoding input 0.6953125\n",
      "erro phase encoding 0.6171875\n",
      "\n",
      "erro HSGS 1.0\n",
      "erro encoding weight 0.3525390625\n",
      "erro encoding input 0.6953125\n",
      "erro phase encoding 0.6171875\n",
      "\n",
      "erro HSGS 1.0\n",
      "erro encoding weight 0.3525390625\n",
      "erro encoding input 0.6953125\n",
      "erro phase encoding 0.615234375\n",
      "\n",
      "erro HSGS 1.0\n",
      "erro encoding weight 0.3525390625\n",
      "erro encoding input 0.693359375\n",
      "erro phase encoding 0.6123046875\n",
      "\n",
      "erro HSGS 1.0\n",
      "erro encoding weight 0.3330078125\n",
      "erro encoding input 0.693359375\n",
      "erro phase encoding 0.6123046875\n",
      "\n",
      "erro HSGS 1.0\n",
      "erro encoding weight 0.3330078125\n",
      "erro encoding input 0.693359375\n",
      "erro phase encoding 0.6123046875\n",
      "\n",
      "erro HSGS 1.0\n",
      "erro encoding weight 0.3330078125\n",
      "erro encoding input 0.693359375\n",
      "erro phase encoding 0.6123046875\n",
      "\n",
      "erro HSGS 1.0\n",
      "erro encoding weight 0.3330078125\n",
      "erro encoding input 0.693359375\n",
      "erro phase encoding 0.6123046875\n",
      "\n",
      "erro HSGS 1.0\n",
      "erro encoding weight 0.3330078125\n",
      "erro encoding input 0.6923828125\n",
      "erro phase encoding 0.6123046875\n",
      "\n",
      "erro HSGS 1.0\n",
      "erro encoding weight 0.3330078125\n",
      "erro encoding input 0.6923828125\n",
      "erro phase encoding 0.6123046875\n"
     ]
    }
   ],
   "source": [
    "weightsEncodingWeight, weightsEncodingInput, weightsPhaseEncoding, weightsHSGS = experiment_TRAIN(X_train, \n",
    "                                                                                                             y_train,\n",
    "                                                                                                             lrParameter=0.2, \n",
    "                                                                                                             n_epochs=10, \n",
    "                                                                                                             trainingBias=True,\n",
    "                                                                                                             trainingApproaches={'neuronio-classico', \n",
    "                                                                                                                                 'neuronio-classico-bin', \n",
    "                                                                                                                                 'hsgs',\n",
    "                                                                                                                                 'encoding-weight', \n",
    "                                                                                                                                 'encoding-input', \n",
    "                                                                                                                                 'phase-encoding'})"
   ]
  },
  {
   "cell_type": "code",
   "execution_count": 12,
   "metadata": {},
   "outputs": [],
   "source": [
    "weights = [weightsEncodingWeight, \n",
    "          weightsEncodingInput, \n",
    "          weightsPhaseEncoding, \n",
    "          weightsHSGS]"
   ]
  },
  {
   "cell_type": "code",
   "execution_count": 13,
   "metadata": {},
   "outputs": [],
   "source": [
    "with open('results/version4/weights_biased_v4.json', 'w+') as fp:\n",
    "    json.dump(weights, fp)"
   ]
  },
  {
   "cell_type": "markdown",
   "metadata": {},
   "source": [
    "##### test"
   ]
  },
  {
   "cell_type": "code",
   "execution_count": 14,
   "metadata": {},
   "outputs": [],
   "source": [
    "with open('results/version4/weights_biased_v4.json') as json_file:\n",
    "    weights = json.load(json_file)"
   ]
  },
  {
   "cell_type": "code",
   "execution_count": 15,
   "metadata": {},
   "outputs": [
    {
     "name": "stdout",
     "output_type": "stream",
     "text": [
      "erro HSGS 0.3645833333333333\n",
      "erro encoding weight 0.3541666666666667\n",
      "erro encoding input 0.53125\n",
      "erro phase encoding 0.359375\n",
      "erro HSGS 0.3645833333333333\n",
      "erro encoding weight 0.3645833333333333\n",
      "erro encoding input 0.46875\n",
      "erro phase encoding 0.3697916666666667\n",
      "erro HSGS 0.3645833333333333\n",
      "erro encoding weight 0.3541666666666667\n",
      "erro encoding input 0.46875\n",
      "erro phase encoding 0.3645833333333333\n",
      "erro HSGS 0.3645833333333333\n",
      "erro encoding weight 0.359375\n",
      "erro encoding input 0.5\n",
      "erro phase encoding 0.375\n",
      "erro HSGS 0.3645833333333333\n",
      "erro encoding weight 0.3697916666666667\n",
      "erro encoding input 0.4895833333333333\n",
      "erro phase encoding 0.3697916666666667\n",
      "ERROS HSGS             0.3646\n",
      "ERROS ENCODING WEIGHT  0.36044\n",
      "ERROS ENCODING INPUT   0.49167999999999995\n",
      "ERROS PHASE ENCODING   0.36772\n"
     ]
    }
   ],
   "source": [
    "resultsBIAS = experiment_TEST(X_test, \n",
    "                              y_test, \n",
    "                              weights[0], \n",
    "                              weights[1], \n",
    "                              weights[2], \n",
    "                              weights[3], \n",
    "                              repeat=5,\n",
    "                              bias=True, \n",
    "                              testingApproaches={'neuronio-classico', 'neuronio-classico-bin', 'hsgs','encoding-weight', 'phase-encoding','encoding-input'})"
   ]
  },
  {
   "cell_type": "code",
   "execution_count": 16,
   "metadata": {},
   "outputs": [],
   "source": [
    "with open('results/version4/experiments_biased.json', 'w+') as fp:\n",
    "    json.dump(resultsBIAS, fp)"
   ]
  },
  {
   "cell_type": "markdown",
   "metadata": {},
   "source": [
    "##### save result as dataframe"
   ]
  },
  {
   "cell_type": "code",
   "execution_count": 17,
   "metadata": {},
   "outputs": [
    {
     "data": {
      "text/html": [
       "<div>\n",
       "<style scoped>\n",
       "    .dataframe tbody tr th:only-of-type {\n",
       "        vertical-align: middle;\n",
       "    }\n",
       "\n",
       "    .dataframe tbody tr th {\n",
       "        vertical-align: top;\n",
       "    }\n",
       "\n",
       "    .dataframe thead th {\n",
       "        text-align: right;\n",
       "    }\n",
       "</style>\n",
       "<table border=\"1\" class=\"dataframe\">\n",
       "  <thead>\n",
       "    <tr style=\"text-align: right;\">\n",
       "      <th></th>\n",
       "      <th>error</th>\n",
       "      <th>model</th>\n",
       "    </tr>\n",
       "  </thead>\n",
       "  <tbody>\n",
       "    <tr>\n",
       "      <th>0</th>\n",
       "      <td>0.3646</td>\n",
       "      <td>error_HSGS</td>\n",
       "    </tr>\n",
       "    <tr>\n",
       "      <th>1</th>\n",
       "      <td>0.3646</td>\n",
       "      <td>error_HSGS</td>\n",
       "    </tr>\n",
       "    <tr>\n",
       "      <th>2</th>\n",
       "      <td>0.3646</td>\n",
       "      <td>error_HSGS</td>\n",
       "    </tr>\n",
       "    <tr>\n",
       "      <th>3</th>\n",
       "      <td>0.3646</td>\n",
       "      <td>error_HSGS</td>\n",
       "    </tr>\n",
       "    <tr>\n",
       "      <th>4</th>\n",
       "      <td>0.3646</td>\n",
       "      <td>error_HSGS</td>\n",
       "    </tr>\n",
       "    <tr>\n",
       "      <th>5</th>\n",
       "      <td>0.3542</td>\n",
       "      <td>error_encoding_weight</td>\n",
       "    </tr>\n",
       "    <tr>\n",
       "      <th>6</th>\n",
       "      <td>0.3646</td>\n",
       "      <td>error_encoding_weight</td>\n",
       "    </tr>\n",
       "    <tr>\n",
       "      <th>7</th>\n",
       "      <td>0.3542</td>\n",
       "      <td>error_encoding_weight</td>\n",
       "    </tr>\n",
       "    <tr>\n",
       "      <th>8</th>\n",
       "      <td>0.3594</td>\n",
       "      <td>error_encoding_weight</td>\n",
       "    </tr>\n",
       "    <tr>\n",
       "      <th>9</th>\n",
       "      <td>0.3698</td>\n",
       "      <td>error_encoding_weight</td>\n",
       "    </tr>\n",
       "    <tr>\n",
       "      <th>10</th>\n",
       "      <td>0.5312</td>\n",
       "      <td>error_encoding_input</td>\n",
       "    </tr>\n",
       "    <tr>\n",
       "      <th>11</th>\n",
       "      <td>0.4688</td>\n",
       "      <td>error_encoding_input</td>\n",
       "    </tr>\n",
       "    <tr>\n",
       "      <th>12</th>\n",
       "      <td>0.4688</td>\n",
       "      <td>error_encoding_input</td>\n",
       "    </tr>\n",
       "    <tr>\n",
       "      <th>13</th>\n",
       "      <td>0.5000</td>\n",
       "      <td>error_encoding_input</td>\n",
       "    </tr>\n",
       "    <tr>\n",
       "      <th>14</th>\n",
       "      <td>0.4896</td>\n",
       "      <td>error_encoding_input</td>\n",
       "    </tr>\n",
       "    <tr>\n",
       "      <th>15</th>\n",
       "      <td>0.3594</td>\n",
       "      <td>error_phase_encoding</td>\n",
       "    </tr>\n",
       "    <tr>\n",
       "      <th>16</th>\n",
       "      <td>0.3698</td>\n",
       "      <td>error_phase_encoding</td>\n",
       "    </tr>\n",
       "    <tr>\n",
       "      <th>17</th>\n",
       "      <td>0.3646</td>\n",
       "      <td>error_phase_encoding</td>\n",
       "    </tr>\n",
       "    <tr>\n",
       "      <th>18</th>\n",
       "      <td>0.3750</td>\n",
       "      <td>error_phase_encoding</td>\n",
       "    </tr>\n",
       "    <tr>\n",
       "      <th>19</th>\n",
       "      <td>0.3698</td>\n",
       "      <td>error_phase_encoding</td>\n",
       "    </tr>\n",
       "  </tbody>\n",
       "</table>\n",
       "</div>"
      ],
      "text/plain": [
       "     error                  model\n",
       "0   0.3646             error_HSGS\n",
       "1   0.3646             error_HSGS\n",
       "2   0.3646             error_HSGS\n",
       "3   0.3646             error_HSGS\n",
       "4   0.3646             error_HSGS\n",
       "5   0.3542  error_encoding_weight\n",
       "6   0.3646  error_encoding_weight\n",
       "7   0.3542  error_encoding_weight\n",
       "8   0.3594  error_encoding_weight\n",
       "9   0.3698  error_encoding_weight\n",
       "10  0.5312   error_encoding_input\n",
       "11  0.4688   error_encoding_input\n",
       "12  0.4688   error_encoding_input\n",
       "13  0.5000   error_encoding_input\n",
       "14  0.4896   error_encoding_input\n",
       "15  0.3594   error_phase_encoding\n",
       "16  0.3698   error_phase_encoding\n",
       "17  0.3646   error_phase_encoding\n",
       "18  0.3750   error_phase_encoding\n",
       "19  0.3698   error_phase_encoding"
      ]
     },
     "execution_count": 17,
     "metadata": {},
     "output_type": "execute_result"
    }
   ],
   "source": [
    "readAndResults('version4/experiments_biased.json')"
   ]
  },
  {
   "cell_type": "code",
   "execution_count": null,
   "metadata": {},
   "outputs": [],
   "source": []
  }
 ],
 "metadata": {
  "environment": {
   "name": "common-cpu.mnightly-2021-02-12-debian-10-test",
   "type": "gcloud",
   "uri": "gcr.io/deeplearning-platform-release/base-cpu:mnightly-2021-02-12-debian-10-test"
  },
  "kernelspec": {
   "display_name": "Python 3",
   "language": "python",
   "name": "python3"
  },
  "language_info": {
   "codemirror_mode": {
    "name": "ipython",
    "version": 3
   },
   "file_extension": ".py",
   "mimetype": "text/x-python",
   "name": "python",
   "nbconvert_exporter": "python",
   "pygments_lexer": "ipython3",
   "version": "3.7.9"
  }
 },
 "nbformat": 4,
 "nbformat_minor": 4
}
