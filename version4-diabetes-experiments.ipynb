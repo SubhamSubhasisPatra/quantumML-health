{
 "cells": [
  {
   "cell_type": "code",
   "execution_count": 1,
   "metadata": {},
   "outputs": [],
   "source": [
    "from code.neuron import *\n",
    "from code.encodingsource import *\n",
    "from code.hsgs import *\n",
    "from code.classical_neuron import *\n",
    "from code.classical_pso import *\n",
    "from code.sf import *\n",
    "simulator = Aer.get_backend('qasm_simulator')\n",
    "import pandas as pd\n",
    "import numpy as np\n",
    "import matplotlib.pyplot as plt\n",
    "import json\n",
    "\n",
    "from code.experiment_functions import *"
   ]
  },
  {
   "cell_type": "code",
   "execution_count": null,
   "metadata": {},
   "outputs": [],
   "source": [
    "diabetes = pd.read_csv('data/diabetes.csv')"
   ]
  },
  {
   "cell_type": "code",
   "execution_count": null,
   "metadata": {},
   "outputs": [],
   "source": [
    "# normalization 0-1\n",
    "for i in diabetes.columns:\n",
    "    diabetes[i] = (diabetes[i] - diabetes[i].min()) / (diabetes[i].max() - diabetes[i].min())"
   ]
  },
  {
   "cell_type": "code",
   "execution_count": null,
   "metadata": {},
   "outputs": [],
   "source": [
    "drop_indices = np.random.choice(diabetes.index, 368, replace=False)\n",
    "diabetes = diabetes.drop(drop_indices)"
   ]
  },
  {
   "cell_type": "code",
   "execution_count": null,
   "metadata": {},
   "outputs": [],
   "source": [
    "# split in test and train data\n",
    "from sklearn.model_selection import train_test_split\n",
    "\n",
    "X_train, X_test, y_train, y_test = train_test_split(diabetes.drop('Outcome',axis=1), diabetes['Outcome'], test_size=0.2)"
   ]
  },
  {
   "cell_type": "code",
   "execution_count": null,
   "metadata": {},
   "outputs": [],
   "source": [
    "X_train[X_train == 0] = 0.000001\n",
    "X_test[X_test == 0] = 0.000001"
   ]
  },
  {
   "cell_type": "code",
   "execution_count": null,
   "metadata": {},
   "outputs": [],
   "source": [
    "X_train = X_train.values.tolist()\n",
    "X_test = X_test.values.tolist()\n",
    "y_train = y_train.values.tolist()\n",
    "y_test = y_test.values.tolist()"
   ]
  },
  {
   "cell_type": "code",
   "execution_count": null,
   "metadata": {},
   "outputs": [],
   "source": [
    "y_train = [int(x) for x in y_train]\n",
    "y_test =  [int(x) for x in y_test]"
   ]
  },
  {
   "cell_type": "code",
   "execution_count": null,
   "metadata": {},
   "outputs": [],
   "source": [
    "\"\"\"\n",
    "with open('results/version4/train_data.json', 'w+') as fp:\n",
    "    json.dump([X_train, y_train], fp)\n",
    "    \n",
    "with open('results/version4/test_data.json', 'w+') as fp:\n",
    "    json.dump([X_test, y_test], fp)\n",
    "\"\"\""
   ]
  },
  {
   "cell_type": "code",
   "execution_count": 2,
   "metadata": {},
   "outputs": [],
   "source": [
    "with open('results/version4/train_data.json') as json_file:\n",
    "    X_train = json.load(json_file)[0]\n",
    "\n",
    "with open('results/version4/train_data.json') as json_file:\n",
    "    y_train = json.load(json_file)[1]\n",
    "    \n",
    "with open('results/version4/test_data.json') as json_file:\n",
    "    X_test = json.load(json_file)[0]\n",
    "\n",
    "with open('results/version4/test_data.json') as json_file:\n",
    "    y_test = json.load(json_file)[1]"
   ]
  },
  {
   "cell_type": "code",
   "execution_count": 3,
   "metadata": {},
   "outputs": [],
   "source": [
    "def float_to_binary(list_, m, n):\n",
    "    \"\"\"Convert the float value `x` to a binary string of length `m + n`\n",
    "    where the first `m` binary digits are the integer part and the last\n",
    "    'n' binary digits are the fractional part of `x`.\n",
    "    \"\"\"\n",
    "    list_scaled = []\n",
    "    for number in list_:\n",
    "        x_scaled = round(number * 2 ** n)\n",
    "        x_scaled = '{:0{}b}'.format(x_scaled, m + n)\n",
    "        for i in x_scaled:\n",
    "            if i == '0':\n",
    "                list_scaled.append(-1)\n",
    "            else:\n",
    "                list_scaled.append(1)\n",
    "    return list_scaled\n",
    "\n",
    "X_test_bin = []\n",
    "for i in X_test:\n",
    "    X_test_bin.append(float_to_binary(i, 1, 4))\n",
    "    \n",
    "X_train_bin = []\n",
    "for i in X_train:\n",
    "    X_train_bin.append(float_to_binary(i, 1, 4))"
   ]
  },
  {
   "cell_type": "markdown",
   "metadata": {},
   "source": [
    "## Test"
   ]
  },
  {
   "cell_type": "code",
   "execution_count": 7,
   "metadata": {},
   "outputs": [],
   "source": [
    "w = list(np.random.uniform(low=0.0, high=1.0, size=(len(X_test_bin[0]),)))"
   ]
  },
  {
   "cell_type": "code",
   "execution_count": 8,
   "metadata": {},
   "outputs": [
    {
     "name": "stdout",
     "output_type": "stream",
     "text": [
      "lrParameter:  0.1\n",
      "threshold:  0.7\n",
      "trainingBias:  False\n",
      "phaseEstrategyOperator:  original\n",
      "best error HSGS training:  33\n"
     ]
    }
   ],
   "source": [
    "weights = quantumNeuronFIT(X_test_bin, \n",
    "                           y_train,\n",
    "                           init_weight = w,\n",
    "                           threshold=0.7,\n",
    "                           lrParameter=0.1, \n",
    "                           n_epochs=20, \n",
    "                           trainingBias=False,\n",
    "                           epoch_results=True,\n",
    "                           phaseEstrategyOperator='original',\n",
    "                           trainingApproaches={'hsgs'})"
   ]
  },
  {
   "cell_type": "code",
   "execution_count": 9,
   "metadata": {},
   "outputs": [
    {
     "name": "stdout",
     "output_type": "stream",
     "text": [
      "AVG TEST ERROR HSGS    0.32500000000000007\n"
     ]
    },
    {
     "name": "stderr",
     "output_type": "stream",
     "text": [
      "/opt/conda/lib/python3.7/site-packages/numpy/lib/function_base.py:380: RuntimeWarning: Mean of empty slice.\n",
      "  avg = a.mean(axis)\n",
      "/opt/conda/lib/python3.7/site-packages/numpy/core/_methods.py:170: RuntimeWarning: invalid value encountered in double_scalars\n",
      "  ret = ret.dtype.type(ret / rcount)\n"
     ]
    }
   ],
   "source": [
    "results = quantumNeuronPREDICT(X_test, \n",
    "                                   y_test,\n",
    "                                   threshold=0.7,\n",
    "                                   weightVectorsPhaseEncoding = weights[0], \n",
    "                                   weightVectorsHSGS = weights[1], \n",
    "                                   repeat=10,\n",
    "                                   bias=False, \n",
    "                                   phaseEstrategyOperator='original',\n",
    "                                   testingApproaches={'hsgs'})"
   ]
  },
  {
   "cell_type": "code",
   "execution_count": 10,
   "metadata": {},
   "outputs": [
    {
     "name": "stdout",
     "output_type": "stream",
     "text": [
      "phase avg_error nan\n",
      "phase weights [0.4528429325464004, 0.3529783659443947, 0.6573994627797582, 0.3703510829880352, 0.45909297789143144, 0.7193241225090415, 0.4129918291138346, 0.9064232691643387, 0.1804516192026816, 0.7411188729132643, 0.42237404364314035, 0.42645357268494233, 0.6343798686338388, 0.5229062010283453, 0.4148859784394432, 0.0014268805627581926, 0.09226234584675208, 0.7093943937252127, 0.5243455967651972, 0.6961604635169689, 0.955468323002926, 0.6829138543754175, 0.05312869067295756, 0.30885268486379713, 0.592594687323373, 0.2351204072574643, 0.9649709995361269, 0.9450482237927939, 0.8484008808376887, 0.47232399628840227, 0.8414767148983973, 0.13111064234791392, 0.3087336572978354, 0.46299639415441707, 0.7418472006834668, 0.48582522870889666, 0.13687611879745087, 0.34353652970435833, 0.324426169672443, 0.30041890431803975]\n",
      "\\HSGS avg_error 0.32500000000000007\n",
      "HSGS weights [67.95284293254682, 63.852978365945035, 44.15739946278012, -7.129648917011956, -11.040907022108547, 68.21932412250943, -43.087008170886506, 5.406423269164336, -0.31954838079731845, 8.241118872913253, 67.92237404364356, -39.07354642731534, 28.13437986863397, 4.022906201028348, 12.914885978439415, 67.5014268805632, 63.59226234584739, -18.790605606274788, 4.024345596765199, 12.196160463516943, 68.45546832300332, 68.18291385437583, 39.55312869067325, 19.808852684863812, 28.092594687323505, 67.7351204072579, -14.535029000463838, 16.44504822379276, 12.348400880837662, 15.972323996288363, 68.34147671489879, 63.63111064234855, 19.80873365729785, 19.962996394154434, -10.758152799316512, 67.98582522870932, 59.63687611879803, 51.84353652970483, 23.824426169672513, -4.199581095681962]\n"
     ]
    }
   ],
   "source": [
    "print('phase avg_error', results[0])\n",
    "print('phase weights', results[2])\n",
    "\n",
    "print('\\HSGS avg_error', results[3])\n",
    "print('HSGS weights', results[5])"
   ]
  },
  {
   "cell_type": "markdown",
   "metadata": {},
   "source": [
    "## Binary Quantum Neuron Experiments "
   ]
  },
  {
   "cell_type": "code",
   "execution_count": 8,
   "metadata": {},
   "outputs": [],
   "source": [
    "output = {'model':[],\n",
    "          'phase_strategy':[],\n",
    "            'bias':[],\n",
    "            'threshold':[],\n",
    "            'lr':[],\n",
    "            'avg_error':[],\n",
    "            'trained_weights':[],\n",
    "            'initial_weights':[],\n",
    "            'neuron_outputs':[]}"
   ]
  },
  {
   "cell_type": "code",
   "execution_count": 9,
   "metadata": {},
   "outputs": [],
   "source": [
    "# search space\n",
    "initial_weights =  list(np.random.uniform(low=0.0, high=1.0, size=(len(X_train_bin[0]),)))\n",
    "threshold_space = [0.3, 0.5, 0.7, 0.8]\n",
    "lr_space = [0.02, 0.1]\n",
    "bias_space = [False, True]\n",
    "strategy_space = ['original']"
   ]
  },
  {
   "cell_type": "code",
   "execution_count": null,
   "metadata": {},
   "outputs": [
    {
     "name": "stdout",
     "output_type": "stream",
     "text": [
      "lrParameter:  0.02\n",
      "threshold:  0.3\n",
      "trainingBias:  False\n",
      "phaseEstrategyOperator:  original\n",
      "best error HSGS training:  124\n",
      "AVG TEST ERROR HSGS    0.3125\n",
      "\n",
      "\n",
      "lrParameter:  0.02\n",
      "threshold:  0.3\n",
      "trainingBias:  True\n",
      "phaseEstrategyOperator:  original\n"
     ]
    },
    {
     "name": "stderr",
     "output_type": "stream",
     "text": [
      "/opt/conda/lib/python3.7/site-packages/numpy/lib/function_base.py:380: RuntimeWarning: Mean of empty slice.\n",
      "  avg = a.mean(axis)\n",
      "/opt/conda/lib/python3.7/site-packages/numpy/core/_methods.py:170: RuntimeWarning: invalid value encountered in double_scalars\n",
      "  ret = ret.dtype.type(ret / rcount)\n"
     ]
    },
    {
     "name": "stdout",
     "output_type": "stream",
     "text": [
      "best error HSGS training:  122\n",
      "AVG TEST ERROR HSGS    0.45\n",
      "\n",
      "\n",
      "lrParameter:  0.1\n",
      "threshold:  0.3\n",
      "trainingBias:  False\n",
      "phaseEstrategyOperator:  original\n",
      "best error HSGS training:  129\n",
      "AVG TEST ERROR HSGS    0.5\n",
      "\n",
      "\n",
      "lrParameter:  0.1\n",
      "threshold:  0.3\n",
      "trainingBias:  True\n",
      "phaseEstrategyOperator:  original\n",
      "best error HSGS training:  118\n",
      "AVG TEST ERROR HSGS    0.4125\n",
      "\n",
      "\n",
      "lrParameter:  0.02\n",
      "threshold:  0.5\n",
      "trainingBias:  False\n",
      "phaseEstrategyOperator:  original\n",
      "best error HSGS training:  118\n",
      "AVG TEST ERROR HSGS    0.4\n",
      "\n",
      "\n",
      "lrParameter:  0.02\n",
      "threshold:  0.5\n",
      "trainingBias:  True\n",
      "phaseEstrategyOperator:  original\n",
      "best error HSGS training:  135\n",
      "AVG TEST ERROR HSGS    0.4375\n",
      "\n",
      "\n",
      "lrParameter:  0.1\n",
      "threshold:  0.5\n",
      "trainingBias:  False\n",
      "phaseEstrategyOperator:  original\n",
      "best error HSGS training:  118\n",
      "AVG TEST ERROR HSGS    0.4\n",
      "\n",
      "\n",
      "lrParameter:  0.1\n",
      "threshold:  0.5\n",
      "trainingBias:  True\n",
      "phaseEstrategyOperator:  original\n",
      "best error HSGS training:  133\n",
      "AVG TEST ERROR HSGS    0.4749999999999999\n",
      "\n",
      "\n",
      "lrParameter:  0.02\n",
      "threshold:  0.7\n",
      "trainingBias:  False\n",
      "phaseEstrategyOperator:  original\n",
      "best error HSGS training:  122\n",
      "AVG TEST ERROR HSGS    0.3375\n",
      "\n",
      "\n",
      "lrParameter:  0.02\n",
      "threshold:  0.7\n",
      "trainingBias:  True\n",
      "phaseEstrategyOperator:  original\n",
      "best error HSGS training:  118\n",
      "AVG TEST ERROR HSGS    0.36249999999999993\n",
      "\n",
      "\n",
      "lrParameter:  0.1\n",
      "threshold:  0.7\n",
      "trainingBias:  False\n",
      "phaseEstrategyOperator:  original\n",
      "best error HSGS training:  122\n",
      "AVG TEST ERROR HSGS    0.3375\n",
      "\n",
      "\n",
      "lrParameter:  0.1\n",
      "threshold:  0.7\n",
      "trainingBias:  True\n",
      "phaseEstrategyOperator:  original\n",
      "best error HSGS training:  117\n",
      "AVG TEST ERROR HSGS    0.36249999999999993\n",
      "\n",
      "\n",
      "lrParameter:  0.02\n",
      "threshold:  0.8\n",
      "trainingBias:  False\n",
      "phaseEstrategyOperator:  original\n",
      "best error HSGS training:  124\n"
     ]
    }
   ],
   "source": [
    "%%time\n",
    "for w in initial_weights:\n",
    "    for strategy in strategy_space:\n",
    "        for threshold in threshold_space:\n",
    "            for lr in lr_space:\n",
    "                for bias in bias_space:\n",
    "                    # execute experiment\n",
    "                    weights = quantumNeuronFIT(X_train_bin, \n",
    "                                               y_train,\n",
    "                                               init_weight=initial_weights,\n",
    "                                               threshold=threshold,\n",
    "                                               lrParameter=lr, \n",
    "                                               n_epochs=20, \n",
    "                                               trainingBias=bias,\n",
    "                                               phaseEstrategyOperator=strategy,\n",
    "                                               trainingApproaches={'hsgs'})\n",
    "\n",
    "                    results = quantumNeuronPREDICT(X_test_bin, \n",
    "                                                   y_test,\n",
    "                                                   threshold=threshold,\n",
    "                                                   weightVectorsPhaseEncoding = weights[0], \n",
    "                                                   weightVectorsHSGS = weights[1], \n",
    "                                                   repeat=10,\n",
    "                                                   bias=bias, \n",
    "                                                   phaseEstrategyOperator=strategy,\n",
    "                                                   testingApproaches={'hsgs'})\n",
    "\n",
    "\n",
    "                    output['model'].append('HSGS')\n",
    "                    output['lr'].append(lr)\n",
    "                    output['bias'].append(bias)\n",
    "                    output['threshold'].append(threshold)\n",
    "                    output['phase_strategy'].append(strategy)\n",
    "                    output['avg_error'].append(results[3])\n",
    "                    output['neuron_outputs'].append(results[4])\n",
    "                    output['trained_weights'].append(results[5])\n",
    "                    output['initial_weights'].append(w)\n",
    "                    print('\\n')"
   ]
  },
  {
   "cell_type": "code",
   "execution_count": 12,
   "metadata": {},
   "outputs": [],
   "source": [
    "experiment_hsgs = pd.DataFrame(output)\n",
    "experiment_hsgs.to_csv('results/version4/experiment_diabetes_hsgs.csv')"
   ]
  },
  {
   "cell_type": "markdown",
   "metadata": {},
   "source": [
    "## Continuously Valued Quantum Neuron Experiments"
   ]
  },
  {
   "cell_type": "code",
   "execution_count": 3,
   "metadata": {},
   "outputs": [],
   "source": [
    "output = {'model':[],\n",
    "          'phase_strategy':[],\n",
    "            'bias':[],\n",
    "            'threshold':[],\n",
    "            'lr':[],\n",
    "            'avg_error':[],\n",
    "            'trained_weights':[],\n",
    "            'initial_weights':[],\n",
    "            'neuron_outputs':[]}"
   ]
  },
  {
   "cell_type": "code",
   "execution_count": 4,
   "metadata": {},
   "outputs": [],
   "source": [
    "# search space\n",
    "initial_weights =  list(np.random.uniform(low=0.0, high=1.0, size=(len(X_test[0]),)))\n",
    "threshold_space = [0.3, 0.5, 0.7, 0.8]\n",
    "lr_space = [0.02, 0.1]\n",
    "bias_space = [False, True]\n",
    "strategy_space = ['original', 'angle', 'radius', 'angleradius']"
   ]
  },
  {
   "cell_type": "code",
   "execution_count": null,
   "metadata": {},
   "outputs": [
    {
     "name": "stdout",
     "output_type": "stream",
     "text": [
      "lrParameter:  0.02\n",
      "threshold:  0.3\n",
      "trainingBias:  False\n",
      "phaseEstrategyOperator:  original\n",
      "\n",
      "best error phase-encoding training:  196\n",
      "AVG TEST ERROR PHASE   0.6875\n",
      "\n",
      "\n",
      "lrParameter:  0.02\n",
      "threshold:  0.3\n",
      "trainingBias:  True\n",
      "phaseEstrategyOperator:  original\n"
     ]
    },
    {
     "name": "stderr",
     "output_type": "stream",
     "text": [
      "/opt/conda/lib/python3.7/site-packages/numpy/lib/function_base.py:380: RuntimeWarning: Mean of empty slice.\n",
      "  avg = a.mean(axis)\n",
      "/opt/conda/lib/python3.7/site-packages/numpy/core/_methods.py:170: RuntimeWarning: invalid value encountered in double_scalars\n",
      "  ret = ret.dtype.type(ret / rcount)\n"
     ]
    },
    {
     "name": "stdout",
     "output_type": "stream",
     "text": [
      "\n",
      "best error phase-encoding training:  115\n",
      "AVG TEST ERROR PHASE   0.3125\n",
      "\n",
      "\n",
      "lrParameter:  0.1\n",
      "threshold:  0.3\n",
      "trainingBias:  False\n",
      "phaseEstrategyOperator:  original\n",
      "\n",
      "best error phase-encoding training:  196\n",
      "AVG TEST ERROR PHASE   0.6875\n",
      "\n",
      "\n",
      "lrParameter:  0.1\n",
      "threshold:  0.3\n",
      "trainingBias:  True\n",
      "phaseEstrategyOperator:  original\n",
      "\n",
      "best error phase-encoding training:  124\n",
      "AVG TEST ERROR PHASE   0.32500000000000007\n",
      "\n",
      "\n",
      "lrParameter:  0.02\n",
      "threshold:  0.5\n",
      "trainingBias:  False\n",
      "phaseEstrategyOperator:  original\n",
      "\n",
      "best error phase-encoding training:  209\n",
      "AVG TEST ERROR PHASE   0.69875\n",
      "\n",
      "\n",
      "lrParameter:  0.02\n",
      "threshold:  0.5\n",
      "trainingBias:  True\n",
      "phaseEstrategyOperator:  original\n"
     ]
    }
   ],
   "source": [
    "%%time\n",
    "for w in initial_weights:\n",
    "    for strategy in strategy_space:\n",
    "        for threshold in threshold_space:\n",
    "            for lr in lr_space:\n",
    "                for bias in bias_space:\n",
    "                    # execute experiment\n",
    "                    weights = quantumNeuronFIT(X_train, \n",
    "                                               y_train,\n",
    "                                               init_weight=initial_weights,\n",
    "                                               threshold=threshold,\n",
    "                                               lrParameter=lr, \n",
    "                                               n_epochs=20, \n",
    "                                               trainingBias=bias,\n",
    "                                               phaseEstrategyOperator=strategy,\n",
    "                                               trainingApproaches={'phase-encoding'})\n",
    "\n",
    "                    results = quantumNeuronPREDICT(X_test, \n",
    "                                                       y_test,\n",
    "                                                       threshold=threshold,\n",
    "                                                       weightVectorsPhaseEncoding = weights[0], \n",
    "                                                       weightVectorsHSGS = weights[1], \n",
    "                                                       repeat=10,\n",
    "                                                       bias=bias, \n",
    "                                                       phaseEstrategyOperator=strategy,\n",
    "                                                       testingApproaches={'phase-encoding'})\n",
    "\n",
    "                    # get experiment results\n",
    "                    output['model'].append('phase-encoding')\n",
    "                    output['lr'].append(lr)\n",
    "                    output['bias'].append(bias)\n",
    "                    output['threshold'].append(threshold)\n",
    "                    output['phase_strategy'].append(strategy)\n",
    "                    output['avg_error'].append(results[0])\n",
    "                    output['neuron_outputs'].append(results[1])\n",
    "                    output['trained_weights'].append(results[2])\n",
    "                    output['initial_weights'].append(w)\n",
    "                    print('\\n')"
   ]
  },
  {
   "cell_type": "code",
   "execution_count": 7,
   "metadata": {},
   "outputs": [],
   "source": [
    "experiment_phase = pd.DataFrame(output)\n",
    "experiment_phase.to_csv('results/version4/experiment_nonlinear_phase_vx.csv')"
   ]
  },
  {
   "cell_type": "code",
   "execution_count": 8,
   "metadata": {},
   "outputs": [
    {
     "data": {
      "text/html": [
       "<div>\n",
       "<style scoped>\n",
       "    .dataframe tbody tr th:only-of-type {\n",
       "        vertical-align: middle;\n",
       "    }\n",
       "\n",
       "    .dataframe tbody tr th {\n",
       "        vertical-align: top;\n",
       "    }\n",
       "\n",
       "    .dataframe thead th {\n",
       "        text-align: right;\n",
       "    }\n",
       "</style>\n",
       "<table border=\"1\" class=\"dataframe\">\n",
       "  <thead>\n",
       "    <tr style=\"text-align: right;\">\n",
       "      <th></th>\n",
       "      <th>model</th>\n",
       "      <th>phase_strategy</th>\n",
       "      <th>bias</th>\n",
       "      <th>threshold</th>\n",
       "      <th>lr</th>\n",
       "      <th>avg_error</th>\n",
       "      <th>trained_weights</th>\n",
       "      <th>initial_weights</th>\n",
       "      <th>neuron_outputs</th>\n",
       "    </tr>\n",
       "  </thead>\n",
       "  <tbody>\n",
       "    <tr>\n",
       "      <th>0</th>\n",
       "      <td>phase-encoding</td>\n",
       "      <td>original</td>\n",
       "      <td>False</td>\n",
       "      <td>0.3</td>\n",
       "      <td>0.02</td>\n",
       "      <td>0.68750</td>\n",
       "      <td>[0.2613840185436901, 0.36881463029123307, 0.35...</td>\n",
       "      <td>0.076308</td>\n",
       "      <td>[1, 1, 1, 1, 1, 1, 1, 1, 1, 1, 1, 1, 1, 1, 1, ...</td>\n",
       "    </tr>\n",
       "    <tr>\n",
       "      <th>1</th>\n",
       "      <td>phase-encoding</td>\n",
       "      <td>original</td>\n",
       "      <td>True</td>\n",
       "      <td>0.3</td>\n",
       "      <td>0.02</td>\n",
       "      <td>0.31250</td>\n",
       "      <td>[-0.2229383919545706, -0.30364565223549217, -0...</td>\n",
       "      <td>0.076308</td>\n",
       "      <td>[0, 0, 0, 0, 0, 0, 0, 0, 0, 0, 0, 0, 0, 0, 0, ...</td>\n",
       "    </tr>\n",
       "    <tr>\n",
       "      <th>2</th>\n",
       "      <td>phase-encoding</td>\n",
       "      <td>original</td>\n",
       "      <td>False</td>\n",
       "      <td>0.3</td>\n",
       "      <td>0.10</td>\n",
       "      <td>0.68750</td>\n",
       "      <td>[0.4938983238212171, 0.7120645324859705, 0.665...</td>\n",
       "      <td>0.076308</td>\n",
       "      <td>[1, 1, 1, 1, 1, 1, 1, 1, 1, 1, 1, 1, 1, 1, 1, ...</td>\n",
       "    </tr>\n",
       "    <tr>\n",
       "      <th>3</th>\n",
       "      <td>phase-encoding</td>\n",
       "      <td>original</td>\n",
       "      <td>True</td>\n",
       "      <td>0.3</td>\n",
       "      <td>0.10</td>\n",
       "      <td>0.32500</td>\n",
       "      <td>[-0.36692921341549883, -0.47345177255208143, -...</td>\n",
       "      <td>0.076308</td>\n",
       "      <td>[0, 0, 0, 0, 0, 0, 0, 0, 0, 0, 0, 0, 0, 0, 0, ...</td>\n",
       "    </tr>\n",
       "    <tr>\n",
       "      <th>4</th>\n",
       "      <td>phase-encoding</td>\n",
       "      <td>original</td>\n",
       "      <td>False</td>\n",
       "      <td>0.5</td>\n",
       "      <td>0.02</td>\n",
       "      <td>0.69875</td>\n",
       "      <td>[0.24100792577640034, 0.33833772164506487, 0.3...</td>\n",
       "      <td>0.076308</td>\n",
       "      <td>[1, 1, 1, 1, 1, 1, 1, 1, 1, 1, 1, 1, 1, 1, 1, ...</td>\n",
       "    </tr>\n",
       "    <tr>\n",
       "      <th>5</th>\n",
       "      <td>phase-encoding</td>\n",
       "      <td>original</td>\n",
       "      <td>True</td>\n",
       "      <td>0.5</td>\n",
       "      <td>0.02</td>\n",
       "      <td>0.32500</td>\n",
       "      <td>[-0.22306070519881066, -0.3036644993866432, -0...</td>\n",
       "      <td>0.076308</td>\n",
       "      <td>[0, 0, 0, 0, 0, 0, 0, 0, 0, 0, 0, 0, 0, 0, 0, ...</td>\n",
       "    </tr>\n",
       "    <tr>\n",
       "      <th>6</th>\n",
       "      <td>phase-encoding</td>\n",
       "      <td>original</td>\n",
       "      <td>False</td>\n",
       "      <td>0.5</td>\n",
       "      <td>0.10</td>\n",
       "      <td>0.68750</td>\n",
       "      <td>[0.4937740857676634, 0.7120630788023563, 0.665...</td>\n",
       "      <td>0.076308</td>\n",
       "      <td>[1, 1, 1, 1, 1, 1, 1, 1, 1, 1, 1, 1, 1, 1, 1, ...</td>\n",
       "    </tr>\n",
       "    <tr>\n",
       "      <th>7</th>\n",
       "      <td>phase-encoding</td>\n",
       "      <td>original</td>\n",
       "      <td>True</td>\n",
       "      <td>0.5</td>\n",
       "      <td>0.10</td>\n",
       "      <td>0.32500</td>\n",
       "      <td>[-0.36692921341549883, -0.47345177255208143, -...</td>\n",
       "      <td>0.076308</td>\n",
       "      <td>[0, 0, 0, 0, 0, 0, 0, 0, 0, 0, 0, 0, 0, 0, 0, ...</td>\n",
       "    </tr>\n",
       "    <tr>\n",
       "      <th>8</th>\n",
       "      <td>phase-encoding</td>\n",
       "      <td>original</td>\n",
       "      <td>False</td>\n",
       "      <td>0.7</td>\n",
       "      <td>0.02</td>\n",
       "      <td>0.30000</td>\n",
       "      <td>[-0.22288195525145463, -0.300068381425296, -0....</td>\n",
       "      <td>0.076308</td>\n",
       "      <td>[0, 0, 0, 0, 0, 0, 0, 0, 0, 0, 0, 0, 0, 0, 0, ...</td>\n",
       "    </tr>\n",
       "    <tr>\n",
       "      <th>9</th>\n",
       "      <td>phase-encoding</td>\n",
       "      <td>original</td>\n",
       "      <td>True</td>\n",
       "      <td>0.7</td>\n",
       "      <td>0.02</td>\n",
       "      <td>0.32500</td>\n",
       "      <td>[-0.22306070519881066, -0.3036644993866432, -0...</td>\n",
       "      <td>0.076308</td>\n",
       "      <td>[0, 0, 0, 0, 0, 0, 0, 0, 0, 0, 0, 0, 0, 0, 0, ...</td>\n",
       "    </tr>\n",
       "    <tr>\n",
       "      <th>10</th>\n",
       "      <td>phase-encoding</td>\n",
       "      <td>original</td>\n",
       "      <td>False</td>\n",
       "      <td>0.7</td>\n",
       "      <td>0.10</td>\n",
       "      <td>0.32500</td>\n",
       "      <td>[-0.36692921321778305, -0.473451772552081, -0....</td>\n",
       "      <td>0.076308</td>\n",
       "      <td>[0, 0, 0, 0, 0, 0, 0, 0, 0, 0, 0, 0, 0, 0, 0, ...</td>\n",
       "    </tr>\n",
       "  </tbody>\n",
       "</table>\n",
       "</div>"
      ],
      "text/plain": [
       "             model phase_strategy   bias  threshold    lr  avg_error  \\\n",
       "0   phase-encoding       original  False        0.3  0.02    0.68750   \n",
       "1   phase-encoding       original   True        0.3  0.02    0.31250   \n",
       "2   phase-encoding       original  False        0.3  0.10    0.68750   \n",
       "3   phase-encoding       original   True        0.3  0.10    0.32500   \n",
       "4   phase-encoding       original  False        0.5  0.02    0.69875   \n",
       "5   phase-encoding       original   True        0.5  0.02    0.32500   \n",
       "6   phase-encoding       original  False        0.5  0.10    0.68750   \n",
       "7   phase-encoding       original   True        0.5  0.10    0.32500   \n",
       "8   phase-encoding       original  False        0.7  0.02    0.30000   \n",
       "9   phase-encoding       original   True        0.7  0.02    0.32500   \n",
       "10  phase-encoding       original  False        0.7  0.10    0.32500   \n",
       "\n",
       "                                      trained_weights  initial_weights  \\\n",
       "0   [0.2613840185436901, 0.36881463029123307, 0.35...         0.076308   \n",
       "1   [-0.2229383919545706, -0.30364565223549217, -0...         0.076308   \n",
       "2   [0.4938983238212171, 0.7120645324859705, 0.665...         0.076308   \n",
       "3   [-0.36692921341549883, -0.47345177255208143, -...         0.076308   \n",
       "4   [0.24100792577640034, 0.33833772164506487, 0.3...         0.076308   \n",
       "5   [-0.22306070519881066, -0.3036644993866432, -0...         0.076308   \n",
       "6   [0.4937740857676634, 0.7120630788023563, 0.665...         0.076308   \n",
       "7   [-0.36692921341549883, -0.47345177255208143, -...         0.076308   \n",
       "8   [-0.22288195525145463, -0.300068381425296, -0....         0.076308   \n",
       "9   [-0.22306070519881066, -0.3036644993866432, -0...         0.076308   \n",
       "10  [-0.36692921321778305, -0.473451772552081, -0....         0.076308   \n",
       "\n",
       "                                       neuron_outputs  \n",
       "0   [1, 1, 1, 1, 1, 1, 1, 1, 1, 1, 1, 1, 1, 1, 1, ...  \n",
       "1   [0, 0, 0, 0, 0, 0, 0, 0, 0, 0, 0, 0, 0, 0, 0, ...  \n",
       "2   [1, 1, 1, 1, 1, 1, 1, 1, 1, 1, 1, 1, 1, 1, 1, ...  \n",
       "3   [0, 0, 0, 0, 0, 0, 0, 0, 0, 0, 0, 0, 0, 0, 0, ...  \n",
       "4   [1, 1, 1, 1, 1, 1, 1, 1, 1, 1, 1, 1, 1, 1, 1, ...  \n",
       "5   [0, 0, 0, 0, 0, 0, 0, 0, 0, 0, 0, 0, 0, 0, 0, ...  \n",
       "6   [1, 1, 1, 1, 1, 1, 1, 1, 1, 1, 1, 1, 1, 1, 1, ...  \n",
       "7   [0, 0, 0, 0, 0, 0, 0, 0, 0, 0, 0, 0, 0, 0, 0, ...  \n",
       "8   [0, 0, 0, 0, 0, 0, 0, 0, 0, 0, 0, 0, 0, 0, 0, ...  \n",
       "9   [0, 0, 0, 0, 0, 0, 0, 0, 0, 0, 0, 0, 0, 0, 0, ...  \n",
       "10  [0, 0, 0, 0, 0, 0, 0, 0, 0, 0, 0, 0, 0, 0, 0, ...  "
      ]
     },
     "execution_count": 8,
     "metadata": {},
     "output_type": "execute_result"
    }
   ],
   "source": [
    "experiment_phase"
   ]
  },
  {
   "cell_type": "code",
   "execution_count": null,
   "metadata": {},
   "outputs": [],
   "source": []
  }
 ],
 "metadata": {
  "environment": {
   "name": "common-cpu.m69",
   "type": "gcloud",
   "uri": "gcr.io/deeplearning-platform-release/base-cpu:m69"
  },
  "kernelspec": {
   "display_name": "Python 3",
   "language": "python",
   "name": "python3"
  },
  "language_info": {
   "codemirror_mode": {
    "name": "ipython",
    "version": 3
   },
   "file_extension": ".py",
   "mimetype": "text/x-python",
   "name": "python",
   "nbconvert_exporter": "python",
   "pygments_lexer": "ipython3",
   "version": "3.7.10"
  }
 },
 "nbformat": 4,
 "nbformat_minor": 4
}
