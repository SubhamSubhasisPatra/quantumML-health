{
 "cells": [
  {
   "cell_type": "code",
   "execution_count": 1,
   "metadata": {},
   "outputs": [],
   "source": [
    "from code.neuron import *\n",
    "from code.encodingsource import *\n",
    "from code.hsgs import *\n",
    "from code.classical_neuron import *\n",
    "from code.classical_pso import *\n",
    "from code.sf import *\n",
    "simulator = Aer.get_backend('qasm_simulator')\n",
    "import pandas as pd\n",
    "import numpy as np\n",
    "import matplotlib.pyplot as plt\n",
    "import json\n",
    "\n",
    "from code.experiment_functions import *"
   ]
  },
  {
   "cell_type": "code",
   "execution_count": 2,
   "metadata": {},
   "outputs": [],
   "source": [
    "diabetes = pd.read_csv('data/diabetes.csv')"
   ]
  },
  {
   "cell_type": "code",
   "execution_count": 3,
   "metadata": {},
   "outputs": [],
   "source": [
    "# normalization 0-1\n",
    "for i in diabetes.columns:\n",
    "    diabetes[i] = (diabetes[i] - diabetes[i].min()) / (diabetes[i].max() - diabetes[i].min())"
   ]
  },
  {
   "cell_type": "code",
   "execution_count": 4,
   "metadata": {},
   "outputs": [],
   "source": [
    "# split in test and train data\n",
    "from sklearn.model_selection import train_test_split\n",
    "\n",
    "X_train, X_test, y_train, y_test = train_test_split(diabetes.drop('Outcome',axis=1), diabetes['Outcome'])"
   ]
  },
  {
   "cell_type": "code",
   "execution_count": 5,
   "metadata": {},
   "outputs": [],
   "source": [
    "X_train = X_train.values.tolist()\n",
    "X_test = X_test.values.tolist()\n",
    "y_train = y_train.values.tolist()\n",
    "y_test = y_test.values.tolist()"
   ]
  },
  {
   "cell_type": "code",
   "execution_count": 6,
   "metadata": {},
   "outputs": [],
   "source": [
    "y_train = [int(x) for x in y_train]\n",
    "y_test =  [int(x) for x in y_test]"
   ]
  },
  {
   "cell_type": "markdown",
   "metadata": {},
   "source": [
    "### Train and Test with Bias"
   ]
  },
  {
   "cell_type": "code",
   "execution_count": 7,
   "metadata": {},
   "outputs": [],
   "source": [
    "epoch_errosHSGS, epoch_errosEncodingWeight, epoch_errosEncodingInput  = experiment_TRAIN(X_train, \n",
    "                                                                                         y_train,\n",
    "                                                                                         lrParameter=0.2, \n",
    "                                                                                         n_epochs=40, \n",
    "                                                                                         trainingBias=True,\n",
    "                                                                                         error_by_epoch = False,\n",
    "                                                                                         trainingApproaches={'neuronio-classico', 'neuronio-classico-bin', 'hsgs','encoding-weight', 'encoding-input'})"
   ]
  },
  {
   "cell_type": "code",
   "execution_count": 11,
   "metadata": {},
   "outputs": [],
   "source": [
    "with open('results/version4/error_by_epoch_unbiased.json', 'w+') as fp:\n",
    "    json.dump({'epoch_errosHSGS': epoch_errosHSGS,\n",
    "               'epoch_errosEncodingWeight': epoch_errosEncodingWeight, \n",
    "               'epoch_errosEncodingInput': epoch_errosEncodingInput},\n",
    "              fp)"
   ]
  },
  {
   "cell_type": "code",
   "execution_count": 7,
   "metadata": {},
   "outputs": [
    {
     "name": "stdout",
     "output_type": "stream",
     "text": [
      "\n",
      "erro HSGS 10.19921875\n",
      "erro encoding weight 506.3291015625\n",
      "erro encoding input 318.7802734375\n",
      "erro phase encoding 175.2587890625\n",
      "erro classico 88.6180606738132\n",
      "erro classico Bin 212.65483554319545\n",
      "\n",
      "erro HSGS 0.0\n",
      "erro encoding weight 507.87890625\n",
      "erro encoding input 318.5244140625\n",
      "erro phase encoding 184.681640625\n",
      "erro classico 74.28810022119933\n",
      "erro classico Bin 205.94105390216203\n",
      "\n",
      "erro HSGS 0.0\n",
      "erro encoding weight 507.322265625\n",
      "erro encoding input 317.830078125\n",
      "erro phase encoding 183.9775390625\n",
      "erro classico 74.28873214639039\n",
      "erro classico Bin 205.94105390216203\n",
      "\n",
      "erro HSGS 0.0\n",
      "erro encoding weight 507.755859375\n",
      "erro encoding input 317.4716796875\n",
      "erro phase encoding 184.6552734375\n",
      "erro classico 74.28873280953874\n",
      "erro classico Bin 205.94105390216203\n",
      "\n",
      "erro HSGS 0.0\n",
      "erro encoding weight 507.814453125\n",
      "erro encoding input 317.697265625\n",
      "erro phase encoding 184.1142578125\n",
      "erro classico 74.28873281027232\n",
      "erro classico Bin 205.94105390216203\n",
      "\n",
      "erro HSGS 0.0\n",
      "erro encoding weight 507.583984375\n",
      "erro encoding input 318.267578125\n",
      "erro phase encoding 184.7880859375\n",
      "erro classico 74.2887328102571\n",
      "erro classico Bin 205.94105390216203\n",
      "\n",
      "erro HSGS 0.0\n",
      "erro encoding weight 507.9580078125\n",
      "erro encoding input 318.109375\n",
      "erro phase encoding 184.4306640625\n",
      "erro classico 74.28873281024087\n",
      "erro classico Bin 205.94105390216203\n",
      "\n",
      "erro HSGS 0.0\n",
      "erro encoding weight 507.759765625\n",
      "erro encoding input 318.4208984375\n",
      "erro phase encoding 184.7939453125\n",
      "erro classico 74.28873281028206\n",
      "erro classico Bin 205.94105390216203\n",
      "\n",
      "erro HSGS 0.0\n",
      "erro encoding weight 508.017578125\n",
      "erro encoding input 318.025390625\n",
      "erro phase encoding 183.646484375\n",
      "erro classico 74.28873281024505\n",
      "erro classico Bin 205.94105390216203\n",
      "\n",
      "erro HSGS 0.0\n",
      "erro encoding weight 507.7880859375\n",
      "erro encoding input 318.1728515625\n",
      "erro phase encoding 184.8525390625\n",
      "erro classico 74.28873281025291\n",
      "erro classico Bin 205.94105390216203\n",
      "\n",
      "erro HSGS 0.0\n",
      "erro encoding weight 507.8857421875\n",
      "erro encoding input 318.35546875\n",
      "erro phase encoding 184.228515625\n",
      "erro classico 74.28873281027002\n",
      "erro classico Bin 205.94105390216203\n",
      "\n",
      "erro HSGS 0.0\n",
      "erro encoding weight 507.7041015625\n",
      "erro encoding input 317.693359375\n",
      "erro phase encoding 185.0322265625\n",
      "erro classico 74.2887328102571\n",
      "erro classico Bin 205.94105390216203\n",
      "\n",
      "erro HSGS 0.0\n",
      "erro encoding weight 507.8935546875\n",
      "erro encoding input 317.6845703125\n",
      "erro phase encoding 184.5244140625\n",
      "erro classico 74.28873281024087\n",
      "erro classico Bin 205.94105390216203\n",
      "\n",
      "erro HSGS 0.0\n",
      "erro encoding weight 507.4052734375\n",
      "erro encoding input 318.2412109375\n",
      "erro phase encoding 183.98828125\n",
      "erro classico 74.28873281028206\n",
      "erro classico Bin 205.94105390216203\n",
      "\n",
      "erro HSGS 0.0\n",
      "erro encoding weight 508.017578125\n",
      "erro encoding input 318.232421875\n",
      "erro phase encoding 184.83984375\n",
      "erro classico 74.28873281024505\n",
      "erro classico Bin 205.94105390216203\n",
      "\n",
      "erro HSGS 0.0\n",
      "erro encoding weight 508.2294921875\n",
      "erro encoding input 317.9248046875\n",
      "erro phase encoding 185.1064453125\n",
      "erro classico 74.28873281025291\n",
      "erro classico Bin 205.94105390216203\n",
      "\n",
      "erro HSGS 0.0\n",
      "erro encoding weight 507.875\n",
      "erro encoding input 317.6181640625\n",
      "erro phase encoding 184.0234375\n",
      "erro classico 74.28873281027002\n",
      "erro classico Bin 205.94105390216203\n",
      "\n",
      "erro HSGS 0.0\n",
      "erro encoding weight 507.5625\n",
      "erro encoding input 318.0673828125\n",
      "erro phase encoding 184.53125\n",
      "erro classico 74.2887328102571\n",
      "erro classico Bin 205.94105390216203\n",
      "\n",
      "erro HSGS 0.0\n",
      "erro encoding weight 507.748046875\n",
      "erro encoding input 318.283203125\n",
      "erro phase encoding 184.30078125\n",
      "erro classico 74.28873281024087\n",
      "erro classico Bin 205.94105390216203\n",
      "\n",
      "erro HSGS 0.0\n",
      "erro encoding weight 507.4130859375\n",
      "erro encoding input 318.005859375\n",
      "erro phase encoding 184.5703125\n",
      "erro classico 74.28873281028206\n",
      "erro classico Bin 205.94105390216203\n",
      "\n",
      "erro HSGS 0.0\n",
      "erro encoding weight 507.4130859375\n",
      "erro encoding input 318.005859375\n",
      "erro phase encoding 184.5703125\n",
      "erro Classico 74.28873281028206\n",
      "erro classico Bin 205.94105390216203\n"
     ]
    }
   ],
   "source": [
    "weightsEncodingWeight, weightsEncodingInput, weightsPhaseEncoding, weightsHSGS, weightsVectorsClassico, weightVectorsClassicoBin = experiment_TRAIN(X_train, \n",
    "                                                                                                             y_train,\n",
    "                                                                                                             lrParameter=0.2, \n",
    "                                                                                                             n_epochs=20, \n",
    "                                                                                                             trainingBias=False,\n",
    "                                                                                                             trainingApproaches={'neuronio-classico', 'neuronio-classico-bin', 'hsgs','encoding-weight', 'encoding-input', 'phase-encoding'})"
   ]
  },
  {
   "cell_type": "code",
   "execution_count": 8,
   "metadata": {},
   "outputs": [],
   "source": [
    "weights = [weightsEncodingWeight, \n",
    "          weightsEncodingInput, \n",
    "          weightsPhaseEncoding, \n",
    "          weightsHSGS, \n",
    "          weightsVectorsClassico, \n",
    "          weightVectorsClassicoBin]"
   ]
  },
  {
   "cell_type": "code",
   "execution_count": 9,
   "metadata": {},
   "outputs": [],
   "source": [
    "with open('results/version4/weights_unbiased_v4.json', 'w+') as fp:\n",
    "    json.dump(weights, fp)"
   ]
  },
  {
   "cell_type": "markdown",
   "metadata": {},
   "source": [
    "#### Test"
   ]
  },
  {
   "cell_type": "code",
   "execution_count": 10,
   "metadata": {},
   "outputs": [],
   "source": [
    "with open('results/version4/weights_unbiased_v4.json') as json_file:\n",
    "    weights = json.load(json_file)"
   ]
  },
  {
   "cell_type": "code",
   "execution_count": null,
   "metadata": {},
   "outputs": [],
   "source": [
    "resultsBIAS = experiment_TEST(X_test, \n",
    "                              y_test, \n",
    "                              weights[0], \n",
    "                              weights[1], \n",
    "                              weights[2], \n",
    "                              weights[3], \n",
    "                              weights[4], \n",
    "                              weights[5], \n",
    "                              repeat=10,\n",
    "                              bias=False, \n",
    "                              testingApproaches={'neuronio-classico', 'neuronio-classico-bin', 'hsgs','encoding-weight', 'phase-encoding','encoding-input'})"
   ]
  },
  {
   "cell_type": "code",
   "execution_count": null,
   "metadata": {},
   "outputs": [],
   "source": [
    "with open('results/version4/experiments_unbiased.json', 'w+') as fp:\n",
    "    json.dump(resultsBIAS, fp)"
   ]
  },
  {
   "cell_type": "markdown",
   "metadata": {},
   "source": [
    "## Save results as dataframe"
   ]
  },
  {
   "cell_type": "code",
   "execution_count": null,
   "metadata": {},
   "outputs": [],
   "source": [
    "resultsBIAS"
   ]
  },
  {
   "cell_type": "code",
   "execution_count": 21,
   "metadata": {},
   "outputs": [],
   "source": [
    "def readAndResults(i):\n",
    "    with open('results/'+i) as f:\n",
    "        data = json.load(f)\n",
    "\n",
    "    erros = ['error_HSGS', 'error_encoding_weight', 'error_encoding_input', 'error_classic', 'error_classic_bin']\n",
    "    new_data = {'error':[], 'model':[]}\n",
    "\n",
    "    for erro in erros:\n",
    "        new_data['error'] = new_data['error'] + data[erro] \n",
    "        new_data['model'] = new_data['model'] +  ( (erro+' ') * len(data[erro])).split(' ')[:-1]  \n",
    "\n",
    "    new_data = pd.DataFrame(new_data)\n",
    "\n",
    "    new_data.to_csv('results/'+i[:-5]+'_dataframe.csv', index=False)\n",
    "    \n",
    "    return new_data"
   ]
  },
  {
   "cell_type": "code",
   "execution_count": 22,
   "metadata": {},
   "outputs": [
    {
     "data": {
      "text/html": [
       "<div>\n",
       "<style scoped>\n",
       "    .dataframe tbody tr th:only-of-type {\n",
       "        vertical-align: middle;\n",
       "    }\n",
       "\n",
       "    .dataframe tbody tr th {\n",
       "        vertical-align: top;\n",
       "    }\n",
       "\n",
       "    .dataframe thead th {\n",
       "        text-align: right;\n",
       "    }\n",
       "</style>\n",
       "<table border=\"1\" class=\"dataframe\">\n",
       "  <thead>\n",
       "    <tr style=\"text-align: right;\">\n",
       "      <th></th>\n",
       "      <th>error</th>\n",
       "      <th>model</th>\n",
       "    </tr>\n",
       "  </thead>\n",
       "  <tbody>\n",
       "    <tr>\n",
       "      <th>0</th>\n",
       "      <td>0.3646</td>\n",
       "      <td>error_HSGS</td>\n",
       "    </tr>\n",
       "    <tr>\n",
       "      <th>1</th>\n",
       "      <td>0.3646</td>\n",
       "      <td>error_HSGS</td>\n",
       "    </tr>\n",
       "    <tr>\n",
       "      <th>2</th>\n",
       "      <td>0.3646</td>\n",
       "      <td>error_HSGS</td>\n",
       "    </tr>\n",
       "    <tr>\n",
       "      <th>3</th>\n",
       "      <td>0.3646</td>\n",
       "      <td>error_HSGS</td>\n",
       "    </tr>\n",
       "    <tr>\n",
       "      <th>4</th>\n",
       "      <td>0.3646</td>\n",
       "      <td>error_HSGS</td>\n",
       "    </tr>\n",
       "    <tr>\n",
       "      <th>...</th>\n",
       "      <td>...</td>\n",
       "      <td>...</td>\n",
       "    </tr>\n",
       "    <tr>\n",
       "      <th>195</th>\n",
       "      <td>0.3646</td>\n",
       "      <td>error_classic_bin</td>\n",
       "    </tr>\n",
       "    <tr>\n",
       "      <th>196</th>\n",
       "      <td>0.3646</td>\n",
       "      <td>error_classic_bin</td>\n",
       "    </tr>\n",
       "    <tr>\n",
       "      <th>197</th>\n",
       "      <td>0.3646</td>\n",
       "      <td>error_classic_bin</td>\n",
       "    </tr>\n",
       "    <tr>\n",
       "      <th>198</th>\n",
       "      <td>0.3646</td>\n",
       "      <td>error_classic_bin</td>\n",
       "    </tr>\n",
       "    <tr>\n",
       "      <th>199</th>\n",
       "      <td>0.3646</td>\n",
       "      <td>error_classic_bin</td>\n",
       "    </tr>\n",
       "  </tbody>\n",
       "</table>\n",
       "<p>200 rows × 2 columns</p>\n",
       "</div>"
      ],
      "text/plain": [
       "      error              model\n",
       "0    0.3646         error_HSGS\n",
       "1    0.3646         error_HSGS\n",
       "2    0.3646         error_HSGS\n",
       "3    0.3646         error_HSGS\n",
       "4    0.3646         error_HSGS\n",
       "..      ...                ...\n",
       "195  0.3646  error_classic_bin\n",
       "196  0.3646  error_classic_bin\n",
       "197  0.3646  error_classic_bin\n",
       "198  0.3646  error_classic_bin\n",
       "199  0.3646  error_classic_bin\n",
       "\n",
       "[200 rows x 2 columns]"
      ]
     },
     "execution_count": 22,
     "metadata": {},
     "output_type": "execute_result"
    }
   ],
   "source": [
    "readAndResults('HEALTH_ZERO.json')"
   ]
  },
  {
   "cell_type": "code",
   "execution_count": 5,
   "metadata": {},
   "outputs": [],
   "source": [
    "df = pd.read_csv('results/HEALTH_ZERO_dataframe.csv')"
   ]
  },
  {
   "cell_type": "code",
   "execution_count": 10,
   "metadata": {},
   "outputs": [
    {
     "data": {
      "text/plain": [
       "error    0.36291\n",
       "dtype: float64"
      ]
     },
     "execution_count": 10,
     "metadata": {},
     "output_type": "execute_result"
    }
   ],
   "source": [
    "np.mean(df[df.model == 'error_encoding_weight'])"
   ]
  },
  {
   "cell_type": "code",
   "execution_count": 11,
   "metadata": {},
   "outputs": [
    {
     "data": {
      "text/plain": [
       "error    0.480335\n",
       "dtype: float64"
      ]
     },
     "execution_count": 11,
     "metadata": {},
     "output_type": "execute_result"
    }
   ],
   "source": [
    "np.mean(df[df.model == 'error_encoding_input'])"
   ]
  },
  {
   "cell_type": "code",
   "execution_count": 12,
   "metadata": {},
   "outputs": [],
   "source": [
    "df2 = pd.read_csv('results/results_withoutbias_dataframe.csv')"
   ]
  },
  {
   "cell_type": "code",
   "execution_count": 13,
   "metadata": {},
   "outputs": [
    {
     "data": {
      "text/plain": [
       "error    0.573043\n",
       "dtype: float64"
      ]
     },
     "execution_count": 13,
     "metadata": {},
     "output_type": "execute_result"
    }
   ],
   "source": [
    "np.mean(df2[df2.model == 'error_encoding_weight'])"
   ]
  },
  {
   "cell_type": "code",
   "execution_count": 14,
   "metadata": {},
   "outputs": [
    {
     "data": {
      "text/plain": [
       "error    0.493495\n",
       "dtype: float64"
      ]
     },
     "execution_count": 14,
     "metadata": {},
     "output_type": "execute_result"
    }
   ],
   "source": [
    "np.mean(df2[df2.model == 'error_encoding_input'])"
   ]
  },
  {
   "cell_type": "code",
   "execution_count": null,
   "metadata": {},
   "outputs": [],
   "source": []
  }
 ],
 "metadata": {
  "environment": {
   "name": "common-cpu.mnightly-2021-02-12-debian-10-test",
   "type": "gcloud",
   "uri": "gcr.io/deeplearning-platform-release/base-cpu:mnightly-2021-02-12-debian-10-test"
  },
  "kernelspec": {
   "display_name": "Python 3",
   "language": "python",
   "name": "python3"
  },
  "language_info": {
   "codemirror_mode": {
    "name": "ipython",
    "version": 3
   },
   "file_extension": ".py",
   "mimetype": "text/x-python",
   "name": "python",
   "nbconvert_exporter": "python",
   "pygments_lexer": "ipython3",
   "version": "3.7.9"
  }
 },
 "nbformat": 4,
 "nbformat_minor": 4
}
