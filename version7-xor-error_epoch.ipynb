{
 "cells": [
  {
   "cell_type": "code",
   "execution_count": 1,
   "metadata": {},
   "outputs": [],
   "source": [
    "from code.neuron import *\n",
    "from code.encodingsource import *\n",
    "from code.hsgs import *\n",
    "from code.classical_neuron import *\n",
    "from code.classical_pso import *\n",
    "from code.sf import *\n",
    "simulator = Aer.get_backend('qasm_simulator')\n",
    "import pandas as pd\n",
    "import numpy as np\n",
    "import matplotlib.pyplot as plt\n",
    "import json\n",
    "import time \n",
    "\n",
    "from code.experiment_functions import * "
   ]
  },
  {
   "cell_type": "code",
   "execution_count": 2,
   "metadata": {},
   "outputs": [],
   "source": [
    "X_train = [[-1, -1],  [-1,1], [1,1], [1,-1]]\n",
    "y_train = [1, 0, 1, 0]\n",
    "\n",
    "X_test =  [[-1, -1],  [-1,1], [1,1], [1,-1]]\n",
    "y_test =  [1, 0, 1, 0]"
   ]
  },
  {
   "cell_type": "code",
   "execution_count": 3,
   "metadata": {},
   "outputs": [],
   "source": [
    "with open('results/version7/train_xor.json', 'w+') as fp:\n",
    "    json.dump([X_train, y_train], fp)\n",
    "    \n",
    "with open('results/version7/test_xor.json', 'w+') as fp:\n",
    "    json.dump([X_test, y_test], fp)"
   ]
  },
  {
   "cell_type": "markdown",
   "metadata": {},
   "source": [
    "## Get Error by Epoch"
   ]
  },
  {
   "cell_type": "code",
   "execution_count": 4,
   "metadata": {},
   "outputs": [],
   "source": [
    "epochs = {'model':[], 'epoch':[], 'value':[]}"
   ]
  },
  {
   "cell_type": "code",
   "execution_count": 5,
   "metadata": {},
   "outputs": [],
   "source": [
    "initial_weights = list(np.random.uniform(low=0.0, high=1.0, size=(len(X_train[0]),)))"
   ]
  },
  {
   "cell_type": "code",
   "execution_count": 6,
   "metadata": {},
   "outputs": [
    {
     "name": "stdout",
     "output_type": "stream",
     "text": [
      "lrParameter:  0.02\n",
      "threshold:  0.5\n",
      "trainingBias:  True\n",
      "phaseEstrategyOperator:  phase-encoding-phase\n",
      "best error HSGS training:  1\n"
     ]
    }
   ],
   "source": [
    "weights = quantumNeuronFIT(X_train, \n",
    "                           y_train,\n",
    "                           init_weight = initial_weights,\n",
    "                           threshold=0.5,\n",
    "                           lrParameter=0.02, \n",
    "                           n_epochs=60, \n",
    "                           trainingBias=True,\n",
    "                           epoch_results=False,\n",
    "                           trainingApproaches={'hsgs'})"
   ]
  },
  {
   "cell_type": "code",
   "execution_count": 7,
   "metadata": {},
   "outputs": [],
   "source": [
    "epochs['value'].extend(weights[4])\n",
    "epochs['model'].extend(['BQN' for i in range(len(weights[4]))])\n",
    "epochs['epoch'].extend(list(range(len(weights[4]))))"
   ]
  },
  {
   "cell_type": "code",
   "execution_count": 8,
   "metadata": {},
   "outputs": [
    {
     "name": "stdout",
     "output_type": "stream",
     "text": [
      "lrParameter:  0.02\n",
      "threshold:  0.8\n",
      "trainingBias:  True\n",
      "phaseEstrategyOperator:  original\n",
      "\n",
      "best error phase-encoding training:  1\n",
      "lrParameter:  0.02\n",
      "threshold:  0.8\n",
      "trainingBias:  True\n",
      "phaseEstrategyOperator:  angleradius\n",
      "\n",
      "best error phase-encoding training:  0\n"
     ]
    }
   ],
   "source": [
    "for strategy in ['original', 'angleradius']:\n",
    "    weights = quantumNeuronFIT(X_train, \n",
    "                           y_train,\n",
    "                           init_weight=initial_weights,\n",
    "                           threshold=0.8,\n",
    "                           lrParameter=0.02, \n",
    "                           n_epochs=50, \n",
    "                           trainingBias=True,\n",
    "                           phaseEstrategyOperator=strategy,\n",
    "                           trainingApproaches={'phase-encoding'})\n",
    "    \n",
    "    epochs['value'].extend(weights[5])\n",
    "    epochs['model'].extend([strategy for i in range(len(weights[5]))])\n",
    "    epochs['epoch'].extend(list(range(len(weights[5]))))"
   ]
  },
  {
   "cell_type": "code",
   "execution_count": 9,
   "metadata": {},
   "outputs": [
    {
     "name": "stdout",
     "output_type": "stream",
     "text": [
      "lrParameter:  0.02\n",
      "threshold:  0.5\n",
      "trainingBias:  False\n",
      "phaseEstrategyOperator:  angle\n",
      "\n",
      "best error phase-encoding training:  1\n",
      "lrParameter:  0.02\n",
      "threshold:  0.5\n",
      "trainingBias:  False\n",
      "phaseEstrategyOperator:  radius\n",
      "\n",
      "best error phase-encoding training:  2\n"
     ]
    }
   ],
   "source": [
    "for strategy in ['angle', 'radius']:\n",
    "    weights = quantumNeuronFIT(X_train, \n",
    "                           y_train,\n",
    "                           init_weight=initial_weights,\n",
    "                           threshold=0.5,\n",
    "                           lrParameter=0.02, \n",
    "                           n_epochs=60, \n",
    "                           trainingBias=False,\n",
    "                           phaseEstrategyOperator=strategy,\n",
    "                           trainingApproaches={'phase-encoding'})\n",
    "    \n",
    "    epochs['value'].extend(weights[5])\n",
    "    epochs['model'].extend([strategy for i in range(len(weights[5]))])\n",
    "    epochs['epoch'].extend(list(range(len(weights[5]))))"
   ]
  },
  {
   "cell_type": "code",
   "execution_count": 10,
   "metadata": {},
   "outputs": [],
   "source": [
    "pd.DataFrame(epochs).to_csv('results/version7/error_by_epoch_bias.csv')"
   ]
  },
  {
   "cell_type": "markdown",
   "metadata": {},
   "source": [
    "## Continuously Valued Quantum Neuron Experiments"
   ]
  },
  {
   "cell_type": "code",
   "execution_count": null,
   "metadata": {},
   "outputs": [],
   "source": [
    "# search space\n",
    "initial_weights =  list(np.random.uniform(low=0.0, high=1.0, size=(len(X_test[0]),)))\n",
    "threshold_space = [0.1, 0.3, 0.5, 0.7, 0.8]\n",
    "lr_space = [0.02, 0.1]\n",
    "bias_space = [False, True]\n",
    "strategy_space = ['original', 'angle', 'radius', 'angleradius']"
   ]
  },
  {
   "cell_type": "code",
   "execution_count": null,
   "metadata": {},
   "outputs": [],
   "source": [
    "%%time\n",
    "for w in initial_weights:\n",
    "    for strategy in strategy_space:\n",
    "        for threshold in threshold_space:\n",
    "            for lr in lr_space:\n",
    "                for bias in bias_space:\n",
    "                    # execute experiment\n",
    "                    weights = quantumNeuronFIT(X_train, \n",
    "                                               y_train,\n",
    "                                               init_weight=initial_weights,\n",
    "                                               threshold=threshold,\n",
    "                                               lrParameter=lr, \n",
    "                                               n_epochs=20, \n",
    "                                               trainingBias=bias,\n",
    "                                               phaseEstrategyOperator=strategy,\n",
    "                                               trainingApproaches={'phase-encoding'})\n",
    "\n",
    "                    results = quantumNeuronPREDICT(X_test, \n",
    "                                                       y_test,\n",
    "                                                       threshold=threshold,\n",
    "                                                       weightVectorsPhaseEncoding = weights[0], \n",
    "                                                       weightVectorsHSGS = weights[1], \n",
    "                                                       repeat=5,\n",
    "                                                       bias=bias, \n",
    "                                                       phaseEstrategyOperator=strategy,\n",
    "                                                       testingApproaches={'phase-encoding'})\n",
    "\n",
    "                    # get experiment results\n",
    "                    output['model'].append('phase-encoding')\n",
    "                    output['lr'].append(lr)\n",
    "                    output['bias'].append(bias)\n",
    "                    output['threshold'].append(threshold)\n",
    "                    output['phase_strategy'].append(strategy)\n",
    "                    output['avg_error'].append(results[0])\n",
    "                    output['neuron_outputs'].append(results[1])\n",
    "                    output['trained_weights'].append(results[2])\n",
    "                    output['initial_weights'].append(w)\n",
    "                    print('\\n')"
   ]
  },
  {
   "cell_type": "code",
   "execution_count": null,
   "metadata": {},
   "outputs": [],
   "source": [
    "experiment_phase = pd.DataFrame(output)\n",
    "experiment_phase.to_csv('results/version7/experiment_XOR_phase.csv')"
   ]
  },
  {
   "cell_type": "code",
   "execution_count": null,
   "metadata": {},
   "outputs": [],
   "source": []
  }
 ],
 "metadata": {
  "environment": {
   "name": "common-cpu.m71",
   "type": "gcloud",
   "uri": "gcr.io/deeplearning-platform-release/base-cpu:m71"
  },
  "kernelspec": {
   "display_name": "Python 3",
   "language": "python",
   "name": "python3"
  },
  "language_info": {
   "codemirror_mode": {
    "name": "ipython",
    "version": 3
   },
   "file_extension": ".py",
   "mimetype": "text/x-python",
   "name": "python",
   "nbconvert_exporter": "python",
   "pygments_lexer": "ipython3",
   "version": "3.7.10"
  }
 },
 "nbformat": 4,
 "nbformat_minor": 4
}
