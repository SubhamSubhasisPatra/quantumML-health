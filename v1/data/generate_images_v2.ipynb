{
 "cells": [
  {
   "cell_type": "code",
   "execution_count": 1,
   "id": "ranking-tribute",
   "metadata": {},
   "outputs": [],
   "source": [
    "import random\n",
    "import pandas as pd\n",
    "import json"
   ]
  },
  {
   "cell_type": "code",
   "execution_count": 2,
   "id": "southern-determination",
   "metadata": {},
   "outputs": [],
   "source": [
    "# build 4x4 straight lines stronged\n",
    "def stronged(key=1):\n",
    "    if key == 1:\n",
    "        num=0\n",
    "        while num <= 0.5:\n",
    "            num = random.uniform(0, 1)\n",
    "    else:\n",
    "        num=1\n",
    "        while num >= 0.5:\n",
    "            num = random.uniform(0, 1)        \n",
    "    return num"
   ]
  },
  {
   "cell_type": "markdown",
   "id": "statistical-shooting",
   "metadata": {},
   "source": [
    "### Generate left line data"
   ]
  },
  {
   "cell_type": "markdown",
   "id": "gentle-saver",
   "metadata": {},
   "source": [
    "##### test data"
   ]
  },
  {
   "cell_type": "code",
   "execution_count": 3,
   "id": "plain-affiliate",
   "metadata": {},
   "outputs": [],
   "source": [
    "# build dataset\n",
    "data={'image':[], 'flag':[]}\n",
    "\n",
    "# build 4x4 random images\n",
    "for i in range(100):\n",
    "    data['image'].append([round(random.uniform(0, 1), 4),round(random.uniform(0, 1), 4), round(random.uniform(0, 1), 4), round(random.uniform(0, 1), 4)])\n",
    "    data['flag'].append(0)\n",
    "    \n",
    "# build 4x4 left line stronged\n",
    "for i in range(100):\n",
    "    data['image'].append([round(stronged(1), 4),round(stronged(0), 4), round(stronged(1), 4), round(stronged(0), 4)])\n",
    "    data['flag'].append(1)\n",
    "\n",
    "with open('data/left_test.json', 'w+') as fp:\n",
    "    json.dump(data, fp)"
   ]
  },
  {
   "cell_type": "markdown",
   "id": "found-shadow",
   "metadata": {},
   "source": [
    "##### train data"
   ]
  },
  {
   "cell_type": "code",
   "execution_count": 4,
   "id": "provincial-mongolia",
   "metadata": {},
   "outputs": [],
   "source": [
    "# build dataset\n",
    "data={'image':[], 'flag':[]}\n",
    "\n",
    "# build 4x4 random images\n",
    "for i in range(200):\n",
    "    data['image'].append([round(random.uniform(0, 1), 4),round(random.uniform(0, 1), 4), round(random.uniform(0, 1), 4), round(random.uniform(0, 1), 4)])\n",
    "    data['flag'].append(0)\n",
    "    \n",
    "# generate train data\n",
    "for i in range(200):\n",
    "    data['image'].append([round(stronged(1), 4), round(stronged(0), 4), round(stronged(1), 4), round(stronged(0), 4)])\n",
    "    data['flag'].append(1)\n",
    "    \n",
    "with open('data/left_train.json', 'w+') as fp:\n",
    "    json.dump(data, fp)"
   ]
  },
  {
   "cell_type": "markdown",
   "id": "organized-ferry",
   "metadata": {},
   "source": [
    "### Generate leaft and right lines data"
   ]
  },
  {
   "cell_type": "markdown",
   "id": "accepted-cinema",
   "metadata": {},
   "source": [
    "##### test data"
   ]
  },
  {
   "cell_type": "code",
   "execution_count": 5,
   "id": "outstanding-constant",
   "metadata": {},
   "outputs": [],
   "source": [
    "# build dataset\n",
    "data={'image':[], 'flag':[]}\n",
    "\n",
    "# build 4x4 random images\n",
    "for i in range(200):\n",
    "    data['image'].append([round(random.uniform(0, 1), 4),round(random.uniform(0, 1), 4), round(random.uniform(0, 1), 4), round(random.uniform(0, 1), 4)])\n",
    "    data['flag'].append(0)\n",
    "    \n",
    "# build 4x4 left line stronged\n",
    "for i in range(100):\n",
    "    data['image'].append([round(stronged(1), 4),round(stronged(0), 4), round(stronged(1), 4), round(stronged(0), 4)])\n",
    "    data['flag'].append(1)\n",
    "\n",
    "for i in range(100):\n",
    "    data['image'].append([round(stronged(0), 4),round(stronged(1), 4), round(stronged(0), 4), round(stronged(1), 4)])\n",
    "    data['flag'].append(1)\n",
    "\n",
    "with open('data/left_right_test.json', 'w+') as fp:\n",
    "    json.dump(data, fp)"
   ]
  },
  {
   "cell_type": "markdown",
   "id": "weird-capture",
   "metadata": {},
   "source": [
    "##### train data"
   ]
  },
  {
   "cell_type": "code",
   "execution_count": 6,
   "id": "spiritual-effectiveness",
   "metadata": {},
   "outputs": [],
   "source": [
    "# build 4x4 random images\n",
    "for i in range(400):\n",
    "    data['image'].append([round(random.uniform(0, 1), 4),round(random.uniform(0, 1), 4), round(random.uniform(0, 1), 4), round(random.uniform(0, 1), 4)])\n",
    "    data['flag'].append(0)\n",
    "    \n",
    "# build 4x4 straight lines stronged\n",
    "for i in range(200):\n",
    "    data['image'].append([round(stronged(1), 4),round(stronged(0), 4), round(stronged(1), 4), round(stronged(0), 4)])\n",
    "    data['flag'].append(1)\n",
    "\n",
    "for i in range(200):\n",
    "    data['image'].append([round(stronged(0), 4),round(stronged(1), 4), round(stronged(0), 4), round(stronged(1), 4)])\n",
    "    data['flag'].append(1)\n",
    "    \n",
    "with open('data/left_right_train.json', 'w+') as fp:\n",
    "    json.dump(data, fp)"
   ]
  },
  {
   "cell_type": "code",
   "execution_count": null,
   "id": "composite-impossible",
   "metadata": {},
   "outputs": [],
   "source": []
  }
 ],
 "metadata": {
  "environment": {
   "name": "common-cpu.mnightly-2021-02-12-debian-10-test",
   "type": "gcloud",
   "uri": "gcr.io/deeplearning-platform-release/base-cpu:mnightly-2021-02-12-debian-10-test"
  },
  "kernelspec": {
   "display_name": "Python 3",
   "language": "python",
   "name": "python3"
  },
  "language_info": {
   "codemirror_mode": {
    "name": "ipython",
    "version": 3
   },
   "file_extension": ".py",
   "mimetype": "text/x-python",
   "name": "python",
   "nbconvert_exporter": "python",
   "pygments_lexer": "ipython3",
   "version": "3.7.9"
  }
 },
 "nbformat": 4,
 "nbformat_minor": 5
}
