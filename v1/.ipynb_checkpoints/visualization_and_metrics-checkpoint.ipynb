{
 "cells": [
  {
   "cell_type": "code",
   "execution_count": 1,
   "id": "inside-joining",
   "metadata": {},
   "outputs": [],
   "source": [
    "import pandas as pd\n",
    "import matplotlib.pyplot as plt\n",
    "import seaborn as sns"
   ]
  },
  {
   "cell_type": "code",
   "execution_count": 1,
   "id": "manual-religion",
   "metadata": {},
   "outputs": [],
   "source": [
    "def readAndResults(i):\n",
    "    import json\n",
    "    import pandas as pd\n",
    "    \n",
    "    with open('results/'+i) as f:\n",
    "        data = json.load(f)\n",
    "\n",
    "    erros = ['error_HSGS', 'error_encoding_weight', 'error_encoding_input', 'error_classic', 'error_classic_bin']\n",
    "    new_data = {'error':[], 'model':[]}\n",
    "\n",
    "    for erro in erros:\n",
    "        new_data['error'] = new_data['error'] + data[erro] \n",
    "        new_data['model'] = new_data['model'] +  ( (erro+' ') * len(data[erro])).split(' ')[:-1]  \n",
    "\n",
    "    new_data = pd.DataFrame(new_data)\n",
    "\n",
    "    new_data.to_csv('results/'+i[:-5]+'_dataframe.csv', index=False)"
   ]
  },
  {
   "cell_type": "code",
   "execution_count": 11,
   "id": "funky-prayer",
   "metadata": {},
   "outputs": [],
   "source": [
    "readAndResults('version2/experiments_biased_float_to_binary.json')"
   ]
  },
  {
   "cell_type": "code",
   "execution_count": 13,
   "id": "humanitarian-machine",
   "metadata": {},
   "outputs": [],
   "source": [
    "readAndResults('version2/experiments_unbiased_original.json')"
   ]
  },
  {
   "cell_type": "code",
   "execution_count": 14,
   "id": "grand-aurora",
   "metadata": {},
   "outputs": [],
   "source": [
    "readAndResults('version2/experiments_unbiased_float_to_binary.json')"
   ]
  },
  {
   "cell_type": "code",
   "execution_count": null,
   "id": "adopted-smell",
   "metadata": {},
   "outputs": [],
   "source": []
  },
  {
   "cell_type": "markdown",
   "id": "exact-address",
   "metadata": {},
   "source": [
    "#### Version 3"
   ]
  },
  {
   "cell_type": "code",
   "execution_count": 3,
   "id": "union-judge",
   "metadata": {},
   "outputs": [],
   "source": [
    "readAndResults('version3/experiments_biased_simple_1noise.json')"
   ]
  },
  {
   "cell_type": "code",
   "execution_count": 5,
   "id": "gentle-naples",
   "metadata": {},
   "outputs": [],
   "source": [
    "readAndResults('version3/experiments_biased_simple_2noises.json')"
   ]
  },
  {
   "cell_type": "code",
   "execution_count": 6,
   "id": "behind-communication",
   "metadata": {},
   "outputs": [],
   "source": [
    "readAndResults('version3/experiments_biased_simple_3noises.json')"
   ]
  },
  {
   "cell_type": "code",
   "execution_count": 7,
   "id": "preceding-vector",
   "metadata": {},
   "outputs": [],
   "source": [
    "readAndResults('version3/experiments_unbiased_simple_1noise.json')"
   ]
  },
  {
   "cell_type": "code",
   "execution_count": 8,
   "id": "involved-viewer",
   "metadata": {},
   "outputs": [],
   "source": [
    "readAndResults('version3/experiments_unbiased_simple_2noises.json')"
   ]
  },
  {
   "cell_type": "code",
   "execution_count": 9,
   "id": "structured-canal",
   "metadata": {},
   "outputs": [],
   "source": [
    "readAndResults('version3/experiments_unbiased_simple_3noises.json')"
   ]
  },
  {
   "cell_type": "code",
   "execution_count": null,
   "id": "about-phenomenon",
   "metadata": {},
   "outputs": [],
   "source": []
  },
  {
   "cell_type": "code",
   "execution_count": null,
   "id": "personal-interpretation",
   "metadata": {},
   "outputs": [],
   "source": [
    "def readAndResults(i):\n",
    "    import json\n",
    "    import pandas as pd\n",
    "    \n",
    "    with open('results/'+i) as f:\n",
    "        data = json.load(f)\n",
    "\n",
    "    erros = ['error_HSGS', 'error_encoding_weight', 'error_encoding_input', 'error_classic', 'error_classic_bin']\n",
    "    new_data = {'error':[], 'model':[]}\n",
    "\n",
    "    for erro in erros:\n",
    "        new_data['error'] = new_data['error'] + data[erro] \n",
    "        new_data['model'] = new_data['model'] +  ( (erro+' ') * len(data[erro])).split(' ')[:-1]  \n",
    "\n",
    "    new_data = pd.DataFrame(new_data)\n",
    "\n",
    "    new_data.to_csv('results/'+i[:-5]+'_dataframe.csv', index=False)"
   ]
  },
  {
   "cell_type": "code",
   "execution_count": 55,
   "id": "chicken-investment",
   "metadata": {},
   "outputs": [],
   "source": [
    "import json\n",
    "import pandas as pd\n",
    "\n",
    "i='version5/experiments_unbiased.json'"
   ]
  },
  {
   "cell_type": "code",
   "execution_count": 56,
   "id": "marked-century",
   "metadata": {},
   "outputs": [],
   "source": [
    "with open('results/'+i) as f:\n",
    "    data = json.load(f)"
   ]
  },
  {
   "cell_type": "code",
   "execution_count": 57,
   "id": "solved-microphone",
   "metadata": {},
   "outputs": [],
   "source": [
    "prob_data = pd.DataFrame({'output_HSGS': data['output_HSGS'], \n",
    "              'output_encoding_weight': data['output_encoding_weight'], \n",
    "              'output_encoding_input': data['output_encoding_input'] , \n",
    "              'output_phase_encoding': data['output_phase_encoding']})"
   ]
  },
  {
   "cell_type": "code",
   "execution_count": 58,
   "id": "pending-french",
   "metadata": {},
   "outputs": [],
   "source": [
    "prob_data = prob_data[400:600]\n",
    "\n",
    "prob_data['target'] = [0]*100 + [1]*100"
   ]
  },
  {
   "cell_type": "code",
   "execution_count": 59,
   "id": "daily-billy",
   "metadata": {},
   "outputs": [],
   "source": [
    "prob_data.to_csv('results/version5/predicted_unbiased.csv')"
   ]
  },
  {
   "cell_type": "markdown",
   "id": "functioning-routine",
   "metadata": {},
   "source": [
    "#### Metrics"
   ]
  },
  {
   "cell_type": "code",
   "execution_count": 60,
   "id": "effective-mainstream",
   "metadata": {},
   "outputs": [],
   "source": [
    "from sklearn.metrics import roc_auc_score, precision_score, recall_score,accuracy_score"
   ]
  },
  {
   "cell_type": "code",
   "execution_count": 67,
   "id": "suspected-silence",
   "metadata": {},
   "outputs": [],
   "source": [
    "metrics = {'auc-roc-score':[], \n",
    "          'precision_score':[],\n",
    "          'recall_score':[],\n",
    "          'accuracy_score':[],\n",
    "          'model':[]}"
   ]
  },
  {
   "cell_type": "code",
   "execution_count": 68,
   "id": "acceptable-plaintiff",
   "metadata": {},
   "outputs": [],
   "source": [
    "for i in list(prob_data.columns[:-1]):\n",
    "    y_pred = [1 if x >= 0.65 else 0 for x in prob_data[i]]\n",
    "    metrics['model'].append(i)\n",
    "    metrics['auc-roc-score'].append(roc_auc_score(prob_data['target'], prob_data[i]))\n",
    "    metrics['precision_score'].append(precision_score(prob_data['target'], y_pred))\n",
    "    metrics['recall_score'].append(recall_score(prob_data['target'], y_pred))\n",
    "    metrics['accuracy_score'].append(accuracy_score(prob_data['target'], y_pred))"
   ]
  },
  {
   "cell_type": "code",
   "execution_count": 69,
   "id": "balanced-prayer",
   "metadata": {},
   "outputs": [
    {
     "data": {
      "text/plain": [
       "{'auc-roc-score': [0.5, 0.57755, 0.18655, 0.50295],\n",
       " 'precision_score': [0.5, 0.0, 0.0, 0.5298507462686567],\n",
       " 'recall_score': [1.0, 0.0, 0.0, 0.71],\n",
       " 'accuracy_score': [0.5, 0.43, 0.49, 0.54],\n",
       " 'model': ['output_HSGS',\n",
       "  'output_encoding_weight',\n",
       "  'output_encoding_input',\n",
       "  'output_phase_encoding']}"
      ]
     },
     "execution_count": 69,
     "metadata": {},
     "output_type": "execute_result"
    }
   ],
   "source": [
    "metrics"
   ]
  },
  {
   "cell_type": "code",
   "execution_count": 70,
   "id": "rational-report",
   "metadata": {},
   "outputs": [],
   "source": [
    "pd.DataFrame(metrics).to_csv('results/version4/unbiased_metrics_score065.csv', index=False)"
   ]
  },
  {
   "cell_type": "code",
   "execution_count": 231,
   "id": "varying-pasta",
   "metadata": {},
   "outputs": [
    {
     "data": {
      "text/html": [
       "<div>\n",
       "<style scoped>\n",
       "    .dataframe tbody tr th:only-of-type {\n",
       "        vertical-align: middle;\n",
       "    }\n",
       "\n",
       "    .dataframe tbody tr th {\n",
       "        vertical-align: top;\n",
       "    }\n",
       "\n",
       "    .dataframe thead th {\n",
       "        text-align: right;\n",
       "    }\n",
       "</style>\n",
       "<table border=\"1\" class=\"dataframe\">\n",
       "  <thead>\n",
       "    <tr style=\"text-align: right;\">\n",
       "      <th></th>\n",
       "      <th>output_HSGS</th>\n",
       "      <th>output_encoding_weight</th>\n",
       "      <th>output_encoding_input</th>\n",
       "      <th>output_phase_encoding</th>\n",
       "      <th>target</th>\n",
       "    </tr>\n",
       "  </thead>\n",
       "  <tbody>\n",
       "    <tr>\n",
       "      <th>0</th>\n",
       "      <td>1.0</td>\n",
       "      <td>0.409180</td>\n",
       "      <td>0.556641</td>\n",
       "      <td>0.583008</td>\n",
       "      <td>0</td>\n",
       "    </tr>\n",
       "    <tr>\n",
       "      <th>1</th>\n",
       "      <td>1.0</td>\n",
       "      <td>0.133789</td>\n",
       "      <td>0.650391</td>\n",
       "      <td>0.679688</td>\n",
       "      <td>0</td>\n",
       "    </tr>\n",
       "    <tr>\n",
       "      <th>2</th>\n",
       "      <td>1.0</td>\n",
       "      <td>0.180664</td>\n",
       "      <td>0.662109</td>\n",
       "      <td>0.868164</td>\n",
       "      <td>0</td>\n",
       "    </tr>\n",
       "    <tr>\n",
       "      <th>3</th>\n",
       "      <td>1.0</td>\n",
       "      <td>0.318359</td>\n",
       "      <td>0.511719</td>\n",
       "      <td>0.732422</td>\n",
       "      <td>0</td>\n",
       "    </tr>\n",
       "    <tr>\n",
       "      <th>4</th>\n",
       "      <td>1.0</td>\n",
       "      <td>0.832031</td>\n",
       "      <td>0.558594</td>\n",
       "      <td>0.665039</td>\n",
       "      <td>0</td>\n",
       "    </tr>\n",
       "    <tr>\n",
       "      <th>...</th>\n",
       "      <td>...</td>\n",
       "      <td>...</td>\n",
       "      <td>...</td>\n",
       "      <td>...</td>\n",
       "      <td>...</td>\n",
       "    </tr>\n",
       "    <tr>\n",
       "      <th>195</th>\n",
       "      <td>1.0</td>\n",
       "      <td>0.625000</td>\n",
       "      <td>0.505859</td>\n",
       "      <td>0.881836</td>\n",
       "      <td>1</td>\n",
       "    </tr>\n",
       "    <tr>\n",
       "      <th>196</th>\n",
       "      <td>1.0</td>\n",
       "      <td>0.624023</td>\n",
       "      <td>0.500977</td>\n",
       "      <td>0.748047</td>\n",
       "      <td>1</td>\n",
       "    </tr>\n",
       "    <tr>\n",
       "      <th>197</th>\n",
       "      <td>1.0</td>\n",
       "      <td>0.632812</td>\n",
       "      <td>0.467773</td>\n",
       "      <td>0.970703</td>\n",
       "      <td>1</td>\n",
       "    </tr>\n",
       "    <tr>\n",
       "      <th>198</th>\n",
       "      <td>1.0</td>\n",
       "      <td>0.615234</td>\n",
       "      <td>0.455078</td>\n",
       "      <td>0.985352</td>\n",
       "      <td>1</td>\n",
       "    </tr>\n",
       "    <tr>\n",
       "      <th>199</th>\n",
       "      <td>1.0</td>\n",
       "      <td>0.627930</td>\n",
       "      <td>0.417969</td>\n",
       "      <td>0.988281</td>\n",
       "      <td>1</td>\n",
       "    </tr>\n",
       "  </tbody>\n",
       "</table>\n",
       "<p>200 rows × 5 columns</p>\n",
       "</div>"
      ],
      "text/plain": [
       "     output_HSGS  output_encoding_weight  output_encoding_input  \\\n",
       "0            1.0                0.409180               0.556641   \n",
       "1            1.0                0.133789               0.650391   \n",
       "2            1.0                0.180664               0.662109   \n",
       "3            1.0                0.318359               0.511719   \n",
       "4            1.0                0.832031               0.558594   \n",
       "..           ...                     ...                    ...   \n",
       "195          1.0                0.625000               0.505859   \n",
       "196          1.0                0.624023               0.500977   \n",
       "197          1.0                0.632812               0.467773   \n",
       "198          1.0                0.615234               0.455078   \n",
       "199          1.0                0.627930               0.417969   \n",
       "\n",
       "     output_phase_encoding  target  \n",
       "0                 0.583008       0  \n",
       "1                 0.679688       0  \n",
       "2                 0.868164       0  \n",
       "3                 0.732422       0  \n",
       "4                 0.665039       0  \n",
       "..                     ...     ...  \n",
       "195               0.881836       1  \n",
       "196               0.748047       1  \n",
       "197               0.970703       1  \n",
       "198               0.985352       1  \n",
       "199               0.988281       1  \n",
       "\n",
       "[200 rows x 5 columns]"
      ]
     },
     "execution_count": 231,
     "metadata": {},
     "output_type": "execute_result"
    }
   ],
   "source": [
    "prob_data"
   ]
  },
  {
   "cell_type": "markdown",
   "id": "answering-possibility",
   "metadata": {},
   "source": [
    "#### decil"
   ]
  },
  {
   "cell_type": "code",
   "execution_count": 232,
   "id": "balanced-corrections",
   "metadata": {},
   "outputs": [],
   "source": [
    "def evaluation(y_probs, Y_test):\n",
    "    # get probabilities and decils\n",
    "    data_decil = pd.DataFrame({'probs': y_probs,\n",
    "                              'target': Y_test})\n",
    "\n",
    "    data_decil.sort_values('probs', inplace= True)\n",
    "    data_decil['decil'] =  [i for i in range(1,11) for _ in range(20)]\n",
    "    prob_decil = pd.DataFrame(data_decil[['decil', 'target']].groupby(['decil', 'target']).size()).reset_index()\n",
    "    prob_decil.columns = ['decil', 'target', 'count']\n",
    "    # get percentage by decil\n",
    "    percent_decil = []\n",
    "    for i in list(prob_decil['decil'].unique()):\n",
    "        dt = prob_decil[prob_decil.decil == i]\n",
    "        count = list(dt['count'])\n",
    "        if len(count) < 2:\n",
    "            percent_decil.append(count[0])\n",
    "        else:\n",
    "            percent_decil.append(round(count[1]/(count[0] + count[1]),4)*100)\n",
    "    decision = pd.DataFrame({'decil':range(1,11),'accuracy':percent_decil})\n",
    "\n",
    "    # plot precision by decil\n",
    "    # sns.set_theme(style=\"darkgrid\")\n",
    "    plt.figure(figsize=(8, 8))\n",
    "    splot = sns.barplot(data=decision, x='decil', y='accuracy')\n",
    "    for p in splot.patches:\n",
    "        splot.annotate(format(p.get_height(), '.1f'), \n",
    "                       (p.get_x() + p.get_width() / 2., p.get_height()), \n",
    "                       ha = 'center', va = 'center', \n",
    "                       xytext = (0, 9), \n",
    "                       textcoords = 'offset points')"
   ]
  },
  {
   "cell_type": "code",
   "execution_count": 233,
   "id": "mysterious-carpet",
   "metadata": {},
   "outputs": [
    {
     "data": {
      "image/png": "[encoded data removed]",
      "text/plain": [
       "<Figure size 576x576 with 1 Axes>"
      ]
     },
     "metadata": {
      "needs_background": "light"
     },
     "output_type": "display_data"
    }
   ],
   "source": [
    "evaluation(prob_data['output_phase_encoding'], prob_data['target'])"
   ]
  },
  {
   "cell_type": "code",
   "execution_count": 234,
   "id": "designed-computer",
   "metadata": {},
   "outputs": [
    {
     "data": {
      "image/png": "[encoded data removed]",
      "text/plain": [
       "<Figure size 576x576 with 1 Axes>"
      ]
     },
     "metadata": {
      "needs_background": "light"
     },
     "output_type": "display_data"
    }
   ],
   "source": [
    "evaluation(prob_data['output_encoding_input'], prob_data['target'])"
   ]
  },
  {
   "cell_type": "code",
   "execution_count": 235,
   "id": "broke-davis",
   "metadata": {},
   "outputs": [
    {
     "data": {
      "image/png": "[encoded data removed]",
      "text/plain": [
       "<Figure size 576x576 with 1 Axes>"
      ]
     },
     "metadata": {
      "needs_background": "light"
     },
     "output_type": "display_data"
    }
   ],
   "source": [
    "evaluation(prob_data['output_encoding_weight'], prob_data['target'])"
   ]
  },
  {
   "cell_type": "code",
   "execution_count": null,
   "id": "certified-valuable",
   "metadata": {},
   "outputs": [],
   "source": []
  }
 ],
 "metadata": {
  "environment": {
   "name": "common-cpu.m71",
   "type": "gcloud",
   "uri": "gcr.io/deeplearning-platform-release/base-cpu:m71"
  },
  "kernelspec": {
   "display_name": "Python 3",
   "language": "python",
   "name": "python3"
  },
  "language_info": {
   "codemirror_mode": {
    "name": "ipython",
    "version": 3
   },
   "file_extension": ".py",
   "mimetype": "text/x-python",
   "name": "python",
   "nbconvert_exporter": "python",
   "pygments_lexer": "ipython3",
   "version": "3.7.9"
  }
 },
 "nbformat": 4,
 "nbformat_minor": 5
}
