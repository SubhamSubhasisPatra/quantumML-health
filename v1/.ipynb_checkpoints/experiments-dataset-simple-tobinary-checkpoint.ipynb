{
 "cells": [
  {
   "cell_type": "code",
   "execution_count": 1,
   "metadata": {},
   "outputs": [],
   "source": [
    "from code.neuron import *\n",
    "from code.encodingsource import *\n",
    "from code.hsgs import *\n",
    "from code.classical_neuron import *\n",
    "from code.classical_pso import *\n",
    "from code.sf import *\n",
    "from code.experiment_functions import *\n",
    "simulator = Aer.get_backend('qasm_simulator')\n",
    "import pandas as pd\n",
    "import numpy as np\n",
    "import matplotlib.pyplot as plt\n",
    "import json"
   ]
  },
  {
   "cell_type": "markdown",
   "metadata": {},
   "source": [
    "### Dataset 2 - Train X and Cross (0) vs Square (1) - Test X, Cross and Square [1 to 3 noises]"
   ]
  },
  {
   "cell_type": "markdown",
   "metadata": {},
   "source": [
    "### 1 noise"
   ]
  },
  {
   "cell_type": "code",
   "execution_count": 2,
   "metadata": {},
   "outputs": [],
   "source": [
    "# train\n",
    "X1 = [-1,  1,  1, -1,\n",
    "       1, -1, -1,  1,\n",
    "       1, -1, -1,  1,\n",
    "      -1,  1,  1, -1]\n",
    "\n",
    "CRUZ1 = [ 1, -1, -1,  1,\n",
    "         -1, -1, -1, -1,\n",
    "         -1, -1, -1, -1,\n",
    "          1, -1, -1,  1]\n",
    "\n",
    "Q1 = [-1, -1, -1, -1,\n",
    "      -1,  1,  1, -1,\n",
    "      -1,  1,  1, -1,\n",
    "      -1, -1, -1, -1]\n",
    "\n",
    "# test\n",
    "X2 = [-1,  1, -1, -1,\n",
    "       1, -1, -1,  1,\n",
    "       1, -1, -1,  1,\n",
    "      -1,  1,  1, -1]\n",
    "\n",
    "X3 = [-1,  1,  1, -1,\n",
    "      -1, -1, -1,  1,\n",
    "       1, -1, -1,  1,\n",
    "      -1,  1,  1, -1]\n",
    "\n",
    "X4 = [-1,  1,  1, -1,\n",
    "       1, -1,  1,  1,\n",
    "       1, -1, -1,  1,\n",
    "      -1,  1,  1, -1]\n",
    "\n",
    "X5 = [-1,  1,  1, -1,\n",
    "       1, -1, -1,  1,\n",
    "       1, -1,  1,  1,\n",
    "      -1,  1,  1, -1]\n",
    "\n",
    "X6 = [-1,  1,  1, -1,\n",
    "       1, -1, -1,  1,\n",
    "       1, -1, -1,  1,\n",
    "      -1,  1, -1, -1]\n",
    "\n",
    "X7 = [-1,  1,  1, -1,\n",
    "       1, -1, -1,  1,\n",
    "       1,  1, -1,  1,\n",
    "      -1,  1,  1, -1]\n",
    "\n",
    "X8 = [-1,  1,  1,  1,\n",
    "       1, -1, -1,  1,\n",
    "       1, -1, -1,  1,\n",
    "      -1,  1,  1, -1]\n",
    "\n",
    "X9 = [-1,  1,  1, -1,\n",
    "       1, -1, -1,  1,\n",
    "       1, -1, -1,  1,\n",
    "       1,  1,  1,  -1]\n",
    "\n",
    "X10 = [-1,  1,  1, -1,\n",
    "        1, -1, -1,  -1,\n",
    "        1, -1,  -1,  1,\n",
    "       -1,  1,  1,  -1]\n",
    "\n",
    "CRUZ2 = [ 1, -1, -1, -1,\n",
    "         -1, -1, -1, -1,\n",
    "         -1, -1, -1, -1,\n",
    "          1, -1, -1,  1]\n",
    "\n",
    "CRUZ3 = [-1, -1, -1,  1,\n",
    "         -1, -1, -1, -1,\n",
    "         -1, -1, -1, -1,\n",
    "          1, -1, -1,  1]\n",
    "\n",
    "CRUZ4 = [ 1, -1, -1,  1,\n",
    "         -1, -1, -1, -1,\n",
    "         -1, -1, -1, -1,\n",
    "          1, -1, -1, -1]\n",
    "\n",
    "CRUZ5 = [ 1, -1, -1, -1,\n",
    "         -1,  1, -1, -1,\n",
    "         -1, -1, -1, -1,\n",
    "          1, -1, -1,  1]\n",
    "\n",
    "CRUZ6 = [ 1, -1,  1,  1,\n",
    "         -1, -1, -1, -1,\n",
    "         -1, -1, -1, -1,\n",
    "          1, -1, -1,  1]\n",
    "\n",
    "CRUZ7 = [ 1, -1, -1,  1,\n",
    "          1, -1, -1, -1,\n",
    "         -1, -1, -1, -1,\n",
    "          1, -1, -1,  1]\n",
    "\n",
    "CRUZ8 = [-1, -1, -1,  1,\n",
    "         -1, -1, -1, -1,\n",
    "         -1, -1, -1,  1,\n",
    "          1, -1,  1,  1]\n",
    "\n",
    "CRUZ9 = [ 1, -1, -1,  1,\n",
    "         -1, -1, -1, -1,\n",
    "         -1, -1, -1, -1,\n",
    "          1,  1, -1,  1]\n",
    "\n",
    "CRUZ10 = [ 1,  1, -1,  1,\n",
    "          -1, -1, -1, -1,\n",
    "          -1, -1,  1, -1,\n",
    "           1, -1, -1,  1]\n",
    "\n",
    "Q2 = [-1, -1, -1, -1,\n",
    "      -1,  1,  1, -1,\n",
    "      -1,  1,  1, -1,\n",
    "      -1, -1,  1, -1]\n",
    "\n",
    "Q3 = [-1, -1, -1, -1,\n",
    "      -1,  1,  1, -1,\n",
    "      -1, -1,  1, -1,\n",
    "      -1, -1, -1, -1]\n",
    "\n",
    "Q4 = [-1, -1, -1, -1,\n",
    "      -1, -1,  1, -1,\n",
    "      -1,  1,  1, -1,\n",
    "      -1, -1, -1, -1]\n",
    "\n",
    "Q5 = [ 1, -1, -1, -1,\n",
    "      -1,  1,  1, -1,\n",
    "      -1,  1,  1, -1,\n",
    "      -1, -1, -1, -1]\n",
    "\n",
    "Q6 = [-1, -1, -1, -1,\n",
    "      -1,  1,  1, -1,\n",
    "      -1,  1,  1, -1,\n",
    "      -1,  1,  -1, -1]\n",
    "\n",
    "Q7 = [-1, -1, -1, -1,\n",
    "      -1,  -1,  1, -1,\n",
    "      -1,  1,  1, -1,\n",
    "      -1, -1, -1, -1]\n",
    "\n",
    "Q8 = [-1, -1, -1, -1,\n",
    "       -1,  1,  1,  1,\n",
    "      -1,  1,  1, -1,\n",
    "      -1, -1, -1, -1]\n",
    "\n",
    "Q9 = [-1, -1, -1, -1,\n",
    "      -1,  1,  1,  -1,\n",
    "      -1,  1,  1,  1,\n",
    "      -1, -1, -1, -1]\n",
    "\n",
    "Q10 = [-1, -1, -1, -1,\n",
    "       -1, 1,  1, -1,\n",
    "       -1,  1,  1, -1,\n",
    "       -1, -1,  -1, 1]\n",
    "\n",
    "\n",
    "X_train_original = [X1, CRUZ1, Q1]\n",
    "y_train = [0, 0, 1]\n",
    "\n",
    "X_test = [X2, X3, X4, X5, X6, X7, X8, X9, X10, CRUZ2, CRUZ3, CRUZ4, CRUZ5, CRUZ6,CRUZ7,CRUZ8,CRUZ9,CRUZ10, Q2, Q3, Q4, Q5, Q6, Q7, Q8, Q9, Q10]\n",
    "y_test = [0, 0, 0, 0, 0, 0, 0, 0, 0, 0, 0, 0, 0, 0, 0, 0, 0, 0, 1, 1, 1, 1, 1, 1, 1, 1, 1]"
   ]
  },
  {
   "cell_type": "code",
   "execution_count": 3,
   "metadata": {},
   "outputs": [],
   "source": [
    "# open real test data\n",
    "with open('data/real_test.json') as json_file:\n",
    "    X_test_original = json.load(json_file)"
   ]
  },
  {
   "cell_type": "markdown",
   "metadata": {},
   "source": [
    "### Binarization of real inputs"
   ]
  },
  {
   "cell_type": "code",
   "execution_count": 4,
   "metadata": {},
   "outputs": [],
   "source": [
    "# binarization float to int\n",
    "def float_to_binary(x, m, n):\n",
    "    \"\"\"Convert the float value `x` to a binary string of length `m + n`\n",
    "    where the first `m` binary digits are the integer part and the last\n",
    "    'n' binary digits are the fractional part of `x`.\n",
    "    \"\"\"\n",
    "    x_scaled = round(x * 2 ** n)\n",
    "    binar = '{:0{}b}'.format(x_scaled, m + n)\n",
    "    binarized_list = [1 if char == '1' else -1 for char in binar] \n",
    "    return binarized_list"
   ]
  },
  {
   "cell_type": "code",
   "execution_count": 5,
   "metadata": {},
   "outputs": [],
   "source": [
    "def binarize_test_data(X_test_original):\n",
    "    X_test=[]\n",
    "    for case in X_test_original:\n",
    "        new_case = []\n",
    "        for i in case:\n",
    "            binarized_number = float_to_binary(i, 2, 6)\n",
    "            new_case += binarized_number\n",
    "        X_test.append(new_case)\n",
    "    return X_test"
   ]
  },
  {
   "cell_type": "code",
   "execution_count": 6,
   "metadata": {},
   "outputs": [],
   "source": [
    "X_test = binarize_test_data(X_test_original)"
   ]
  },
  {
   "cell_type": "code",
   "execution_count": 7,
   "metadata": {},
   "outputs": [],
   "source": [
    "X_train = binarize_test_data(X_train_original)"
   ]
  },
  {
   "cell_type": "code",
   "execution_count": 8,
   "metadata": {},
   "outputs": [
    {
     "data": {
      "text/plain": [
       "8.0"
      ]
     },
     "execution_count": 8,
     "metadata": {},
     "output_type": "execute_result"
    }
   ],
   "source": [
    "len(X_train[0])/2/2/2/2"
   ]
  },
  {
   "cell_type": "markdown",
   "metadata": {},
   "source": [
    "#### Without Bias"
   ]
  },
  {
   "cell_type": "code",
   "execution_count": 11,
   "metadata": {},
   "outputs": [
    {
     "name": "stdout",
     "output_type": "stream",
     "text": [
      "\n",
      "erro HSGS 0.0\n",
      "erro encoding weight 0.021484375\n",
      "erro encoding input 1.333984375\n",
      "erro Classico 0.02341851672926487\n",
      "erro classico Bin 6.661338147750939e-16\n"
     ]
    }
   ],
   "source": [
    "weightsEncodingWeight, weightsEncodingInput, weightsHSGS, weightsVectorsClassico, weightVectorsClassicoBin = experiment_TRAIN(X_train, \n",
    "                                                                                                             y_train,\n",
    "                                                                                                             lrParameter=0.2, \n",
    "                                                                                                             n_epochs=20, \n",
    "                                                                                                             trainingBias=False,\n",
    "                                                                                                             epoch_results=False,\n",
    "                                                                                                             trainingApproaches={'neuronio-classico', 'neuronio-classico-bin', 'hsgs','encoding-weight', 'encoding-input'})"
   ]
  },
  {
   "cell_type": "code",
   "execution_count": 12,
   "metadata": {},
   "outputs": [],
   "source": [
    "weights = [weightsEncodingWeight, \n",
    "          weightsEncodingInput, \n",
    "          weightsHSGS, \n",
    "          weightsVectorsClassico, \n",
    "          weightVectorsClassicoBin]"
   ]
  },
  {
   "cell_type": "code",
   "execution_count": 14,
   "metadata": {},
   "outputs": [],
   "source": [
    "with open('results/version3/weights_unbiased_simple_tobinary.json', 'w+') as fp:\n",
    "    json.dump(weights, fp)"
   ]
  },
  {
   "cell_type": "code",
   "execution_count": null,
   "metadata": {},
   "outputs": [],
   "source": [
    "resultsBIAS = experiment_TEST(X_test, \n",
    "                              y_test, \n",
    "                              weights[0], \n",
    "                              weights[1], \n",
    "                              weights[2], \n",
    "                              weights[3], \n",
    "                              weights[4], \n",
    "                              repeat=4,\n",
    "                              bias=False, \n",
    "                              testingApproaches={'neuronio-classico', 'neuronio-classico-bin', 'hsgs','encoding-weight', 'encoding-input'})"
   ]
  },
  {
   "cell_type": "code",
   "execution_count": null,
   "metadata": {},
   "outputs": [],
   "source": [
    "with open('results/version3/experiments_unbiased_tobinary_simple_1noise.json', 'w+') as fp:\n",
    "    json.dump(resultsBIAS, fp)"
   ]
  },
  {
   "cell_type": "markdown",
   "metadata": {},
   "source": [
    "#### With Bias"
   ]
  },
  {
   "cell_type": "code",
   "execution_count": null,
   "metadata": {},
   "outputs": [],
   "source": [
    "weightsEncodingWeight, weightsEncodingInput, weightsHSGS, weightsVectorsClassico, weightVectorsClassicoBin = experiment_TRAIN(X_train, \n",
    "                                                                                                             y_train,\n",
    "                                                                                                             lrParameter=0.2, \n",
    "                                                                                                             n_epochs=20, \n",
    "                                                                                                             trainingBias=True,\n",
    "                                                                                                             epoch_results=False,\n",
    "                                                                                                             trainingApproaches={'neuronio-classico', 'neuronio-classico-bin', 'hsgs','encoding-weight', 'encoding-input'})"
   ]
  },
  {
   "cell_type": "code",
   "execution_count": null,
   "metadata": {},
   "outputs": [],
   "source": [
    "weights = [weightsEncodingWeight, \n",
    "          weightsEncodingInput, \n",
    "          weightsHSGS, \n",
    "          weightsVectorsClassico, \n",
    "          weightVectorsClassicoBin]"
   ]
  },
  {
   "cell_type": "code",
   "execution_count": null,
   "metadata": {},
   "outputs": [],
   "source": [
    "with open('results/version3/weights_biased_simple_tobinary.json', 'w+') as fp:\n",
    "    json.dump(weights, fp)"
   ]
  },
  {
   "cell_type": "code",
   "execution_count": null,
   "metadata": {},
   "outputs": [],
   "source": [
    "resultsBIAS = experiment_TEST(X_test, \n",
    "                              y_test, \n",
    "                              weights[0], \n",
    "                              weights[1], \n",
    "                              weights[2], \n",
    "                              weights[3], \n",
    "                              weights[4], \n",
    "                              repeat=4,\n",
    "                              bias=True, \n",
    "                              testingApproaches={'neuronio-classico', 'neuronio-classico-bin', 'hsgs','encoding-weight', 'encoding-input'})"
   ]
  },
  {
   "cell_type": "code",
   "execution_count": null,
   "metadata": {},
   "outputs": [],
   "source": [
    "with open('results/version3/experiments_biased_tobinary_simple_1noise.json', 'w') as fp:\n",
    "    json.dump(resultsBIAS, fp)"
   ]
  },
  {
   "cell_type": "markdown",
   "metadata": {},
   "source": [
    "### 2 noises"
   ]
  },
  {
   "cell_type": "code",
   "execution_count": null,
   "metadata": {},
   "outputs": [],
   "source": [
    "X1 = [-1,  1,  1, -1,\n",
    "       1, -1, -1,  1,\n",
    "       1, -1, -1,  1,\n",
    "      -1,  1,  1, -1]\n",
    "\n",
    "CRUZ1 = [ 1, -1, -1,  1,\n",
    "         -1, -1, -1, -1,\n",
    "         -1, -1, -1, -1,\n",
    "          1, -1, -1,  1]\n",
    "\n",
    "Q1 = [-1, -1, -1, -1,\n",
    "      -1,  1,  1, -1,\n",
    "      -1,  1,  1, -1,\n",
    "      -1, -1, -1, -1]\n",
    "\n",
    "C1 = [ 1, -1, -1,  1,\n",
    "      -1,  1,  1, -1,\n",
    "      -1,  1,  1, -1,\n",
    "       1, -1, -1,  1]\n",
    "\n",
    "\n",
    "X2 = [-1,  1, -1, -1,\n",
    "       1, -1, -1,  1,\n",
    "       1, -1, -1,  1,\n",
    "      -1,  1, -1, -1]\n",
    "\n",
    "X3 = [-1,  1,  1, -1,\n",
    "      -1, -1, -1,  1,\n",
    "       1, -1, -1, -1,\n",
    "      -1,  1,  1, -1]\n",
    "\n",
    "X4 = [-1,  1,  1, -1,\n",
    "       1,  1,  1,  1,\n",
    "       1, -1, -1,  1,\n",
    "      -1,  1,  1, -1]\n",
    "\n",
    "X5 = [-1,  1,  1, -1,\n",
    "       1, -1,  1,  1,\n",
    "       1, -1,  1,  1,\n",
    "      -1,  1,  1, -1]\n",
    "\n",
    "X6 = [-1,  1,  1, -1,\n",
    "       1, -1, -1,  1,\n",
    "       1, -1, -1,  1,\n",
    "      -1, -1, -1, -1]\n",
    "\n",
    "X7 = [-1,  1,  1, -1,\n",
    "       1,  1, -1,  1,\n",
    "       1,  1, -1,  1,\n",
    "      -1,  1,  1, -1]\n",
    "\n",
    "X8 = [ 1,  1,  1,  1,\n",
    "       1, -1, -1,  1,\n",
    "       1, -1, -1,  1,\n",
    "      -1,  1,  1, -1]\n",
    "\n",
    "X9 = [-1,  1,  1, -1,\n",
    "       1, -1, -1,  1,\n",
    "       1, -1, -1,  1,\n",
    "       1,  1,  1,  1]\n",
    "\n",
    "X10 = [-1,  1,  1, -1,\n",
    "        1, -1, -1,  1,\n",
    "        1, -1,  1,  1,\n",
    "       -1,  1,  1,  1]\n",
    "\n",
    "CRUZ2 = [ 1, -1, -1, -1,\n",
    "         -1, -1, -1, -1,\n",
    "         -1, -1, -1, -1,\n",
    "          1, -1, -1, -1]\n",
    "\n",
    "CRUZ3 = [-1, -1, -1,  1,\n",
    "         -1, -1, -1, -1,\n",
    "         -1, -1, -1, -1,\n",
    "         -1, -1, -1,  1]\n",
    "\n",
    "CRUZ4 = [ 1, -1, -1,  1,\n",
    "         -1, -1, -1, -1,\n",
    "         -1, -1, -1, -1,\n",
    "          1, -1,  1, -1]\n",
    "\n",
    "CRUZ5 = [ 1, -1, -1, -1,\n",
    "         -1,  1,  1, -1,\n",
    "         -1, -1, -1, -1,\n",
    "          1, -1, -1,  1]\n",
    "\n",
    "CRUZ6 = [ 1, -1,  1,  1,\n",
    "         -1, -1, -1, -1,\n",
    "         -1, -1, -1, -1,\n",
    "          1, -1,  1,  1]\n",
    "\n",
    "CRUZ7 = [ 1, -1, -1,  1,\n",
    "         -1, -1,  1, -1,\n",
    "         -1, -1,  1, -1,\n",
    "          1, -1, -1,  1]\n",
    "\n",
    "CRUZ8 = [-1, -1,  1,  1,\n",
    "         -1, -1, -1, -1,\n",
    "         -1, -1, -1,  1,\n",
    "          1, -1,  1,  1]\n",
    "\n",
    "CRUZ9 = [ 1, -1, -1,  1,\n",
    "         -1, -1, -1, -1,\n",
    "         -1, -1, -1, -1,\n",
    "          1,  1,  1,  1]\n",
    "\n",
    "CRUZ10 = [ 1,  1, -1,  1,\n",
    "          -1, -1, -1, -1,\n",
    "          -1, -1,  1, -1,\n",
    "           1, -1, -1,  1]\n",
    "\n",
    "Q2 = [-1, -1, -1, -1,\n",
    "      -1, -1, -1, -1,\n",
    "      -1,  1,  1, -1,\n",
    "      -1, -1, -1, -1]\n",
    "Q3 = [-1, -1, -1, -1,\n",
    "      -1,  1,  1, -1,\n",
    "      -1, -1, -1, -1,\n",
    "      -1, -1, -1, -1]\n",
    "\n",
    "Q4 = [-1, -1, -1, -1,\n",
    "      -1, -1,  1, -1,\n",
    "      -1,  1, -1, -1,\n",
    "      -1, -1, -1, -1]\n",
    "\n",
    "Q5 = [-1, -1, -1, -1,\n",
    "      -1,  1, -1,  1,\n",
    "      -1,  1,  1, -1,\n",
    "      -1, -1, -1, -1]\n",
    "Q6 = [-1, -1, -1, -1,\n",
    "      -1,  1,  1, -1,\n",
    "      -1,  1,  1, -1,\n",
    "      -1,  1,  1, -1]\n",
    "\n",
    "Q7 = [-1,  1,  1, -1,\n",
    "      -1,  1,  1, -1,\n",
    "      -1,  1,  1, -1,\n",
    "      -1, -1, -1, -1]\n",
    "Q8 = [-1, -1, -1, -1,\n",
    "       1,  1,  1,  1,\n",
    "      -1,  1,  1, -1,\n",
    "      -1, -1, -1, -1]\n",
    "Q9 = [-1, -1, -1, -1,\n",
    "      -1,  1,  1,  1,\n",
    "      -1,  1,  1,  1,\n",
    "      -1, -1, -1, -1]\n",
    "Q10 = [-1, -1, -1, -1,\n",
    "       -1, -1,  1, -1,\n",
    "       -1,  1,  1, -1,\n",
    "       -1, -1,  1, -1]\n",
    "\n",
    "\n",
    "Xs_train = [X1, CRUZ1, Q1]\n",
    "ys_train = [0, 0, 1]\n",
    "\n",
    "Xs_test = [X2, X3, X4, X5, X6, X7, X8, X9, X10, CRUZ2, CRUZ3, CRUZ4, CRUZ5, CRUZ6,CRUZ7,CRUZ8,CRUZ9,CRUZ10, Q2, Q3, Q4, Q5, Q6, Q7, Q8, Q9, Q10]\n",
    "ys_test = [0, 0, 0, 0, 0, 0, 0, 0, 0, 0, 0, 0, 0, 0, 0, 0, 0, 0, 1, 1, 1, 1, 1, 1, 1, 1, 1]"
   ]
  },
  {
   "cell_type": "code",
   "execution_count": null,
   "metadata": {},
   "outputs": [],
   "source": [
    "def realize(input_vector, threshold = 0.5):\n",
    "    ''' transforms binary {1,-1} in random real number\n",
    "        based on greather than threshold for -1 and smaller \n",
    "        than threshold for 1\n",
    "    '''\n",
    "    from random import random\n",
    "    \n",
    "    real_Q10 =[]\n",
    "    for i in input_vector:\n",
    "        if i == -1:\n",
    "            x = 0\n",
    "            while x <= 0.5:\n",
    "                x = random()\n",
    "            real_Q10.append(x)\n",
    "        elif i == 1:\n",
    "            x = 1\n",
    "            while x >= 0.5:\n",
    "                x = random()\n",
    "            real_Q10.append(x)  \n",
    "    return real_Q10"
   ]
  },
  {
   "cell_type": "code",
   "execution_count": null,
   "metadata": {},
   "outputs": [],
   "source": [
    "real_test2 = [realize(test) for test in Xs_test]"
   ]
  },
  {
   "cell_type": "code",
   "execution_count": null,
   "metadata": {},
   "outputs": [],
   "source": [
    "with open('data/real_test_2noises.json', 'w+') as fp:\n",
    "    json.dump(real_test2, fp)"
   ]
  },
  {
   "cell_type": "markdown",
   "metadata": {},
   "source": [
    "#### without bias"
   ]
  },
  {
   "cell_type": "code",
   "execution_count": null,
   "metadata": {},
   "outputs": [],
   "source": [
    "with open('results/version3/weights_unbiased_simple_tobinary.json') as json_file:\n",
    "    weights = json.load(json_file)"
   ]
  },
  {
   "cell_type": "code",
   "execution_count": null,
   "metadata": {},
   "outputs": [],
   "source": [
    "resultsBIAS = experiment_TEST(real_test2, \n",
    "                              y_test, \n",
    "                              weights[0], \n",
    "                              weights[1], \n",
    "                              weights[2], \n",
    "                              weights[3], \n",
    "                              weights[4], \n",
    "                              repeat=20,\n",
    "                              bias=False, \n",
    "                              testingApproaches={'neuronio-classico', 'neuronio-classico-bin', 'hsgs','encoding-weight', 'encoding-input'})"
   ]
  },
  {
   "cell_type": "code",
   "execution_count": null,
   "metadata": {},
   "outputs": [],
   "source": [
    "with open('results/version3/experiments_unbiased_tobinary_simple_2noises.json', 'w') as fp:\n",
    "    json.dump(resultsBIAS, fp)"
   ]
  },
  {
   "cell_type": "markdown",
   "metadata": {},
   "source": [
    "#### With Bias"
   ]
  },
  {
   "cell_type": "code",
   "execution_count": null,
   "metadata": {},
   "outputs": [],
   "source": [
    "with open('results/version3/weights_biased_simple_tobinary.json') as json_file:\n",
    "    weights = json.load(json_file)"
   ]
  },
  {
   "cell_type": "code",
   "execution_count": null,
   "metadata": {},
   "outputs": [],
   "source": [
    "resultsBIAS = experiment_TEST(real_test2, \n",
    "                              y_test, \n",
    "                              weights[0], \n",
    "                              weights[1], \n",
    "                              weights[2], \n",
    "                              weights[3], \n",
    "                              weights[4], \n",
    "                              repeat=6,\n",
    "                              bias=True, \n",
    "                              testingApproaches={'neuronio-classico', 'neuronio-classico-bin', 'hsgs','encoding-weight', 'encoding-input'})"
   ]
  },
  {
   "cell_type": "code",
   "execution_count": null,
   "metadata": {},
   "outputs": [],
   "source": [
    "with open('results/version3/experiments_biased_tobinary_simple_2noises.json', 'w') as fp:\n",
    "    json.dump(resultsBIAS, fp)"
   ]
  },
  {
   "cell_type": "markdown",
   "metadata": {},
   "source": [
    "### 3 noises"
   ]
  },
  {
   "cell_type": "code",
   "execution_count": null,
   "metadata": {},
   "outputs": [],
   "source": [
    "X1 = [-1,  1,  1, -1,\n",
    "       1, -1, -1,  1,\n",
    "       1, -1, -1,  1,\n",
    "      -1,  1,  1, -1]\n",
    "\n",
    "CRUZ1 = [ 1, -1, -1,  1,\n",
    "         -1, -1, -1, -1,\n",
    "         -1, -1, -1, -1,\n",
    "          1, -1, -1,  1]\n",
    "\n",
    "Q1 = [-1, -1, -1, -1,\n",
    "      -1,  1,  1, -1,\n",
    "      -1,  1,  1, -1,\n",
    "      -1, -1, -1, -1]\n",
    "\n",
    "C1 = [ 1, -1, -1,  1,\n",
    "      -1,  1,  1, -1,\n",
    "      -1,  1,  1, -1,\n",
    "       1, -1, -1,  1]\n",
    "\n",
    "\n",
    "X2 = [-1,  1, -1, -1,\n",
    "       1, -1, -1,  1,\n",
    "       1,  1, -1,  1,\n",
    "      -1,  1, -1, -1]\n",
    "\n",
    "X3 = [-1,  1,  1, -1,\n",
    "      -1, -1,  1,  1,\n",
    "       1, -1, -1, -1,\n",
    "      -1,  1,  1, -1]\n",
    "\n",
    "X4 = [-1,  1,  1, -1,\n",
    "       1,  1,  1,  1,\n",
    "       1, -1, -1, -1,\n",
    "      -1,  1,  1, -1]\n",
    "\n",
    "X5 = [ -1,  1,  1, -1,\n",
    "        1, -1,  1,  1,\n",
    "       -1, -1,  1,  1,\n",
    "       -1,  1,  1, -1]\n",
    "\n",
    "X6 = [-1, -1,  1, -1,\n",
    "       1, -1, -1,  1,\n",
    "       1, -1, -1,  1,\n",
    "      -1, -1, -1, -1]\n",
    "\n",
    "X7 = [-1,  1,  1, -1,\n",
    "       1,  1, -1, -1,\n",
    "       1,  1, -1,  1,\n",
    "      -1,  1,  1, -1]\n",
    "\n",
    "X8 = [  1,  1,  1,  1,\n",
    "       -1, -1, -1,  1,\n",
    "        1, -1, -1,  1,\n",
    "       -1,  1,  1, -1]\n",
    "\n",
    "X9 = [-1,  1,  1, -1,\n",
    "       1, -1, -1,  1,\n",
    "       1,  1, -1,  1,\n",
    "       1,  1,  1,  1]\n",
    "\n",
    "X10 = [-1,  1,  1, -1,\n",
    "        1, -1, -1, -1,\n",
    "        1, -1,  1,  1,\n",
    "       -1,  1,  1,  1]\n",
    "\n",
    "CRUZ2 = [ 1, -1, -1, -1,\n",
    "         -1, -1, -1, -1,\n",
    "         -1,  1, -1, -1,\n",
    "          1, -1, -1, -1]\n",
    "\n",
    "CRUZ3 = [-1, -1, -1,  1,\n",
    "         -1, -1,  1, -1,\n",
    "         -1, -1, -1, -1,\n",
    "         -1, -1, -1,  1]\n",
    "\n",
    "CRUZ4 = [ 1, -1, -1,  1,\n",
    "         -1,  1, -1, -1,\n",
    "         -1, -1, -1, -1,\n",
    "          1, -1,  1, -1]\n",
    "\n",
    "CRUZ5 = [ 1, -1, -1,  1,\n",
    "         -1,  1,  1, -1,\n",
    "         -1, -1,  1, -1,\n",
    "          1, -1, -1,  1]\n",
    "\n",
    "CRUZ6 = [ 1, -1,  1,  1,\n",
    "         -1, -1, -1, -1,\n",
    "         -1, -1, -1, -1,\n",
    "          1, -1,  1, -1]\n",
    "\n",
    "CRUZ7 = [  1, -1, -1,  1,\n",
    "          -1, -1,  1, -1,\n",
    "          -1, -1,  1, -1,\n",
    "          -1, -1, -1,  1]\n",
    "\n",
    "CRUZ8 = [-1, -1,  1, -1,\n",
    "         -1, -1, -1, -1,\n",
    "         -1, -1, -1,  1,\n",
    "          1, -1,  1,  1]\n",
    "\n",
    "CRUZ9 = [-1, -1, -1,  1,\n",
    "         -1, -1, -1, -1,\n",
    "         -1, -1, -1, -1,\n",
    "          1,  1,  1,  1]\n",
    "\n",
    "CRUZ10 = [ 1,  1, -1,  1,\n",
    "          -1, -1, -1, -1,\n",
    "          -1, -1,  1, -1,\n",
    "           1, -1,  1,  1]\n",
    "\n",
    "Q2 = [-1, -1, -1, -1,\n",
    "      -1, -1, -1, -1,\n",
    "      -1,  1, -1, -1,\n",
    "      -1, -1, -1, -1]\n",
    "\n",
    "Q3 = [-1, -1, -1, -1,\n",
    "      -1,  1,  1, -1,\n",
    "      -1, -1, -1, -1,\n",
    "       1, -1, -1, -1]\n",
    "\n",
    "Q4 = [-1, -1, -1, -1,\n",
    "       1, -1,  1, -1,\n",
    "      -1,  1, -1, -1,\n",
    "      -1, -1, -1, -1]\n",
    "\n",
    "Q5 = [-1, -1, -1, -1,\n",
    "      -1,  1, -1,  1,\n",
    "      -1,  1,  1, -1,\n",
    "       1, -1, -1, -1]\n",
    "\n",
    "Q6 = [-1, -1, -1, -1,\n",
    "      -1,  1,  1, -1,\n",
    "      -1,  1,  1, -1,\n",
    "      -1,  1,  1,  1]\n",
    "\n",
    "Q7 = [-1,  1,  1, -1,\n",
    "      -1,  1,  1, -1,\n",
    "      -1,  1,  1, -1,\n",
    "      -1, -1,  1, -1]\n",
    "\n",
    "Q8 = [-1, -1, -1, -1,\n",
    "       1,  1, -1,  1,\n",
    "      -1,  1,  1, -1,\n",
    "      -1, -1, -1, -1]\n",
    "\n",
    "Q9 = [-1, -1, -1, -1,\n",
    "      -1,  1,  1,  1,\n",
    "      -1,  1, -1,  1,\n",
    "      -1, -1, -1, -1]\n",
    "\n",
    "Q10 = [-1, -1, -1, -1,\n",
    "       -1, -1,  1, -1,\n",
    "       -1, -1,  1, -1,\n",
    "       -1, -1,  1, -1]\n",
    "\n",
    "\n",
    "Xs_train = [X1, CRUZ1, Q1]\n",
    "ys_train = [0, 0, 1]\n",
    "\n",
    "Xs_test = [X2, X3, X4, X5, X6, X7, X8, X9, X10, CRUZ2, CRUZ3, CRUZ4, CRUZ5, CRUZ6,CRUZ7,CRUZ8,CRUZ9,CRUZ10, Q2, Q3, Q4, Q5, Q6, Q7, Q8, Q9, Q10]\n",
    "ys_test = [0, 0, 0, 0, 0, 0, 0, 0, 0, 0, 0, 0, 0, 0, 0, 0, 0, 0, 1, 1, 1, 1, 1, 1, 1, 1, 1]"
   ]
  },
  {
   "cell_type": "code",
   "execution_count": null,
   "metadata": {},
   "outputs": [],
   "source": [
    "def realize(input_vector, threshold = 0.5):\n",
    "    ''' transforms binary {1,-1} in random real number\n",
    "        based on greather than threshold for -1 and smaller \n",
    "        than threshold for 1\n",
    "    '''\n",
    "    from random import random\n",
    "    \n",
    "    real_Q10 =[]\n",
    "    for i in input_vector:\n",
    "        if i == -1:\n",
    "            x = 0\n",
    "            while x <= 0.5:\n",
    "                x = random()\n",
    "            real_Q10.append(x)\n",
    "        elif i == 1:\n",
    "            x = 1\n",
    "            while x >= 0.5:\n",
    "                x = random()\n",
    "            real_Q10.append(x)  \n",
    "    return real_Q10"
   ]
  },
  {
   "cell_type": "code",
   "execution_count": null,
   "metadata": {},
   "outputs": [],
   "source": [
    "real_test3 = [realize(test) for test in Xs_test]"
   ]
  },
  {
   "cell_type": "code",
   "execution_count": null,
   "metadata": {},
   "outputs": [],
   "source": [
    "with open('data/real_test_3noises.json', 'w+') as fp:\n",
    "    json.dump(real_test3, fp)"
   ]
  },
  {
   "cell_type": "markdown",
   "metadata": {},
   "source": [
    "#### Without Bias"
   ]
  },
  {
   "cell_type": "code",
   "execution_count": null,
   "metadata": {},
   "outputs": [],
   "source": [
    "with open('results/version3/weights_unbiased_simple_tobinary.json') as json_file:\n",
    "    weights = json.load(json_file)"
   ]
  },
  {
   "cell_type": "code",
   "execution_count": null,
   "metadata": {},
   "outputs": [],
   "source": [
    "resultsBIAS = experiment_TEST(real_test3, \n",
    "                              y_test, \n",
    "                              weights[0], \n",
    "                              weights[1], \n",
    "                              weights[2], \n",
    "                              weights[3], \n",
    "                              weights[4], \n",
    "                              repeat=6,\n",
    "                              bias=False, \n",
    "                              testingApproaches={'neuronio-classico', 'neuronio-classico-bin', 'hsgs','encoding-weight', 'encoding-input'})"
   ]
  },
  {
   "cell_type": "code",
   "execution_count": null,
   "metadata": {},
   "outputs": [],
   "source": [
    "with open('results/version3/experiments_unbiased_tobinary_simple_3noises.json', 'w') as fp:\n",
    "    json.dump(resultsBIAS, fp)"
   ]
  },
  {
   "cell_type": "markdown",
   "metadata": {},
   "source": [
    "#### With Bias"
   ]
  },
  {
   "cell_type": "code",
   "execution_count": null,
   "metadata": {},
   "outputs": [],
   "source": [
    "with open('results/version3/weights_biased_simple_tobinary.json') as json_file:\n",
    "    weights = json.load(json_file)"
   ]
  },
  {
   "cell_type": "code",
   "execution_count": null,
   "metadata": {},
   "outputs": [],
   "source": [
    "resultsBIAS = experiment_TEST(real_test3, \n",
    "                              y_test, \n",
    "                              weights[0], \n",
    "                              weights[1], \n",
    "                              weights[2], \n",
    "                              weights[3], \n",
    "                              weights[4], \n",
    "                              repeat=6,\n",
    "                              bias=True, \n",
    "                              testingApproaches={'neuronio-classico', 'neuronio-classico-bin', 'hsgs','encoding-weight', 'encoding-input'})"
   ]
  },
  {
   "cell_type": "code",
   "execution_count": null,
   "metadata": {},
   "outputs": [],
   "source": [
    "with open('results/version3/experiments_biased_tobinary_simple_3noises.json', 'w') as fp:\n",
    "    json.dump(resultsBIAS, fp)"
   ]
  },
  {
   "cell_type": "code",
   "execution_count": null,
   "metadata": {},
   "outputs": [],
   "source": []
  }
 ],
 "metadata": {
  "environment": {
   "name": "common-cpu.m71",
   "type": "gcloud",
   "uri": "gcr.io/deeplearning-platform-release/base-cpu:m71"
  },
  "kernelspec": {
   "display_name": "Python 3",
   "language": "python",
   "name": "python3"
  },
  "language_info": {
   "codemirror_mode": {
    "name": "ipython",
    "version": 3
   },
   "file_extension": ".py",
   "mimetype": "text/x-python",
   "name": "python",
   "nbconvert_exporter": "python",
   "pygments_lexer": "ipython3",
   "version": "3.7.9"
  }
 },
 "nbformat": 4,
 "nbformat_minor": 4
}
